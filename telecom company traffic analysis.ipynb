{
 "cells": [
  {
   "cell_type": "markdown",
   "metadata": {},
   "source": [
    "# Определение перспективного тарифа для телеком компании\n",
    "\n",
    "Я аналитик компании «Мегалайн» — федерального оператора сотовой связи. Клиентам предлагают два тарифных плана: «Смарт» и «Ультра». Чтобы скорректировать рекламный бюджет, коммерческий департамент хочет понять, какой тариф приносит больше денег.\n",
    "Мне предстоит сделать предварительный анализ тарифов на небольшой выборке клиентов. В моем распоряжении данные 500 пользователей «Мегалайна»: кто они, откуда, каким тарифом пользуются, сколько звонков и сообщений каждый отправил за 2018 год. Нужно проанализировать поведение клиентов и сделать вывод — какой тариф лучше.\n",
    "\n",
    "# Описание тарифов\n",
    "\n",
    "Тариф «Смарт»\n",
    "\n",
    "1 Ежемесячная плата: 550 рублей\n",
    "\n",
    "2 Включено 500 минут разговора, 50 сообщений и 15 Гб интернет-трафика\n",
    "\n",
    "3 Стоимость услуг сверх тарифного пакета:\n",
    "- минута разговора: 3 рубля\n",
    "- сообщение: 3 рубля\n",
    "- 1 Гб интернет-трафика: 200 рублей\n",
    "\n",
    "Тариф «Ультра»\n",
    "\n",
    "1 Ежемесячная плата: 1950 рублей\n",
    "\n",
    "2 Включено 3000 минут разговора, 1000 сообщений и 30 Гб интернет-трафика\n",
    "\n",
    "3 Стоимость услуг сверх тарифного пакета:\n",
    "- минута разговора: 1 рубль\n",
    "- сообщение: 1 рубль\n",
    "- 1 Гб интернет-трафика: 150 рублей"
   ]
  },
  {
   "cell_type": "markdown",
   "metadata": {},
   "source": [
    "# План исследования"
   ]
  },
  {
   "cell_type": "markdown",
   "metadata": {},
   "source": [
    "1. Осмотр и изучение общей информации о данных, нахождение артефактов и аномалий\n",
    "\n",
    "2. Подготовка данных.\n",
    "- Приведение данных к нужным типам;\n",
    "- Нахождение и исправление ошибок в данных.\n",
    "- Подсчет для каждого пользователя:\n",
    "a) количества сделанных звонков и израсходованных минут разговора по месяцам;\n",
    "b) количества отправленных сообщений по месяцам;\n",
    "c) объема израсходованного интернет-трафика по месяцам;\n",
    "d) помесячной выручки с каждого пользователя \n",
    "\n",
    "3. Анализ данных. Описать поведение клиентов оператора, исходя из выборки. Сколько минут разговора, сколько сообщений и какой объём интернет-трафика требуется пользователям каждого тарифа в месяц? Посчитать среднее количество, дисперсию и стандартное отклонение. Построить гистограммы. Описать распределения.\n",
    "\n",
    "4. Проверить гипотезы.\n",
    "- средняя выручка пользователей тарифов «Ультра» и «Смарт» различается;\n",
    "- средняя выручка пользователей из Москвы отличается от выручки пользователей из других регионов;\n",
    "\n",
    "5. Общие выводы и рекомендации\n"
   ]
  },
  {
   "cell_type": "markdown",
   "metadata": {},
   "source": [
    "# Описание данных\n",
    "Таблица users (информация о пользователях):\n",
    "- user_id — уникальный идентификатор пользователя\n",
    "- first_name — имя пользователя\n",
    "- last_name — фамилия пользователя\n",
    "- age — возраст пользователя (годы)\n",
    "- reg_date — дата подключения тарифа (день, месяц, год)\n",
    "- churn_date — дата прекращения пользования тарифом (если значение пропущено, то тариф ещё действовал на момент выгрузки данных)\n",
    "- city — город проживания пользователя\n",
    "- tariff — название тарифного плана\n",
    "\n",
    "Таблица calls (информация о звонках):\n",
    "- id — уникальный номер звонка\n",
    "- call_date — дата звонка\n",
    "- duration — длительность звонка в минутах\n",
    "- user_id — идентификатор пользователя, сделавшего звонок\n",
    "\n",
    "Таблица messages (информация о сообщениях):\n",
    "- id — уникальный номер сообщения\n",
    "- message_date — дата сообщения\n",
    "- user_id — идентификатор пользователя, отправившего сообщение\n",
    "\n",
    "Таблица internet (информация об интернет-сессиях):\n",
    "- id — уникальный номер сессии\n",
    "- mb_used — объём потраченного за сессию интернет-трафика (в мегабайтах)\n",
    "- session_date — дата интернет-сессии\n",
    "- user_id — идентификатор пользователя\n",
    "\n",
    "Таблица tariffs (информация о тарифах):\n",
    "- tariff_name — название тарифа\n",
    "- rub_monthly_fee — ежемесячная абонентская плата в рублях\n",
    "- minutes_included — количество минут разговора в месяц, включённых в абонентскую плату\n",
    "- messages_included — количество сообщений в месяц, включённых в абонентскую плату\n",
    "- mb_per_month_included — объём интернет-трафика, включённого в абонентскую плату (в мегабайтах)\n",
    "- rub_per_minute — стоимость минуты разговора сверх тарифного пакета (например, если в тарифе 100 минут разговора в месяц, то со 101 минуты будет взиматься плата)\n",
    "- rub_per_message — стоимость отправки сообщения сверх тарифного пакета\n",
    "- rub_per_gb — стоимость дополнительного гигабайта интернет-трафика сверх тарифного пакета (1 гигабайт = 1024 мегабайта)"
   ]
  },
  {
   "cell_type": "markdown",
   "metadata": {},
   "source": [
    "## Изучение данных"
   ]
  },
  {
   "cell_type": "code",
   "execution_count": 1,
   "metadata": {},
   "outputs": [],
   "source": [
    "# импортируем библиотеки\n",
    "from mpl_toolkits.mplot3d import Axes3D\n",
    "from scipy import stats as st\n",
    "import numpy as np\n",
    "import pandas as pd\n",
    "import matplotlib.pyplot as plt\n",
    "import seaborn as sns\n",
    "import datetime\n",
    "import math\n",
    "\n",
    "\n",
    "# данных для проекта \n",
    "calls = pd.read_csv('https://code.s3.yandex.net/datasets/calls.csv')\n",
    "internet = pd.read_csv('https://code.s3.yandex.net/datasets/internet.csv')\n",
    "messages = pd.read_csv('https://code.s3.yandex.net/datasets/messages.csv')\n",
    "tariffs = pd.read_csv('https://code.s3.yandex.net/datasets/tariffs.csv')\n",
    "users = pd.read_csv('https://code.s3.yandex.net/datasets/users.csv')\n",
    "\n",
    "\n",
    "pd.options.display.max_columns = 40\n",
    "import warnings\n",
    "warnings.filterwarnings('ignore')"
   ]
  },
  {
   "cell_type": "markdown",
   "metadata": {},
   "source": [
    "Таблица Пользователи:"
   ]
  },
  {
   "cell_type": "code",
   "execution_count": 2,
   "metadata": {},
   "outputs": [
    {
     "data": {
      "text/html": [
       "<div>\n",
       "<style scoped>\n",
       "    .dataframe tbody tr th:only-of-type {\n",
       "        vertical-align: middle;\n",
       "    }\n",
       "\n",
       "    .dataframe tbody tr th {\n",
       "        vertical-align: top;\n",
       "    }\n",
       "\n",
       "    .dataframe thead th {\n",
       "        text-align: right;\n",
       "    }\n",
       "</style>\n",
       "<table border=\"1\" class=\"dataframe\">\n",
       "  <thead>\n",
       "    <tr style=\"text-align: right;\">\n",
       "      <th></th>\n",
       "      <th>user_id</th>\n",
       "      <th>age</th>\n",
       "      <th>churn_date</th>\n",
       "      <th>city</th>\n",
       "      <th>first_name</th>\n",
       "      <th>last_name</th>\n",
       "      <th>reg_date</th>\n",
       "      <th>tariff</th>\n",
       "    </tr>\n",
       "  </thead>\n",
       "  <tbody>\n",
       "    <tr>\n",
       "      <td>304</td>\n",
       "      <td>1304</td>\n",
       "      <td>68</td>\n",
       "      <td>NaN</td>\n",
       "      <td>Владимир</td>\n",
       "      <td>Илья</td>\n",
       "      <td>Соловьёв</td>\n",
       "      <td>2018-11-05</td>\n",
       "      <td>ultra</td>\n",
       "    </tr>\n",
       "    <tr>\n",
       "      <td>340</td>\n",
       "      <td>1340</td>\n",
       "      <td>50</td>\n",
       "      <td>NaN</td>\n",
       "      <td>Пенза</td>\n",
       "      <td>Тимофей</td>\n",
       "      <td>Алютин</td>\n",
       "      <td>2018-01-30</td>\n",
       "      <td>smart</td>\n",
       "    </tr>\n",
       "    <tr>\n",
       "      <td>47</td>\n",
       "      <td>1047</td>\n",
       "      <td>67</td>\n",
       "      <td>NaN</td>\n",
       "      <td>Саратов</td>\n",
       "      <td>Милица</td>\n",
       "      <td>Меркулова</td>\n",
       "      <td>2018-10-29</td>\n",
       "      <td>smart</td>\n",
       "    </tr>\n",
       "    <tr>\n",
       "      <td>67</td>\n",
       "      <td>1067</td>\n",
       "      <td>45</td>\n",
       "      <td>NaN</td>\n",
       "      <td>Москва</td>\n",
       "      <td>Юзефа</td>\n",
       "      <td>Абашкина</td>\n",
       "      <td>2018-04-09</td>\n",
       "      <td>smart</td>\n",
       "    </tr>\n",
       "    <tr>\n",
       "      <td>479</td>\n",
       "      <td>1479</td>\n",
       "      <td>40</td>\n",
       "      <td>NaN</td>\n",
       "      <td>Хабаровск</td>\n",
       "      <td>Игорь</td>\n",
       "      <td>Богданов</td>\n",
       "      <td>2018-07-03</td>\n",
       "      <td>smart</td>\n",
       "    </tr>\n",
       "    <tr>\n",
       "      <td>485</td>\n",
       "      <td>1485</td>\n",
       "      <td>34</td>\n",
       "      <td>NaN</td>\n",
       "      <td>Киров</td>\n",
       "      <td>Таисия</td>\n",
       "      <td>Сухова</td>\n",
       "      <td>2018-12-29</td>\n",
       "      <td>ultra</td>\n",
       "    </tr>\n",
       "    <tr>\n",
       "      <td>310</td>\n",
       "      <td>1310</td>\n",
       "      <td>28</td>\n",
       "      <td>NaN</td>\n",
       "      <td>Уфа</td>\n",
       "      <td>Рудольф</td>\n",
       "      <td>Нестеров</td>\n",
       "      <td>2018-03-22</td>\n",
       "      <td>ultra</td>\n",
       "    </tr>\n",
       "    <tr>\n",
       "      <td>31</td>\n",
       "      <td>1031</td>\n",
       "      <td>66</td>\n",
       "      <td>NaN</td>\n",
       "      <td>Москва</td>\n",
       "      <td>Лаврентий</td>\n",
       "      <td>Тимофеев</td>\n",
       "      <td>2018-11-02</td>\n",
       "      <td>smart</td>\n",
       "    </tr>\n",
       "    <tr>\n",
       "      <td>249</td>\n",
       "      <td>1249</td>\n",
       "      <td>25</td>\n",
       "      <td>NaN</td>\n",
       "      <td>Курск</td>\n",
       "      <td>Изольда</td>\n",
       "      <td>Авдушева</td>\n",
       "      <td>2018-08-14</td>\n",
       "      <td>smart</td>\n",
       "    </tr>\n",
       "    <tr>\n",
       "      <td>90</td>\n",
       "      <td>1090</td>\n",
       "      <td>54</td>\n",
       "      <td>2018-12-03</td>\n",
       "      <td>Череповец</td>\n",
       "      <td>Екатерина</td>\n",
       "      <td>Астафьева</td>\n",
       "      <td>2018-10-11</td>\n",
       "      <td>ultra</td>\n",
       "    </tr>\n",
       "    <tr>\n",
       "      <td>322</td>\n",
       "      <td>1322</td>\n",
       "      <td>45</td>\n",
       "      <td>NaN</td>\n",
       "      <td>Балашиха</td>\n",
       "      <td>Александр</td>\n",
       "      <td>Сальников</td>\n",
       "      <td>2018-09-09</td>\n",
       "      <td>smart</td>\n",
       "    </tr>\n",
       "    <tr>\n",
       "      <td>168</td>\n",
       "      <td>1168</td>\n",
       "      <td>28</td>\n",
       "      <td>NaN</td>\n",
       "      <td>Кострома</td>\n",
       "      <td>Лилия</td>\n",
       "      <td>Ананьева</td>\n",
       "      <td>2018-01-24</td>\n",
       "      <td>ultra</td>\n",
       "    </tr>\n",
       "    <tr>\n",
       "      <td>119</td>\n",
       "      <td>1119</td>\n",
       "      <td>53</td>\n",
       "      <td>NaN</td>\n",
       "      <td>Петрозаводск</td>\n",
       "      <td>Олег</td>\n",
       "      <td>Сухарев</td>\n",
       "      <td>2018-04-22</td>\n",
       "      <td>smart</td>\n",
       "    </tr>\n",
       "    <tr>\n",
       "      <td>66</td>\n",
       "      <td>1066</td>\n",
       "      <td>47</td>\n",
       "      <td>NaN</td>\n",
       "      <td>Астрахань</td>\n",
       "      <td>Исак</td>\n",
       "      <td>Малахов</td>\n",
       "      <td>2018-06-24</td>\n",
       "      <td>smart</td>\n",
       "    </tr>\n",
       "    <tr>\n",
       "      <td>305</td>\n",
       "      <td>1305</td>\n",
       "      <td>37</td>\n",
       "      <td>NaN</td>\n",
       "      <td>Москва</td>\n",
       "      <td>Эмилия</td>\n",
       "      <td>Лаптева</td>\n",
       "      <td>2018-10-25</td>\n",
       "      <td>smart</td>\n",
       "    </tr>\n",
       "    <tr>\n",
       "      <td>189</td>\n",
       "      <td>1189</td>\n",
       "      <td>39</td>\n",
       "      <td>NaN</td>\n",
       "      <td>Санкт-Петербург</td>\n",
       "      <td>Аюна</td>\n",
       "      <td>Зубкова</td>\n",
       "      <td>2018-01-30</td>\n",
       "      <td>smart</td>\n",
       "    </tr>\n",
       "    <tr>\n",
       "      <td>434</td>\n",
       "      <td>1434</td>\n",
       "      <td>73</td>\n",
       "      <td>NaN</td>\n",
       "      <td>Москва</td>\n",
       "      <td>Карина</td>\n",
       "      <td>Субботина</td>\n",
       "      <td>2018-12-14</td>\n",
       "      <td>smart</td>\n",
       "    </tr>\n",
       "    <tr>\n",
       "      <td>289</td>\n",
       "      <td>1289</td>\n",
       "      <td>20</td>\n",
       "      <td>NaN</td>\n",
       "      <td>Москва</td>\n",
       "      <td>Таисия</td>\n",
       "      <td>Богданова</td>\n",
       "      <td>2018-09-01</td>\n",
       "      <td>ultra</td>\n",
       "    </tr>\n",
       "    <tr>\n",
       "      <td>142</td>\n",
       "      <td>1142</td>\n",
       "      <td>51</td>\n",
       "      <td>NaN</td>\n",
       "      <td>Новосибирск</td>\n",
       "      <td>Симона</td>\n",
       "      <td>Алешкова</td>\n",
       "      <td>2018-03-24</td>\n",
       "      <td>smart</td>\n",
       "    </tr>\n",
       "    <tr>\n",
       "      <td>146</td>\n",
       "      <td>1146</td>\n",
       "      <td>72</td>\n",
       "      <td>NaN</td>\n",
       "      <td>Санкт-Петербург</td>\n",
       "      <td>Владислав</td>\n",
       "      <td>Никонов</td>\n",
       "      <td>2018-05-25</td>\n",
       "      <td>smart</td>\n",
       "    </tr>\n",
       "  </tbody>\n",
       "</table>\n",
       "</div>"
      ],
      "text/plain": [
       "     user_id  age  churn_date             city first_name  last_name  \\\n",
       "304     1304   68         NaN         Владимир       Илья   Соловьёв   \n",
       "340     1340   50         NaN            Пенза    Тимофей     Алютин   \n",
       "47      1047   67         NaN          Саратов     Милица  Меркулова   \n",
       "67      1067   45         NaN           Москва      Юзефа   Абашкина   \n",
       "479     1479   40         NaN        Хабаровск      Игорь   Богданов   \n",
       "485     1485   34         NaN            Киров     Таисия     Сухова   \n",
       "310     1310   28         NaN              Уфа    Рудольф   Нестеров   \n",
       "31      1031   66         NaN           Москва  Лаврентий   Тимофеев   \n",
       "249     1249   25         NaN            Курск    Изольда   Авдушева   \n",
       "90      1090   54  2018-12-03        Череповец  Екатерина  Астафьева   \n",
       "322     1322   45         NaN         Балашиха  Александр  Сальников   \n",
       "168     1168   28         NaN         Кострома      Лилия   Ананьева   \n",
       "119     1119   53         NaN     Петрозаводск       Олег    Сухарев   \n",
       "66      1066   47         NaN        Астрахань       Исак    Малахов   \n",
       "305     1305   37         NaN           Москва     Эмилия    Лаптева   \n",
       "189     1189   39         NaN  Санкт-Петербург       Аюна    Зубкова   \n",
       "434     1434   73         NaN           Москва     Карина  Субботина   \n",
       "289     1289   20         NaN           Москва     Таисия  Богданова   \n",
       "142     1142   51         NaN      Новосибирск     Симона   Алешкова   \n",
       "146     1146   72         NaN  Санкт-Петербург  Владислав    Никонов   \n",
       "\n",
       "       reg_date tariff  \n",
       "304  2018-11-05  ultra  \n",
       "340  2018-01-30  smart  \n",
       "47   2018-10-29  smart  \n",
       "67   2018-04-09  smart  \n",
       "479  2018-07-03  smart  \n",
       "485  2018-12-29  ultra  \n",
       "310  2018-03-22  ultra  \n",
       "31   2018-11-02  smart  \n",
       "249  2018-08-14  smart  \n",
       "90   2018-10-11  ultra  \n",
       "322  2018-09-09  smart  \n",
       "168  2018-01-24  ultra  \n",
       "119  2018-04-22  smart  \n",
       "66   2018-06-24  smart  \n",
       "305  2018-10-25  smart  \n",
       "189  2018-01-30  smart  \n",
       "434  2018-12-14  smart  \n",
       "289  2018-09-01  ultra  \n",
       "142  2018-03-24  smart  \n",
       "146  2018-05-25  smart  "
      ]
     },
     "execution_count": 2,
     "metadata": {},
     "output_type": "execute_result"
    }
   ],
   "source": [
    "users.sample(20, random_state=1)"
   ]
  },
  {
   "cell_type": "code",
   "execution_count": 3,
   "metadata": {},
   "outputs": [
    {
     "name": "stdout",
     "output_type": "stream",
     "text": [
      "<class 'pandas.core.frame.DataFrame'>\n",
      "RangeIndex: 500 entries, 0 to 499\n",
      "Data columns (total 8 columns):\n",
      "user_id       500 non-null int64\n",
      "age           500 non-null int64\n",
      "churn_date    38 non-null object\n",
      "city          500 non-null object\n",
      "first_name    500 non-null object\n",
      "last_name     500 non-null object\n",
      "reg_date      500 non-null object\n",
      "tariff        500 non-null object\n",
      "dtypes: int64(2), object(6)\n",
      "memory usage: 31.4+ KB\n"
     ]
    }
   ],
   "source": [
    "users.info()"
   ]
  },
  {
   "cell_type": "code",
   "execution_count": 4,
   "metadata": {},
   "outputs": [
    {
     "data": {
      "text/html": [
       "<div>\n",
       "<style scoped>\n",
       "    .dataframe tbody tr th:only-of-type {\n",
       "        vertical-align: middle;\n",
       "    }\n",
       "\n",
       "    .dataframe tbody tr th {\n",
       "        vertical-align: top;\n",
       "    }\n",
       "\n",
       "    .dataframe thead th {\n",
       "        text-align: right;\n",
       "    }\n",
       "</style>\n",
       "<table border=\"1\" class=\"dataframe\">\n",
       "  <thead>\n",
       "    <tr style=\"text-align: right;\">\n",
       "      <th></th>\n",
       "      <th>user_id</th>\n",
       "      <th>age</th>\n",
       "    </tr>\n",
       "  </thead>\n",
       "  <tbody>\n",
       "    <tr>\n",
       "      <td>count</td>\n",
       "      <td>500.000000</td>\n",
       "      <td>500.00000</td>\n",
       "    </tr>\n",
       "    <tr>\n",
       "      <td>mean</td>\n",
       "      <td>1249.500000</td>\n",
       "      <td>46.58800</td>\n",
       "    </tr>\n",
       "    <tr>\n",
       "      <td>std</td>\n",
       "      <td>144.481833</td>\n",
       "      <td>16.66763</td>\n",
       "    </tr>\n",
       "    <tr>\n",
       "      <td>min</td>\n",
       "      <td>1000.000000</td>\n",
       "      <td>18.00000</td>\n",
       "    </tr>\n",
       "    <tr>\n",
       "      <td>25%</td>\n",
       "      <td>1124.750000</td>\n",
       "      <td>32.00000</td>\n",
       "    </tr>\n",
       "    <tr>\n",
       "      <td>50%</td>\n",
       "      <td>1249.500000</td>\n",
       "      <td>46.00000</td>\n",
       "    </tr>\n",
       "    <tr>\n",
       "      <td>75%</td>\n",
       "      <td>1374.250000</td>\n",
       "      <td>62.00000</td>\n",
       "    </tr>\n",
       "    <tr>\n",
       "      <td>max</td>\n",
       "      <td>1499.000000</td>\n",
       "      <td>75.00000</td>\n",
       "    </tr>\n",
       "  </tbody>\n",
       "</table>\n",
       "</div>"
      ],
      "text/plain": [
       "           user_id        age\n",
       "count   500.000000  500.00000\n",
       "mean   1249.500000   46.58800\n",
       "std     144.481833   16.66763\n",
       "min    1000.000000   18.00000\n",
       "25%    1124.750000   32.00000\n",
       "50%    1249.500000   46.00000\n",
       "75%    1374.250000   62.00000\n",
       "max    1499.000000   75.00000"
      ]
     },
     "execution_count": 4,
     "metadata": {},
     "output_type": "execute_result"
    }
   ],
   "source": [
    "users.describe()"
   ]
  },
  {
   "cell_type": "markdown",
   "metadata": {},
   "source": [
    "Отмечаем, что в дальнейшем нужно будет преобразовать дату в правильный формат."
   ]
  },
  {
   "cell_type": "markdown",
   "metadata": {},
   "source": [
    "Таблица Звонки:"
   ]
  },
  {
   "cell_type": "code",
   "execution_count": 5,
   "metadata": {},
   "outputs": [
    {
     "data": {
      "text/html": [
       "<div>\n",
       "<style scoped>\n",
       "    .dataframe tbody tr th:only-of-type {\n",
       "        vertical-align: middle;\n",
       "    }\n",
       "\n",
       "    .dataframe tbody tr th {\n",
       "        vertical-align: top;\n",
       "    }\n",
       "\n",
       "    .dataframe thead th {\n",
       "        text-align: right;\n",
       "    }\n",
       "</style>\n",
       "<table border=\"1\" class=\"dataframe\">\n",
       "  <thead>\n",
       "    <tr style=\"text-align: right;\">\n",
       "      <th></th>\n",
       "      <th>id</th>\n",
       "      <th>call_date</th>\n",
       "      <th>duration</th>\n",
       "      <th>user_id</th>\n",
       "    </tr>\n",
       "  </thead>\n",
       "  <tbody>\n",
       "    <tr>\n",
       "      <td>26953</td>\n",
       "      <td>1066_374</td>\n",
       "      <td>2018-08-26</td>\n",
       "      <td>0.00</td>\n",
       "      <td>1066</td>\n",
       "    </tr>\n",
       "    <tr>\n",
       "      <td>66122</td>\n",
       "      <td>1168_1273</td>\n",
       "      <td>2018-03-28</td>\n",
       "      <td>16.05</td>\n",
       "      <td>1168</td>\n",
       "    </tr>\n",
       "    <tr>\n",
       "      <td>67325</td>\n",
       "      <td>1171_350</td>\n",
       "      <td>2018-09-14</td>\n",
       "      <td>6.23</td>\n",
       "      <td>1171</td>\n",
       "    </tr>\n",
       "    <tr>\n",
       "      <td>74643</td>\n",
       "      <td>1186_465</td>\n",
       "      <td>2018-09-02</td>\n",
       "      <td>0.79</td>\n",
       "      <td>1186</td>\n",
       "    </tr>\n",
       "    <tr>\n",
       "      <td>192311</td>\n",
       "      <td>1472_124</td>\n",
       "      <td>2018-05-04</td>\n",
       "      <td>5.94</td>\n",
       "      <td>1472</td>\n",
       "    </tr>\n",
       "    <tr>\n",
       "      <td>47375</td>\n",
       "      <td>1118_664</td>\n",
       "      <td>2018-10-24</td>\n",
       "      <td>13.41</td>\n",
       "      <td>1118</td>\n",
       "    </tr>\n",
       "    <tr>\n",
       "      <td>91143</td>\n",
       "      <td>1227_563</td>\n",
       "      <td>2018-08-03</td>\n",
       "      <td>15.15</td>\n",
       "      <td>1227</td>\n",
       "    </tr>\n",
       "    <tr>\n",
       "      <td>3818</td>\n",
       "      <td>1010_67</td>\n",
       "      <td>2018-08-16</td>\n",
       "      <td>14.29</td>\n",
       "      <td>1010</td>\n",
       "    </tr>\n",
       "    <tr>\n",
       "      <td>182822</td>\n",
       "      <td>1454_574</td>\n",
       "      <td>2018-09-23</td>\n",
       "      <td>9.98</td>\n",
       "      <td>1454</td>\n",
       "    </tr>\n",
       "    <tr>\n",
       "      <td>187346</td>\n",
       "      <td>1463_0</td>\n",
       "      <td>2018-12-05</td>\n",
       "      <td>10.63</td>\n",
       "      <td>1463</td>\n",
       "    </tr>\n",
       "    <tr>\n",
       "      <td>99766</td>\n",
       "      <td>1254_196</td>\n",
       "      <td>2018-06-09</td>\n",
       "      <td>14.70</td>\n",
       "      <td>1254</td>\n",
       "    </tr>\n",
       "    <tr>\n",
       "      <td>72920</td>\n",
       "      <td>1183_284</td>\n",
       "      <td>2018-12-18</td>\n",
       "      <td>12.97</td>\n",
       "      <td>1183</td>\n",
       "    </tr>\n",
       "    <tr>\n",
       "      <td>110113</td>\n",
       "      <td>1282_1007</td>\n",
       "      <td>2018-07-08</td>\n",
       "      <td>0.00</td>\n",
       "      <td>1282</td>\n",
       "    </tr>\n",
       "    <tr>\n",
       "      <td>100876</td>\n",
       "      <td>1260_40</td>\n",
       "      <td>2018-10-10</td>\n",
       "      <td>4.99</td>\n",
       "      <td>1260</td>\n",
       "    </tr>\n",
       "    <tr>\n",
       "      <td>160161</td>\n",
       "      <td>1394_566</td>\n",
       "      <td>2018-07-15</td>\n",
       "      <td>2.01</td>\n",
       "      <td>1394</td>\n",
       "    </tr>\n",
       "    <tr>\n",
       "      <td>182048</td>\n",
       "      <td>1453_1240</td>\n",
       "      <td>2018-11-28</td>\n",
       "      <td>19.61</td>\n",
       "      <td>1453</td>\n",
       "    </tr>\n",
       "    <tr>\n",
       "      <td>88884</td>\n",
       "      <td>1222_622</td>\n",
       "      <td>2018-10-10</td>\n",
       "      <td>6.09</td>\n",
       "      <td>1222</td>\n",
       "    </tr>\n",
       "    <tr>\n",
       "      <td>65498</td>\n",
       "      <td>1168_649</td>\n",
       "      <td>2018-05-24</td>\n",
       "      <td>3.66</td>\n",
       "      <td>1168</td>\n",
       "    </tr>\n",
       "    <tr>\n",
       "      <td>48134</td>\n",
       "      <td>1120_235</td>\n",
       "      <td>2018-06-02</td>\n",
       "      <td>4.23</td>\n",
       "      <td>1120</td>\n",
       "    </tr>\n",
       "    <tr>\n",
       "      <td>111410</td>\n",
       "      <td>1285_338</td>\n",
       "      <td>2018-08-27</td>\n",
       "      <td>3.09</td>\n",
       "      <td>1285</td>\n",
       "    </tr>\n",
       "  </tbody>\n",
       "</table>\n",
       "</div>"
      ],
      "text/plain": [
       "               id   call_date  duration  user_id\n",
       "26953    1066_374  2018-08-26      0.00     1066\n",
       "66122   1168_1273  2018-03-28     16.05     1168\n",
       "67325    1171_350  2018-09-14      6.23     1171\n",
       "74643    1186_465  2018-09-02      0.79     1186\n",
       "192311   1472_124  2018-05-04      5.94     1472\n",
       "47375    1118_664  2018-10-24     13.41     1118\n",
       "91143    1227_563  2018-08-03     15.15     1227\n",
       "3818      1010_67  2018-08-16     14.29     1010\n",
       "182822   1454_574  2018-09-23      9.98     1454\n",
       "187346     1463_0  2018-12-05     10.63     1463\n",
       "99766    1254_196  2018-06-09     14.70     1254\n",
       "72920    1183_284  2018-12-18     12.97     1183\n",
       "110113  1282_1007  2018-07-08      0.00     1282\n",
       "100876    1260_40  2018-10-10      4.99     1260\n",
       "160161   1394_566  2018-07-15      2.01     1394\n",
       "182048  1453_1240  2018-11-28     19.61     1453\n",
       "88884    1222_622  2018-10-10      6.09     1222\n",
       "65498    1168_649  2018-05-24      3.66     1168\n",
       "48134    1120_235  2018-06-02      4.23     1120\n",
       "111410   1285_338  2018-08-27      3.09     1285"
      ]
     },
     "execution_count": 5,
     "metadata": {},
     "output_type": "execute_result"
    }
   ],
   "source": [
    "calls.sample(20, random_state=1)"
   ]
  },
  {
   "cell_type": "code",
   "execution_count": 6,
   "metadata": {},
   "outputs": [
    {
     "name": "stdout",
     "output_type": "stream",
     "text": [
      "<class 'pandas.core.frame.DataFrame'>\n",
      "RangeIndex: 202607 entries, 0 to 202606\n",
      "Data columns (total 4 columns):\n",
      "id           202607 non-null object\n",
      "call_date    202607 non-null object\n",
      "duration     202607 non-null float64\n",
      "user_id      202607 non-null int64\n",
      "dtypes: float64(1), int64(1), object(2)\n",
      "memory usage: 6.2+ MB\n"
     ]
    }
   ],
   "source": [
    "calls.info()"
   ]
  },
  {
   "cell_type": "code",
   "execution_count": 7,
   "metadata": {},
   "outputs": [
    {
     "data": {
      "text/html": [
       "<div>\n",
       "<style scoped>\n",
       "    .dataframe tbody tr th:only-of-type {\n",
       "        vertical-align: middle;\n",
       "    }\n",
       "\n",
       "    .dataframe tbody tr th {\n",
       "        vertical-align: top;\n",
       "    }\n",
       "\n",
       "    .dataframe thead th {\n",
       "        text-align: right;\n",
       "    }\n",
       "</style>\n",
       "<table border=\"1\" class=\"dataframe\">\n",
       "  <thead>\n",
       "    <tr style=\"text-align: right;\">\n",
       "      <th></th>\n",
       "      <th>duration</th>\n",
       "      <th>user_id</th>\n",
       "    </tr>\n",
       "  </thead>\n",
       "  <tbody>\n",
       "    <tr>\n",
       "      <td>count</td>\n",
       "      <td>202607.000000</td>\n",
       "      <td>202607.000000</td>\n",
       "    </tr>\n",
       "    <tr>\n",
       "      <td>mean</td>\n",
       "      <td>6.755887</td>\n",
       "      <td>1253.940619</td>\n",
       "    </tr>\n",
       "    <tr>\n",
       "      <td>std</td>\n",
       "      <td>5.843365</td>\n",
       "      <td>144.722751</td>\n",
       "    </tr>\n",
       "    <tr>\n",
       "      <td>min</td>\n",
       "      <td>0.000000</td>\n",
       "      <td>1000.000000</td>\n",
       "    </tr>\n",
       "    <tr>\n",
       "      <td>25%</td>\n",
       "      <td>1.300000</td>\n",
       "      <td>1126.000000</td>\n",
       "    </tr>\n",
       "    <tr>\n",
       "      <td>50%</td>\n",
       "      <td>6.000000</td>\n",
       "      <td>1260.000000</td>\n",
       "    </tr>\n",
       "    <tr>\n",
       "      <td>75%</td>\n",
       "      <td>10.700000</td>\n",
       "      <td>1379.000000</td>\n",
       "    </tr>\n",
       "    <tr>\n",
       "      <td>max</td>\n",
       "      <td>38.000000</td>\n",
       "      <td>1499.000000</td>\n",
       "    </tr>\n",
       "  </tbody>\n",
       "</table>\n",
       "</div>"
      ],
      "text/plain": [
       "            duration        user_id\n",
       "count  202607.000000  202607.000000\n",
       "mean        6.755887    1253.940619\n",
       "std         5.843365     144.722751\n",
       "min         0.000000    1000.000000\n",
       "25%         1.300000    1126.000000\n",
       "50%         6.000000    1260.000000\n",
       "75%        10.700000    1379.000000\n",
       "max        38.000000    1499.000000"
      ]
     },
     "execution_count": 7,
     "metadata": {},
     "output_type": "execute_result"
    }
   ],
   "source": [
    "calls.describe()"
   ]
  },
  {
   "cell_type": "markdown",
   "metadata": {},
   "source": [
    "Снова неправильный формат для даты, а также встречаются нулевые значения для длительности звонков. Как я понимаю, это непринятые и сброшенные звонки. Деньги за них как правило не берутся и минуты из бесплатных не списываются. Соответственно, пока оставим их, возможно, в дальнейшем, отсечем их как выбросы."
   ]
  },
  {
   "cell_type": "markdown",
   "metadata": {},
   "source": [
    "Таблица Сообщения:"
   ]
  },
  {
   "cell_type": "code",
   "execution_count": 8,
   "metadata": {},
   "outputs": [
    {
     "data": {
      "text/html": [
       "<div>\n",
       "<style scoped>\n",
       "    .dataframe tbody tr th:only-of-type {\n",
       "        vertical-align: middle;\n",
       "    }\n",
       "\n",
       "    .dataframe tbody tr th {\n",
       "        vertical-align: top;\n",
       "    }\n",
       "\n",
       "    .dataframe thead th {\n",
       "        text-align: right;\n",
       "    }\n",
       "</style>\n",
       "<table border=\"1\" class=\"dataframe\">\n",
       "  <thead>\n",
       "    <tr style=\"text-align: right;\">\n",
       "      <th></th>\n",
       "      <th>id</th>\n",
       "      <th>message_date</th>\n",
       "      <th>user_id</th>\n",
       "    </tr>\n",
       "  </thead>\n",
       "  <tbody>\n",
       "    <tr>\n",
       "      <td>45696</td>\n",
       "      <td>1197_26</td>\n",
       "      <td>2018-12-31</td>\n",
       "      <td>1197</td>\n",
       "    </tr>\n",
       "    <tr>\n",
       "      <td>66091</td>\n",
       "      <td>1282_523</td>\n",
       "      <td>2018-11-30</td>\n",
       "      <td>1282</td>\n",
       "    </tr>\n",
       "    <tr>\n",
       "      <td>18743</td>\n",
       "      <td>1082_184</td>\n",
       "      <td>2018-10-18</td>\n",
       "      <td>1082</td>\n",
       "    </tr>\n",
       "    <tr>\n",
       "      <td>33759</td>\n",
       "      <td>1146_557</td>\n",
       "      <td>2018-12-22</td>\n",
       "      <td>1146</td>\n",
       "    </tr>\n",
       "    <tr>\n",
       "      <td>11403</td>\n",
       "      <td>1048_49</td>\n",
       "      <td>2018-09-27</td>\n",
       "      <td>1048</td>\n",
       "    </tr>\n",
       "    <tr>\n",
       "      <td>97793</td>\n",
       "      <td>1401_125</td>\n",
       "      <td>2018-08-10</td>\n",
       "      <td>1401</td>\n",
       "    </tr>\n",
       "    <tr>\n",
       "      <td>406</td>\n",
       "      <td>1000_406</td>\n",
       "      <td>2018-12-29</td>\n",
       "      <td>1000</td>\n",
       "    </tr>\n",
       "    <tr>\n",
       "      <td>71393</td>\n",
       "      <td>1302_221</td>\n",
       "      <td>2018-10-23</td>\n",
       "      <td>1302</td>\n",
       "    </tr>\n",
       "    <tr>\n",
       "      <td>103004</td>\n",
       "      <td>1420_11</td>\n",
       "      <td>2018-12-12</td>\n",
       "      <td>1420</td>\n",
       "    </tr>\n",
       "    <tr>\n",
       "      <td>53795</td>\n",
       "      <td>1238_208</td>\n",
       "      <td>2018-10-08</td>\n",
       "      <td>1238</td>\n",
       "    </tr>\n",
       "    <tr>\n",
       "      <td>103617</td>\n",
       "      <td>1422_52</td>\n",
       "      <td>2018-11-25</td>\n",
       "      <td>1422</td>\n",
       "    </tr>\n",
       "    <tr>\n",
       "      <td>86022</td>\n",
       "      <td>1356_1039</td>\n",
       "      <td>2018-06-29</td>\n",
       "      <td>1356</td>\n",
       "    </tr>\n",
       "    <tr>\n",
       "      <td>67376</td>\n",
       "      <td>1285_564</td>\n",
       "      <td>2018-12-04</td>\n",
       "      <td>1285</td>\n",
       "    </tr>\n",
       "    <tr>\n",
       "      <td>122876</td>\n",
       "      <td>1499_24</td>\n",
       "      <td>2018-11-14</td>\n",
       "      <td>1499</td>\n",
       "    </tr>\n",
       "    <tr>\n",
       "      <td>23251</td>\n",
       "      <td>1096_531</td>\n",
       "      <td>2018-08-09</td>\n",
       "      <td>1096</td>\n",
       "    </tr>\n",
       "    <tr>\n",
       "      <td>106327</td>\n",
       "      <td>1431_69</td>\n",
       "      <td>2018-08-03</td>\n",
       "      <td>1431</td>\n",
       "    </tr>\n",
       "    <tr>\n",
       "      <td>97538</td>\n",
       "      <td>1400_110</td>\n",
       "      <td>2018-11-29</td>\n",
       "      <td>1400</td>\n",
       "    </tr>\n",
       "    <tr>\n",
       "      <td>109127</td>\n",
       "      <td>1440_68</td>\n",
       "      <td>2018-10-12</td>\n",
       "      <td>1440</td>\n",
       "    </tr>\n",
       "    <tr>\n",
       "      <td>85799</td>\n",
       "      <td>1356_816</td>\n",
       "      <td>2018-10-25</td>\n",
       "      <td>1356</td>\n",
       "    </tr>\n",
       "    <tr>\n",
       "      <td>94212</td>\n",
       "      <td>1385_921</td>\n",
       "      <td>2018-02-15</td>\n",
       "      <td>1385</td>\n",
       "    </tr>\n",
       "  </tbody>\n",
       "</table>\n",
       "</div>"
      ],
      "text/plain": [
       "               id message_date  user_id\n",
       "45696     1197_26   2018-12-31     1197\n",
       "66091    1282_523   2018-11-30     1282\n",
       "18743    1082_184   2018-10-18     1082\n",
       "33759    1146_557   2018-12-22     1146\n",
       "11403     1048_49   2018-09-27     1048\n",
       "97793    1401_125   2018-08-10     1401\n",
       "406      1000_406   2018-12-29     1000\n",
       "71393    1302_221   2018-10-23     1302\n",
       "103004    1420_11   2018-12-12     1420\n",
       "53795    1238_208   2018-10-08     1238\n",
       "103617    1422_52   2018-11-25     1422\n",
       "86022   1356_1039   2018-06-29     1356\n",
       "67376    1285_564   2018-12-04     1285\n",
       "122876    1499_24   2018-11-14     1499\n",
       "23251    1096_531   2018-08-09     1096\n",
       "106327    1431_69   2018-08-03     1431\n",
       "97538    1400_110   2018-11-29     1400\n",
       "109127    1440_68   2018-10-12     1440\n",
       "85799    1356_816   2018-10-25     1356\n",
       "94212    1385_921   2018-02-15     1385"
      ]
     },
     "execution_count": 8,
     "metadata": {},
     "output_type": "execute_result"
    }
   ],
   "source": [
    "messages.sample(20, random_state=1)"
   ]
  },
  {
   "cell_type": "code",
   "execution_count": 9,
   "metadata": {},
   "outputs": [
    {
     "name": "stdout",
     "output_type": "stream",
     "text": [
      "<class 'pandas.core.frame.DataFrame'>\n",
      "RangeIndex: 123036 entries, 0 to 123035\n",
      "Data columns (total 3 columns):\n",
      "id              123036 non-null object\n",
      "message_date    123036 non-null object\n",
      "user_id         123036 non-null int64\n",
      "dtypes: int64(1), object(2)\n",
      "memory usage: 2.8+ MB\n"
     ]
    }
   ],
   "source": [
    "messages.info()"
   ]
  },
  {
   "cell_type": "code",
   "execution_count": 10,
   "metadata": {},
   "outputs": [
    {
     "data": {
      "text/html": [
       "<div>\n",
       "<style scoped>\n",
       "    .dataframe tbody tr th:only-of-type {\n",
       "        vertical-align: middle;\n",
       "    }\n",
       "\n",
       "    .dataframe tbody tr th {\n",
       "        vertical-align: top;\n",
       "    }\n",
       "\n",
       "    .dataframe thead th {\n",
       "        text-align: right;\n",
       "    }\n",
       "</style>\n",
       "<table border=\"1\" class=\"dataframe\">\n",
       "  <thead>\n",
       "    <tr style=\"text-align: right;\">\n",
       "      <th></th>\n",
       "      <th>user_id</th>\n",
       "    </tr>\n",
       "  </thead>\n",
       "  <tbody>\n",
       "    <tr>\n",
       "      <td>count</td>\n",
       "      <td>123036.000000</td>\n",
       "    </tr>\n",
       "    <tr>\n",
       "      <td>mean</td>\n",
       "      <td>1256.989410</td>\n",
       "    </tr>\n",
       "    <tr>\n",
       "      <td>std</td>\n",
       "      <td>143.523967</td>\n",
       "    </tr>\n",
       "    <tr>\n",
       "      <td>min</td>\n",
       "      <td>1000.000000</td>\n",
       "    </tr>\n",
       "    <tr>\n",
       "      <td>25%</td>\n",
       "      <td>1134.000000</td>\n",
       "    </tr>\n",
       "    <tr>\n",
       "      <td>50%</td>\n",
       "      <td>1271.000000</td>\n",
       "    </tr>\n",
       "    <tr>\n",
       "      <td>75%</td>\n",
       "      <td>1381.000000</td>\n",
       "    </tr>\n",
       "    <tr>\n",
       "      <td>max</td>\n",
       "      <td>1499.000000</td>\n",
       "    </tr>\n",
       "  </tbody>\n",
       "</table>\n",
       "</div>"
      ],
      "text/plain": [
       "             user_id\n",
       "count  123036.000000\n",
       "mean     1256.989410\n",
       "std       143.523967\n",
       "min      1000.000000\n",
       "25%      1134.000000\n",
       "50%      1271.000000\n",
       "75%      1381.000000\n",
       "max      1499.000000"
      ]
     },
     "execution_count": 10,
     "metadata": {},
     "output_type": "execute_result"
    }
   ],
   "source": [
    "messages.describe()"
   ]
  },
  {
   "cell_type": "markdown",
   "metadata": {},
   "source": [
    "Та же неточность с форматом даты."
   ]
  },
  {
   "cell_type": "markdown",
   "metadata": {},
   "source": [
    "Таблица Интернет:"
   ]
  },
  {
   "cell_type": "code",
   "execution_count": 11,
   "metadata": {},
   "outputs": [
    {
     "data": {
      "text/html": [
       "<div>\n",
       "<style scoped>\n",
       "    .dataframe tbody tr th:only-of-type {\n",
       "        vertical-align: middle;\n",
       "    }\n",
       "\n",
       "    .dataframe tbody tr th {\n",
       "        vertical-align: top;\n",
       "    }\n",
       "\n",
       "    .dataframe thead th {\n",
       "        text-align: right;\n",
       "    }\n",
       "</style>\n",
       "<table border=\"1\" class=\"dataframe\">\n",
       "  <thead>\n",
       "    <tr style=\"text-align: right;\">\n",
       "      <th></th>\n",
       "      <th>Unnamed: 0</th>\n",
       "      <th>id</th>\n",
       "      <th>mb_used</th>\n",
       "      <th>session_date</th>\n",
       "      <th>user_id</th>\n",
       "    </tr>\n",
       "  </thead>\n",
       "  <tbody>\n",
       "    <tr>\n",
       "      <td>35745</td>\n",
       "      <td>35745</td>\n",
       "      <td>1124_125</td>\n",
       "      <td>122.45</td>\n",
       "      <td>2018-12-03</td>\n",
       "      <td>1124</td>\n",
       "    </tr>\n",
       "    <tr>\n",
       "      <td>18383</td>\n",
       "      <td>18383</td>\n",
       "      <td>1064_102</td>\n",
       "      <td>320.60</td>\n",
       "      <td>2018-12-19</td>\n",
       "      <td>1064</td>\n",
       "    </tr>\n",
       "    <tr>\n",
       "      <td>59774</td>\n",
       "      <td>59774</td>\n",
       "      <td>1203_22</td>\n",
       "      <td>605.96</td>\n",
       "      <td>2018-06-17</td>\n",
       "      <td>1203</td>\n",
       "    </tr>\n",
       "    <tr>\n",
       "      <td>56317</td>\n",
       "      <td>56317</td>\n",
       "      <td>1188_123</td>\n",
       "      <td>781.73</td>\n",
       "      <td>2018-05-08</td>\n",
       "      <td>1188</td>\n",
       "    </tr>\n",
       "    <tr>\n",
       "      <td>52231</td>\n",
       "      <td>52231</td>\n",
       "      <td>1176_386</td>\n",
       "      <td>150.98</td>\n",
       "      <td>2018-08-20</td>\n",
       "      <td>1176</td>\n",
       "    </tr>\n",
       "    <tr>\n",
       "      <td>20276</td>\n",
       "      <td>20276</td>\n",
       "      <td>1068_26</td>\n",
       "      <td>389.65</td>\n",
       "      <td>2018-12-04</td>\n",
       "      <td>1068</td>\n",
       "    </tr>\n",
       "    <tr>\n",
       "      <td>82748</td>\n",
       "      <td>82748</td>\n",
       "      <td>1281_64</td>\n",
       "      <td>841.89</td>\n",
       "      <td>2018-11-07</td>\n",
       "      <td>1281</td>\n",
       "    </tr>\n",
       "    <tr>\n",
       "      <td>129266</td>\n",
       "      <td>129266</td>\n",
       "      <td>1431_300</td>\n",
       "      <td>461.23</td>\n",
       "      <td>2018-11-26</td>\n",
       "      <td>1431</td>\n",
       "    </tr>\n",
       "    <tr>\n",
       "      <td>46783</td>\n",
       "      <td>46783</td>\n",
       "      <td>1160_75</td>\n",
       "      <td>0.00</td>\n",
       "      <td>2018-08-15</td>\n",
       "      <td>1160</td>\n",
       "    </tr>\n",
       "    <tr>\n",
       "      <td>48492</td>\n",
       "      <td>48492</td>\n",
       "      <td>1168_260</td>\n",
       "      <td>336.06</td>\n",
       "      <td>2018-07-28</td>\n",
       "      <td>1168</td>\n",
       "    </tr>\n",
       "    <tr>\n",
       "      <td>5033</td>\n",
       "      <td>5033</td>\n",
       "      <td>1015_41</td>\n",
       "      <td>0.00</td>\n",
       "      <td>2018-11-06</td>\n",
       "      <td>1015</td>\n",
       "    </tr>\n",
       "    <tr>\n",
       "      <td>67617</td>\n",
       "      <td>67617</td>\n",
       "      <td>1228_402</td>\n",
       "      <td>711.97</td>\n",
       "      <td>2018-11-24</td>\n",
       "      <td>1228</td>\n",
       "    </tr>\n",
       "    <tr>\n",
       "      <td>59299</td>\n",
       "      <td>59299</td>\n",
       "      <td>1200_129</td>\n",
       "      <td>689.60</td>\n",
       "      <td>2018-10-27</td>\n",
       "      <td>1200</td>\n",
       "    </tr>\n",
       "    <tr>\n",
       "      <td>70728</td>\n",
       "      <td>70728</td>\n",
       "      <td>1240_396</td>\n",
       "      <td>158.16</td>\n",
       "      <td>2018-03-17</td>\n",
       "      <td>1240</td>\n",
       "    </tr>\n",
       "    <tr>\n",
       "      <td>107692</td>\n",
       "      <td>107692</td>\n",
       "      <td>1366_47</td>\n",
       "      <td>118.86</td>\n",
       "      <td>2018-07-09</td>\n",
       "      <td>1366</td>\n",
       "    </tr>\n",
       "    <tr>\n",
       "      <td>136586</td>\n",
       "      <td>136586</td>\n",
       "      <td>1457_428</td>\n",
       "      <td>267.54</td>\n",
       "      <td>2018-07-18</td>\n",
       "      <td>1457</td>\n",
       "    </tr>\n",
       "    <tr>\n",
       "      <td>119444</td>\n",
       "      <td>119444</td>\n",
       "      <td>1402_479</td>\n",
       "      <td>310.83</td>\n",
       "      <td>2018-05-17</td>\n",
       "      <td>1402</td>\n",
       "    </tr>\n",
       "    <tr>\n",
       "      <td>82809</td>\n",
       "      <td>82809</td>\n",
       "      <td>1281_125</td>\n",
       "      <td>541.62</td>\n",
       "      <td>2018-10-12</td>\n",
       "      <td>1281</td>\n",
       "    </tr>\n",
       "    <tr>\n",
       "      <td>677</td>\n",
       "      <td>677</td>\n",
       "      <td>1003_1</td>\n",
       "      <td>523.53</td>\n",
       "      <td>2018-09-25</td>\n",
       "      <td>1003</td>\n",
       "    </tr>\n",
       "    <tr>\n",
       "      <td>91725</td>\n",
       "      <td>91725</td>\n",
       "      <td>1310_186</td>\n",
       "      <td>718.93</td>\n",
       "      <td>2018-05-28</td>\n",
       "      <td>1310</td>\n",
       "    </tr>\n",
       "  </tbody>\n",
       "</table>\n",
       "</div>"
      ],
      "text/plain": [
       "        Unnamed: 0        id  mb_used session_date  user_id\n",
       "35745        35745  1124_125   122.45   2018-12-03     1124\n",
       "18383        18383  1064_102   320.60   2018-12-19     1064\n",
       "59774        59774   1203_22   605.96   2018-06-17     1203\n",
       "56317        56317  1188_123   781.73   2018-05-08     1188\n",
       "52231        52231  1176_386   150.98   2018-08-20     1176\n",
       "20276        20276   1068_26   389.65   2018-12-04     1068\n",
       "82748        82748   1281_64   841.89   2018-11-07     1281\n",
       "129266      129266  1431_300   461.23   2018-11-26     1431\n",
       "46783        46783   1160_75     0.00   2018-08-15     1160\n",
       "48492        48492  1168_260   336.06   2018-07-28     1168\n",
       "5033          5033   1015_41     0.00   2018-11-06     1015\n",
       "67617        67617  1228_402   711.97   2018-11-24     1228\n",
       "59299        59299  1200_129   689.60   2018-10-27     1200\n",
       "70728        70728  1240_396   158.16   2018-03-17     1240\n",
       "107692      107692   1366_47   118.86   2018-07-09     1366\n",
       "136586      136586  1457_428   267.54   2018-07-18     1457\n",
       "119444      119444  1402_479   310.83   2018-05-17     1402\n",
       "82809        82809  1281_125   541.62   2018-10-12     1281\n",
       "677            677    1003_1   523.53   2018-09-25     1003\n",
       "91725        91725  1310_186   718.93   2018-05-28     1310"
      ]
     },
     "execution_count": 11,
     "metadata": {},
     "output_type": "execute_result"
    }
   ],
   "source": [
    "internet.sample(20, random_state=1)"
   ]
  },
  {
   "cell_type": "code",
   "execution_count": 12,
   "metadata": {},
   "outputs": [
    {
     "name": "stdout",
     "output_type": "stream",
     "text": [
      "<class 'pandas.core.frame.DataFrame'>\n",
      "RangeIndex: 149396 entries, 0 to 149395\n",
      "Data columns (total 5 columns):\n",
      "Unnamed: 0      149396 non-null int64\n",
      "id              149396 non-null object\n",
      "mb_used         149396 non-null float64\n",
      "session_date    149396 non-null object\n",
      "user_id         149396 non-null int64\n",
      "dtypes: float64(1), int64(2), object(2)\n",
      "memory usage: 5.7+ MB\n"
     ]
    }
   ],
   "source": [
    "internet.info()"
   ]
  },
  {
   "cell_type": "code",
   "execution_count": 13,
   "metadata": {},
   "outputs": [
    {
     "data": {
      "text/html": [
       "<div>\n",
       "<style scoped>\n",
       "    .dataframe tbody tr th:only-of-type {\n",
       "        vertical-align: middle;\n",
       "    }\n",
       "\n",
       "    .dataframe tbody tr th {\n",
       "        vertical-align: top;\n",
       "    }\n",
       "\n",
       "    .dataframe thead th {\n",
       "        text-align: right;\n",
       "    }\n",
       "</style>\n",
       "<table border=\"1\" class=\"dataframe\">\n",
       "  <thead>\n",
       "    <tr style=\"text-align: right;\">\n",
       "      <th></th>\n",
       "      <th>Unnamed: 0</th>\n",
       "      <th>mb_used</th>\n",
       "      <th>user_id</th>\n",
       "    </tr>\n",
       "  </thead>\n",
       "  <tbody>\n",
       "    <tr>\n",
       "      <td>count</td>\n",
       "      <td>149396.000000</td>\n",
       "      <td>149396.000000</td>\n",
       "      <td>149396.000000</td>\n",
       "    </tr>\n",
       "    <tr>\n",
       "      <td>mean</td>\n",
       "      <td>74697.500000</td>\n",
       "      <td>370.192426</td>\n",
       "      <td>1252.099842</td>\n",
       "    </tr>\n",
       "    <tr>\n",
       "      <td>std</td>\n",
       "      <td>43127.054745</td>\n",
       "      <td>278.300951</td>\n",
       "      <td>144.050823</td>\n",
       "    </tr>\n",
       "    <tr>\n",
       "      <td>min</td>\n",
       "      <td>0.000000</td>\n",
       "      <td>0.000000</td>\n",
       "      <td>1000.000000</td>\n",
       "    </tr>\n",
       "    <tr>\n",
       "      <td>25%</td>\n",
       "      <td>37348.750000</td>\n",
       "      <td>138.187500</td>\n",
       "      <td>1130.000000</td>\n",
       "    </tr>\n",
       "    <tr>\n",
       "      <td>50%</td>\n",
       "      <td>74697.500000</td>\n",
       "      <td>348.015000</td>\n",
       "      <td>1251.000000</td>\n",
       "    </tr>\n",
       "    <tr>\n",
       "      <td>75%</td>\n",
       "      <td>112046.250000</td>\n",
       "      <td>559.552500</td>\n",
       "      <td>1380.000000</td>\n",
       "    </tr>\n",
       "    <tr>\n",
       "      <td>max</td>\n",
       "      <td>149395.000000</td>\n",
       "      <td>1724.830000</td>\n",
       "      <td>1499.000000</td>\n",
       "    </tr>\n",
       "  </tbody>\n",
       "</table>\n",
       "</div>"
      ],
      "text/plain": [
       "          Unnamed: 0        mb_used        user_id\n",
       "count  149396.000000  149396.000000  149396.000000\n",
       "mean    74697.500000     370.192426    1252.099842\n",
       "std     43127.054745     278.300951     144.050823\n",
       "min         0.000000       0.000000    1000.000000\n",
       "25%     37348.750000     138.187500    1130.000000\n",
       "50%     74697.500000     348.015000    1251.000000\n",
       "75%    112046.250000     559.552500    1380.000000\n",
       "max    149395.000000    1724.830000    1499.000000"
      ]
     },
     "execution_count": 13,
     "metadata": {},
     "output_type": "execute_result"
    }
   ],
   "source": [
    "internet.describe()"
   ]
  },
  {
   "cell_type": "markdown",
   "metadata": {},
   "source": [
    "Таблица Тарифы:"
   ]
  },
  {
   "cell_type": "code",
   "execution_count": 14,
   "metadata": {},
   "outputs": [
    {
     "data": {
      "text/html": [
       "<div>\n",
       "<style scoped>\n",
       "    .dataframe tbody tr th:only-of-type {\n",
       "        vertical-align: middle;\n",
       "    }\n",
       "\n",
       "    .dataframe tbody tr th {\n",
       "        vertical-align: top;\n",
       "    }\n",
       "\n",
       "    .dataframe thead th {\n",
       "        text-align: right;\n",
       "    }\n",
       "</style>\n",
       "<table border=\"1\" class=\"dataframe\">\n",
       "  <thead>\n",
       "    <tr style=\"text-align: right;\">\n",
       "      <th></th>\n",
       "      <th>messages_included</th>\n",
       "      <th>mb_per_month_included</th>\n",
       "      <th>minutes_included</th>\n",
       "      <th>rub_monthly_fee</th>\n",
       "      <th>rub_per_gb</th>\n",
       "      <th>rub_per_message</th>\n",
       "      <th>rub_per_minute</th>\n",
       "      <th>tariff_name</th>\n",
       "    </tr>\n",
       "  </thead>\n",
       "  <tbody>\n",
       "    <tr>\n",
       "      <td>0</td>\n",
       "      <td>50</td>\n",
       "      <td>15360</td>\n",
       "      <td>500</td>\n",
       "      <td>550</td>\n",
       "      <td>200</td>\n",
       "      <td>3</td>\n",
       "      <td>3</td>\n",
       "      <td>smart</td>\n",
       "    </tr>\n",
       "    <tr>\n",
       "      <td>1</td>\n",
       "      <td>1000</td>\n",
       "      <td>30720</td>\n",
       "      <td>3000</td>\n",
       "      <td>1950</td>\n",
       "      <td>150</td>\n",
       "      <td>1</td>\n",
       "      <td>1</td>\n",
       "      <td>ultra</td>\n",
       "    </tr>\n",
       "  </tbody>\n",
       "</table>\n",
       "</div>"
      ],
      "text/plain": [
       "   messages_included  mb_per_month_included  minutes_included  \\\n",
       "0                 50                  15360               500   \n",
       "1               1000                  30720              3000   \n",
       "\n",
       "   rub_monthly_fee  rub_per_gb  rub_per_message  rub_per_minute tariff_name  \n",
       "0              550         200                3               3       smart  \n",
       "1             1950         150                1               1       ultra  "
      ]
     },
     "execution_count": 14,
     "metadata": {},
     "output_type": "execute_result"
    }
   ],
   "source": [
    "tariffs"
   ]
  },
  {
   "cell_type": "markdown",
   "metadata": {},
   "source": [
    "В следующем разделе меняем форматы, а также округлим длительность звонка в таблице Звонки в большую сторону."
   ]
  },
  {
   "cell_type": "markdown",
   "metadata": {},
   "source": [
    "## Подготовка данных"
   ]
  },
  {
   "cell_type": "markdown",
   "metadata": {},
   "source": [
    "Производим замену формата в столбцах с датами в таблице Users"
   ]
  },
  {
   "cell_type": "code",
   "execution_count": 15,
   "metadata": {},
   "outputs": [],
   "source": [
    "users['churn_date'] = pd.to_datetime(users['churn_date'], format=\"%Y-%m-%d\")\n",
    "users['reg_date'] = pd.to_datetime(users['reg_date'], format=\"%Y-%m-%d\")"
   ]
  },
  {
   "cell_type": "code",
   "execution_count": 16,
   "metadata": {},
   "outputs": [
    {
     "name": "stdout",
     "output_type": "stream",
     "text": [
      "<class 'pandas.core.frame.DataFrame'>\n",
      "RangeIndex: 500 entries, 0 to 499\n",
      "Data columns (total 8 columns):\n",
      "user_id       500 non-null int64\n",
      "age           500 non-null int64\n",
      "churn_date    38 non-null datetime64[ns]\n",
      "city          500 non-null object\n",
      "first_name    500 non-null object\n",
      "last_name     500 non-null object\n",
      "reg_date      500 non-null datetime64[ns]\n",
      "tariff        500 non-null object\n",
      "dtypes: datetime64[ns](2), int64(2), object(4)\n",
      "memory usage: 31.4+ KB\n"
     ]
    }
   ],
   "source": [
    "users.info()"
   ]
  },
  {
   "cell_type": "markdown",
   "metadata": {},
   "source": [
    "Таблица Calls"
   ]
  },
  {
   "cell_type": "code",
   "execution_count": 17,
   "metadata": {},
   "outputs": [],
   "source": [
    "calls['call_date'] = pd.to_datetime(calls['call_date'], format=\"%Y-%m-%d\")"
   ]
  },
  {
   "cell_type": "markdown",
   "metadata": {},
   "source": [
    "Меняем формат на числовой в столбце с id"
   ]
  },
  {
   "cell_type": "code",
   "execution_count": 18,
   "metadata": {},
   "outputs": [],
   "source": [
    "calls['id'] = calls['id'].astype('int')"
   ]
  },
  {
   "cell_type": "markdown",
   "metadata": {},
   "source": [
    "Округляем длительность звонков в большую сторону"
   ]
  },
  {
   "cell_type": "code",
   "execution_count": 19,
   "metadata": {},
   "outputs": [],
   "source": [
    "calls['duration'] = calls['duration'].apply(np.ceil).astype('int')"
   ]
  },
  {
   "cell_type": "code",
   "execution_count": 20,
   "metadata": {},
   "outputs": [
    {
     "name": "stdout",
     "output_type": "stream",
     "text": [
      "<class 'pandas.core.frame.DataFrame'>\n",
      "RangeIndex: 202607 entries, 0 to 202606\n",
      "Data columns (total 4 columns):\n",
      "id           202607 non-null int64\n",
      "call_date    202607 non-null datetime64[ns]\n",
      "duration     202607 non-null int64\n",
      "user_id      202607 non-null int64\n",
      "dtypes: datetime64[ns](1), int64(3)\n",
      "memory usage: 6.2 MB\n"
     ]
    }
   ],
   "source": [
    "calls.info()"
   ]
  },
  {
   "cell_type": "markdown",
   "metadata": {},
   "source": [
    "То же самое для таблицы Messages"
   ]
  },
  {
   "cell_type": "code",
   "execution_count": 21,
   "metadata": {},
   "outputs": [],
   "source": [
    "messages['message_date'] = pd.to_datetime(messages['message_date'], format=\"%Y-%m-%d\")"
   ]
  },
  {
   "cell_type": "code",
   "execution_count": 22,
   "metadata": {},
   "outputs": [],
   "source": [
    "messages['id'] = messages['id'].astype('int')"
   ]
  },
  {
   "cell_type": "code",
   "execution_count": 23,
   "metadata": {},
   "outputs": [
    {
     "name": "stdout",
     "output_type": "stream",
     "text": [
      "<class 'pandas.core.frame.DataFrame'>\n",
      "RangeIndex: 123036 entries, 0 to 123035\n",
      "Data columns (total 3 columns):\n",
      "id              123036 non-null int64\n",
      "message_date    123036 non-null datetime64[ns]\n",
      "user_id         123036 non-null int64\n",
      "dtypes: datetime64[ns](1), int64(2)\n",
      "memory usage: 2.8 MB\n"
     ]
    }
   ],
   "source": [
    "messages.info()"
   ]
  },
  {
   "cell_type": "markdown",
   "metadata": {},
   "source": [
    "таблица Internet"
   ]
  },
  {
   "cell_type": "code",
   "execution_count": 24,
   "metadata": {},
   "outputs": [],
   "source": [
    "internet['session_date'] = pd.to_datetime(internet['session_date'], format=\"%Y-%m-%d\")"
   ]
  },
  {
   "cell_type": "code",
   "execution_count": 25,
   "metadata": {},
   "outputs": [],
   "source": [
    "internet['id'] = internet['id'].astype('int')"
   ]
  },
  {
   "cell_type": "code",
   "execution_count": 26,
   "metadata": {},
   "outputs": [
    {
     "name": "stdout",
     "output_type": "stream",
     "text": [
      "<class 'pandas.core.frame.DataFrame'>\n",
      "RangeIndex: 149396 entries, 0 to 149395\n",
      "Data columns (total 5 columns):\n",
      "Unnamed: 0      149396 non-null int64\n",
      "id              149396 non-null int64\n",
      "mb_used         149396 non-null float64\n",
      "session_date    149396 non-null datetime64[ns]\n",
      "user_id         149396 non-null int64\n",
      "dtypes: datetime64[ns](1), float64(1), int64(3)\n",
      "memory usage: 5.7 MB\n"
     ]
    }
   ],
   "source": [
    "internet.info()"
   ]
  },
  {
   "cell_type": "markdown",
   "metadata": {},
   "source": [
    "Сгруппируем количество сделанных звонков и израсходованных минут разговора по месяцам."
   ]
  },
  {
   "cell_type": "code",
   "execution_count": 27,
   "metadata": {},
   "outputs": [],
   "source": [
    "calls['month'] = calls['call_date'].dt.month"
   ]
  },
  {
   "cell_type": "code",
   "execution_count": 28,
   "metadata": {},
   "outputs": [],
   "source": [
    "сalls_by_month = calls.groupby(['user_id', 'month']).agg({'duration':'sum', 'id':'count'}).reset_index().rename(columns={'id':'calls_count'})"
   ]
  },
  {
   "cell_type": "code",
   "execution_count": 29,
   "metadata": {},
   "outputs": [
    {
     "data": {
      "text/html": [
       "<div>\n",
       "<style scoped>\n",
       "    .dataframe tbody tr th:only-of-type {\n",
       "        vertical-align: middle;\n",
       "    }\n",
       "\n",
       "    .dataframe tbody tr th {\n",
       "        vertical-align: top;\n",
       "    }\n",
       "\n",
       "    .dataframe thead th {\n",
       "        text-align: right;\n",
       "    }\n",
       "</style>\n",
       "<table border=\"1\" class=\"dataframe\">\n",
       "  <thead>\n",
       "    <tr style=\"text-align: right;\">\n",
       "      <th></th>\n",
       "      <th>user_id</th>\n",
       "      <th>month</th>\n",
       "      <th>duration</th>\n",
       "      <th>calls_count</th>\n",
       "    </tr>\n",
       "  </thead>\n",
       "  <tbody>\n",
       "    <tr>\n",
       "      <td>0</td>\n",
       "      <td>1000</td>\n",
       "      <td>5</td>\n",
       "      <td>159</td>\n",
       "      <td>22</td>\n",
       "    </tr>\n",
       "    <tr>\n",
       "      <td>1</td>\n",
       "      <td>1000</td>\n",
       "      <td>6</td>\n",
       "      <td>172</td>\n",
       "      <td>43</td>\n",
       "    </tr>\n",
       "    <tr>\n",
       "      <td>2</td>\n",
       "      <td>1000</td>\n",
       "      <td>7</td>\n",
       "      <td>340</td>\n",
       "      <td>47</td>\n",
       "    </tr>\n",
       "    <tr>\n",
       "      <td>3</td>\n",
       "      <td>1000</td>\n",
       "      <td>8</td>\n",
       "      <td>408</td>\n",
       "      <td>52</td>\n",
       "    </tr>\n",
       "    <tr>\n",
       "      <td>4</td>\n",
       "      <td>1000</td>\n",
       "      <td>9</td>\n",
       "      <td>466</td>\n",
       "      <td>58</td>\n",
       "    </tr>\n",
       "  </tbody>\n",
       "</table>\n",
       "</div>"
      ],
      "text/plain": [
       "   user_id  month  duration  calls_count\n",
       "0     1000      5       159           22\n",
       "1     1000      6       172           43\n",
       "2     1000      7       340           47\n",
       "3     1000      8       408           52\n",
       "4     1000      9       466           58"
      ]
     },
     "execution_count": 29,
     "metadata": {},
     "output_type": "execute_result"
    }
   ],
   "source": [
    "сalls_by_month.head()"
   ]
  },
  {
   "cell_type": "markdown",
   "metadata": {},
   "source": [
    "Сгруппируем количество отправленных сообщений по месяцам"
   ]
  },
  {
   "cell_type": "code",
   "execution_count": 30,
   "metadata": {},
   "outputs": [],
   "source": [
    "messages['month'] = messages['message_date'].dt.month"
   ]
  },
  {
   "cell_type": "code",
   "execution_count": 31,
   "metadata": {},
   "outputs": [],
   "source": [
    "messages_by_month = messages.groupby(['user_id', 'month']).agg({'id':'count'}).reset_index().rename(columns={'id':'message_count'})"
   ]
  },
  {
   "cell_type": "code",
   "execution_count": 32,
   "metadata": {},
   "outputs": [
    {
     "data": {
      "text/html": [
       "<div>\n",
       "<style scoped>\n",
       "    .dataframe tbody tr th:only-of-type {\n",
       "        vertical-align: middle;\n",
       "    }\n",
       "\n",
       "    .dataframe tbody tr th {\n",
       "        vertical-align: top;\n",
       "    }\n",
       "\n",
       "    .dataframe thead th {\n",
       "        text-align: right;\n",
       "    }\n",
       "</style>\n",
       "<table border=\"1\" class=\"dataframe\">\n",
       "  <thead>\n",
       "    <tr style=\"text-align: right;\">\n",
       "      <th></th>\n",
       "      <th>user_id</th>\n",
       "      <th>month</th>\n",
       "      <th>message_count</th>\n",
       "    </tr>\n",
       "  </thead>\n",
       "  <tbody>\n",
       "    <tr>\n",
       "      <td>0</td>\n",
       "      <td>1000</td>\n",
       "      <td>5</td>\n",
       "      <td>22</td>\n",
       "    </tr>\n",
       "    <tr>\n",
       "      <td>1</td>\n",
       "      <td>1000</td>\n",
       "      <td>6</td>\n",
       "      <td>60</td>\n",
       "    </tr>\n",
       "    <tr>\n",
       "      <td>2</td>\n",
       "      <td>1000</td>\n",
       "      <td>7</td>\n",
       "      <td>75</td>\n",
       "    </tr>\n",
       "    <tr>\n",
       "      <td>3</td>\n",
       "      <td>1000</td>\n",
       "      <td>8</td>\n",
       "      <td>81</td>\n",
       "    </tr>\n",
       "    <tr>\n",
       "      <td>4</td>\n",
       "      <td>1000</td>\n",
       "      <td>9</td>\n",
       "      <td>57</td>\n",
       "    </tr>\n",
       "  </tbody>\n",
       "</table>\n",
       "</div>"
      ],
      "text/plain": [
       "   user_id  month  message_count\n",
       "0     1000      5             22\n",
       "1     1000      6             60\n",
       "2     1000      7             75\n",
       "3     1000      8             81\n",
       "4     1000      9             57"
      ]
     },
     "execution_count": 32,
     "metadata": {},
     "output_type": "execute_result"
    }
   ],
   "source": [
    "messages_by_month.head()"
   ]
  },
  {
   "cell_type": "markdown",
   "metadata": {},
   "source": [
    "Сгруппируем объем израсходованного интернет-трафика по месяцам"
   ]
  },
  {
   "cell_type": "code",
   "execution_count": 33,
   "metadata": {},
   "outputs": [],
   "source": [
    "internet['month'] = internet['session_date'].dt.month"
   ]
  },
  {
   "cell_type": "code",
   "execution_count": 34,
   "metadata": {},
   "outputs": [],
   "source": [
    "internet_by_month = internet.groupby(['user_id', 'month']).agg({'mb_used':'sum'}).reset_index()"
   ]
  },
  {
   "cell_type": "code",
   "execution_count": 35,
   "metadata": {},
   "outputs": [
    {
     "data": {
      "text/html": [
       "<div>\n",
       "<style scoped>\n",
       "    .dataframe tbody tr th:only-of-type {\n",
       "        vertical-align: middle;\n",
       "    }\n",
       "\n",
       "    .dataframe tbody tr th {\n",
       "        vertical-align: top;\n",
       "    }\n",
       "\n",
       "    .dataframe thead th {\n",
       "        text-align: right;\n",
       "    }\n",
       "</style>\n",
       "<table border=\"1\" class=\"dataframe\">\n",
       "  <thead>\n",
       "    <tr style=\"text-align: right;\">\n",
       "      <th></th>\n",
       "      <th>user_id</th>\n",
       "      <th>month</th>\n",
       "      <th>mb_used</th>\n",
       "    </tr>\n",
       "  </thead>\n",
       "  <tbody>\n",
       "    <tr>\n",
       "      <td>0</td>\n",
       "      <td>1000</td>\n",
       "      <td>5</td>\n",
       "      <td>2253.49</td>\n",
       "    </tr>\n",
       "    <tr>\n",
       "      <td>1</td>\n",
       "      <td>1000</td>\n",
       "      <td>6</td>\n",
       "      <td>23233.77</td>\n",
       "    </tr>\n",
       "    <tr>\n",
       "      <td>2</td>\n",
       "      <td>1000</td>\n",
       "      <td>7</td>\n",
       "      <td>14003.64</td>\n",
       "    </tr>\n",
       "    <tr>\n",
       "      <td>3</td>\n",
       "      <td>1000</td>\n",
       "      <td>8</td>\n",
       "      <td>14055.93</td>\n",
       "    </tr>\n",
       "    <tr>\n",
       "      <td>4</td>\n",
       "      <td>1000</td>\n",
       "      <td>9</td>\n",
       "      <td>14568.91</td>\n",
       "    </tr>\n",
       "  </tbody>\n",
       "</table>\n",
       "</div>"
      ],
      "text/plain": [
       "   user_id  month   mb_used\n",
       "0     1000      5   2253.49\n",
       "1     1000      6  23233.77\n",
       "2     1000      7  14003.64\n",
       "3     1000      8  14055.93\n",
       "4     1000      9  14568.91"
      ]
     },
     "execution_count": 35,
     "metadata": {},
     "output_type": "execute_result"
    }
   ],
   "source": [
    "internet_by_month.head()"
   ]
  },
  {
   "cell_type": "markdown",
   "metadata": {},
   "source": [
    "Для дальнейшего анализа соединим полученные таблицы в одну"
   ]
  },
  {
   "cell_type": "code",
   "execution_count": 36,
   "metadata": {},
   "outputs": [],
   "source": [
    "df = сalls_by_month.merge(messages_by_month, on=['user_id','month'], how='outer')"
   ]
  },
  {
   "cell_type": "code",
   "execution_count": 37,
   "metadata": {},
   "outputs": [],
   "source": [
    "df = df.merge(internet_by_month, on=['user_id','month'], how = 'outer')"
   ]
  },
  {
   "cell_type": "code",
   "execution_count": 38,
   "metadata": {},
   "outputs": [],
   "source": [
    "df = df.merge(users, on='user_id', how='outer')"
   ]
  },
  {
   "cell_type": "code",
   "execution_count": 39,
   "metadata": {},
   "outputs": [
    {
     "data": {
      "text/html": [
       "<div>\n",
       "<style scoped>\n",
       "    .dataframe tbody tr th:only-of-type {\n",
       "        vertical-align: middle;\n",
       "    }\n",
       "\n",
       "    .dataframe tbody tr th {\n",
       "        vertical-align: top;\n",
       "    }\n",
       "\n",
       "    .dataframe thead th {\n",
       "        text-align: right;\n",
       "    }\n",
       "</style>\n",
       "<table border=\"1\" class=\"dataframe\">\n",
       "  <thead>\n",
       "    <tr style=\"text-align: right;\">\n",
       "      <th></th>\n",
       "      <th>user_id</th>\n",
       "      <th>month</th>\n",
       "      <th>duration</th>\n",
       "      <th>calls_count</th>\n",
       "      <th>message_count</th>\n",
       "      <th>mb_used</th>\n",
       "      <th>age</th>\n",
       "      <th>churn_date</th>\n",
       "      <th>city</th>\n",
       "      <th>first_name</th>\n",
       "      <th>last_name</th>\n",
       "      <th>reg_date</th>\n",
       "      <th>tariff</th>\n",
       "    </tr>\n",
       "  </thead>\n",
       "  <tbody>\n",
       "    <tr>\n",
       "      <td>0</td>\n",
       "      <td>1000</td>\n",
       "      <td>5.0</td>\n",
       "      <td>159.0</td>\n",
       "      <td>22.0</td>\n",
       "      <td>22.0</td>\n",
       "      <td>2253.49</td>\n",
       "      <td>52</td>\n",
       "      <td>NaT</td>\n",
       "      <td>Краснодар</td>\n",
       "      <td>Рафаил</td>\n",
       "      <td>Верещагин</td>\n",
       "      <td>2018-05-25</td>\n",
       "      <td>ultra</td>\n",
       "    </tr>\n",
       "    <tr>\n",
       "      <td>1</td>\n",
       "      <td>1000</td>\n",
       "      <td>6.0</td>\n",
       "      <td>172.0</td>\n",
       "      <td>43.0</td>\n",
       "      <td>60.0</td>\n",
       "      <td>23233.77</td>\n",
       "      <td>52</td>\n",
       "      <td>NaT</td>\n",
       "      <td>Краснодар</td>\n",
       "      <td>Рафаил</td>\n",
       "      <td>Верещагин</td>\n",
       "      <td>2018-05-25</td>\n",
       "      <td>ultra</td>\n",
       "    </tr>\n",
       "    <tr>\n",
       "      <td>2</td>\n",
       "      <td>1000</td>\n",
       "      <td>7.0</td>\n",
       "      <td>340.0</td>\n",
       "      <td>47.0</td>\n",
       "      <td>75.0</td>\n",
       "      <td>14003.64</td>\n",
       "      <td>52</td>\n",
       "      <td>NaT</td>\n",
       "      <td>Краснодар</td>\n",
       "      <td>Рафаил</td>\n",
       "      <td>Верещагин</td>\n",
       "      <td>2018-05-25</td>\n",
       "      <td>ultra</td>\n",
       "    </tr>\n",
       "    <tr>\n",
       "      <td>3</td>\n",
       "      <td>1000</td>\n",
       "      <td>8.0</td>\n",
       "      <td>408.0</td>\n",
       "      <td>52.0</td>\n",
       "      <td>81.0</td>\n",
       "      <td>14055.93</td>\n",
       "      <td>52</td>\n",
       "      <td>NaT</td>\n",
       "      <td>Краснодар</td>\n",
       "      <td>Рафаил</td>\n",
       "      <td>Верещагин</td>\n",
       "      <td>2018-05-25</td>\n",
       "      <td>ultra</td>\n",
       "    </tr>\n",
       "    <tr>\n",
       "      <td>4</td>\n",
       "      <td>1000</td>\n",
       "      <td>9.0</td>\n",
       "      <td>466.0</td>\n",
       "      <td>58.0</td>\n",
       "      <td>57.0</td>\n",
       "      <td>14568.91</td>\n",
       "      <td>52</td>\n",
       "      <td>NaT</td>\n",
       "      <td>Краснодар</td>\n",
       "      <td>Рафаил</td>\n",
       "      <td>Верещагин</td>\n",
       "      <td>2018-05-25</td>\n",
       "      <td>ultra</td>\n",
       "    </tr>\n",
       "  </tbody>\n",
       "</table>\n",
       "</div>"
      ],
      "text/plain": [
       "   user_id  month  duration  calls_count  message_count   mb_used  age  \\\n",
       "0     1000    5.0     159.0         22.0           22.0   2253.49   52   \n",
       "1     1000    6.0     172.0         43.0           60.0  23233.77   52   \n",
       "2     1000    7.0     340.0         47.0           75.0  14003.64   52   \n",
       "3     1000    8.0     408.0         52.0           81.0  14055.93   52   \n",
       "4     1000    9.0     466.0         58.0           57.0  14568.91   52   \n",
       "\n",
       "  churn_date       city first_name  last_name   reg_date tariff  \n",
       "0        NaT  Краснодар     Рафаил  Верещагин 2018-05-25  ultra  \n",
       "1        NaT  Краснодар     Рафаил  Верещагин 2018-05-25  ultra  \n",
       "2        NaT  Краснодар     Рафаил  Верещагин 2018-05-25  ultra  \n",
       "3        NaT  Краснодар     Рафаил  Верещагин 2018-05-25  ultra  \n",
       "4        NaT  Краснодар     Рафаил  Верещагин 2018-05-25  ultra  "
      ]
     },
     "execution_count": 39,
     "metadata": {},
     "output_type": "execute_result"
    }
   ],
   "source": [
    "df.head()"
   ]
  },
  {
   "cell_type": "code",
   "execution_count": 40,
   "metadata": {},
   "outputs": [],
   "source": [
    "tariffs = tariffs.rename(columns={'tariff_name':'tariff'})"
   ]
  },
  {
   "cell_type": "code",
   "execution_count": 41,
   "metadata": {},
   "outputs": [],
   "source": [
    "df = df.merge(tariffs, on='tariff', how='left')"
   ]
  },
  {
   "cell_type": "code",
   "execution_count": 42,
   "metadata": {},
   "outputs": [
    {
     "data": {
      "text/html": [
       "<div>\n",
       "<style scoped>\n",
       "    .dataframe tbody tr th:only-of-type {\n",
       "        vertical-align: middle;\n",
       "    }\n",
       "\n",
       "    .dataframe tbody tr th {\n",
       "        vertical-align: top;\n",
       "    }\n",
       "\n",
       "    .dataframe thead th {\n",
       "        text-align: right;\n",
       "    }\n",
       "</style>\n",
       "<table border=\"1\" class=\"dataframe\">\n",
       "  <thead>\n",
       "    <tr style=\"text-align: right;\">\n",
       "      <th></th>\n",
       "      <th>user_id</th>\n",
       "      <th>month</th>\n",
       "      <th>duration</th>\n",
       "      <th>calls_count</th>\n",
       "      <th>message_count</th>\n",
       "      <th>mb_used</th>\n",
       "      <th>age</th>\n",
       "      <th>churn_date</th>\n",
       "      <th>city</th>\n",
       "      <th>first_name</th>\n",
       "      <th>last_name</th>\n",
       "      <th>reg_date</th>\n",
       "      <th>tariff</th>\n",
       "      <th>messages_included</th>\n",
       "      <th>mb_per_month_included</th>\n",
       "      <th>minutes_included</th>\n",
       "      <th>rub_monthly_fee</th>\n",
       "      <th>rub_per_gb</th>\n",
       "      <th>rub_per_message</th>\n",
       "      <th>rub_per_minute</th>\n",
       "    </tr>\n",
       "  </thead>\n",
       "  <tbody>\n",
       "    <tr>\n",
       "      <td>0</td>\n",
       "      <td>1000</td>\n",
       "      <td>5.0</td>\n",
       "      <td>159.0</td>\n",
       "      <td>22.0</td>\n",
       "      <td>22.0</td>\n",
       "      <td>2253.49</td>\n",
       "      <td>52</td>\n",
       "      <td>NaT</td>\n",
       "      <td>Краснодар</td>\n",
       "      <td>Рафаил</td>\n",
       "      <td>Верещагин</td>\n",
       "      <td>2018-05-25</td>\n",
       "      <td>ultra</td>\n",
       "      <td>1000</td>\n",
       "      <td>30720</td>\n",
       "      <td>3000</td>\n",
       "      <td>1950</td>\n",
       "      <td>150</td>\n",
       "      <td>1</td>\n",
       "      <td>1</td>\n",
       "    </tr>\n",
       "    <tr>\n",
       "      <td>1</td>\n",
       "      <td>1000</td>\n",
       "      <td>6.0</td>\n",
       "      <td>172.0</td>\n",
       "      <td>43.0</td>\n",
       "      <td>60.0</td>\n",
       "      <td>23233.77</td>\n",
       "      <td>52</td>\n",
       "      <td>NaT</td>\n",
       "      <td>Краснодар</td>\n",
       "      <td>Рафаил</td>\n",
       "      <td>Верещагин</td>\n",
       "      <td>2018-05-25</td>\n",
       "      <td>ultra</td>\n",
       "      <td>1000</td>\n",
       "      <td>30720</td>\n",
       "      <td>3000</td>\n",
       "      <td>1950</td>\n",
       "      <td>150</td>\n",
       "      <td>1</td>\n",
       "      <td>1</td>\n",
       "    </tr>\n",
       "    <tr>\n",
       "      <td>2</td>\n",
       "      <td>1000</td>\n",
       "      <td>7.0</td>\n",
       "      <td>340.0</td>\n",
       "      <td>47.0</td>\n",
       "      <td>75.0</td>\n",
       "      <td>14003.64</td>\n",
       "      <td>52</td>\n",
       "      <td>NaT</td>\n",
       "      <td>Краснодар</td>\n",
       "      <td>Рафаил</td>\n",
       "      <td>Верещагин</td>\n",
       "      <td>2018-05-25</td>\n",
       "      <td>ultra</td>\n",
       "      <td>1000</td>\n",
       "      <td>30720</td>\n",
       "      <td>3000</td>\n",
       "      <td>1950</td>\n",
       "      <td>150</td>\n",
       "      <td>1</td>\n",
       "      <td>1</td>\n",
       "    </tr>\n",
       "    <tr>\n",
       "      <td>3</td>\n",
       "      <td>1000</td>\n",
       "      <td>8.0</td>\n",
       "      <td>408.0</td>\n",
       "      <td>52.0</td>\n",
       "      <td>81.0</td>\n",
       "      <td>14055.93</td>\n",
       "      <td>52</td>\n",
       "      <td>NaT</td>\n",
       "      <td>Краснодар</td>\n",
       "      <td>Рафаил</td>\n",
       "      <td>Верещагин</td>\n",
       "      <td>2018-05-25</td>\n",
       "      <td>ultra</td>\n",
       "      <td>1000</td>\n",
       "      <td>30720</td>\n",
       "      <td>3000</td>\n",
       "      <td>1950</td>\n",
       "      <td>150</td>\n",
       "      <td>1</td>\n",
       "      <td>1</td>\n",
       "    </tr>\n",
       "    <tr>\n",
       "      <td>4</td>\n",
       "      <td>1000</td>\n",
       "      <td>9.0</td>\n",
       "      <td>466.0</td>\n",
       "      <td>58.0</td>\n",
       "      <td>57.0</td>\n",
       "      <td>14568.91</td>\n",
       "      <td>52</td>\n",
       "      <td>NaT</td>\n",
       "      <td>Краснодар</td>\n",
       "      <td>Рафаил</td>\n",
       "      <td>Верещагин</td>\n",
       "      <td>2018-05-25</td>\n",
       "      <td>ultra</td>\n",
       "      <td>1000</td>\n",
       "      <td>30720</td>\n",
       "      <td>3000</td>\n",
       "      <td>1950</td>\n",
       "      <td>150</td>\n",
       "      <td>1</td>\n",
       "      <td>1</td>\n",
       "    </tr>\n",
       "  </tbody>\n",
       "</table>\n",
       "</div>"
      ],
      "text/plain": [
       "   user_id  month  duration  calls_count  message_count   mb_used  age  \\\n",
       "0     1000    5.0     159.0         22.0           22.0   2253.49   52   \n",
       "1     1000    6.0     172.0         43.0           60.0  23233.77   52   \n",
       "2     1000    7.0     340.0         47.0           75.0  14003.64   52   \n",
       "3     1000    8.0     408.0         52.0           81.0  14055.93   52   \n",
       "4     1000    9.0     466.0         58.0           57.0  14568.91   52   \n",
       "\n",
       "  churn_date       city first_name  last_name   reg_date tariff  \\\n",
       "0        NaT  Краснодар     Рафаил  Верещагин 2018-05-25  ultra   \n",
       "1        NaT  Краснодар     Рафаил  Верещагин 2018-05-25  ultra   \n",
       "2        NaT  Краснодар     Рафаил  Верещагин 2018-05-25  ultra   \n",
       "3        NaT  Краснодар     Рафаил  Верещагин 2018-05-25  ultra   \n",
       "4        NaT  Краснодар     Рафаил  Верещагин 2018-05-25  ultra   \n",
       "\n",
       "   messages_included  mb_per_month_included  minutes_included  \\\n",
       "0               1000                  30720              3000   \n",
       "1               1000                  30720              3000   \n",
       "2               1000                  30720              3000   \n",
       "3               1000                  30720              3000   \n",
       "4               1000                  30720              3000   \n",
       "\n",
       "   rub_monthly_fee  rub_per_gb  rub_per_message  rub_per_minute  \n",
       "0             1950         150                1               1  \n",
       "1             1950         150                1               1  \n",
       "2             1950         150                1               1  \n",
       "3             1950         150                1               1  \n",
       "4             1950         150                1               1  "
      ]
     },
     "execution_count": 42,
     "metadata": {},
     "output_type": "execute_result"
    }
   ],
   "source": [
    "df.head()"
   ]
  },
  {
   "cell_type": "markdown",
   "metadata": {},
   "source": [
    "Таблица с данными для анализа готова, исследуем ее и посмотрим на количество пропусков."
   ]
  },
  {
   "cell_type": "code",
   "execution_count": 43,
   "metadata": {},
   "outputs": [
    {
     "name": "stdout",
     "output_type": "stream",
     "text": [
      "<class 'pandas.core.frame.DataFrame'>\n",
      "Int64Index: 3216 entries, 0 to 3215\n",
      "Data columns (total 20 columns):\n",
      "user_id                  3216 non-null int64\n",
      "month                    3214 non-null float64\n",
      "duration                 3174 non-null float64\n",
      "calls_count              3174 non-null float64\n",
      "message_count            2717 non-null float64\n",
      "mb_used                  3203 non-null float64\n",
      "age                      3216 non-null int64\n",
      "churn_date               189 non-null datetime64[ns]\n",
      "city                     3216 non-null object\n",
      "first_name               3216 non-null object\n",
      "last_name                3216 non-null object\n",
      "reg_date                 3216 non-null datetime64[ns]\n",
      "tariff                   3216 non-null object\n",
      "messages_included        3216 non-null int64\n",
      "mb_per_month_included    3216 non-null int64\n",
      "minutes_included         3216 non-null int64\n",
      "rub_monthly_fee          3216 non-null int64\n",
      "rub_per_gb               3216 non-null int64\n",
      "rub_per_message          3216 non-null int64\n",
      "rub_per_minute           3216 non-null int64\n",
      "dtypes: datetime64[ns](2), float64(5), int64(9), object(4)\n",
      "memory usage: 527.6+ KB\n"
     ]
    }
   ],
   "source": [
    "df.info()"
   ]
  },
  {
   "cell_type": "code",
   "execution_count": 44,
   "metadata": {
    "scrolled": true
   },
   "outputs": [
    {
     "data": {
      "text/html": [
       "<style  type=\"text/css\" >\n",
       "    #T_e3bbbfc6_25b7_11ec_a012_02420a393204row0_col0 {\n",
       "            background-color:  #3b4cc0;\n",
       "            color:  #f1f1f1;\n",
       "        }    #T_e3bbbfc6_25b7_11ec_a012_02420a393204row1_col0 {\n",
       "            background-color:  #3b4cc0;\n",
       "            color:  #f1f1f1;\n",
       "        }    #T_e3bbbfc6_25b7_11ec_a012_02420a393204row2_col0 {\n",
       "            background-color:  #3e51c5;\n",
       "            color:  #f1f1f1;\n",
       "        }    #T_e3bbbfc6_25b7_11ec_a012_02420a393204row3_col0 {\n",
       "            background-color:  #3e51c5;\n",
       "            color:  #f1f1f1;\n",
       "        }    #T_e3bbbfc6_25b7_11ec_a012_02420a393204row4_col0 {\n",
       "            background-color:  #6f92f3;\n",
       "            color:  #000000;\n",
       "        }    #T_e3bbbfc6_25b7_11ec_a012_02420a393204row5_col0 {\n",
       "            background-color:  #3c4ec2;\n",
       "            color:  #f1f1f1;\n",
       "        }    #T_e3bbbfc6_25b7_11ec_a012_02420a393204row6_col0 {\n",
       "            background-color:  #3b4cc0;\n",
       "            color:  #f1f1f1;\n",
       "        }    #T_e3bbbfc6_25b7_11ec_a012_02420a393204row7_col0 {\n",
       "            background-color:  #b40426;\n",
       "            color:  #f1f1f1;\n",
       "        }    #T_e3bbbfc6_25b7_11ec_a012_02420a393204row8_col0 {\n",
       "            background-color:  #3b4cc0;\n",
       "            color:  #f1f1f1;\n",
       "        }    #T_e3bbbfc6_25b7_11ec_a012_02420a393204row9_col0 {\n",
       "            background-color:  #3b4cc0;\n",
       "            color:  #f1f1f1;\n",
       "        }    #T_e3bbbfc6_25b7_11ec_a012_02420a393204row10_col0 {\n",
       "            background-color:  #3b4cc0;\n",
       "            color:  #f1f1f1;\n",
       "        }    #T_e3bbbfc6_25b7_11ec_a012_02420a393204row11_col0 {\n",
       "            background-color:  #3b4cc0;\n",
       "            color:  #f1f1f1;\n",
       "        }    #T_e3bbbfc6_25b7_11ec_a012_02420a393204row12_col0 {\n",
       "            background-color:  #3b4cc0;\n",
       "            color:  #f1f1f1;\n",
       "        }    #T_e3bbbfc6_25b7_11ec_a012_02420a393204row13_col0 {\n",
       "            background-color:  #3b4cc0;\n",
       "            color:  #f1f1f1;\n",
       "        }    #T_e3bbbfc6_25b7_11ec_a012_02420a393204row14_col0 {\n",
       "            background-color:  #3b4cc0;\n",
       "            color:  #f1f1f1;\n",
       "        }    #T_e3bbbfc6_25b7_11ec_a012_02420a393204row15_col0 {\n",
       "            background-color:  #3b4cc0;\n",
       "            color:  #f1f1f1;\n",
       "        }    #T_e3bbbfc6_25b7_11ec_a012_02420a393204row16_col0 {\n",
       "            background-color:  #3b4cc0;\n",
       "            color:  #f1f1f1;\n",
       "        }    #T_e3bbbfc6_25b7_11ec_a012_02420a393204row17_col0 {\n",
       "            background-color:  #3b4cc0;\n",
       "            color:  #f1f1f1;\n",
       "        }    #T_e3bbbfc6_25b7_11ec_a012_02420a393204row18_col0 {\n",
       "            background-color:  #3b4cc0;\n",
       "            color:  #f1f1f1;\n",
       "        }    #T_e3bbbfc6_25b7_11ec_a012_02420a393204row19_col0 {\n",
       "            background-color:  #3b4cc0;\n",
       "            color:  #f1f1f1;\n",
       "        }</style><table id=\"T_e3bbbfc6_25b7_11ec_a012_02420a393204\" ><thead>    <tr>        <th class=\"blank level0\" ></th>        <th class=\"col_heading level0 col0\" >0</th>    </tr></thead><tbody>\n",
       "                <tr>\n",
       "                        <th id=\"T_e3bbbfc6_25b7_11ec_a012_02420a393204level0_row0\" class=\"row_heading level0 row0\" >user_id</th>\n",
       "                        <td id=\"T_e3bbbfc6_25b7_11ec_a012_02420a393204row0_col0\" class=\"data row0 col0\" >0</td>\n",
       "            </tr>\n",
       "            <tr>\n",
       "                        <th id=\"T_e3bbbfc6_25b7_11ec_a012_02420a393204level0_row1\" class=\"row_heading level0 row1\" >month</th>\n",
       "                        <td id=\"T_e3bbbfc6_25b7_11ec_a012_02420a393204row1_col0\" class=\"data row1 col0\" >0.06</td>\n",
       "            </tr>\n",
       "            <tr>\n",
       "                        <th id=\"T_e3bbbfc6_25b7_11ec_a012_02420a393204level0_row2\" class=\"row_heading level0 row2\" >duration</th>\n",
       "                        <td id=\"T_e3bbbfc6_25b7_11ec_a012_02420a393204row2_col0\" class=\"data row2 col0\" >1.31</td>\n",
       "            </tr>\n",
       "            <tr>\n",
       "                        <th id=\"T_e3bbbfc6_25b7_11ec_a012_02420a393204level0_row3\" class=\"row_heading level0 row3\" >calls_count</th>\n",
       "                        <td id=\"T_e3bbbfc6_25b7_11ec_a012_02420a393204row3_col0\" class=\"data row3 col0\" >1.31</td>\n",
       "            </tr>\n",
       "            <tr>\n",
       "                        <th id=\"T_e3bbbfc6_25b7_11ec_a012_02420a393204level0_row4\" class=\"row_heading level0 row4\" >message_count</th>\n",
       "                        <td id=\"T_e3bbbfc6_25b7_11ec_a012_02420a393204row4_col0\" class=\"data row4 col0\" >15.52</td>\n",
       "            </tr>\n",
       "            <tr>\n",
       "                        <th id=\"T_e3bbbfc6_25b7_11ec_a012_02420a393204level0_row5\" class=\"row_heading level0 row5\" >mb_used</th>\n",
       "                        <td id=\"T_e3bbbfc6_25b7_11ec_a012_02420a393204row5_col0\" class=\"data row5 col0\" >0.4</td>\n",
       "            </tr>\n",
       "            <tr>\n",
       "                        <th id=\"T_e3bbbfc6_25b7_11ec_a012_02420a393204level0_row6\" class=\"row_heading level0 row6\" >age</th>\n",
       "                        <td id=\"T_e3bbbfc6_25b7_11ec_a012_02420a393204row6_col0\" class=\"data row6 col0\" >0</td>\n",
       "            </tr>\n",
       "            <tr>\n",
       "                        <th id=\"T_e3bbbfc6_25b7_11ec_a012_02420a393204level0_row7\" class=\"row_heading level0 row7\" >churn_date</th>\n",
       "                        <td id=\"T_e3bbbfc6_25b7_11ec_a012_02420a393204row7_col0\" class=\"data row7 col0\" >94.12</td>\n",
       "            </tr>\n",
       "            <tr>\n",
       "                        <th id=\"T_e3bbbfc6_25b7_11ec_a012_02420a393204level0_row8\" class=\"row_heading level0 row8\" >city</th>\n",
       "                        <td id=\"T_e3bbbfc6_25b7_11ec_a012_02420a393204row8_col0\" class=\"data row8 col0\" >0</td>\n",
       "            </tr>\n",
       "            <tr>\n",
       "                        <th id=\"T_e3bbbfc6_25b7_11ec_a012_02420a393204level0_row9\" class=\"row_heading level0 row9\" >first_name</th>\n",
       "                        <td id=\"T_e3bbbfc6_25b7_11ec_a012_02420a393204row9_col0\" class=\"data row9 col0\" >0</td>\n",
       "            </tr>\n",
       "            <tr>\n",
       "                        <th id=\"T_e3bbbfc6_25b7_11ec_a012_02420a393204level0_row10\" class=\"row_heading level0 row10\" >last_name</th>\n",
       "                        <td id=\"T_e3bbbfc6_25b7_11ec_a012_02420a393204row10_col0\" class=\"data row10 col0\" >0</td>\n",
       "            </tr>\n",
       "            <tr>\n",
       "                        <th id=\"T_e3bbbfc6_25b7_11ec_a012_02420a393204level0_row11\" class=\"row_heading level0 row11\" >reg_date</th>\n",
       "                        <td id=\"T_e3bbbfc6_25b7_11ec_a012_02420a393204row11_col0\" class=\"data row11 col0\" >0</td>\n",
       "            </tr>\n",
       "            <tr>\n",
       "                        <th id=\"T_e3bbbfc6_25b7_11ec_a012_02420a393204level0_row12\" class=\"row_heading level0 row12\" >tariff</th>\n",
       "                        <td id=\"T_e3bbbfc6_25b7_11ec_a012_02420a393204row12_col0\" class=\"data row12 col0\" >0</td>\n",
       "            </tr>\n",
       "            <tr>\n",
       "                        <th id=\"T_e3bbbfc6_25b7_11ec_a012_02420a393204level0_row13\" class=\"row_heading level0 row13\" >messages_included</th>\n",
       "                        <td id=\"T_e3bbbfc6_25b7_11ec_a012_02420a393204row13_col0\" class=\"data row13 col0\" >0</td>\n",
       "            </tr>\n",
       "            <tr>\n",
       "                        <th id=\"T_e3bbbfc6_25b7_11ec_a012_02420a393204level0_row14\" class=\"row_heading level0 row14\" >mb_per_month_included</th>\n",
       "                        <td id=\"T_e3bbbfc6_25b7_11ec_a012_02420a393204row14_col0\" class=\"data row14 col0\" >0</td>\n",
       "            </tr>\n",
       "            <tr>\n",
       "                        <th id=\"T_e3bbbfc6_25b7_11ec_a012_02420a393204level0_row15\" class=\"row_heading level0 row15\" >minutes_included</th>\n",
       "                        <td id=\"T_e3bbbfc6_25b7_11ec_a012_02420a393204row15_col0\" class=\"data row15 col0\" >0</td>\n",
       "            </tr>\n",
       "            <tr>\n",
       "                        <th id=\"T_e3bbbfc6_25b7_11ec_a012_02420a393204level0_row16\" class=\"row_heading level0 row16\" >rub_monthly_fee</th>\n",
       "                        <td id=\"T_e3bbbfc6_25b7_11ec_a012_02420a393204row16_col0\" class=\"data row16 col0\" >0</td>\n",
       "            </tr>\n",
       "            <tr>\n",
       "                        <th id=\"T_e3bbbfc6_25b7_11ec_a012_02420a393204level0_row17\" class=\"row_heading level0 row17\" >rub_per_gb</th>\n",
       "                        <td id=\"T_e3bbbfc6_25b7_11ec_a012_02420a393204row17_col0\" class=\"data row17 col0\" >0</td>\n",
       "            </tr>\n",
       "            <tr>\n",
       "                        <th id=\"T_e3bbbfc6_25b7_11ec_a012_02420a393204level0_row18\" class=\"row_heading level0 row18\" >rub_per_message</th>\n",
       "                        <td id=\"T_e3bbbfc6_25b7_11ec_a012_02420a393204row18_col0\" class=\"data row18 col0\" >0</td>\n",
       "            </tr>\n",
       "            <tr>\n",
       "                        <th id=\"T_e3bbbfc6_25b7_11ec_a012_02420a393204level0_row19\" class=\"row_heading level0 row19\" >rub_per_minute</th>\n",
       "                        <td id=\"T_e3bbbfc6_25b7_11ec_a012_02420a393204row19_col0\" class=\"data row19 col0\" >0</td>\n",
       "            </tr>\n",
       "    </tbody></table>"
      ],
      "text/plain": [
       "<pandas.io.formats.style.Styler at 0x7f2d0fb90950>"
      ]
     },
     "execution_count": 44,
     "metadata": {},
     "output_type": "execute_result"
    }
   ],
   "source": [
    "pd.DataFrame(round((df.isna().mean()*100),2)).style.background_gradient('coolwarm')"
   ]
  },
  {
   "cell_type": "markdown",
   "metadata": {},
   "source": [
    "Для длительности звонков, количества звонков, трафика и смс выполним замену пропусков на 0"
   ]
  },
  {
   "cell_type": "code",
   "execution_count": 45,
   "metadata": {},
   "outputs": [],
   "source": [
    "df['message_count'] = df['message_count'].fillna(0)\n",
    "df['mb_used'] = df['mb_used'].fillna(0)\n",
    "df['duration'] = df['duration'].fillna(0)\n",
    "df['calls_count'] = df['calls_count'].fillna(0)"
   ]
  },
  {
   "cell_type": "code",
   "execution_count": 46,
   "metadata": {},
   "outputs": [
    {
     "data": {
      "text/plain": [
       "user_id                     0\n",
       "month                       2\n",
       "duration                    0\n",
       "calls_count                 0\n",
       "message_count               0\n",
       "mb_used                     0\n",
       "age                         0\n",
       "churn_date               3027\n",
       "city                        0\n",
       "first_name                  0\n",
       "last_name                   0\n",
       "reg_date                    0\n",
       "tariff                      0\n",
       "messages_included           0\n",
       "mb_per_month_included       0\n",
       "minutes_included            0\n",
       "rub_monthly_fee             0\n",
       "rub_per_gb                  0\n",
       "rub_per_message             0\n",
       "rub_per_minute              0\n",
       "dtype: int64"
      ]
     },
     "execution_count": 46,
     "metadata": {},
     "output_type": "execute_result"
    }
   ],
   "source": [
    "df.isna().sum()"
   ]
  },
  {
   "cell_type": "markdown",
   "metadata": {},
   "source": [
    "Добавим в таблицу помесячную выручку с каждого пользователя. Для этого подсчитаем выручку сверх абонентской платы, которую платили абоненты за месяц, и прибавим ее к абонентской плате. Для подсчета выручки сверх абонентской платы создадим функцию."
   ]
  },
  {
   "cell_type": "code",
   "execution_count": 47,
   "metadata": {},
   "outputs": [],
   "source": [
    "def revenue(row):\n",
    "    sms = (row['message_count'] - row['messages_included']) * row['rub_per_message']\n",
    "    mins = (row['duration'] - row['minutes_included']) * row['rub_per_minute']\n",
    "    mbs = np.floor((row['mb_used'] - row['mb_per_month_included']) * row['rub_per_gb'] / 1024)\n",
    "    total = 0\n",
    "    for i in [sms, mins, mbs]:\n",
    "        if i > 0:\n",
    "            total += i\n",
    "    return total"
   ]
  },
  {
   "cell_type": "code",
   "execution_count": 48,
   "metadata": {},
   "outputs": [],
   "source": [
    "df['revenue'] = df.apply(lambda x: revenue(x), axis=1)"
   ]
  },
  {
   "cell_type": "code",
   "execution_count": 49,
   "metadata": {},
   "outputs": [],
   "source": [
    "df['total_revenue'] = df['rub_monthly_fee'] + df['revenue']"
   ]
  },
  {
   "cell_type": "code",
   "execution_count": 50,
   "metadata": {},
   "outputs": [
    {
     "data": {
      "text/plain": [
       "count    3216.000000\n",
       "mean     1484.272699\n",
       "std       782.797714\n",
       "min       550.000000\n",
       "25%       691.000000\n",
       "50%      1557.500000\n",
       "75%      1950.000000\n",
       "max      6699.000000\n",
       "Name: total_revenue, dtype: float64"
      ]
     },
     "execution_count": 50,
     "metadata": {},
     "output_type": "execute_result"
    }
   ],
   "source": [
    "df['total_revenue'].describe()"
   ]
  },
  {
   "cell_type": "code",
   "execution_count": 51,
   "metadata": {},
   "outputs": [
    {
     "data": {
      "text/html": [
       "<div>\n",
       "<style scoped>\n",
       "    .dataframe tbody tr th:only-of-type {\n",
       "        vertical-align: middle;\n",
       "    }\n",
       "\n",
       "    .dataframe tbody tr th {\n",
       "        vertical-align: top;\n",
       "    }\n",
       "\n",
       "    .dataframe thead th {\n",
       "        text-align: right;\n",
       "    }\n",
       "</style>\n",
       "<table border=\"1\" class=\"dataframe\">\n",
       "  <thead>\n",
       "    <tr style=\"text-align: right;\">\n",
       "      <th></th>\n",
       "      <th>user_id</th>\n",
       "      <th>month</th>\n",
       "      <th>duration</th>\n",
       "      <th>calls_count</th>\n",
       "      <th>message_count</th>\n",
       "      <th>mb_used</th>\n",
       "      <th>age</th>\n",
       "      <th>churn_date</th>\n",
       "      <th>city</th>\n",
       "      <th>first_name</th>\n",
       "      <th>last_name</th>\n",
       "      <th>reg_date</th>\n",
       "      <th>tariff</th>\n",
       "      <th>messages_included</th>\n",
       "      <th>mb_per_month_included</th>\n",
       "      <th>minutes_included</th>\n",
       "      <th>rub_monthly_fee</th>\n",
       "      <th>rub_per_gb</th>\n",
       "      <th>rub_per_message</th>\n",
       "      <th>rub_per_minute</th>\n",
       "      <th>revenue</th>\n",
       "      <th>total_revenue</th>\n",
       "    </tr>\n",
       "  </thead>\n",
       "  <tbody>\n",
       "    <tr>\n",
       "      <td>0</td>\n",
       "      <td>1000</td>\n",
       "      <td>5.0</td>\n",
       "      <td>159.0</td>\n",
       "      <td>22.0</td>\n",
       "      <td>22.0</td>\n",
       "      <td>2253.49</td>\n",
       "      <td>52</td>\n",
       "      <td>NaT</td>\n",
       "      <td>Краснодар</td>\n",
       "      <td>Рафаил</td>\n",
       "      <td>Верещагин</td>\n",
       "      <td>2018-05-25</td>\n",
       "      <td>ultra</td>\n",
       "      <td>1000</td>\n",
       "      <td>30720</td>\n",
       "      <td>3000</td>\n",
       "      <td>1950</td>\n",
       "      <td>150</td>\n",
       "      <td>1</td>\n",
       "      <td>1</td>\n",
       "      <td>0.0</td>\n",
       "      <td>1950.0</td>\n",
       "    </tr>\n",
       "    <tr>\n",
       "      <td>1</td>\n",
       "      <td>1000</td>\n",
       "      <td>6.0</td>\n",
       "      <td>172.0</td>\n",
       "      <td>43.0</td>\n",
       "      <td>60.0</td>\n",
       "      <td>23233.77</td>\n",
       "      <td>52</td>\n",
       "      <td>NaT</td>\n",
       "      <td>Краснодар</td>\n",
       "      <td>Рафаил</td>\n",
       "      <td>Верещагин</td>\n",
       "      <td>2018-05-25</td>\n",
       "      <td>ultra</td>\n",
       "      <td>1000</td>\n",
       "      <td>30720</td>\n",
       "      <td>3000</td>\n",
       "      <td>1950</td>\n",
       "      <td>150</td>\n",
       "      <td>1</td>\n",
       "      <td>1</td>\n",
       "      <td>0.0</td>\n",
       "      <td>1950.0</td>\n",
       "    </tr>\n",
       "    <tr>\n",
       "      <td>2</td>\n",
       "      <td>1000</td>\n",
       "      <td>7.0</td>\n",
       "      <td>340.0</td>\n",
       "      <td>47.0</td>\n",
       "      <td>75.0</td>\n",
       "      <td>14003.64</td>\n",
       "      <td>52</td>\n",
       "      <td>NaT</td>\n",
       "      <td>Краснодар</td>\n",
       "      <td>Рафаил</td>\n",
       "      <td>Верещагин</td>\n",
       "      <td>2018-05-25</td>\n",
       "      <td>ultra</td>\n",
       "      <td>1000</td>\n",
       "      <td>30720</td>\n",
       "      <td>3000</td>\n",
       "      <td>1950</td>\n",
       "      <td>150</td>\n",
       "      <td>1</td>\n",
       "      <td>1</td>\n",
       "      <td>0.0</td>\n",
       "      <td>1950.0</td>\n",
       "    </tr>\n",
       "    <tr>\n",
       "      <td>3</td>\n",
       "      <td>1000</td>\n",
       "      <td>8.0</td>\n",
       "      <td>408.0</td>\n",
       "      <td>52.0</td>\n",
       "      <td>81.0</td>\n",
       "      <td>14055.93</td>\n",
       "      <td>52</td>\n",
       "      <td>NaT</td>\n",
       "      <td>Краснодар</td>\n",
       "      <td>Рафаил</td>\n",
       "      <td>Верещагин</td>\n",
       "      <td>2018-05-25</td>\n",
       "      <td>ultra</td>\n",
       "      <td>1000</td>\n",
       "      <td>30720</td>\n",
       "      <td>3000</td>\n",
       "      <td>1950</td>\n",
       "      <td>150</td>\n",
       "      <td>1</td>\n",
       "      <td>1</td>\n",
       "      <td>0.0</td>\n",
       "      <td>1950.0</td>\n",
       "    </tr>\n",
       "    <tr>\n",
       "      <td>4</td>\n",
       "      <td>1000</td>\n",
       "      <td>9.0</td>\n",
       "      <td>466.0</td>\n",
       "      <td>58.0</td>\n",
       "      <td>57.0</td>\n",
       "      <td>14568.91</td>\n",
       "      <td>52</td>\n",
       "      <td>NaT</td>\n",
       "      <td>Краснодар</td>\n",
       "      <td>Рафаил</td>\n",
       "      <td>Верещагин</td>\n",
       "      <td>2018-05-25</td>\n",
       "      <td>ultra</td>\n",
       "      <td>1000</td>\n",
       "      <td>30720</td>\n",
       "      <td>3000</td>\n",
       "      <td>1950</td>\n",
       "      <td>150</td>\n",
       "      <td>1</td>\n",
       "      <td>1</td>\n",
       "      <td>0.0</td>\n",
       "      <td>1950.0</td>\n",
       "    </tr>\n",
       "  </tbody>\n",
       "</table>\n",
       "</div>"
      ],
      "text/plain": [
       "   user_id  month  duration  calls_count  message_count   mb_used  age  \\\n",
       "0     1000    5.0     159.0         22.0           22.0   2253.49   52   \n",
       "1     1000    6.0     172.0         43.0           60.0  23233.77   52   \n",
       "2     1000    7.0     340.0         47.0           75.0  14003.64   52   \n",
       "3     1000    8.0     408.0         52.0           81.0  14055.93   52   \n",
       "4     1000    9.0     466.0         58.0           57.0  14568.91   52   \n",
       "\n",
       "  churn_date       city first_name  last_name   reg_date tariff  \\\n",
       "0        NaT  Краснодар     Рафаил  Верещагин 2018-05-25  ultra   \n",
       "1        NaT  Краснодар     Рафаил  Верещагин 2018-05-25  ultra   \n",
       "2        NaT  Краснодар     Рафаил  Верещагин 2018-05-25  ultra   \n",
       "3        NaT  Краснодар     Рафаил  Верещагин 2018-05-25  ultra   \n",
       "4        NaT  Краснодар     Рафаил  Верещагин 2018-05-25  ultra   \n",
       "\n",
       "   messages_included  mb_per_month_included  minutes_included  \\\n",
       "0               1000                  30720              3000   \n",
       "1               1000                  30720              3000   \n",
       "2               1000                  30720              3000   \n",
       "3               1000                  30720              3000   \n",
       "4               1000                  30720              3000   \n",
       "\n",
       "   rub_monthly_fee  rub_per_gb  rub_per_message  rub_per_minute  revenue  \\\n",
       "0             1950         150                1               1      0.0   \n",
       "1             1950         150                1               1      0.0   \n",
       "2             1950         150                1               1      0.0   \n",
       "3             1950         150                1               1      0.0   \n",
       "4             1950         150                1               1      0.0   \n",
       "\n",
       "   total_revenue  \n",
       "0         1950.0  \n",
       "1         1950.0  \n",
       "2         1950.0  \n",
       "3         1950.0  \n",
       "4         1950.0  "
      ]
     },
     "execution_count": 51,
     "metadata": {},
     "output_type": "execute_result"
    }
   ],
   "source": [
    "df.head()"
   ]
  },
  {
   "cell_type": "code",
   "execution_count": 52,
   "metadata": {},
   "outputs": [
    {
     "data": {
      "text/html": [
       "<div>\n",
       "<style scoped>\n",
       "    .dataframe tbody tr th:only-of-type {\n",
       "        vertical-align: middle;\n",
       "    }\n",
       "\n",
       "    .dataframe tbody tr th {\n",
       "        vertical-align: top;\n",
       "    }\n",
       "\n",
       "    .dataframe thead th {\n",
       "        text-align: right;\n",
       "    }\n",
       "</style>\n",
       "<table border=\"1\" class=\"dataframe\">\n",
       "  <thead>\n",
       "    <tr style=\"text-align: right;\">\n",
       "      <th></th>\n",
       "      <th>user_id</th>\n",
       "      <th>month</th>\n",
       "      <th>duration</th>\n",
       "      <th>calls_count</th>\n",
       "      <th>message_count</th>\n",
       "      <th>mb_used</th>\n",
       "      <th>age</th>\n",
       "      <th>messages_included</th>\n",
       "      <th>mb_per_month_included</th>\n",
       "      <th>minutes_included</th>\n",
       "      <th>rub_monthly_fee</th>\n",
       "      <th>rub_per_gb</th>\n",
       "      <th>rub_per_message</th>\n",
       "      <th>rub_per_minute</th>\n",
       "      <th>revenue</th>\n",
       "      <th>total_revenue</th>\n",
       "    </tr>\n",
       "  </thead>\n",
       "  <tbody>\n",
       "    <tr>\n",
       "      <td>count</td>\n",
       "      <td>3216.000000</td>\n",
       "      <td>3214.000000</td>\n",
       "      <td>3216.000000</td>\n",
       "      <td>3216.000000</td>\n",
       "      <td>3216.000000</td>\n",
       "      <td>3216.000000</td>\n",
       "      <td>3216.000000</td>\n",
       "      <td>3216.000000</td>\n",
       "      <td>3216.000000</td>\n",
       "      <td>3216.000000</td>\n",
       "      <td>3216.000000</td>\n",
       "      <td>3216.000000</td>\n",
       "      <td>3216.000000</td>\n",
       "      <td>3216.000000</td>\n",
       "      <td>3216.000000</td>\n",
       "      <td>3216.000000</td>\n",
       "    </tr>\n",
       "    <tr>\n",
       "      <td>mean</td>\n",
       "      <td>1251.588930</td>\n",
       "      <td>8.317362</td>\n",
       "      <td>450.964241</td>\n",
       "      <td>62.999689</td>\n",
       "      <td>38.257463</td>\n",
       "      <td>17196.911608</td>\n",
       "      <td>46.643968</td>\n",
       "      <td>341.262438</td>\n",
       "      <td>20069.253731</td>\n",
       "      <td>1266.480100</td>\n",
       "      <td>979.228856</td>\n",
       "      <td>184.670398</td>\n",
       "      <td>2.386816</td>\n",
       "      <td>2.386816</td>\n",
       "      <td>505.043843</td>\n",
       "      <td>1484.272699</td>\n",
       "    </tr>\n",
       "    <tr>\n",
       "      <td>std</td>\n",
       "      <td>144.645928</td>\n",
       "      <td>2.905413</td>\n",
       "      <td>242.096312</td>\n",
       "      <td>33.263185</td>\n",
       "      <td>36.149684</td>\n",
       "      <td>7580.754906</td>\n",
       "      <td>16.581233</td>\n",
       "      <td>438.092669</td>\n",
       "      <td>7083.266729</td>\n",
       "      <td>1152.875444</td>\n",
       "      <td>645.610249</td>\n",
       "      <td>23.057509</td>\n",
       "      <td>0.922300</td>\n",
       "      <td>0.922300</td>\n",
       "      <td>731.751977</td>\n",
       "      <td>782.797714</td>\n",
       "    </tr>\n",
       "    <tr>\n",
       "      <td>min</td>\n",
       "      <td>1000.000000</td>\n",
       "      <td>1.000000</td>\n",
       "      <td>0.000000</td>\n",
       "      <td>0.000000</td>\n",
       "      <td>0.000000</td>\n",
       "      <td>0.000000</td>\n",
       "      <td>18.000000</td>\n",
       "      <td>50.000000</td>\n",
       "      <td>15360.000000</td>\n",
       "      <td>500.000000</td>\n",
       "      <td>550.000000</td>\n",
       "      <td>150.000000</td>\n",
       "      <td>1.000000</td>\n",
       "      <td>1.000000</td>\n",
       "      <td>0.000000</td>\n",
       "      <td>550.000000</td>\n",
       "    </tr>\n",
       "    <tr>\n",
       "      <td>25%</td>\n",
       "      <td>1125.000000</td>\n",
       "      <td>6.000000</td>\n",
       "      <td>282.000000</td>\n",
       "      <td>40.000000</td>\n",
       "      <td>9.000000</td>\n",
       "      <td>12478.765000</td>\n",
       "      <td>32.000000</td>\n",
       "      <td>50.000000</td>\n",
       "      <td>15360.000000</td>\n",
       "      <td>500.000000</td>\n",
       "      <td>550.000000</td>\n",
       "      <td>150.000000</td>\n",
       "      <td>1.000000</td>\n",
       "      <td>1.000000</td>\n",
       "      <td>0.000000</td>\n",
       "      <td>691.000000</td>\n",
       "    </tr>\n",
       "    <tr>\n",
       "      <td>50%</td>\n",
       "      <td>1253.000000</td>\n",
       "      <td>9.000000</td>\n",
       "      <td>443.000000</td>\n",
       "      <td>62.000000</td>\n",
       "      <td>30.000000</td>\n",
       "      <td>16937.820000</td>\n",
       "      <td>46.000000</td>\n",
       "      <td>50.000000</td>\n",
       "      <td>15360.000000</td>\n",
       "      <td>500.000000</td>\n",
       "      <td>550.000000</td>\n",
       "      <td>200.000000</td>\n",
       "      <td>3.000000</td>\n",
       "      <td>3.000000</td>\n",
       "      <td>103.500000</td>\n",
       "      <td>1557.500000</td>\n",
       "    </tr>\n",
       "    <tr>\n",
       "      <td>75%</td>\n",
       "      <td>1378.250000</td>\n",
       "      <td>11.000000</td>\n",
       "      <td>589.000000</td>\n",
       "      <td>82.000000</td>\n",
       "      <td>57.000000</td>\n",
       "      <td>21422.375000</td>\n",
       "      <td>62.000000</td>\n",
       "      <td>1000.000000</td>\n",
       "      <td>30720.000000</td>\n",
       "      <td>3000.000000</td>\n",
       "      <td>1950.000000</td>\n",
       "      <td>200.000000</td>\n",
       "      <td>3.000000</td>\n",
       "      <td>3.000000</td>\n",
       "      <td>835.000000</td>\n",
       "      <td>1950.000000</td>\n",
       "    </tr>\n",
       "    <tr>\n",
       "      <td>max</td>\n",
       "      <td>1499.000000</td>\n",
       "      <td>12.000000</td>\n",
       "      <td>1673.000000</td>\n",
       "      <td>244.000000</td>\n",
       "      <td>224.000000</td>\n",
       "      <td>49745.690000</td>\n",
       "      <td>75.000000</td>\n",
       "      <td>1000.000000</td>\n",
       "      <td>30720.000000</td>\n",
       "      <td>3000.000000</td>\n",
       "      <td>1950.000000</td>\n",
       "      <td>200.000000</td>\n",
       "      <td>3.000000</td>\n",
       "      <td>3.000000</td>\n",
       "      <td>6149.000000</td>\n",
       "      <td>6699.000000</td>\n",
       "    </tr>\n",
       "  </tbody>\n",
       "</table>\n",
       "</div>"
      ],
      "text/plain": [
       "           user_id        month     duration  calls_count  message_count  \\\n",
       "count  3216.000000  3214.000000  3216.000000  3216.000000    3216.000000   \n",
       "mean   1251.588930     8.317362   450.964241    62.999689      38.257463   \n",
       "std     144.645928     2.905413   242.096312    33.263185      36.149684   \n",
       "min    1000.000000     1.000000     0.000000     0.000000       0.000000   \n",
       "25%    1125.000000     6.000000   282.000000    40.000000       9.000000   \n",
       "50%    1253.000000     9.000000   443.000000    62.000000      30.000000   \n",
       "75%    1378.250000    11.000000   589.000000    82.000000      57.000000   \n",
       "max    1499.000000    12.000000  1673.000000   244.000000     224.000000   \n",
       "\n",
       "            mb_used          age  messages_included  mb_per_month_included  \\\n",
       "count   3216.000000  3216.000000        3216.000000            3216.000000   \n",
       "mean   17196.911608    46.643968         341.262438           20069.253731   \n",
       "std     7580.754906    16.581233         438.092669            7083.266729   \n",
       "min        0.000000    18.000000          50.000000           15360.000000   \n",
       "25%    12478.765000    32.000000          50.000000           15360.000000   \n",
       "50%    16937.820000    46.000000          50.000000           15360.000000   \n",
       "75%    21422.375000    62.000000        1000.000000           30720.000000   \n",
       "max    49745.690000    75.000000        1000.000000           30720.000000   \n",
       "\n",
       "       minutes_included  rub_monthly_fee   rub_per_gb  rub_per_message  \\\n",
       "count       3216.000000      3216.000000  3216.000000      3216.000000   \n",
       "mean        1266.480100       979.228856   184.670398         2.386816   \n",
       "std         1152.875444       645.610249    23.057509         0.922300   \n",
       "min          500.000000       550.000000   150.000000         1.000000   \n",
       "25%          500.000000       550.000000   150.000000         1.000000   \n",
       "50%          500.000000       550.000000   200.000000         3.000000   \n",
       "75%         3000.000000      1950.000000   200.000000         3.000000   \n",
       "max         3000.000000      1950.000000   200.000000         3.000000   \n",
       "\n",
       "       rub_per_minute      revenue  total_revenue  \n",
       "count     3216.000000  3216.000000    3216.000000  \n",
       "mean         2.386816   505.043843    1484.272699  \n",
       "std          0.922300   731.751977     782.797714  \n",
       "min          1.000000     0.000000     550.000000  \n",
       "25%          1.000000     0.000000     691.000000  \n",
       "50%          3.000000   103.500000    1557.500000  \n",
       "75%          3.000000   835.000000    1950.000000  \n",
       "max          3.000000  6149.000000    6699.000000  "
      ]
     },
     "execution_count": 52,
     "metadata": {},
     "output_type": "execute_result"
    }
   ],
   "source": [
    "df.describe()"
   ]
  },
  {
   "cell_type": "markdown",
   "metadata": {},
   "source": [
    "Данные готовы, приступаем к анализу."
   ]
  },
  {
   "cell_type": "markdown",
   "metadata": {},
   "source": [
    "##  Анализ данных"
   ]
  },
  {
   "cell_type": "markdown",
   "metadata": {},
   "source": [
    "Построим графики распределения количества израсходованного трафика, смс, а также длительности звонков на каждом тарифе. Также для каждой из этих метрик создадим график близости к нормальному распределению. В каждом блоке графиков сначала будут идти графики для тарифа Smart, а затем для тарифа Ultra."
   ]
  },
  {
   "cell_type": "code",
   "execution_count": 53,
   "metadata": {},
   "outputs": [],
   "source": [
    "smart = df.query('tariff == \"smart\"')[['mb_used']].astype('int')\n",
    "ultra = df.query('tariff == \"ultra\"')[['mb_used']].astype('int')"
   ]
  },
  {
   "cell_type": "code",
   "execution_count": 54,
   "metadata": {},
   "outputs": [],
   "source": [
    "def my_bins(df,value):\n",
    "    '''\n",
    "    Сделаем функцию которая отобразит нужное количество корзин \n",
    "    '''    \n",
    "    if df[value].max() > 100:\n",
    "        return 50\n",
    "    elif df[value].max() > 500:\n",
    "        return  100\n",
    "    elif df[value].max() > 1000:\n",
    "        return  200\n",
    "    else: return 20\n",
    "    \n",
    "def my_hist(df, col):\n",
    "    \n",
    "    coef_bins = 0.005\n",
    "    X_1 = df.loc[(df[col] >= df[col].quantile(.01))&(df[col] <= df[col].quantile(.99)), col]\n",
    "    plt.figure(figsize =(6, 4))\n",
    "    hist = X_1.plot(\n",
    "                kind='hist', \n",
    "                bins=my_bins(df, col), \n",
    "                alpha=0.5, \n",
    "                ec='black',\n",
    "                color='green',\n",
    "                )\n",
    "    X_1.plot(kind='kde', color='g')\n",
    "    plt.axvline(x=X_1.median(),\n",
    "                linewidth=3, \n",
    "                color='red', \n",
    "                linestyle='--')\n",
    "    plt.axvline(x=X_1.mean(),\n",
    "                linewidth=3, \n",
    "                color='b', \n",
    "                linestyle=':')\n",
    "    plt.axvline(x=X_1.quantile(.05),\n",
    "                linewidth=3, \n",
    "                color='y', \n",
    "                linestyle='--')\n",
    "    plt.axvline(x=X_1.quantile(.95),\n",
    "                linewidth=3, \n",
    "                color='y', \n",
    "                linestyle='--')\n",
    "    plt.xlim(df[col].quantile(.01), df[col].quantile(.99))\n",
    "    plt.title('Распределение по столбцу ' + col)\n",
    "    plt.xlabel('Значение')\n",
    "    plt.ylabel('Частота')\n",
    "    plt.grid()\n",
    "    plt.show()\n",
    "    plt.figure(figsize =(6, 4))\n",
    "    X_1.plot(kind='kde', \n",
    "            alpha=0.5, \n",
    "            color='green',\n",
    "            )\n",
    "    plt.xlim(df[col].quantile(.01), df[col].quantile(.99))\n",
    "    plt.title('Распределение по столбцу ' + col)\n",
    "    plt.xlabel('Значение')\n",
    "    plt.ylabel('Частота')\n",
    "    plt.grid()\n",
    "    plt.show()\n",
    "    #Проверка на нормальность распределения;\n",
    "    from statsmodels.graphics.gofplots import qqplot\n",
    "    qqplot(df[col], line='s')\n",
    "    plt.title('Близость к нормальному распределению (красная линия)',  fontsize=12, color='black')\n",
    "    plt.show()\n",
    "    print('--------------------------------------------------------------')"
   ]
  },
  {
   "cell_type": "markdown",
   "metadata": {},
   "source": [
    "Исследуем израсходованный трафик на двух тарифах."
   ]
  },
  {
   "cell_type": "code",
   "execution_count": 55,
   "metadata": {},
   "outputs": [
    {
     "data": {
      "image/png": "[encoded data removed]",
      "text/plain": [
       "<Figure size 432x288 with 1 Axes>"
      ]
     },
     "metadata": {
      "needs_background": "light"
     },
     "output_type": "display_data"
    },
    {
     "data": {
      "image/png": "[encoded data removed]",
      "text/plain": [
       "<Figure size 432x288 with 1 Axes>"
      ]
     },
     "metadata": {
      "needs_background": "light"
     },
     "output_type": "display_data"
    },
    {
     "data": {
      "image/png": "[encoded data removed]",
      "text/plain": [
       "<Figure size 432x288 with 1 Axes>"
      ]
     },
     "metadata": {
      "needs_background": "light"
     },
     "output_type": "display_data"
    },
    {
     "name": "stdout",
     "output_type": "stream",
     "text": [
      "--------------------------------------------------------------\n"
     ]
    }
   ],
   "source": [
    "my_hist(smart,'mb_used')"
   ]
  },
  {
   "cell_type": "code",
   "execution_count": 56,
   "metadata": {},
   "outputs": [
    {
     "data": {
      "image/png": "[encoded data removed]",
      "text/plain": [
       "<Figure size 432x288 with 1 Axes>"
      ]
     },
     "metadata": {
      "needs_background": "light"
     },
     "output_type": "display_data"
    },
    {
     "data": {
      "image/png": "[encoded data removed]",
      "text/plain": [
       "<Figure size 432x288 with 1 Axes>"
      ]
     },
     "metadata": {
      "needs_background": "light"
     },
     "output_type": "display_data"
    },
    {
     "data": {
      "image/png": "[encoded data removed]",
      "text/plain": [
       "<Figure size 432x288 with 1 Axes>"
      ]
     },
     "metadata": {
      "needs_background": "light"
     },
     "output_type": "display_data"
    },
    {
     "name": "stdout",
     "output_type": "stream",
     "text": [
      "--------------------------------------------------------------\n"
     ]
    }
   ],
   "source": [
    "my_hist(ultra,'mb_used')"
   ]
  },
  {
   "cell_type": "code",
   "execution_count": 57,
   "metadata": {},
   "outputs": [
    {
     "data": {
      "text/html": [
       "<style  type=\"text/css\" >\n",
       "</style><table id=\"T_e5d2683c_25b7_11ec_a012_02420a393204\" ><thead>    <tr>        <th class=\"blank level0\" ></th>        <th class=\"col_heading level0 col0\" colspan=4>mb_used</th>    </tr>    <tr>        <th class=\"blank level1\" ></th>        <th class=\"col_heading level1 col0\" >median</th>        <th class=\"col_heading level1 col1\" >mean</th>        <th class=\"col_heading level1 col2\" >var</th>        <th class=\"col_heading level1 col3\" >std</th>    </tr>    <tr>        <th class=\"index_name level0\" >tariff</th>        <th class=\"blank\" ></th>        <th class=\"blank\" ></th>        <th class=\"blank\" ></th>        <th class=\"blank\" ></th>    </tr></thead><tbody>\n",
       "                <tr>\n",
       "                        <th id=\"T_e5d2683c_25b7_11ec_a012_02420a393204level0_row0\" class=\"row_heading level0 row0\" >smart</th>\n",
       "                        <td id=\"T_e5d2683c_25b7_11ec_a012_02420a393204row0_col0\" class=\"data row0 col0\" >16505.47</td>\n",
       "                        <td id=\"T_e5d2683c_25b7_11ec_a012_02420a393204row0_col1\" class=\"data row0 col1\" >16201.12</td>\n",
       "                        <td id=\"T_e5d2683c_25b7_11ec_a012_02420a393204row0_col2\" class=\"data row0 col2\" >34564843.48</td>\n",
       "                        <td id=\"T_e5d2683c_25b7_11ec_a012_02420a393204row0_col3\" class=\"data row0 col3\" >5879.19</td>\n",
       "            </tr>\n",
       "            <tr>\n",
       "                        <th id=\"T_e5d2683c_25b7_11ec_a012_02420a393204level0_row1\" class=\"row_heading level0 row1\" >ultra</th>\n",
       "                        <td id=\"T_e5d2683c_25b7_11ec_a012_02420a393204row1_col0\" class=\"data row1 col0\" >19304.02</td>\n",
       "                        <td id=\"T_e5d2683c_25b7_11ec_a012_02420a393204row1_col1\" class=\"data row1 col1\" >19449.06</td>\n",
       "                        <td id=\"T_e5d2683c_25b7_11ec_a012_02420a393204row1_col2\" class=\"data row1 col2\" >102032129.46</td>\n",
       "                        <td id=\"T_e5d2683c_25b7_11ec_a012_02420a393204row1_col3\" class=\"data row1 col3\" >10101.10</td>\n",
       "            </tr>\n",
       "    </tbody></table>"
      ],
      "text/plain": [
       "<pandas.io.formats.style.Styler at 0x7f2d0e97ee90>"
      ]
     },
     "execution_count": 57,
     "metadata": {},
     "output_type": "execute_result"
    }
   ],
   "source": [
    "df.groupby('tariff')\\\n",
    "  .agg({'mb_used':['median','mean','var','std']})\\\n",
    "  .style.format(\"{:.2f}\")"
   ]
  },
  {
   "cell_type": "markdown",
   "metadata": {},
   "source": [
    "Как мы видим, и на одном и на другом тарифе распределение израсходанного трафика близко к нормальному. Медиана и среднее лежат рядом. Видно, что на тарифе Smart большинству абонентов не хватает 15 Гб трафика, входящего в тарифный план, тогда как большинство пользователей тарифа Ultra в месячный трафик вписываются с запасом. "
   ]
  },
  {
   "cell_type": "markdown",
   "metadata": {},
   "source": [
    "Исследуем длительность звонков"
   ]
  },
  {
   "cell_type": "code",
   "execution_count": 58,
   "metadata": {},
   "outputs": [],
   "source": [
    "smart1 = df.query('tariff == \"smart\"')[['duration']].astype('int')\n",
    "ultra1 = df.query('tariff == \"ultra\"')[['duration']].astype('int')"
   ]
  },
  {
   "cell_type": "code",
   "execution_count": 59,
   "metadata": {
    "scrolled": true
   },
   "outputs": [
    {
     "data": {
      "image/png": "[encoded data removed]",
      "text/plain": [
       "<Figure size 432x288 with 1 Axes>"
      ]
     },
     "metadata": {
      "needs_background": "light"
     },
     "output_type": "display_data"
    },
    {
     "data": {
      "image/png": "[encoded data removed]",
      "text/plain": [
       "<Figure size 432x288 with 1 Axes>"
      ]
     },
     "metadata": {
      "needs_background": "light"
     },
     "output_type": "display_data"
    },
    {
     "data": {
      "image/png": "[encoded data removed]",
      "text/plain": [
       "<Figure size 432x288 with 1 Axes>"
      ]
     },
     "metadata": {
      "needs_background": "light"
     },
     "output_type": "display_data"
    },
    {
     "name": "stdout",
     "output_type": "stream",
     "text": [
      "--------------------------------------------------------------\n"
     ]
    }
   ],
   "source": [
    "my_hist(smart1,'duration')"
   ]
  },
  {
   "cell_type": "code",
   "execution_count": 60,
   "metadata": {},
   "outputs": [
    {
     "data": {
      "image/png": "[encoded data removed]",
      "text/plain": [
       "<Figure size 432x288 with 1 Axes>"
      ]
     },
     "metadata": {
      "needs_background": "light"
     },
     "output_type": "display_data"
    },
    {
     "data": {
      "image/png": "[encoded data removed]",
      "text/plain": [
       "<Figure size 432x288 with 1 Axes>"
      ]
     },
     "metadata": {
      "needs_background": "light"
     },
     "output_type": "display_data"
    },
    {
     "data": {
      "image/png": "[encoded data removed]",
      "text/plain": [
       "<Figure size 432x288 with 1 Axes>"
      ]
     },
     "metadata": {
      "needs_background": "light"
     },
     "output_type": "display_data"
    },
    {
     "name": "stdout",
     "output_type": "stream",
     "text": [
      "--------------------------------------------------------------\n"
     ]
    }
   ],
   "source": [
    "my_hist(ultra1,'duration')"
   ]
  },
  {
   "cell_type": "code",
   "execution_count": 61,
   "metadata": {},
   "outputs": [
    {
     "data": {
      "text/html": [
       "<style  type=\"text/css\" >\n",
       "</style><table id=\"T_e759e310_25b7_11ec_a012_02420a393204\" ><thead>    <tr>        <th class=\"blank level0\" ></th>        <th class=\"col_heading level0 col0\" colspan=4>duration</th>    </tr>    <tr>        <th class=\"blank level1\" ></th>        <th class=\"col_heading level1 col0\" >median</th>        <th class=\"col_heading level1 col1\" >mean</th>        <th class=\"col_heading level1 col2\" >var</th>        <th class=\"col_heading level1 col3\" >std</th>    </tr>    <tr>        <th class=\"index_name level0\" >tariff</th>        <th class=\"blank\" ></th>        <th class=\"blank\" ></th>        <th class=\"blank\" ></th>        <th class=\"blank\" ></th>    </tr></thead><tbody>\n",
       "                <tr>\n",
       "                        <th id=\"T_e759e310_25b7_11ec_a012_02420a393204level0_row0\" class=\"row_heading level0 row0\" >smart</th>\n",
       "                        <td id=\"T_e759e310_25b7_11ec_a012_02420a393204row0_col0\" class=\"data row0 col0\" >421.50</td>\n",
       "                        <td id=\"T_e759e310_25b7_11ec_a012_02420a393204row0_col1\" class=\"data row0 col1\" >417.75</td>\n",
       "                        <td id=\"T_e759e310_25b7_11ec_a012_02420a393204row0_col2\" class=\"data row0 col2\" >36281.39</td>\n",
       "                        <td id=\"T_e759e310_25b7_11ec_a012_02420a393204row0_col3\" class=\"data row0 col3\" >190.48</td>\n",
       "            </tr>\n",
       "            <tr>\n",
       "                        <th id=\"T_e759e310_25b7_11ec_a012_02420a393204level0_row1\" class=\"row_heading level0 row1\" >ultra</th>\n",
       "                        <td id=\"T_e759e310_25b7_11ec_a012_02420a393204row1_col0\" class=\"data row1 col0\" >518.00</td>\n",
       "                        <td id=\"T_e759e310_25b7_11ec_a012_02420a393204row1_col1\" class=\"data row1 col1\" >526.09</td>\n",
       "                        <td id=\"T_e759e310_25b7_11ec_a012_02420a393204row1_col2\" class=\"data row1 col2\" >101052.49</td>\n",
       "                        <td id=\"T_e759e310_25b7_11ec_a012_02420a393204row1_col3\" class=\"data row1 col3\" >317.89</td>\n",
       "            </tr>\n",
       "    </tbody></table>"
      ],
      "text/plain": [
       "<pandas.io.formats.style.Styler at 0x7f2d0edd7290>"
      ]
     },
     "execution_count": 61,
     "metadata": {},
     "output_type": "execute_result"
    }
   ],
   "source": [
    "df.groupby('tariff')\\\n",
    "  .agg({'duration':['median','mean','var','std']})\\\n",
    "  .style.format(\"{:.2f}\")"
   ]
  },
  {
   "cell_type": "markdown",
   "metadata": {},
   "source": [
    "Для длительности звонков распределение также близко к нормальному. Медиана и среднее лежат рядом. На тарифе Смарт среднее составляет 417.75 мин, а медиана - 421.5 мин. Это значит, что как правило, абоненты тарифа смарт почти полностью используют включенные в абонентскую плату 500 мин, а многие их перерасходуют. Абоненты тарифа Ультра имеют 3000 минут, что равносильно безлимиту, т.к. максимальная продолжительность звонков за месяц у одного абонента - 1673 мин."
   ]
  },
  {
   "cell_type": "code",
   "execution_count": 62,
   "metadata": {},
   "outputs": [],
   "source": [
    "smart2 = df.query('tariff == \"smart\"')[['message_count']].astype('int')\n",
    "ultra2 = df.query('tariff == \"ultra\"')[['message_count']].astype('int')"
   ]
  },
  {
   "cell_type": "code",
   "execution_count": 63,
   "metadata": {},
   "outputs": [
    {
     "data": {
      "image/png": "[encoded data removed]",
      "text/plain": [
       "<Figure size 432x288 with 1 Axes>"
      ]
     },
     "metadata": {
      "needs_background": "light"
     },
     "output_type": "display_data"
    },
    {
     "data": {
      "image/png": "[encoded data removed]",
      "text/plain": [
       "<Figure size 432x288 with 1 Axes>"
      ]
     },
     "metadata": {
      "needs_background": "light"
     },
     "output_type": "display_data"
    },
    {
     "data": {
      "image/png": "[encoded data removed]",
      "text/plain": [
       "<Figure size 432x288 with 1 Axes>"
      ]
     },
     "metadata": {
      "needs_background": "light"
     },
     "output_type": "display_data"
    },
    {
     "name": "stdout",
     "output_type": "stream",
     "text": [
      "--------------------------------------------------------------\n"
     ]
    }
   ],
   "source": [
    "my_hist(smart2,'message_count')"
   ]
  },
  {
   "cell_type": "code",
   "execution_count": 64,
   "metadata": {},
   "outputs": [
    {
     "data": {
      "image/png": "[encoded data removed]",
      "text/plain": [
       "<Figure size 432x288 with 1 Axes>"
      ]
     },
     "metadata": {
      "needs_background": "light"
     },
     "output_type": "display_data"
    },
    {
     "data": {
      "image/png": "[encoded data removed]",
      "text/plain": [
       "<Figure size 432x288 with 1 Axes>"
      ]
     },
     "metadata": {
      "needs_background": "light"
     },
     "output_type": "display_data"
    },
    {
     "data": {
      "image/png": "[encoded data removed]",
      "text/plain": [
       "<Figure size 432x288 with 1 Axes>"
      ]
     },
     "metadata": {
      "needs_background": "light"
     },
     "output_type": "display_data"
    },
    {
     "name": "stdout",
     "output_type": "stream",
     "text": [
      "--------------------------------------------------------------\n"
     ]
    }
   ],
   "source": [
    "my_hist(ultra2,'message_count')"
   ]
  },
  {
   "cell_type": "code",
   "execution_count": 65,
   "metadata": {},
   "outputs": [
    {
     "data": {
      "text/html": [
       "<style  type=\"text/css\" >\n",
       "</style><table id=\"T_e8e609c0_25b7_11ec_a012_02420a393204\" ><thead>    <tr>        <th class=\"blank level0\" ></th>        <th class=\"col_heading level0 col0\" colspan=4>message_count</th>    </tr>    <tr>        <th class=\"blank level1\" ></th>        <th class=\"col_heading level1 col0\" >median</th>        <th class=\"col_heading level1 col1\" >mean</th>        <th class=\"col_heading level1 col2\" >var</th>        <th class=\"col_heading level1 col3\" >std</th>    </tr>    <tr>        <th class=\"index_name level0\" >tariff</th>        <th class=\"blank\" ></th>        <th class=\"blank\" ></th>        <th class=\"blank\" ></th>        <th class=\"blank\" ></th>    </tr></thead><tbody>\n",
       "                <tr>\n",
       "                        <th id=\"T_e8e609c0_25b7_11ec_a012_02420a393204level0_row0\" class=\"row_heading level0 row0\" >smart</th>\n",
       "                        <td id=\"T_e8e609c0_25b7_11ec_a012_02420a393204row0_col0\" class=\"data row0 col0\" >28.00</td>\n",
       "                        <td id=\"T_e8e609c0_25b7_11ec_a012_02420a393204row0_col1\" class=\"data row0 col1\" >33.37</td>\n",
       "                        <td id=\"T_e8e609c0_25b7_11ec_a012_02420a393204row0_col2\" class=\"data row0 col2\" >796.96</td>\n",
       "                        <td id=\"T_e8e609c0_25b7_11ec_a012_02420a393204row0_col3\" class=\"data row0 col3\" >28.23</td>\n",
       "            </tr>\n",
       "            <tr>\n",
       "                        <th id=\"T_e8e609c0_25b7_11ec_a012_02420a393204level0_row1\" class=\"row_heading level0 row1\" >ultra</th>\n",
       "                        <td id=\"T_e8e609c0_25b7_11ec_a012_02420a393204row1_col0\" class=\"data row1 col0\" >38.00</td>\n",
       "                        <td id=\"T_e8e609c0_25b7_11ec_a012_02420a393204row1_col1\" class=\"data row1 col1\" >49.31</td>\n",
       "                        <td id=\"T_e8e609c0_25b7_11ec_a012_02420a393204row1_col2\" class=\"data row1 col2\" >2285.42</td>\n",
       "                        <td id=\"T_e8e609c0_25b7_11ec_a012_02420a393204row1_col3\" class=\"data row1 col3\" >47.81</td>\n",
       "            </tr>\n",
       "    </tbody></table>"
      ],
      "text/plain": [
       "<pandas.io.formats.style.Styler at 0x7f2d0f169ed0>"
      ]
     },
     "execution_count": 65,
     "metadata": {},
     "output_type": "execute_result"
    }
   ],
   "source": [
    "df.groupby('tariff')\\\n",
    "  .agg({'message_count':['median','mean','var','std']})\\\n",
    "  .style.format(\"{:.2f}\")"
   ]
  },
  {
   "cell_type": "markdown",
   "metadata": {},
   "source": [
    "Изучая данные за 2018 год, мы видим, что как на одном, так и на другом тарифе, смс не пользуются популятностью. Датасет скошен вправо, медиана значительно меньше среднего. На тарифе Ультра наблюдается большая дисперсия и стандартное отклонение, значит находятся абоненты, отправляющие большое количество смс, однако, и тариф Смарт возможно для них бы не подошел.  "
   ]
  },
  {
   "cell_type": "markdown",
   "metadata": {},
   "source": [
    "Посмотрим, много ли абонентов платят сверх сумм своих абон. плат, и какие суммы они переплачивают"
   ]
  },
  {
   "cell_type": "code",
   "execution_count": 66,
   "metadata": {},
   "outputs": [],
   "source": [
    "smart3 = df.query('tariff == \"smart\"')[['revenue']].astype('int')\n",
    "ultra3 = df.query('tariff == \"ultra\"')[['revenue']].astype('int')"
   ]
  },
  {
   "cell_type": "code",
   "execution_count": 67,
   "metadata": {},
   "outputs": [
    {
     "data": {
      "image/png": "[encoded data removed]",
      "text/plain": [
       "<Figure size 432x288 with 1 Axes>"
      ]
     },
     "metadata": {
      "needs_background": "light"
     },
     "output_type": "display_data"
    },
    {
     "data": {
      "image/png": "[encoded data removed]",
      "text/plain": [
       "<Figure size 432x288 with 1 Axes>"
      ]
     },
     "metadata": {
      "needs_background": "light"
     },
     "output_type": "display_data"
    },
    {
     "data": {
      "image/png": "[encoded data removed]",
      "text/plain": [
       "<Figure size 432x288 with 1 Axes>"
      ]
     },
     "metadata": {
      "needs_background": "light"
     },
     "output_type": "display_data"
    },
    {
     "name": "stdout",
     "output_type": "stream",
     "text": [
      "--------------------------------------------------------------\n"
     ]
    }
   ],
   "source": [
    "my_hist(smart3,'revenue')"
   ]
  },
  {
   "cell_type": "code",
   "execution_count": 68,
   "metadata": {},
   "outputs": [
    {
     "data": {
      "image/png": "[encoded data removed]",
      "text/plain": [
       "<Figure size 432x288 with 1 Axes>"
      ]
     },
     "metadata": {
      "needs_background": "light"
     },
     "output_type": "display_data"
    },
    {
     "data": {
      "image/png": "[encoded data removed]",
      "text/plain": [
       "<Figure size 432x288 with 1 Axes>"
      ]
     },
     "metadata": {
      "needs_background": "light"
     },
     "output_type": "display_data"
    },
    {
     "data": {
      "image/png": "[encoded data removed]",
      "text/plain": [
       "<Figure size 432x288 with 1 Axes>"
      ]
     },
     "metadata": {
      "needs_background": "light"
     },
     "output_type": "display_data"
    },
    {
     "name": "stdout",
     "output_type": "stream",
     "text": [
      "--------------------------------------------------------------\n"
     ]
    }
   ],
   "source": [
    "my_hist(ultra3,'revenue')"
   ]
  },
  {
   "cell_type": "code",
   "execution_count": 69,
   "metadata": {},
   "outputs": [
    {
     "data": {
      "text/html": [
       "<style  type=\"text/css\" >\n",
       "</style><table id=\"T_ea73c9a8_25b7_11ec_a012_02420a393204\" ><thead>    <tr>        <th class=\"blank level0\" ></th>        <th class=\"col_heading level0 col0\" colspan=4>revenue</th>    </tr>    <tr>        <th class=\"blank level1\" ></th>        <th class=\"col_heading level1 col0\" >median</th>        <th class=\"col_heading level1 col1\" >mean</th>        <th class=\"col_heading level1 col2\" >var</th>        <th class=\"col_heading level1 col3\" >std</th>    </tr>    <tr>        <th class=\"index_name level0\" >tariff</th>        <th class=\"blank\" ></th>        <th class=\"blank\" ></th>        <th class=\"blank\" ></th>        <th class=\"blank\" ></th>    </tr></thead><tbody>\n",
       "                <tr>\n",
       "                        <th id=\"T_ea73c9a8_25b7_11ec_a012_02420a393204level0_row0\" class=\"row_heading level0 row0\" >smart</th>\n",
       "                        <td id=\"T_ea73c9a8_25b7_11ec_a012_02420a393204row0_col0\" class=\"data row0 col0\" >406.50</td>\n",
       "                        <td id=\"T_ea73c9a8_25b7_11ec_a012_02420a393204row0_col1\" class=\"data row0 col1\" >679.85</td>\n",
       "                        <td id=\"T_ea73c9a8_25b7_11ec_a012_02420a393204row0_col2\" class=\"data row0 col2\" >617049.95</td>\n",
       "                        <td id=\"T_ea73c9a8_25b7_11ec_a012_02420a393204row0_col3\" class=\"data row0 col3\" >785.53</td>\n",
       "            </tr>\n",
       "            <tr>\n",
       "                        <th id=\"T_ea73c9a8_25b7_11ec_a012_02420a393204level0_row1\" class=\"row_heading level0 row1\" >ultra</th>\n",
       "                        <td id=\"T_ea73c9a8_25b7_11ec_a012_02420a393204row1_col0\" class=\"data row1 col0\" >0.00</td>\n",
       "                        <td id=\"T_ea73c9a8_25b7_11ec_a012_02420a393204row1_col1\" class=\"data row1 col1\" >109.69</td>\n",
       "                        <td id=\"T_ea73c9a8_25b7_11ec_a012_02420a393204row1_col2\" class=\"data row1 col2\" >125727.68</td>\n",
       "                        <td id=\"T_ea73c9a8_25b7_11ec_a012_02420a393204row1_col3\" class=\"data row1 col3\" >354.58</td>\n",
       "            </tr>\n",
       "    </tbody></table>"
      ],
      "text/plain": [
       "<pandas.io.formats.style.Styler at 0x7f2d10d87cd0>"
      ]
     },
     "execution_count": 69,
     "metadata": {},
     "output_type": "execute_result"
    }
   ],
   "source": [
    "df.groupby('tariff')\\\n",
    "  .agg({'revenue':['median','mean','var','std']})\\\n",
    "  .style.format(\"{:.2f}\")"
   ]
  },
  {
   "cell_type": "markdown",
   "metadata": {},
   "source": [
    "Отмечаем, что для абонентов тарифа смарт свойственно платить больше, чем составляет абонентская плата. В среднем, абоненты данного тарифа переплачивают 680 рублей, однако разброс данных значительный. Те абоненты, кто много переплачивают, могут посмотреть другие тарифы, возможно, на них им будет выгодней. На тарифе ультра практически 100% абонентов не выходят за сумму абонентской платы. И, как мы уже поняли, возможно переплачивают, т.к. не используют полностью отведенное им количество минут, гигобайт и смс."
   ]
  },
  {
   "cell_type": "markdown",
   "metadata": {},
   "source": [
    "## Проверка гипотез."
   ]
  },
  {
   "cell_type": "markdown",
   "metadata": {},
   "source": [
    "Прежде чем приступать к проверке гипотез, избавимся от выбросов. Для столбца total_revenue отсечем данные до 01 квантиля и после 99 квантиля."
   ]
  },
  {
   "cell_type": "code",
   "execution_count": 70,
   "metadata": {},
   "outputs": [],
   "source": [
    "df = df.loc[(df['total_revenue'] >= df['total_revenue'].quantile(.01))&(\n",
    " df['total_revenue'] <= df['total_revenue'].quantile(.99))]"
   ]
  },
  {
   "cell_type": "markdown",
   "metadata": {},
   "source": [
    "Для проверки гепотез я буду использовать t-критерий Стьюдента, т.к. сравниваемые выборки между собой независимы."
   ]
  },
  {
   "cell_type": "markdown",
   "metadata": {},
   "source": [
    "Гипотеза 1. Средняя выручка пользователей тарифов «Ультра» и «Смарт» различается."
   ]
  },
  {
   "cell_type": "markdown",
   "metadata": {},
   "source": [
    "Сформулируем гипотезы:\n",
    "\n",
    "- H0: выручка пользователей тарифов «Ультра» и «Смарт» не различается\n",
    "- H1: выручка пользователей тарифов «Ультра» и «Смарт» различается"
   ]
  },
  {
   "cell_type": "code",
   "execution_count": 71,
   "metadata": {},
   "outputs": [],
   "source": [
    "smart_only = df[df['tariff'] == 'smart']\n",
    "ultra_only = df[df['tariff'] == 'ultra']"
   ]
  },
  {
   "cell_type": "code",
   "execution_count": 72,
   "metadata": {},
   "outputs": [],
   "source": [
    "smart_only_rev = smart_only['total_revenue']\n",
    "ultra_only_rev = ultra_only['total_revenue']"
   ]
  },
  {
   "cell_type": "code",
   "execution_count": 73,
   "metadata": {},
   "outputs": [],
   "source": [
    "alpha = 0.05"
   ]
  },
  {
   "cell_type": "code",
   "execution_count": 74,
   "metadata": {},
   "outputs": [],
   "source": [
    "results = st.ttest_ind(smart_only_rev, ultra_only_rev)"
   ]
  },
  {
   "cell_type": "code",
   "execution_count": 75,
   "metadata": {},
   "outputs": [
    {
     "name": "stdout",
     "output_type": "stream",
     "text": [
      "p-значение: 6.115791262496582e-237\n",
      "Отвергаем нулевую гипотезу\n"
     ]
    }
   ],
   "source": [
    "print('p-значение:', results.pvalue)\n",
    "\n",
    "if (results.pvalue < alpha):\n",
    "    print(\"Отвергаем нулевую гипотезу\")\n",
    "else:\n",
    "    print(\"Не получилось отвергнуть нулевую гипотезу\")"
   ]
  },
  {
   "cell_type": "markdown",
   "metadata": {},
   "source": [
    "Вывод: разница в средних значениях не случайна, между выборками есть значимые различия "
   ]
  },
  {
   "cell_type": "markdown",
   "metadata": {},
   "source": [
    "Гипотеза 2. Средняя выручка пользователей из Москвы отличается от выручки пользователей из других регионов"
   ]
  },
  {
   "cell_type": "markdown",
   "metadata": {},
   "source": [
    "Сформулируем гипотезы:\n",
    "\n",
    "- H0: средняя выручка пользователей из Москвы не отличается от выручки пользователей из других регионов\n",
    "- H1: средняя выручка пользователей из Москвы отличается от выручки пользователей из других регионов"
   ]
  },
  {
   "cell_type": "code",
   "execution_count": 76,
   "metadata": {},
   "outputs": [],
   "source": [
    "df['region'] = np.where(df['city'] == 'Москва', 'Москва', 'Регион')"
   ]
  },
  {
   "cell_type": "code",
   "execution_count": 77,
   "metadata": {},
   "outputs": [],
   "source": [
    "moscow = df[df['region'] == 'Москва']\n",
    "regions = df[df['region'] == 'Регион']"
   ]
  },
  {
   "cell_type": "code",
   "execution_count": 78,
   "metadata": {},
   "outputs": [],
   "source": [
    "moscow_rev = moscow['total_revenue']\n",
    "regions_rev = regions['total_revenue']"
   ]
  },
  {
   "cell_type": "code",
   "execution_count": 79,
   "metadata": {},
   "outputs": [],
   "source": [
    "results = st.ttest_ind(moscow_rev, regions_rev)"
   ]
  },
  {
   "cell_type": "code",
   "execution_count": 80,
   "metadata": {},
   "outputs": [
    {
     "name": "stdout",
     "output_type": "stream",
     "text": [
      "p-значение: 0.2157380515391143\n",
      "Не получилось отвергнуть нулевую гипотезу\n"
     ]
    }
   ],
   "source": [
    "print('p-значение:', results.pvalue)\n",
    "\n",
    "if (results.pvalue < alpha):\n",
    "    print(\"Отвергаем нулевую гипотезу\")\n",
    "else:\n",
    "    print(\"Не получилось отвергнуть нулевую гипотезу\")"
   ]
  },
  {
   "cell_type": "markdown",
   "metadata": {},
   "source": [
    "Вывод: с вероятностью в 21.5% такой результат может быть получен случайно. Значимых различий нет."
   ]
  },
  {
   "cell_type": "markdown",
   "metadata": {},
   "source": [
    "## Выводы и рекомендации"
   ]
  },
  {
   "cell_type": "markdown",
   "metadata": {},
   "source": [
    "1. Выручка отличается для разных тарифов. \n",
    "2. Для жителей Москвы и других городов выручка не отличается, и там и там жители говорят и пользуются интернетом примерно одинаково.\n",
    "3. Огромное количество неизрасходованных смс, минут и трафика для абонентов тарифа Ультра. Возможно, оператору необходимо подумать над оптимизацией данного тарифа, т.к. абоненты могут отказаться от него и перейти на более дешевый.\n",
    "4. Возможно, стоит рассмотреть переход на посекундную тарификацию для конкурентного преимущества."
   ]
  }
 ],
 "metadata": {
  "ExecuteTimeLog": [
   {
    "duration": 2608,
    "start_time": "2021-06-17T04:19:07.550Z"
   },
   {
    "duration": 20,
    "start_time": "2021-06-17T04:19:18.220Z"
   },
   {
    "duration": 20,
    "start_time": "2021-06-17T04:19:26.758Z"
   },
   {
    "duration": 14,
    "start_time": "2021-06-17T04:19:34.502Z"
   },
   {
    "duration": 12,
    "start_time": "2021-06-17T04:19:43.278Z"
   },
   {
    "duration": 18,
    "start_time": "2021-06-17T04:19:58.848Z"
   },
   {
    "duration": 21,
    "start_time": "2021-06-17T04:37:03.360Z"
   },
   {
    "duration": 21,
    "start_time": "2021-06-17T04:38:10.053Z"
   },
   {
    "duration": 10,
    "start_time": "2021-06-17T04:38:22.653Z"
   },
   {
    "duration": 25,
    "start_time": "2021-06-17T04:38:30.706Z"
   },
   {
    "duration": 21,
    "start_time": "2021-06-17T04:42:11.716Z"
   },
   {
    "duration": 27,
    "start_time": "2021-06-17T04:42:24.837Z"
   },
   {
    "duration": 37,
    "start_time": "2021-06-17T04:42:38.221Z"
   },
   {
    "duration": 537,
    "start_time": "2021-06-17T09:31:28.893Z"
   },
   {
    "duration": 1043,
    "start_time": "2021-06-17T09:31:44.106Z"
   },
   {
    "duration": 575,
    "start_time": "2021-06-17T09:32:20.586Z"
   },
   {
    "duration": 21,
    "start_time": "2021-06-17T09:32:59.281Z"
   },
   {
    "duration": 15,
    "start_time": "2021-06-17T09:33:13.394Z"
   },
   {
    "duration": 483,
    "start_time": "2021-06-17T09:35:43.111Z"
   },
   {
    "duration": 116,
    "start_time": "2021-06-17T09:36:00.164Z"
   },
   {
    "duration": 12,
    "start_time": "2021-06-17T09:36:20.411Z"
   },
   {
    "duration": 10,
    "start_time": "2021-06-17T09:36:50.129Z"
   },
   {
    "duration": 9,
    "start_time": "2021-06-17T09:37:25.657Z"
   },
   {
    "duration": 314,
    "start_time": "2021-06-17T10:38:16.630Z"
   },
   {
    "duration": 330,
    "start_time": "2021-06-17T10:38:38.034Z"
   },
   {
    "duration": 18,
    "start_time": "2021-06-17T10:49:49.105Z"
   },
   {
    "duration": 23,
    "start_time": "2021-06-17T10:50:08.212Z"
   },
   {
    "duration": 24,
    "start_time": "2021-06-17T10:50:24.196Z"
   },
   {
    "duration": 23,
    "start_time": "2021-06-17T10:54:39.039Z"
   },
   {
    "duration": 31,
    "start_time": "2021-06-17T10:55:03.162Z"
   },
   {
    "duration": 44,
    "start_time": "2021-06-17T10:55:13.446Z"
   },
   {
    "duration": 279,
    "start_time": "2021-06-17T10:56:20.809Z"
   },
   {
    "duration": 17,
    "start_time": "2021-06-17T10:56:32.389Z"
   },
   {
    "duration": 8,
    "start_time": "2021-06-17T11:06:02.903Z"
   },
   {
    "duration": 46,
    "start_time": "2021-06-17T11:09:03.020Z"
   },
   {
    "duration": 10,
    "start_time": "2021-06-17T11:11:43.906Z"
   },
   {
    "duration": 12,
    "start_time": "2021-06-17T11:12:17.484Z"
   },
   {
    "duration": 25,
    "start_time": "2021-06-17T11:12:42.410Z"
   },
   {
    "duration": 46,
    "start_time": "2021-06-17T11:13:02.976Z"
   },
   {
    "duration": 6,
    "start_time": "2021-06-17T11:13:04.080Z"
   },
   {
    "duration": 8,
    "start_time": "2021-06-17T11:13:04.973Z"
   },
   {
    "duration": 10,
    "start_time": "2021-06-17T11:13:06.303Z"
   },
   {
    "duration": 30,
    "start_time": "2021-06-17T11:14:28.523Z"
   },
   {
    "duration": 17,
    "start_time": "2021-06-17T11:14:42.165Z"
   },
   {
    "duration": 32,
    "start_time": "2021-06-17T11:15:23.244Z"
   },
   {
    "duration": 27,
    "start_time": "2021-06-17T11:15:31.590Z"
   },
   {
    "duration": 13,
    "start_time": "2021-06-17T11:29:13.094Z"
   },
   {
    "duration": 84,
    "start_time": "2021-06-17T11:31:42.537Z"
   },
   {
    "duration": 292,
    "start_time": "2021-06-17T11:33:10.404Z"
   },
   {
    "duration": 41,
    "start_time": "2021-06-17T11:33:15.268Z"
   },
   {
    "duration": 14,
    "start_time": "2021-06-17T11:33:15.785Z"
   },
   {
    "duration": 384,
    "start_time": "2021-06-17T11:33:47.478Z"
   },
   {
    "duration": 53,
    "start_time": "2021-06-17T11:33:48.237Z"
   },
   {
    "duration": 35,
    "start_time": "2021-06-17T11:33:52.283Z"
   },
   {
    "duration": 31,
    "start_time": "2021-06-17T11:33:53.518Z"
   },
   {
    "duration": 12,
    "start_time": "2021-06-17T11:33:54.938Z"
   },
   {
    "duration": 24,
    "start_time": "2021-06-17T11:37:22.358Z"
   },
   {
    "duration": 11,
    "start_time": "2021-06-17T11:37:22.862Z"
   },
   {
    "duration": 21,
    "start_time": "2021-06-17T11:38:26.111Z"
   },
   {
    "duration": 24,
    "start_time": "2021-06-17T11:39:51.377Z"
   },
   {
    "duration": 10,
    "start_time": "2021-06-17T11:40:04.495Z"
   },
   {
    "duration": 24,
    "start_time": "2021-06-17T11:41:14.714Z"
   },
   {
    "duration": 22,
    "start_time": "2021-06-17T11:42:07.070Z"
   },
   {
    "duration": 10,
    "start_time": "2021-06-17T11:42:20.552Z"
   },
   {
    "duration": 282,
    "start_time": "2021-06-17T11:51:04.912Z"
   },
   {
    "duration": 277,
    "start_time": "2021-06-17T11:55:27.505Z"
   },
   {
    "duration": 13,
    "start_time": "2021-06-17T11:56:06.739Z"
   },
   {
    "duration": 15,
    "start_time": "2021-06-17T11:57:16.168Z"
   },
   {
    "duration": 15,
    "start_time": "2021-06-17T11:59:20.796Z"
   },
   {
    "duration": 14,
    "start_time": "2021-06-17T12:00:41.736Z"
   },
   {
    "duration": 18,
    "start_time": "2021-06-17T12:01:03.589Z"
   },
   {
    "duration": 281,
    "start_time": "2021-06-17T12:01:04.045Z"
   },
   {
    "duration": 25,
    "start_time": "2021-06-17T12:01:24.750Z"
   },
   {
    "duration": 20,
    "start_time": "2021-06-17T12:01:29.780Z"
   },
   {
    "duration": 322,
    "start_time": "2021-06-17T12:01:30.410Z"
   },
   {
    "duration": 274,
    "start_time": "2021-06-17T12:01:40.276Z"
   },
   {
    "duration": 12,
    "start_time": "2021-06-17T12:01:44.693Z"
   },
   {
    "duration": 13,
    "start_time": "2021-06-17T12:01:45.199Z"
   },
   {
    "duration": 16,
    "start_time": "2021-06-17T12:01:45.611Z"
   },
   {
    "duration": 285,
    "start_time": "2021-06-17T12:01:46.471Z"
   },
   {
    "duration": 39,
    "start_time": "2021-06-17T12:01:58.039Z"
   },
   {
    "duration": 286,
    "start_time": "2021-06-17T12:02:47.446Z"
   },
   {
    "duration": 327,
    "start_time": "2021-06-17T12:03:25.945Z"
   },
   {
    "duration": 22,
    "start_time": "2021-06-17T12:04:25.384Z"
   },
   {
    "duration": 8,
    "start_time": "2021-06-17T12:04:31.724Z"
   },
   {
    "duration": 17,
    "start_time": "2021-06-17T12:05:03.837Z"
   },
   {
    "duration": 38,
    "start_time": "2021-06-17T12:05:10.336Z"
   },
   {
    "duration": 15,
    "start_time": "2021-06-17T12:06:37.341Z"
   },
   {
    "duration": 729,
    "start_time": "2021-06-17T12:07:02.912Z"
   },
   {
    "duration": 33,
    "start_time": "2021-06-17T12:10:29.035Z"
   },
   {
    "duration": 27,
    "start_time": "2021-06-17T12:10:59.654Z"
   },
   {
    "duration": 9,
    "start_time": "2021-06-17T12:13:00.135Z"
   },
   {
    "duration": 10,
    "start_time": "2021-06-17T12:13:11.010Z"
   },
   {
    "duration": 16,
    "start_time": "2021-06-17T12:13:30.423Z"
   },
   {
    "duration": 7,
    "start_time": "2021-06-17T12:28:43.637Z"
   },
   {
    "duration": 730,
    "start_time": "2021-06-17T12:30:34.914Z"
   },
   {
    "duration": 7,
    "start_time": "2021-06-17T12:31:15.201Z"
   },
   {
    "duration": 8151,
    "start_time": "2021-06-17T12:31:16.077Z"
   },
   {
    "duration": 6,
    "start_time": "2021-06-17T12:32:44.272Z"
   },
   {
    "duration": 8648,
    "start_time": "2021-06-17T12:32:45.170Z"
   },
   {
    "duration": 7,
    "start_time": "2021-06-17T12:35:00.292Z"
   },
   {
    "duration": 10093,
    "start_time": "2021-06-17T12:35:18.263Z"
   },
   {
    "duration": 5189,
    "start_time": "2021-06-17T12:35:23.170Z"
   },
   {
    "duration": 44,
    "start_time": "2021-06-17T12:35:33.781Z"
   },
   {
    "duration": 5,
    "start_time": "2021-06-17T12:38:09.019Z"
   },
   {
    "duration": 729,
    "start_time": "2021-06-17T12:38:09.859Z"
   },
   {
    "duration": 5,
    "start_time": "2021-06-17T12:38:24.404Z"
   },
   {
    "duration": 237,
    "start_time": "2021-06-17T12:38:24.625Z"
   },
   {
    "duration": 44,
    "start_time": "2021-06-17T12:38:28.066Z"
   },
   {
    "duration": 8,
    "start_time": "2021-06-17T12:38:49.247Z"
   },
   {
    "duration": 6,
    "start_time": "2021-06-17T12:39:00.384Z"
   },
   {
    "duration": 268,
    "start_time": "2021-06-17T12:39:11.003Z"
   },
   {
    "duration": 288,
    "start_time": "2021-06-17T12:39:24.623Z"
   },
   {
    "duration": 6,
    "start_time": "2021-06-17T12:42:54.945Z"
   },
   {
    "duration": 7787,
    "start_time": "2021-06-17T12:42:55.764Z"
   },
   {
    "duration": 5,
    "start_time": "2021-06-17T12:43:43.903Z"
   },
   {
    "duration": 8164,
    "start_time": "2021-06-17T12:43:44.646Z"
   },
   {
    "duration": 5,
    "start_time": "2021-06-17T12:44:18.505Z"
   },
   {
    "duration": 337,
    "start_time": "2021-06-17T12:44:19.388Z"
   },
   {
    "duration": 5,
    "start_time": "2021-06-17T12:45:56.015Z"
   },
   {
    "duration": 328,
    "start_time": "2021-06-17T12:45:56.513Z"
   },
   {
    "duration": 43,
    "start_time": "2021-06-17T12:46:03.222Z"
   },
   {
    "duration": 2513,
    "start_time": "2021-06-17T12:46:20.153Z"
   },
   {
    "duration": 25,
    "start_time": "2021-06-17T12:46:22.669Z"
   },
   {
    "duration": 11,
    "start_time": "2021-06-17T12:46:22.697Z"
   },
   {
    "duration": 27,
    "start_time": "2021-06-17T12:46:22.711Z"
   },
   {
    "duration": 51,
    "start_time": "2021-06-17T12:46:22.741Z"
   },
   {
    "duration": 27,
    "start_time": "2021-06-17T12:46:22.795Z"
   },
   {
    "duration": 60,
    "start_time": "2021-06-17T12:46:22.824Z"
   },
   {
    "duration": 16,
    "start_time": "2021-06-17T12:46:22.888Z"
   },
   {
    "duration": 21,
    "start_time": "2021-06-17T12:46:22.908Z"
   },
   {
    "duration": 64,
    "start_time": "2021-06-17T12:46:22.932Z"
   },
   {
    "duration": 23,
    "start_time": "2021-06-17T12:46:22.999Z"
   },
   {
    "duration": 27,
    "start_time": "2021-06-17T12:46:23.024Z"
   },
   {
    "duration": 74,
    "start_time": "2021-06-17T12:46:23.054Z"
   },
   {
    "duration": 10,
    "start_time": "2021-06-17T12:46:23.131Z"
   },
   {
    "duration": 12,
    "start_time": "2021-06-17T12:46:23.143Z"
   },
   {
    "duration": 37,
    "start_time": "2021-06-17T12:46:23.157Z"
   },
   {
    "duration": 46,
    "start_time": "2021-06-17T12:46:23.196Z"
   },
   {
    "duration": 56,
    "start_time": "2021-06-17T12:46:23.245Z"
   },
   {
    "duration": 8,
    "start_time": "2021-06-17T12:46:23.304Z"
   },
   {
    "duration": 20,
    "start_time": "2021-06-17T12:46:23.314Z"
   },
   {
    "duration": 60,
    "start_time": "2021-06-17T12:46:23.337Z"
   },
   {
    "duration": 24,
    "start_time": "2021-06-17T12:46:23.399Z"
   },
   {
    "duration": 13,
    "start_time": "2021-06-17T12:46:23.431Z"
   },
   {
    "duration": 61,
    "start_time": "2021-06-17T12:46:23.448Z"
   },
   {
    "duration": 27,
    "start_time": "2021-06-17T12:46:23.512Z"
   },
   {
    "duration": 15,
    "start_time": "2021-06-17T12:46:23.542Z"
   },
   {
    "duration": 32,
    "start_time": "2021-06-17T12:46:23.585Z"
   },
   {
    "duration": 30,
    "start_time": "2021-06-17T12:46:23.619Z"
   },
   {
    "duration": 41,
    "start_time": "2021-06-17T12:46:23.651Z"
   },
   {
    "duration": 24,
    "start_time": "2021-06-17T12:46:23.695Z"
   },
   {
    "duration": 20,
    "start_time": "2021-06-17T12:46:23.721Z"
   },
   {
    "duration": 48,
    "start_time": "2021-06-17T12:46:23.744Z"
   },
   {
    "duration": 28,
    "start_time": "2021-06-17T12:46:23.795Z"
   },
   {
    "duration": 21,
    "start_time": "2021-06-17T12:46:23.825Z"
   },
   {
    "duration": 41,
    "start_time": "2021-06-17T12:46:23.848Z"
   },
   {
    "duration": 13,
    "start_time": "2021-06-17T12:46:23.892Z"
   },
   {
    "duration": 13,
    "start_time": "2021-06-17T12:46:23.907Z"
   },
   {
    "duration": 18,
    "start_time": "2021-06-17T12:46:23.922Z"
   },
   {
    "duration": 68,
    "start_time": "2021-06-17T12:46:23.944Z"
   },
   {
    "duration": 4,
    "start_time": "2021-06-17T12:46:24.015Z"
   },
   {
    "duration": 13,
    "start_time": "2021-06-17T12:46:24.022Z"
   },
   {
    "duration": 59,
    "start_time": "2021-06-17T12:46:24.039Z"
   },
   {
    "duration": 15,
    "start_time": "2021-06-17T12:46:24.100Z"
   },
   {
    "duration": 640,
    "start_time": "2021-06-17T12:46:24.117Z"
   },
   {
    "duration": 7,
    "start_time": "2021-06-17T12:46:24.760Z"
   },
   {
    "duration": 22,
    "start_time": "2021-06-17T12:46:24.769Z"
   },
   {
    "duration": 5,
    "start_time": "2021-06-17T12:46:24.793Z"
   },
   {
    "duration": 366,
    "start_time": "2021-06-17T12:46:24.801Z"
   },
   {
    "duration": 45,
    "start_time": "2021-06-17T12:46:25.169Z"
   },
   {
    "duration": 6,
    "start_time": "2021-06-17T12:47:13.893Z"
   },
   {
    "duration": 31,
    "start_time": "2021-06-17T12:47:20.794Z"
   },
   {
    "duration": 13,
    "start_time": "2021-06-17T12:56:37.933Z"
   },
   {
    "duration": 435,
    "start_time": "2021-06-17T12:57:06.180Z"
   },
   {
    "duration": 3611,
    "start_time": "2021-06-17T12:58:13.010Z"
   },
   {
    "duration": 16,
    "start_time": "2021-06-17T13:00:17.435Z"
   },
   {
    "duration": 15,
    "start_time": "2021-06-17T13:00:36.492Z"
   },
   {
    "duration": 1341,
    "start_time": "2021-06-17T13:00:47.382Z"
   },
   {
    "duration": 1159,
    "start_time": "2021-06-17T13:01:18.127Z"
   },
   {
    "duration": 14,
    "start_time": "2021-06-17T13:07:11.569Z"
   },
   {
    "duration": 1217,
    "start_time": "2021-06-17T13:07:38.590Z"
   },
   {
    "duration": 1214,
    "start_time": "2021-06-17T13:07:58.795Z"
   },
   {
    "duration": 15,
    "start_time": "2021-06-17T13:09:30.800Z"
   },
   {
    "duration": 1203,
    "start_time": "2021-06-17T13:09:49.292Z"
   },
   {
    "duration": 1204,
    "start_time": "2021-06-17T13:10:13.852Z"
   },
   {
    "duration": 18,
    "start_time": "2021-06-17T13:21:54.467Z"
   },
   {
    "duration": 18,
    "start_time": "2021-06-17T13:30:34.376Z"
   },
   {
    "duration": 2729,
    "start_time": "2021-06-17T14:51:16.417Z"
   },
   {
    "duration": 24,
    "start_time": "2021-06-17T14:51:19.148Z"
   },
   {
    "duration": 12,
    "start_time": "2021-06-17T14:51:19.175Z"
   },
   {
    "duration": 27,
    "start_time": "2021-06-17T14:51:19.190Z"
   },
   {
    "duration": 19,
    "start_time": "2021-06-17T14:51:19.219Z"
   },
   {
    "duration": 52,
    "start_time": "2021-06-17T14:51:19.241Z"
   },
   {
    "duration": 39,
    "start_time": "2021-06-17T14:51:19.296Z"
   },
   {
    "duration": 45,
    "start_time": "2021-06-17T14:51:19.338Z"
   },
   {
    "duration": 18,
    "start_time": "2021-06-17T14:51:19.386Z"
   },
   {
    "duration": 23,
    "start_time": "2021-06-17T14:51:19.408Z"
   },
   {
    "duration": 50,
    "start_time": "2021-06-17T14:51:19.433Z"
   },
   {
    "duration": 23,
    "start_time": "2021-06-17T14:51:19.485Z"
   },
   {
    "duration": 35,
    "start_time": "2021-06-17T14:51:19.511Z"
   },
   {
    "duration": 37,
    "start_time": "2021-06-17T14:51:19.548Z"
   },
   {
    "duration": 10,
    "start_time": "2021-06-17T14:51:19.587Z"
   },
   {
    "duration": 16,
    "start_time": "2021-06-17T14:51:19.599Z"
   },
   {
    "duration": 41,
    "start_time": "2021-06-17T14:51:19.617Z"
   },
   {
    "duration": 53,
    "start_time": "2021-06-17T14:51:19.661Z"
   },
   {
    "duration": 9,
    "start_time": "2021-06-17T14:51:19.716Z"
   },
   {
    "duration": 17,
    "start_time": "2021-06-17T14:51:19.728Z"
   },
   {
    "duration": 49,
    "start_time": "2021-06-17T14:51:19.749Z"
   },
   {
    "duration": 23,
    "start_time": "2021-06-17T14:51:19.801Z"
   },
   {
    "duration": 19,
    "start_time": "2021-06-17T14:51:19.826Z"
   },
   {
    "duration": 29,
    "start_time": "2021-06-17T14:51:19.938Z"
   },
   {
    "duration": 23,
    "start_time": "2021-06-17T14:51:19.970Z"
   },
   {
    "duration": 27,
    "start_time": "2021-06-17T14:51:19.996Z"
   },
   {
    "duration": 31,
    "start_time": "2021-06-17T14:51:20.538Z"
   },
   {
    "duration": 32,
    "start_time": "2021-06-17T14:51:20.572Z"
   },
   {
    "duration": 12,
    "start_time": "2021-06-17T14:51:20.608Z"
   },
   {
    "duration": 20,
    "start_time": "2021-06-17T14:51:20.979Z"
   },
   {
    "duration": 18,
    "start_time": "2021-06-17T14:51:21.001Z"
   },
   {
    "duration": 9,
    "start_time": "2021-06-17T14:51:21.021Z"
   },
   {
    "duration": 25,
    "start_time": "2021-06-17T14:51:21.217Z"
   },
   {
    "duration": 22,
    "start_time": "2021-06-17T14:51:21.245Z"
   },
   {
    "duration": 11,
    "start_time": "2021-06-17T14:51:21.270Z"
   },
   {
    "duration": 13,
    "start_time": "2021-06-17T14:51:21.737Z"
   },
   {
    "duration": 14,
    "start_time": "2021-06-17T14:51:21.753Z"
   },
   {
    "duration": 12,
    "start_time": "2021-06-17T14:51:21.769Z"
   },
   {
    "duration": 22,
    "start_time": "2021-06-17T14:51:22.078Z"
   },
   {
    "duration": 5,
    "start_time": "2021-06-17T14:51:22.104Z"
   },
   {
    "duration": 14,
    "start_time": "2021-06-17T14:51:22.113Z"
   },
   {
    "duration": 54,
    "start_time": "2021-06-17T14:51:22.129Z"
   },
   {
    "duration": 14,
    "start_time": "2021-06-17T14:51:22.185Z"
   },
   {
    "duration": 631,
    "start_time": "2021-06-17T14:51:22.201Z"
   },
   {
    "duration": 8,
    "start_time": "2021-06-17T14:51:22.836Z"
   },
   {
    "duration": 11,
    "start_time": "2021-06-17T14:51:22.847Z"
   },
   {
    "duration": 26,
    "start_time": "2021-06-17T14:51:22.860Z"
   },
   {
    "duration": 347,
    "start_time": "2021-06-17T14:51:22.889Z"
   },
   {
    "duration": 4,
    "start_time": "2021-06-17T14:51:23.238Z"
   },
   {
    "duration": 42,
    "start_time": "2021-06-17T14:51:23.244Z"
   },
   {
    "duration": 16,
    "start_time": "2021-06-17T14:51:23.288Z"
   },
   {
    "duration": 13,
    "start_time": "2021-06-17T14:51:23.308Z"
   },
   {
    "duration": 1397,
    "start_time": "2021-06-17T14:51:23.399Z"
   },
   {
    "duration": 1296,
    "start_time": "2021-06-17T14:51:24.799Z"
   },
   {
    "duration": 18,
    "start_time": "2021-06-17T14:51:26.098Z"
   },
   {
    "duration": 14,
    "start_time": "2021-06-17T14:51:26.118Z"
   },
   {
    "duration": 1285,
    "start_time": "2021-06-17T14:51:26.134Z"
   },
   {
    "duration": 1271,
    "start_time": "2021-06-17T14:51:27.421Z"
   },
   {
    "duration": 17,
    "start_time": "2021-06-17T14:51:28.694Z"
   },
   {
    "duration": 90,
    "start_time": "2021-06-17T14:51:28.713Z"
   },
   {
    "duration": 6344,
    "start_time": "2021-06-17T14:51:22.462Z"
   },
   {
    "duration": 6338,
    "start_time": "2021-06-17T14:51:22.469Z"
   },
   {
    "duration": 6333,
    "start_time": "2021-06-17T14:51:22.476Z"
   },
   {
    "duration": 79,
    "start_time": "2021-06-17T14:59:25.665Z"
   },
   {
    "duration": 20,
    "start_time": "2021-06-17T15:01:59.283Z"
   },
   {
    "duration": 2476,
    "start_time": "2021-06-17T15:02:39.438Z"
   },
   {
    "duration": 30,
    "start_time": "2021-06-17T15:02:41.917Z"
   },
   {
    "duration": 11,
    "start_time": "2021-06-17T15:02:41.951Z"
   },
   {
    "duration": 45,
    "start_time": "2021-06-17T15:02:41.965Z"
   },
   {
    "duration": 29,
    "start_time": "2021-06-17T15:02:42.013Z"
   },
   {
    "duration": 42,
    "start_time": "2021-06-17T15:02:42.044Z"
   },
   {
    "duration": 48,
    "start_time": "2021-06-17T15:02:42.089Z"
   },
   {
    "duration": 45,
    "start_time": "2021-06-17T15:02:42.142Z"
   },
   {
    "duration": 21,
    "start_time": "2021-06-17T15:02:42.191Z"
   },
   {
    "duration": 22,
    "start_time": "2021-06-17T15:02:42.215Z"
   },
   {
    "duration": 60,
    "start_time": "2021-06-17T15:02:42.240Z"
   },
   {
    "duration": 22,
    "start_time": "2021-06-17T15:02:42.303Z"
   },
   {
    "duration": 60,
    "start_time": "2021-06-17T15:02:42.327Z"
   },
   {
    "duration": 11,
    "start_time": "2021-06-17T15:02:42.390Z"
   },
   {
    "duration": 12,
    "start_time": "2021-06-17T15:02:42.404Z"
   },
   {
    "duration": 13,
    "start_time": "2021-06-17T15:02:42.418Z"
   },
   {
    "duration": 73,
    "start_time": "2021-06-17T15:02:42.434Z"
   },
   {
    "duration": 34,
    "start_time": "2021-06-17T15:02:42.510Z"
   },
   {
    "duration": 10,
    "start_time": "2021-06-17T15:02:42.546Z"
   },
   {
    "duration": 37,
    "start_time": "2021-06-17T15:02:42.559Z"
   },
   {
    "duration": 25,
    "start_time": "2021-06-17T15:02:42.599Z"
   },
   {
    "duration": 21,
    "start_time": "2021-06-17T15:02:42.627Z"
   },
   {
    "duration": 35,
    "start_time": "2021-06-17T15:02:42.654Z"
   },
   {
    "duration": 28,
    "start_time": "2021-06-17T15:02:42.692Z"
   },
   {
    "duration": 24,
    "start_time": "2021-06-17T15:02:42.723Z"
   },
   {
    "duration": 43,
    "start_time": "2021-06-17T15:02:42.749Z"
   },
   {
    "duration": 31,
    "start_time": "2021-06-17T15:02:42.794Z"
   },
   {
    "duration": 56,
    "start_time": "2021-06-17T15:02:42.827Z"
   },
   {
    "duration": 10,
    "start_time": "2021-06-17T15:02:42.885Z"
   },
   {
    "duration": 24,
    "start_time": "2021-06-17T15:02:42.898Z"
   },
   {
    "duration": 18,
    "start_time": "2021-06-17T15:02:42.924Z"
   },
   {
    "duration": 9,
    "start_time": "2021-06-17T15:02:42.944Z"
   },
   {
    "duration": 26,
    "start_time": "2021-06-17T15:02:42.984Z"
   },
   {
    "duration": 18,
    "start_time": "2021-06-17T15:02:43.012Z"
   },
   {
    "duration": 10,
    "start_time": "2021-06-17T15:02:43.032Z"
   },
   {
    "duration": 45,
    "start_time": "2021-06-17T15:02:43.045Z"
   },
   {
    "duration": 13,
    "start_time": "2021-06-17T15:02:43.092Z"
   },
   {
    "duration": 12,
    "start_time": "2021-06-17T15:02:43.108Z"
   },
   {
    "duration": 21,
    "start_time": "2021-06-17T15:02:43.122Z"
   },
   {
    "duration": 39,
    "start_time": "2021-06-17T15:02:43.146Z"
   },
   {
    "duration": 15,
    "start_time": "2021-06-17T15:02:43.188Z"
   },
   {
    "duration": 25,
    "start_time": "2021-06-17T15:02:43.205Z"
   },
   {
    "duration": 12,
    "start_time": "2021-06-17T15:02:43.232Z"
   },
   {
    "duration": 641,
    "start_time": "2021-06-17T15:02:43.247Z"
   },
   {
    "duration": 8,
    "start_time": "2021-06-17T15:02:43.891Z"
   },
   {
    "duration": 15,
    "start_time": "2021-06-17T15:02:43.901Z"
   },
   {
    "duration": 5,
    "start_time": "2021-06-17T15:02:43.918Z"
   },
   {
    "duration": 359,
    "start_time": "2021-06-17T15:02:43.925Z"
   },
   {
    "duration": 4,
    "start_time": "2021-06-17T15:02:44.287Z"
   },
   {
    "duration": 31,
    "start_time": "2021-06-17T15:02:44.294Z"
   },
   {
    "duration": 98,
    "start_time": "2021-06-17T15:02:44.327Z"
   },
   {
    "duration": 16,
    "start_time": "2021-06-17T15:02:44.427Z"
   },
   {
    "duration": 16,
    "start_time": "2021-06-17T15:02:44.445Z"
   },
   {
    "duration": 1457,
    "start_time": "2021-06-17T15:02:44.463Z"
   },
   {
    "duration": 1224,
    "start_time": "2021-06-17T15:02:45.923Z"
   },
   {
    "duration": 18,
    "start_time": "2021-06-17T15:02:47.149Z"
   },
   {
    "duration": 14,
    "start_time": "2021-06-17T15:02:47.184Z"
   },
   {
    "duration": 1231,
    "start_time": "2021-06-17T15:02:47.200Z"
   },
   {
    "duration": 1320,
    "start_time": "2021-06-17T15:02:48.433Z"
   },
   {
    "duration": 29,
    "start_time": "2021-06-17T15:02:49.755Z"
   },
   {
    "duration": 14,
    "start_time": "2021-06-17T15:02:49.786Z"
   },
   {
    "duration": 1238,
    "start_time": "2021-06-17T15:02:49.802Z"
   },
   {
    "duration": 1217,
    "start_time": "2021-06-17T15:02:51.043Z"
   },
   {
    "duration": 21,
    "start_time": "2021-06-17T15:03:58.186Z"
   },
   {
    "duration": 16,
    "start_time": "2021-06-17T15:18:26.289Z"
   },
   {
    "duration": 1374,
    "start_time": "2021-06-17T15:19:02.839Z"
   },
   {
    "duration": 1193,
    "start_time": "2021-06-17T15:19:41.401Z"
   },
   {
    "duration": 2441,
    "start_time": "2021-06-17T15:25:35.104Z"
   },
   {
    "duration": 25,
    "start_time": "2021-06-17T15:25:37.548Z"
   },
   {
    "duration": 13,
    "start_time": "2021-06-17T15:25:37.576Z"
   },
   {
    "duration": 24,
    "start_time": "2021-06-17T15:25:37.592Z"
   },
   {
    "duration": 20,
    "start_time": "2021-06-17T15:25:37.618Z"
   },
   {
    "duration": 50,
    "start_time": "2021-06-17T15:25:37.640Z"
   },
   {
    "duration": 33,
    "start_time": "2021-06-17T15:25:37.692Z"
   },
   {
    "duration": 15,
    "start_time": "2021-06-17T15:25:37.729Z"
   },
   {
    "duration": 48,
    "start_time": "2021-06-17T15:25:37.747Z"
   },
   {
    "duration": 21,
    "start_time": "2021-06-17T15:25:37.798Z"
   },
   {
    "duration": 19,
    "start_time": "2021-06-17T15:25:37.821Z"
   },
   {
    "duration": 64,
    "start_time": "2021-06-17T15:25:37.843Z"
   },
   {
    "duration": 44,
    "start_time": "2021-06-17T15:25:37.909Z"
   },
   {
    "duration": 38,
    "start_time": "2021-06-17T15:25:37.955Z"
   },
   {
    "duration": 20,
    "start_time": "2021-06-17T15:25:37.997Z"
   },
   {
    "duration": 28,
    "start_time": "2021-06-17T15:25:38.020Z"
   },
   {
    "duration": 43,
    "start_time": "2021-06-17T15:25:38.051Z"
   },
   {
    "duration": 35,
    "start_time": "2021-06-17T15:25:38.097Z"
   },
   {
    "duration": 10,
    "start_time": "2021-06-17T15:25:38.135Z"
   },
   {
    "duration": 38,
    "start_time": "2021-06-17T15:25:38.147Z"
   },
   {
    "duration": 25,
    "start_time": "2021-06-17T15:25:38.188Z"
   },
   {
    "duration": 21,
    "start_time": "2021-06-17T15:25:38.215Z"
   },
   {
    "duration": 15,
    "start_time": "2021-06-17T15:25:38.242Z"
   },
   {
    "duration": 48,
    "start_time": "2021-06-17T15:25:38.288Z"
   },
   {
    "duration": 70,
    "start_time": "2021-06-17T15:25:38.339Z"
   },
   {
    "duration": 17,
    "start_time": "2021-06-17T15:25:38.413Z"
   },
   {
    "duration": 57,
    "start_time": "2021-06-17T15:25:38.433Z"
   },
   {
    "duration": 30,
    "start_time": "2021-06-17T15:25:38.493Z"
   },
   {
    "duration": 11,
    "start_time": "2021-06-17T15:25:38.526Z"
   },
   {
    "duration": 55,
    "start_time": "2021-06-17T15:25:38.540Z"
   },
   {
    "duration": 19,
    "start_time": "2021-06-17T15:25:38.598Z"
   },
   {
    "duration": 11,
    "start_time": "2021-06-17T15:25:38.620Z"
   },
   {
    "duration": 62,
    "start_time": "2021-06-17T15:25:38.633Z"
   },
   {
    "duration": 23,
    "start_time": "2021-06-17T15:25:38.698Z"
   },
   {
    "duration": 11,
    "start_time": "2021-06-17T15:25:38.723Z"
   },
   {
    "duration": 46,
    "start_time": "2021-06-17T15:25:38.737Z"
   },
   {
    "duration": 12,
    "start_time": "2021-06-17T15:25:38.786Z"
   },
   {
    "duration": 12,
    "start_time": "2021-06-17T15:25:38.801Z"
   },
   {
    "duration": 23,
    "start_time": "2021-06-17T15:25:38.815Z"
   },
   {
    "duration": 6,
    "start_time": "2021-06-17T15:25:38.840Z"
   },
   {
    "duration": 47,
    "start_time": "2021-06-17T15:25:38.848Z"
   },
   {
    "duration": 29,
    "start_time": "2021-06-17T15:25:38.897Z"
   },
   {
    "duration": 14,
    "start_time": "2021-06-17T15:25:38.929Z"
   },
   {
    "duration": 683,
    "start_time": "2021-06-17T15:25:38.945Z"
   },
   {
    "duration": 11,
    "start_time": "2021-06-17T15:25:39.632Z"
   },
   {
    "duration": 40,
    "start_time": "2021-06-17T15:25:39.645Z"
   },
   {
    "duration": 7,
    "start_time": "2021-06-17T15:25:39.688Z"
   },
   {
    "duration": 349,
    "start_time": "2021-06-17T15:25:39.697Z"
   },
   {
    "duration": 5,
    "start_time": "2021-06-17T15:25:40.048Z"
   },
   {
    "duration": 45,
    "start_time": "2021-06-17T15:25:40.056Z"
   },
   {
    "duration": 97,
    "start_time": "2021-06-17T15:25:40.104Z"
   },
   {
    "duration": 16,
    "start_time": "2021-06-17T15:25:40.203Z"
   },
   {
    "duration": 14,
    "start_time": "2021-06-17T15:25:40.221Z"
   },
   {
    "duration": 1414,
    "start_time": "2021-06-17T15:25:40.237Z"
   },
   {
    "duration": 1307,
    "start_time": "2021-06-17T15:25:41.653Z"
   },
   {
    "duration": 30,
    "start_time": "2021-06-17T15:25:42.962Z"
   },
   {
    "duration": 14,
    "start_time": "2021-06-17T15:25:42.995Z"
   },
   {
    "duration": 1311,
    "start_time": "2021-06-17T15:25:43.011Z"
   },
   {
    "duration": 1334,
    "start_time": "2021-06-17T15:25:44.324Z"
   },
   {
    "duration": 29,
    "start_time": "2021-06-17T15:25:45.661Z"
   },
   {
    "duration": 14,
    "start_time": "2021-06-17T15:25:45.693Z"
   },
   {
    "duration": 1285,
    "start_time": "2021-06-17T15:25:45.709Z"
   },
   {
    "duration": 1221,
    "start_time": "2021-06-17T15:25:46.997Z"
   },
   {
    "duration": 19,
    "start_time": "2021-06-17T15:25:48.221Z"
   },
   {
    "duration": 44,
    "start_time": "2021-06-17T15:25:48.243Z"
   },
   {
    "duration": 1398,
    "start_time": "2021-06-17T15:25:48.289Z"
   },
   {
    "duration": 1226,
    "start_time": "2021-06-17T15:25:49.689Z"
   },
   {
    "duration": 18,
    "start_time": "2021-06-17T15:25:50.922Z"
   },
   {
    "duration": 2813,
    "start_time": "2021-06-17T17:38:26.900Z"
   },
   {
    "duration": 27,
    "start_time": "2021-06-17T17:38:29.715Z"
   },
   {
    "duration": 18,
    "start_time": "2021-06-17T17:38:29.745Z"
   },
   {
    "duration": 46,
    "start_time": "2021-06-17T17:38:29.767Z"
   },
   {
    "duration": 39,
    "start_time": "2021-06-17T17:38:29.815Z"
   },
   {
    "duration": 28,
    "start_time": "2021-06-17T17:38:29.856Z"
   },
   {
    "duration": 50,
    "start_time": "2021-06-17T17:38:29.887Z"
   },
   {
    "duration": 16,
    "start_time": "2021-06-17T17:38:29.941Z"
   },
   {
    "duration": 19,
    "start_time": "2021-06-17T17:38:29.960Z"
   },
   {
    "duration": 19,
    "start_time": "2021-06-17T17:38:30.010Z"
   },
   {
    "duration": 19,
    "start_time": "2021-06-17T17:38:30.032Z"
   },
   {
    "duration": 23,
    "start_time": "2021-06-17T17:38:30.053Z"
   },
   {
    "duration": 66,
    "start_time": "2021-06-17T17:38:30.078Z"
   },
   {
    "duration": 11,
    "start_time": "2021-06-17T17:38:30.147Z"
   },
   {
    "duration": 18,
    "start_time": "2021-06-17T17:38:30.160Z"
   },
   {
    "duration": 35,
    "start_time": "2021-06-17T17:38:30.180Z"
   },
   {
    "duration": 61,
    "start_time": "2021-06-17T17:38:30.218Z"
   },
   {
    "duration": 34,
    "start_time": "2021-06-17T17:38:30.281Z"
   },
   {
    "duration": 29,
    "start_time": "2021-06-17T17:38:30.318Z"
   },
   {
    "duration": 55,
    "start_time": "2021-06-17T17:38:30.350Z"
   },
   {
    "duration": 31,
    "start_time": "2021-06-17T17:38:30.407Z"
   },
   {
    "duration": 27,
    "start_time": "2021-06-17T17:38:30.441Z"
   },
   {
    "duration": 26,
    "start_time": "2021-06-17T17:38:30.474Z"
   },
   {
    "duration": 30,
    "start_time": "2021-06-17T17:38:30.503Z"
   },
   {
    "duration": 26,
    "start_time": "2021-06-17T17:38:30.536Z"
   },
   {
    "duration": 30,
    "start_time": "2021-06-17T17:38:30.564Z"
   },
   {
    "duration": 47,
    "start_time": "2021-06-17T17:38:30.596Z"
   },
   {
    "duration": 29,
    "start_time": "2021-06-17T17:38:30.645Z"
   },
   {
    "duration": 21,
    "start_time": "2021-06-17T17:38:30.677Z"
   },
   {
    "duration": 43,
    "start_time": "2021-06-17T17:38:30.708Z"
   },
   {
    "duration": 18,
    "start_time": "2021-06-17T17:38:30.754Z"
   },
   {
    "duration": 9,
    "start_time": "2021-06-17T17:38:30.775Z"
   },
   {
    "duration": 37,
    "start_time": "2021-06-17T17:38:30.786Z"
   },
   {
    "duration": 21,
    "start_time": "2021-06-17T17:38:30.825Z"
   },
   {
    "duration": 10,
    "start_time": "2021-06-17T17:38:30.848Z"
   },
   {
    "duration": 20,
    "start_time": "2021-06-17T17:38:30.860Z"
   },
   {
    "duration": 39,
    "start_time": "2021-06-17T17:38:30.882Z"
   },
   {
    "duration": 43,
    "start_time": "2021-06-17T17:38:30.924Z"
   },
   {
    "duration": 33,
    "start_time": "2021-06-17T17:38:30.970Z"
   },
   {
    "duration": 9,
    "start_time": "2021-06-17T17:38:31.005Z"
   },
   {
    "duration": 28,
    "start_time": "2021-06-17T17:38:31.017Z"
   },
   {
    "duration": 51,
    "start_time": "2021-06-17T17:38:31.047Z"
   },
   {
    "duration": 13,
    "start_time": "2021-06-17T17:38:31.101Z"
   },
   {
    "duration": 115182,
    "start_time": "2021-06-17T17:38:31.116Z"
   },
   {
    "duration": 15,
    "start_time": "2021-06-17T17:40:26.300Z"
   },
   {
    "duration": 16,
    "start_time": "2021-06-17T17:40:26.318Z"
   },
   {
    "duration": 7,
    "start_time": "2021-06-17T17:40:26.337Z"
   },
   {
    "duration": 400,
    "start_time": "2021-06-17T17:40:26.347Z"
   },
   {
    "duration": 5,
    "start_time": "2021-06-17T17:40:26.750Z"
   },
   {
    "duration": 38,
    "start_time": "2021-06-17T17:40:26.757Z"
   },
   {
    "duration": 87,
    "start_time": "2021-06-17T17:40:26.809Z"
   },
   {
    "duration": 23,
    "start_time": "2021-06-17T17:40:26.898Z"
   },
   {
    "duration": 14,
    "start_time": "2021-06-17T17:40:26.924Z"
   },
   {
    "duration": 1637,
    "start_time": "2021-06-17T17:40:26.941Z"
   },
   {
    "duration": 1346,
    "start_time": "2021-06-17T17:40:28.581Z"
   },
   {
    "duration": 17,
    "start_time": "2021-06-17T17:40:29.930Z"
   },
   {
    "duration": 14,
    "start_time": "2021-06-17T17:40:29.950Z"
   },
   {
    "duration": 1360,
    "start_time": "2021-06-17T17:40:29.967Z"
   },
   {
    "duration": 1501,
    "start_time": "2021-06-17T17:40:31.330Z"
   },
   {
    "duration": 17,
    "start_time": "2021-06-17T17:40:32.834Z"
   },
   {
    "duration": 27,
    "start_time": "2021-06-17T17:40:32.854Z"
   },
   {
    "duration": 1339,
    "start_time": "2021-06-17T17:40:32.884Z"
   },
   {
    "duration": 1275,
    "start_time": "2021-06-17T17:40:34.226Z"
   },
   {
    "duration": 17,
    "start_time": "2021-06-17T17:40:35.504Z"
   },
   {
    "duration": 29,
    "start_time": "2021-06-17T17:40:35.523Z"
   },
   {
    "duration": 1468,
    "start_time": "2021-06-17T17:40:35.555Z"
   },
   {
    "duration": 1432,
    "start_time": "2021-06-17T17:40:37.026Z"
   },
   {
    "duration": 17,
    "start_time": "2021-06-17T17:40:38.465Z"
   },
   {
    "duration": 7,
    "start_time": "2021-06-17T17:40:39.403Z"
   },
   {
    "duration": 13,
    "start_time": "2021-06-17T17:42:04.237Z"
   },
   {
    "duration": 87,
    "start_time": "2021-06-17T18:19:10.318Z"
   },
   {
    "duration": 6985,
    "start_time": "2021-06-17T18:19:42.018Z"
   },
   {
    "duration": 2894,
    "start_time": "2021-06-17T18:20:07.875Z"
   },
   {
    "duration": 35,
    "start_time": "2021-06-17T18:20:10.772Z"
   },
   {
    "duration": 13,
    "start_time": "2021-06-17T18:20:10.810Z"
   },
   {
    "duration": 25,
    "start_time": "2021-06-17T18:20:10.827Z"
   },
   {
    "duration": 51,
    "start_time": "2021-06-17T18:20:10.855Z"
   },
   {
    "duration": 30,
    "start_time": "2021-06-17T18:20:10.909Z"
   },
   {
    "duration": 67,
    "start_time": "2021-06-17T18:20:10.943Z"
   },
   {
    "duration": 22,
    "start_time": "2021-06-17T18:20:11.013Z"
   },
   {
    "duration": 49,
    "start_time": "2021-06-17T18:20:11.042Z"
   },
   {
    "duration": 19,
    "start_time": "2021-06-17T18:20:11.095Z"
   },
   {
    "duration": 28,
    "start_time": "2021-06-17T18:20:11.117Z"
   },
   {
    "duration": 55,
    "start_time": "2021-06-17T18:20:11.148Z"
   },
   {
    "duration": 42,
    "start_time": "2021-06-17T18:20:11.206Z"
   },
   {
    "duration": 32,
    "start_time": "2021-06-17T18:20:11.251Z"
   },
   {
    "duration": 16,
    "start_time": "2021-06-17T18:20:11.286Z"
   },
   {
    "duration": 17,
    "start_time": "2021-06-17T18:20:11.305Z"
   },
   {
    "duration": 70,
    "start_time": "2021-06-17T18:20:11.325Z"
   },
   {
    "duration": 45,
    "start_time": "2021-06-17T18:20:11.397Z"
   },
   {
    "duration": 21,
    "start_time": "2021-06-17T18:20:11.444Z"
   },
   {
    "duration": 29,
    "start_time": "2021-06-17T18:20:11.467Z"
   },
   {
    "duration": 33,
    "start_time": "2021-06-17T18:20:11.499Z"
   },
   {
    "duration": 25,
    "start_time": "2021-06-17T18:20:11.534Z"
   },
   {
    "duration": 36,
    "start_time": "2021-06-17T18:20:11.561Z"
   },
   {
    "duration": 39,
    "start_time": "2021-06-17T18:20:11.602Z"
   },
   {
    "duration": 64,
    "start_time": "2021-06-17T18:20:11.644Z"
   },
   {
    "duration": 16,
    "start_time": "2021-06-17T18:20:11.711Z"
   },
   {
    "duration": 67,
    "start_time": "2021-06-17T18:20:11.735Z"
   },
   {
    "duration": 32,
    "start_time": "2021-06-17T18:20:11.807Z"
   },
   {
    "duration": 11,
    "start_time": "2021-06-17T18:20:11.841Z"
   },
   {
    "duration": 48,
    "start_time": "2021-06-17T18:20:11.854Z"
   },
   {
    "duration": 24,
    "start_time": "2021-06-17T18:20:11.905Z"
   },
   {
    "duration": 13,
    "start_time": "2021-06-17T18:20:11.932Z"
   },
   {
    "duration": 57,
    "start_time": "2021-06-17T18:20:11.948Z"
   },
   {
    "duration": 25,
    "start_time": "2021-06-17T18:20:12.010Z"
   },
   {
    "duration": 12,
    "start_time": "2021-06-17T18:20:12.038Z"
   },
   {
    "duration": 35,
    "start_time": "2021-06-17T18:20:12.052Z"
   },
   {
    "duration": 18,
    "start_time": "2021-06-17T18:20:12.089Z"
   },
   {
    "duration": 17,
    "start_time": "2021-06-17T18:20:12.111Z"
   },
   {
    "duration": 52,
    "start_time": "2021-06-17T18:20:12.131Z"
   },
   {
    "duration": 7,
    "start_time": "2021-06-17T18:20:12.188Z"
   },
   {
    "duration": 25,
    "start_time": "2021-06-17T18:20:12.197Z"
   },
   {
    "duration": 28,
    "start_time": "2021-06-17T18:20:12.225Z"
   },
   {
    "duration": 45,
    "start_time": "2021-06-17T18:20:12.255Z"
   },
   {
    "duration": 949,
    "start_time": "2021-06-17T18:20:12.304Z"
   },
   {
    "duration": 12,
    "start_time": "2021-06-17T18:20:13.256Z"
   },
   {
    "duration": 25,
    "start_time": "2021-06-17T18:20:13.271Z"
   },
   {
    "duration": 12,
    "start_time": "2021-06-17T18:20:13.299Z"
   },
   {
    "duration": 419,
    "start_time": "2021-06-17T18:20:13.314Z"
   },
   {
    "duration": 6,
    "start_time": "2021-06-17T18:20:13.735Z"
   },
   {
    "duration": 26,
    "start_time": "2021-06-17T18:20:13.743Z"
   },
   {
    "duration": 46,
    "start_time": "2021-06-17T18:20:13.772Z"
   },
   {
    "duration": 113,
    "start_time": "2021-06-17T18:20:13.821Z"
   },
   {
    "duration": 16,
    "start_time": "2021-06-17T18:20:13.937Z"
   },
   {
    "duration": 31,
    "start_time": "2021-06-17T18:20:13.956Z"
   },
   {
    "duration": 1539,
    "start_time": "2021-06-17T18:20:13.991Z"
   },
   {
    "duration": 1526,
    "start_time": "2021-06-17T18:20:15.533Z"
   },
   {
    "duration": 41,
    "start_time": "2021-06-17T18:20:17.062Z"
   },
   {
    "duration": 17,
    "start_time": "2021-06-17T18:20:17.107Z"
   },
   {
    "duration": 1389,
    "start_time": "2021-06-17T18:20:17.127Z"
   },
   {
    "duration": 1447,
    "start_time": "2021-06-17T18:20:18.519Z"
   },
   {
    "duration": 31,
    "start_time": "2021-06-17T18:20:19.968Z"
   },
   {
    "duration": 17,
    "start_time": "2021-06-17T18:20:20.003Z"
   },
   {
    "duration": 1488,
    "start_time": "2021-06-17T18:20:20.023Z"
   },
   {
    "duration": 1255,
    "start_time": "2021-06-17T18:20:21.514Z"
   },
   {
    "duration": 36,
    "start_time": "2021-06-17T18:20:22.771Z"
   },
   {
    "duration": 18,
    "start_time": "2021-06-17T18:20:22.809Z"
   },
   {
    "duration": 1489,
    "start_time": "2021-06-17T18:20:22.830Z"
   },
   {
    "duration": 1374,
    "start_time": "2021-06-17T18:20:24.321Z"
   },
   {
    "duration": 18,
    "start_time": "2021-06-17T18:20:25.698Z"
   },
   {
    "duration": 9212,
    "start_time": "2021-06-17T18:20:25.719Z"
   },
   {
    "duration": 10,
    "start_time": "2021-06-17T18:20:47.629Z"
   },
   {
    "duration": 11,
    "start_time": "2021-06-17T18:23:23.096Z"
   },
   {
    "duration": 4,
    "start_time": "2021-06-17T18:24:50.764Z"
   },
   {
    "duration": 5,
    "start_time": "2021-06-17T18:25:15.544Z"
   },
   {
    "duration": 5,
    "start_time": "2021-06-17T18:25:19.279Z"
   },
   {
    "duration": 6,
    "start_time": "2021-06-17T18:25:37.699Z"
   },
   {
    "duration": 979,
    "start_time": "2021-06-17T18:25:38.263Z"
   },
   {
    "duration": 4,
    "start_time": "2021-06-17T18:25:44.465Z"
   },
   {
    "duration": 5,
    "start_time": "2021-06-17T18:25:45.119Z"
   },
   {
    "duration": 5,
    "start_time": "2021-06-17T18:25:45.820Z"
   },
   {
    "duration": 96,
    "start_time": "2021-06-17T18:26:30.532Z"
   },
   {
    "duration": 7,
    "start_time": "2021-06-17T18:28:17.752Z"
   },
   {
    "duration": 12,
    "start_time": "2021-06-17T18:28:40.586Z"
   },
   {
    "duration": 9,
    "start_time": "2021-06-17T18:29:24.260Z"
   },
   {
    "duration": 4,
    "start_time": "2021-06-17T18:29:35.532Z"
   },
   {
    "duration": 612,
    "start_time": "2021-06-17T18:29:44.851Z"
   },
   {
    "duration": 5,
    "start_time": "2021-06-17T18:30:10.401Z"
   },
   {
    "duration": 5,
    "start_time": "2021-06-17T18:30:22.634Z"
   },
   {
    "duration": 95,
    "start_time": "2021-06-17T18:30:52.259Z"
   },
   {
    "duration": 90,
    "start_time": "2021-06-17T18:34:43.716Z"
   },
   {
    "duration": 3346,
    "start_time": "2021-09-20T10:36:31.307Z"
   },
   {
    "duration": 17,
    "start_time": "2021-09-20T10:36:34.655Z"
   },
   {
    "duration": 10,
    "start_time": "2021-09-20T10:36:34.674Z"
   },
   {
    "duration": 20,
    "start_time": "2021-09-20T10:36:34.685Z"
   },
   {
    "duration": 15,
    "start_time": "2021-09-20T10:36:34.707Z"
   },
   {
    "duration": 20,
    "start_time": "2021-09-20T10:36:34.724Z"
   },
   {
    "duration": 47,
    "start_time": "2021-09-20T10:36:34.746Z"
   },
   {
    "duration": 11,
    "start_time": "2021-09-20T10:36:34.794Z"
   },
   {
    "duration": 17,
    "start_time": "2021-09-20T10:36:34.807Z"
   },
   {
    "duration": 18,
    "start_time": "2021-09-20T10:36:34.826Z"
   },
   {
    "duration": 45,
    "start_time": "2021-09-20T10:36:34.846Z"
   },
   {
    "duration": 17,
    "start_time": "2021-09-20T10:36:34.894Z"
   },
   {
    "duration": 27,
    "start_time": "2021-09-20T10:36:34.913Z"
   },
   {
    "duration": 39,
    "start_time": "2021-09-20T10:36:34.942Z"
   },
   {
    "duration": 7,
    "start_time": "2021-09-20T10:36:34.983Z"
   },
   {
    "duration": 9,
    "start_time": "2021-09-20T10:36:34.992Z"
   },
   {
    "duration": 30,
    "start_time": "2021-09-20T10:36:35.003Z"
   },
   {
    "duration": 51,
    "start_time": "2021-09-20T10:36:35.035Z"
   },
   {
    "duration": 10,
    "start_time": "2021-09-20T10:36:35.088Z"
   },
   {
    "duration": 16,
    "start_time": "2021-09-20T10:36:35.100Z"
   },
   {
    "duration": 19,
    "start_time": "2021-09-20T10:36:35.118Z"
   },
   {
    "duration": 38,
    "start_time": "2021-09-20T10:36:35.139Z"
   },
   {
    "duration": 7,
    "start_time": "2021-09-20T10:36:35.179Z"
   },
   {
    "duration": 22,
    "start_time": "2021-09-20T10:36:35.188Z"
   },
   {
    "duration": 20,
    "start_time": "2021-09-20T10:36:35.212Z"
   },
   {
    "duration": 14,
    "start_time": "2021-09-20T10:36:35.234Z"
   },
   {
    "duration": 23,
    "start_time": "2021-09-20T10:36:35.278Z"
   },
   {
    "duration": 21,
    "start_time": "2021-09-20T10:36:35.304Z"
   },
   {
    "duration": 6,
    "start_time": "2021-09-20T10:36:35.327Z"
   },
   {
    "duration": 20,
    "start_time": "2021-09-20T10:36:35.335Z"
   },
   {
    "duration": 14,
    "start_time": "2021-09-20T10:36:35.377Z"
   },
   {
    "duration": 6,
    "start_time": "2021-09-20T10:36:35.393Z"
   },
   {
    "duration": 20,
    "start_time": "2021-09-20T10:36:35.400Z"
   },
   {
    "duration": 15,
    "start_time": "2021-09-20T10:36:35.421Z"
   },
   {
    "duration": 7,
    "start_time": "2021-09-20T10:36:35.438Z"
   },
   {
    "duration": 37,
    "start_time": "2021-09-20T10:36:35.446Z"
   },
   {
    "duration": 8,
    "start_time": "2021-09-20T10:36:35.485Z"
   },
   {
    "duration": 8,
    "start_time": "2021-09-20T10:36:35.494Z"
   },
   {
    "duration": 14,
    "start_time": "2021-09-20T10:36:35.504Z"
   },
   {
    "duration": 3,
    "start_time": "2021-09-20T10:36:35.520Z"
   },
   {
    "duration": 8,
    "start_time": "2021-09-20T10:36:35.525Z"
   },
   {
    "duration": 50,
    "start_time": "2021-09-20T10:36:35.535Z"
   },
   {
    "duration": 9,
    "start_time": "2021-09-20T10:36:35.586Z"
   },
   {
    "duration": 622,
    "start_time": "2021-09-20T10:36:35.596Z"
   },
   {
    "duration": 6,
    "start_time": "2021-09-20T10:36:36.220Z"
   },
   {
    "duration": 10,
    "start_time": "2021-09-20T10:36:36.228Z"
   },
   {
    "duration": 23,
    "start_time": "2021-09-20T10:36:36.239Z"
   },
   {
    "duration": 218,
    "start_time": "2021-09-20T10:36:36.264Z"
   },
   {
    "duration": 4,
    "start_time": "2021-09-20T10:36:36.484Z"
   },
   {
    "duration": 17,
    "start_time": "2021-09-20T10:36:36.489Z"
   },
   {
    "duration": 23,
    "start_time": "2021-09-20T10:36:36.509Z"
   },
   {
    "duration": 66,
    "start_time": "2021-09-20T10:36:36.534Z"
   },
   {
    "duration": 11,
    "start_time": "2021-09-20T10:36:36.602Z"
   },
   {
    "duration": 12,
    "start_time": "2021-09-20T10:36:36.614Z"
   },
   {
    "duration": 1063,
    "start_time": "2021-09-20T10:36:36.627Z"
   },
   {
    "duration": 867,
    "start_time": "2021-09-20T10:36:37.692Z"
   },
   {
    "duration": 22,
    "start_time": "2021-09-20T10:36:38.561Z"
   },
   {
    "duration": 9,
    "start_time": "2021-09-20T10:36:38.585Z"
   },
   {
    "duration": 883,
    "start_time": "2021-09-20T10:36:38.596Z"
   },
   {
    "duration": 945,
    "start_time": "2021-09-20T10:36:39.480Z"
   },
   {
    "duration": 12,
    "start_time": "2021-09-20T10:36:40.427Z"
   },
   {
    "duration": 10,
    "start_time": "2021-09-20T10:36:40.440Z"
   },
   {
    "duration": 896,
    "start_time": "2021-09-20T10:36:40.451Z"
   },
   {
    "duration": 809,
    "start_time": "2021-09-20T10:36:41.348Z"
   },
   {
    "duration": 25,
    "start_time": "2021-09-20T10:36:42.159Z"
   },
   {
    "duration": 13,
    "start_time": "2021-09-20T10:36:42.186Z"
   },
   {
    "duration": 964,
    "start_time": "2021-09-20T10:36:42.201Z"
   },
   {
    "duration": 829,
    "start_time": "2021-09-20T10:36:43.166Z"
   },
   {
    "duration": 11,
    "start_time": "2021-09-20T10:36:43.996Z"
   },
   {
    "duration": 10,
    "start_time": "2021-09-20T10:36:44.009Z"
   },
   {
    "duration": 8,
    "start_time": "2021-09-20T10:36:44.021Z"
   },
   {
    "duration": 4,
    "start_time": "2021-09-20T10:36:44.031Z"
   },
   {
    "duration": 5,
    "start_time": "2021-09-20T10:36:44.037Z"
   },
   {
    "duration": 8,
    "start_time": "2021-09-20T10:36:44.043Z"
   },
   {
    "duration": 26,
    "start_time": "2021-09-20T10:36:44.053Z"
   },
   {
    "duration": 7,
    "start_time": "2021-09-20T10:36:44.080Z"
   },
   {
    "duration": 12,
    "start_time": "2021-09-20T10:36:44.089Z"
   },
   {
    "duration": 5,
    "start_time": "2021-09-20T10:36:44.103Z"
   },
   {
    "duration": 14,
    "start_time": "2021-09-20T10:36:44.109Z"
   },
   {
    "duration": 8,
    "start_time": "2021-09-20T10:36:44.125Z"
   },
   {
    "duration": 4,
    "start_time": "2021-09-20T10:37:07.420Z"
   },
   {
    "duration": 4,
    "start_time": "2021-09-20T10:37:10.911Z"
   },
   {
    "duration": 6,
    "start_time": "2021-09-20T10:37:13.837Z"
   },
   {
    "duration": 3,
    "start_time": "2021-09-20T10:37:14.411Z"
   },
   {
    "duration": 4,
    "start_time": "2021-09-20T10:37:14.874Z"
   },
   {
    "duration": 4,
    "start_time": "2021-09-20T10:37:15.332Z"
   },
   {
    "duration": 2617,
    "start_time": "2021-10-05T08:40:22.588Z"
   },
   {
    "duration": 25,
    "start_time": "2021-10-05T08:40:25.208Z"
   },
   {
    "duration": 9,
    "start_time": "2021-10-05T08:40:25.236Z"
   },
   {
    "duration": 35,
    "start_time": "2021-10-05T08:40:25.248Z"
   },
   {
    "duration": 20,
    "start_time": "2021-10-05T08:40:25.286Z"
   },
   {
    "duration": 26,
    "start_time": "2021-10-05T08:40:25.308Z"
   },
   {
    "duration": 65,
    "start_time": "2021-10-05T08:40:25.336Z"
   },
   {
    "duration": 17,
    "start_time": "2021-10-05T08:40:25.404Z"
   },
   {
    "duration": 19,
    "start_time": "2021-10-05T08:40:25.425Z"
   },
   {
    "duration": 49,
    "start_time": "2021-10-05T08:40:25.447Z"
   },
   {
    "duration": 20,
    "start_time": "2021-10-05T08:40:25.499Z"
   },
   {
    "duration": 21,
    "start_time": "2021-10-05T08:40:25.522Z"
   },
   {
    "duration": 68,
    "start_time": "2021-10-05T08:40:25.546Z"
   },
   {
    "duration": 10,
    "start_time": "2021-10-05T08:40:25.617Z"
   },
   {
    "duration": 14,
    "start_time": "2021-10-05T08:40:25.629Z"
   },
   {
    "duration": 37,
    "start_time": "2021-10-05T08:40:25.645Z"
   },
   {
    "duration": 42,
    "start_time": "2021-10-05T08:40:25.685Z"
   },
   {
    "duration": 56,
    "start_time": "2021-10-05T08:40:25.729Z"
   },
   {
    "duration": 7,
    "start_time": "2021-10-05T08:40:25.788Z"
   },
   {
    "duration": 22,
    "start_time": "2021-10-05T08:40:25.797Z"
   },
   {
    "duration": 26,
    "start_time": "2021-10-05T08:40:25.822Z"
   },
   {
    "duration": 53,
    "start_time": "2021-10-05T08:40:25.851Z"
   },
   {
    "duration": 19,
    "start_time": "2021-10-05T08:40:25.906Z"
   },
   {
    "duration": 54,
    "start_time": "2021-10-05T08:40:25.928Z"
   },
   {
    "duration": 26,
    "start_time": "2021-10-05T08:40:25.985Z"
   },
   {
    "duration": 27,
    "start_time": "2021-10-05T08:40:26.013Z"
   },
   {
    "duration": 44,
    "start_time": "2021-10-05T08:40:26.046Z"
   },
   {
    "duration": 29,
    "start_time": "2021-10-05T08:40:26.094Z"
   },
   {
    "duration": 9,
    "start_time": "2021-10-05T08:40:26.126Z"
   },
   {
    "duration": 44,
    "start_time": "2021-10-05T08:40:26.138Z"
   },
   {
    "duration": 19,
    "start_time": "2021-10-05T08:40:26.184Z"
   },
   {
    "duration": 8,
    "start_time": "2021-10-05T08:40:26.205Z"
   },
   {
    "duration": 29,
    "start_time": "2021-10-05T08:40:26.216Z"
   },
   {
    "duration": 42,
    "start_time": "2021-10-05T08:40:26.247Z"
   },
   {
    "duration": 9,
    "start_time": "2021-10-05T08:40:26.291Z"
   },
   {
    "duration": 16,
    "start_time": "2021-10-05T08:40:26.303Z"
   },
   {
    "duration": 11,
    "start_time": "2021-10-05T08:40:26.322Z"
   },
   {
    "duration": 18,
    "start_time": "2021-10-05T08:40:26.335Z"
   },
   {
    "duration": 45,
    "start_time": "2021-10-05T08:40:26.355Z"
   },
   {
    "duration": 5,
    "start_time": "2021-10-05T08:40:26.402Z"
   },
   {
    "duration": 14,
    "start_time": "2021-10-05T08:40:26.409Z"
   },
   {
    "duration": 25,
    "start_time": "2021-10-05T08:40:26.426Z"
   },
   {
    "duration": 13,
    "start_time": "2021-10-05T08:40:26.483Z"
   },
   {
    "duration": 671,
    "start_time": "2021-10-05T08:40:26.499Z"
   },
   {
    "duration": 16,
    "start_time": "2021-10-05T08:40:27.173Z"
   },
   {
    "duration": 21,
    "start_time": "2021-10-05T08:40:27.191Z"
   },
   {
    "duration": 6,
    "start_time": "2021-10-05T08:40:27.214Z"
   },
   {
    "duration": 337,
    "start_time": "2021-10-05T08:40:27.222Z"
   },
   {
    "duration": 5,
    "start_time": "2021-10-05T08:40:27.561Z"
   },
   {
    "duration": 15,
    "start_time": "2021-10-05T08:40:27.569Z"
   },
   {
    "duration": 29,
    "start_time": "2021-10-05T08:40:27.586Z"
   },
   {
    "duration": 107,
    "start_time": "2021-10-05T08:40:27.617Z"
   },
   {
    "duration": 15,
    "start_time": "2021-10-05T08:40:27.726Z"
   },
   {
    "duration": 38,
    "start_time": "2021-10-05T08:40:27.744Z"
   },
   {
    "duration": 1519,
    "start_time": "2021-10-05T08:40:27.785Z"
   },
   {
    "duration": 1343,
    "start_time": "2021-10-05T08:40:29.308Z"
   },
   {
    "duration": 30,
    "start_time": "2021-10-05T08:40:30.654Z"
   },
   {
    "duration": 13,
    "start_time": "2021-10-05T08:40:30.686Z"
   },
   {
    "duration": 1257,
    "start_time": "2021-10-05T08:40:30.702Z"
   },
   {
    "duration": 1255,
    "start_time": "2021-10-05T08:40:31.962Z"
   },
   {
    "duration": 17,
    "start_time": "2021-10-05T08:40:33.220Z"
   },
   {
    "duration": 13,
    "start_time": "2021-10-05T08:40:33.240Z"
   },
   {
    "duration": 1294,
    "start_time": "2021-10-05T08:40:33.282Z"
   },
   {
    "duration": 1231,
    "start_time": "2021-10-05T08:40:34.582Z"
   },
   {
    "duration": 17,
    "start_time": "2021-10-05T08:40:35.816Z"
   },
   {
    "duration": 14,
    "start_time": "2021-10-05T08:40:35.836Z"
   },
   {
    "duration": 1349,
    "start_time": "2021-10-05T08:40:35.852Z"
   },
   {
    "duration": 1217,
    "start_time": "2021-10-05T08:40:37.204Z"
   },
   {
    "duration": 15,
    "start_time": "2021-10-05T08:40:38.424Z"
   },
   {
    "duration": 12,
    "start_time": "2021-10-05T08:40:38.441Z"
   },
   {
    "duration": 30,
    "start_time": "2021-10-05T08:40:38.455Z"
   },
   {
    "duration": 3,
    "start_time": "2021-10-05T08:40:38.488Z"
   },
   {
    "duration": 10,
    "start_time": "2021-10-05T08:40:38.494Z"
   },
   {
    "duration": 13,
    "start_time": "2021-10-05T08:40:38.506Z"
   },
   {
    "duration": 11,
    "start_time": "2021-10-05T08:40:38.522Z"
   },
   {
    "duration": 18,
    "start_time": "2021-10-05T08:40:38.535Z"
   },
   {
    "duration": 21,
    "start_time": "2021-10-05T08:40:38.555Z"
   },
   {
    "duration": 8,
    "start_time": "2021-10-05T08:40:38.578Z"
   },
   {
    "duration": 13,
    "start_time": "2021-10-05T08:40:38.588Z"
   },
   {
    "duration": 7,
    "start_time": "2021-10-05T08:40:38.604Z"
   }
  ],
  "kernelspec": {
   "display_name": "Python 3 (ipykernel)",
   "language": "python",
   "name": "python3"
  },
  "language_info": {
   "codemirror_mode": {
    "name": "ipython",
    "version": 3
   },
   "file_extension": ".py",
   "mimetype": "text/x-python",
   "name": "python",
   "nbconvert_exporter": "python",
   "pygments_lexer": "ipython3",
   "version": "3.9.5"
  },
  "toc": {
   "base_numbering": 1,
   "nav_menu": {},
   "number_sections": true,
   "sideBar": true,
   "skip_h1_title": true,
   "title_cell": "Table of Contents",
   "title_sidebar": "Contents",
   "toc_cell": false,
   "toc_position": {},
   "toc_section_display": true,
   "toc_window_display": false
  }
 },
 "nbformat": 4,
 "nbformat_minor": 2
}

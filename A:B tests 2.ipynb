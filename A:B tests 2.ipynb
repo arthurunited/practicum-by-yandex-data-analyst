{
 "cells": [
  {
   "cell_type": "markdown",
   "metadata": {},
   "source": [
    "# Описание проекта"
   ]
  },
  {
   "cell_type": "markdown",
   "metadata": {},
   "source": [
    "Я аналитик крупного интернет-магазина. Вместе с отделом маркетинга мы подготовили список гипотез для увеличения выручки."
   ]
  },
  {
   "cell_type": "markdown",
   "metadata": {},
   "source": [
    "# Часть 1. Приоритизация гипотез."
   ]
  },
  {
   "cell_type": "markdown",
   "metadata": {},
   "source": [
    "В файле /datasets/hypothesis.csv 9 гипотез по увеличению выручки интернет-магазина с указанными параметрами Reach, Impact, Confidence, Effort.\n",
    "\n",
    "Задача\n",
    "- Применить фреймворк ICE для приоритизации гипотез. Отсортировать их по убыванию приоритета.\n",
    "- Применить фреймворк RICE для приоритизации гипотез. Отсортировать их по убыванию приоритета.\n",
    "- Указать, как изменилась приоритизация гипотез при применении RICE вместо ICE. Объяснить, почему так произошло."
   ]
  },
  {
   "cell_type": "markdown",
   "metadata": {},
   "source": [
    "# Часть 2. Анализ A/B-теста"
   ]
  },
  {
   "cell_type": "markdown",
   "metadata": {},
   "source": [
    "Мы провели A/B-тест и получили результаты, которые описаны в файлах /datasets/orders.csv и /datasets/visitors.csv.\n",
    "\n",
    "Задача\n",
    "\n",
    "Проанализируйте A/B-тест:\n",
    "1. Построить график кумулятивной выручки по группам. Сделать выводы и предположения.\n",
    "2. Построить график кумулятивного среднего чека по группам. Сделать выводы и предположения.\n",
    "3. Построить график относительного изменения кумулятивного среднего чека группы B к группе A. Сделать выводы и предположения.\n",
    "4. Построить график кумулятивной конверсии по группам. Сделать выводы и предположения.\n",
    "5. Построить график относительного изменения кумулятивной конверсии группы B к группе A. Сделать выводы и предположения.\n",
    "6. Построить точечный график количества заказов по пользователям. Сделать выводы и предположения.\n",
    "7. Посчитать 95-й и 99-й перцентили количества заказов на пользователя. Выбрать границу для определения аномальных пользователей.\n",
    "8. Построить точечный график стоимостей заказов. Сделать выводы и предположения.\n",
    "9. Посчитать 95-й и 99-й перцентили стоимости заказов. Выбрать границу для определения аномальных заказов.\n",
    "10. Посчитать статистическую значимость различий в конверсии между группами по «сырым» данным. Сделать выводы и предположения.\n",
    "11. Посчитать статистическую значимость различий в среднем чеке заказа между группами по «сырым» данным. Сделать выводы и предположения.\n",
    "12. Посчитать статистическую значимость различий в конверсии между группами по «очищенным» данным. Сделать выводы и предположения.\n",
    "13. Посчитать статистическую значимость различий в среднем чеке заказа между группами по «очищенным» данным. Сделать выводы и предположения.\n",
    "14. Принять решение по результатам теста и объяснить его. Варианты решений: 1. Остановить тест, зафиксировать победу одной из групп. 2. Остановить тест, зафиксировать отсутствие различий между группами. 3. Продолжить тест."
   ]
  },
  {
   "cell_type": "markdown",
   "metadata": {},
   "source": [
    "# Описание данных\n",
    "\n",
    "Данные для первой части\n",
    "\n",
    "Файл /datasets/hypothesis.csv.\n",
    "\n",
    "- Hypothesis — краткое описание гипотезы;\n",
    "- Reach — охват пользователей по 10-балльной шкале;\n",
    "- Impact — влияние на пользователей по 10-балльной шкале;\n",
    "- Confidence — уверенность в гипотезе по 10-балльной шкале;\n",
    "- Efforts — затраты ресурсов на проверку гипотезы по 10-балльной шкале. Чем больше значение Efforts, тем дороже проверка гипотезы.\n",
    "\n",
    "Данные для второй части\n",
    "\n",
    "Файл /datasets/orders.csv. \n",
    "\n",
    "- transactionId — идентификатор заказа;\n",
    "- visitorId — идентификатор пользователя, совершившего заказ;\n",
    "- date — дата, когда был совершён заказ;\n",
    "- revenue — выручка заказа;\n",
    "- group — группа A/B-теста, в которую попал заказ.\n",
    "\n",
    "Файл /datasets/visitors.csv. \n",
    "\n",
    "- date — дата;\n",
    "- group — группа A/B-теста;\n",
    "- visitors — количество пользователей в указанную дату в указанной группе A/B-теста"
   ]
  },
  {
   "cell_type": "markdown",
   "metadata": {},
   "source": [
    "## Приоритизация гипотез."
   ]
  },
  {
   "cell_type": "code",
   "execution_count": 1,
   "metadata": {},
   "outputs": [],
   "source": [
    "import pandas as pd\n",
    "import matplotlib.pyplot as plt\n",
    "import numpy as np\n",
    "import seaborn as sns\n",
    "import datetime as dt\n",
    "from scipy import stats as st\n",
    "sns.set()\n",
    "pd.set_option('display.max_colwidth', 110)"
   ]
  },
  {
   "cell_type": "markdown",
   "metadata": {},
   "source": [
    "Загрузим таблицу с гипотезами и изучим ее."
   ]
  },
  {
   "cell_type": "code",
   "execution_count": 2,
   "metadata": {},
   "outputs": [
    {
     "data": {
      "text/html": [
       "<div>\n",
       "<style scoped>\n",
       "    .dataframe tbody tr th:only-of-type {\n",
       "        vertical-align: middle;\n",
       "    }\n",
       "\n",
       "    .dataframe tbody tr th {\n",
       "        vertical-align: top;\n",
       "    }\n",
       "\n",
       "    .dataframe thead th {\n",
       "        text-align: right;\n",
       "    }\n",
       "</style>\n",
       "<table border=\"1\" class=\"dataframe\">\n",
       "  <thead>\n",
       "    <tr style=\"text-align: right;\">\n",
       "      <th></th>\n",
       "      <th>Hypothesis</th>\n",
       "      <th>Reach</th>\n",
       "      <th>Impact</th>\n",
       "      <th>Confidence</th>\n",
       "      <th>Efforts</th>\n",
       "    </tr>\n",
       "  </thead>\n",
       "  <tbody>\n",
       "    <tr>\n",
       "      <td>0</td>\n",
       "      <td>Добавить два новых канала привлечения трафика, что позволит привлекать на 30% больше пользователей</td>\n",
       "      <td>3</td>\n",
       "      <td>10</td>\n",
       "      <td>8</td>\n",
       "      <td>6</td>\n",
       "    </tr>\n",
       "    <tr>\n",
       "      <td>1</td>\n",
       "      <td>Запустить собственную службу доставки, что сократит срок доставки заказов</td>\n",
       "      <td>2</td>\n",
       "      <td>5</td>\n",
       "      <td>4</td>\n",
       "      <td>10</td>\n",
       "    </tr>\n",
       "    <tr>\n",
       "      <td>2</td>\n",
       "      <td>Добавить блоки рекомендаций товаров на сайт интернет магазина, чтобы повысить конверсию и средний чек заказа</td>\n",
       "      <td>8</td>\n",
       "      <td>3</td>\n",
       "      <td>7</td>\n",
       "      <td>3</td>\n",
       "    </tr>\n",
       "    <tr>\n",
       "      <td>3</td>\n",
       "      <td>Изменить структура категорий, что увеличит конверсию, т.к. пользователи быстрее найдут нужный товар</td>\n",
       "      <td>8</td>\n",
       "      <td>3</td>\n",
       "      <td>3</td>\n",
       "      <td>8</td>\n",
       "    </tr>\n",
       "    <tr>\n",
       "      <td>4</td>\n",
       "      <td>Изменить цвет фона главной страницы, чтобы увеличить вовлеченность пользователей</td>\n",
       "      <td>3</td>\n",
       "      <td>1</td>\n",
       "      <td>1</td>\n",
       "      <td>1</td>\n",
       "    </tr>\n",
       "    <tr>\n",
       "      <td>5</td>\n",
       "      <td>Добавить страницу отзывов клиентов о магазине, что позволит увеличить количество заказов</td>\n",
       "      <td>3</td>\n",
       "      <td>2</td>\n",
       "      <td>2</td>\n",
       "      <td>3</td>\n",
       "    </tr>\n",
       "    <tr>\n",
       "      <td>6</td>\n",
       "      <td>Показать на главной странице баннеры с актуальными акциями и распродажами, чтобы увеличить конверсию</td>\n",
       "      <td>5</td>\n",
       "      <td>3</td>\n",
       "      <td>8</td>\n",
       "      <td>3</td>\n",
       "    </tr>\n",
       "    <tr>\n",
       "      <td>7</td>\n",
       "      <td>Добавить форму подписки на все основные страницы, чтобы собрать базу клиентов для email-рассылок</td>\n",
       "      <td>10</td>\n",
       "      <td>7</td>\n",
       "      <td>8</td>\n",
       "      <td>5</td>\n",
       "    </tr>\n",
       "    <tr>\n",
       "      <td>8</td>\n",
       "      <td>Запустить акцию, дающую скидку на товар в день рождения</td>\n",
       "      <td>1</td>\n",
       "      <td>9</td>\n",
       "      <td>9</td>\n",
       "      <td>5</td>\n",
       "    </tr>\n",
       "  </tbody>\n",
       "</table>\n",
       "</div>"
      ],
      "text/plain": [
       "                                                                                                     Hypothesis  \\\n",
       "0            Добавить два новых канала привлечения трафика, что позволит привлекать на 30% больше пользователей   \n",
       "1                                     Запустить собственную службу доставки, что сократит срок доставки заказов   \n",
       "2  Добавить блоки рекомендаций товаров на сайт интернет магазина, чтобы повысить конверсию и средний чек заказа   \n",
       "3           Изменить структура категорий, что увеличит конверсию, т.к. пользователи быстрее найдут нужный товар   \n",
       "4                              Изменить цвет фона главной страницы, чтобы увеличить вовлеченность пользователей   \n",
       "5                      Добавить страницу отзывов клиентов о магазине, что позволит увеличить количество заказов   \n",
       "6          Показать на главной странице баннеры с актуальными акциями и распродажами, чтобы увеличить конверсию   \n",
       "7              Добавить форму подписки на все основные страницы, чтобы собрать базу клиентов для email-рассылок   \n",
       "8                                                       Запустить акцию, дающую скидку на товар в день рождения   \n",
       "\n",
       "   Reach  Impact  Confidence  Efforts  \n",
       "0      3      10           8        6  \n",
       "1      2       5           4       10  \n",
       "2      8       3           7        3  \n",
       "3      8       3           3        8  \n",
       "4      3       1           1        1  \n",
       "5      3       2           2        3  \n",
       "6      5       3           8        3  \n",
       "7     10       7           8        5  \n",
       "8      1       9           9        5  "
      ]
     },
     "execution_count": 2,
     "metadata": {},
     "output_type": "execute_result"
    }
   ],
   "source": [
    "hypothesis = pd.read_csv('/datasets/hypothesis.csv')\n",
    "hypothesis"
   ]
  },
  {
   "cell_type": "code",
   "execution_count": 3,
   "metadata": {},
   "outputs": [],
   "source": [
    "hypothesis.columns = hypothesis.columns.str.lower()"
   ]
  },
  {
   "cell_type": "markdown",
   "metadata": {},
   "source": [
    "Рассчитаем ICE SCORE для гипотез"
   ]
  },
  {
   "cell_type": "code",
   "execution_count": 4,
   "metadata": {},
   "outputs": [
    {
     "data": {
      "text/html": [
       "<div>\n",
       "<style scoped>\n",
       "    .dataframe tbody tr th:only-of-type {\n",
       "        vertical-align: middle;\n",
       "    }\n",
       "\n",
       "    .dataframe tbody tr th {\n",
       "        vertical-align: top;\n",
       "    }\n",
       "\n",
       "    .dataframe thead th {\n",
       "        text-align: right;\n",
       "    }\n",
       "</style>\n",
       "<table border=\"1\" class=\"dataframe\">\n",
       "  <thead>\n",
       "    <tr style=\"text-align: right;\">\n",
       "      <th></th>\n",
       "      <th>hypothesis</th>\n",
       "      <th>reach</th>\n",
       "      <th>impact</th>\n",
       "      <th>confidence</th>\n",
       "      <th>efforts</th>\n",
       "      <th>ICE</th>\n",
       "    </tr>\n",
       "  </thead>\n",
       "  <tbody>\n",
       "    <tr>\n",
       "      <td>8</td>\n",
       "      <td>Запустить акцию, дающую скидку на товар в день рождения</td>\n",
       "      <td>1</td>\n",
       "      <td>9</td>\n",
       "      <td>9</td>\n",
       "      <td>5</td>\n",
       "      <td>16.20</td>\n",
       "    </tr>\n",
       "    <tr>\n",
       "      <td>0</td>\n",
       "      <td>Добавить два новых канала привлечения трафика, что позволит привлекать на 30% больше пользователей</td>\n",
       "      <td>3</td>\n",
       "      <td>10</td>\n",
       "      <td>8</td>\n",
       "      <td>6</td>\n",
       "      <td>13.33</td>\n",
       "    </tr>\n",
       "    <tr>\n",
       "      <td>7</td>\n",
       "      <td>Добавить форму подписки на все основные страницы, чтобы собрать базу клиентов для email-рассылок</td>\n",
       "      <td>10</td>\n",
       "      <td>7</td>\n",
       "      <td>8</td>\n",
       "      <td>5</td>\n",
       "      <td>11.20</td>\n",
       "    </tr>\n",
       "    <tr>\n",
       "      <td>6</td>\n",
       "      <td>Показать на главной странице баннеры с актуальными акциями и распродажами, чтобы увеличить конверсию</td>\n",
       "      <td>5</td>\n",
       "      <td>3</td>\n",
       "      <td>8</td>\n",
       "      <td>3</td>\n",
       "      <td>8.00</td>\n",
       "    </tr>\n",
       "    <tr>\n",
       "      <td>2</td>\n",
       "      <td>Добавить блоки рекомендаций товаров на сайт интернет магазина, чтобы повысить конверсию и средний чек заказа</td>\n",
       "      <td>8</td>\n",
       "      <td>3</td>\n",
       "      <td>7</td>\n",
       "      <td>3</td>\n",
       "      <td>7.00</td>\n",
       "    </tr>\n",
       "    <tr>\n",
       "      <td>1</td>\n",
       "      <td>Запустить собственную службу доставки, что сократит срок доставки заказов</td>\n",
       "      <td>2</td>\n",
       "      <td>5</td>\n",
       "      <td>4</td>\n",
       "      <td>10</td>\n",
       "      <td>2.00</td>\n",
       "    </tr>\n",
       "    <tr>\n",
       "      <td>5</td>\n",
       "      <td>Добавить страницу отзывов клиентов о магазине, что позволит увеличить количество заказов</td>\n",
       "      <td>3</td>\n",
       "      <td>2</td>\n",
       "      <td>2</td>\n",
       "      <td>3</td>\n",
       "      <td>1.33</td>\n",
       "    </tr>\n",
       "    <tr>\n",
       "      <td>3</td>\n",
       "      <td>Изменить структура категорий, что увеличит конверсию, т.к. пользователи быстрее найдут нужный товар</td>\n",
       "      <td>8</td>\n",
       "      <td>3</td>\n",
       "      <td>3</td>\n",
       "      <td>8</td>\n",
       "      <td>1.12</td>\n",
       "    </tr>\n",
       "    <tr>\n",
       "      <td>4</td>\n",
       "      <td>Изменить цвет фона главной страницы, чтобы увеличить вовлеченность пользователей</td>\n",
       "      <td>3</td>\n",
       "      <td>1</td>\n",
       "      <td>1</td>\n",
       "      <td>1</td>\n",
       "      <td>1.00</td>\n",
       "    </tr>\n",
       "  </tbody>\n",
       "</table>\n",
       "</div>"
      ],
      "text/plain": [
       "                                                                                                     hypothesis  \\\n",
       "8                                                       Запустить акцию, дающую скидку на товар в день рождения   \n",
       "0            Добавить два новых канала привлечения трафика, что позволит привлекать на 30% больше пользователей   \n",
       "7              Добавить форму подписки на все основные страницы, чтобы собрать базу клиентов для email-рассылок   \n",
       "6          Показать на главной странице баннеры с актуальными акциями и распродажами, чтобы увеличить конверсию   \n",
       "2  Добавить блоки рекомендаций товаров на сайт интернет магазина, чтобы повысить конверсию и средний чек заказа   \n",
       "1                                     Запустить собственную службу доставки, что сократит срок доставки заказов   \n",
       "5                      Добавить страницу отзывов клиентов о магазине, что позволит увеличить количество заказов   \n",
       "3           Изменить структура категорий, что увеличит конверсию, т.к. пользователи быстрее найдут нужный товар   \n",
       "4                              Изменить цвет фона главной страницы, чтобы увеличить вовлеченность пользователей   \n",
       "\n",
       "   reach  impact  confidence  efforts    ICE  \n",
       "8      1       9           9        5  16.20  \n",
       "0      3      10           8        6  13.33  \n",
       "7     10       7           8        5  11.20  \n",
       "6      5       3           8        3   8.00  \n",
       "2      8       3           7        3   7.00  \n",
       "1      2       5           4       10   2.00  \n",
       "5      3       2           2        3   1.33  \n",
       "3      8       3           3        8   1.12  \n",
       "4      3       1           1        1   1.00  "
      ]
     },
     "execution_count": 4,
     "metadata": {},
     "output_type": "execute_result"
    }
   ],
   "source": [
    "hypothesis['ICE'] = ((hypothesis['impact'] * hypothesis['confidence']) / hypothesis['efforts']).round(2)\n",
    "hypothesis.sort_values(by = 'ICE', ascending = False)"
   ]
  },
  {
   "cell_type": "markdown",
   "metadata": {},
   "source": [
    "Самыми перспективными гипотезами по ICE стали гипотезы под нумерами  8, 0 и 7. "
   ]
  },
  {
   "cell_type": "markdown",
   "metadata": {},
   "source": [
    "Теперь рассчитаем RICE SCORE для этих же гипотез, аналогично отсортируем полученный результат в порядке убывания приоритета."
   ]
  },
  {
   "cell_type": "code",
   "execution_count": 5,
   "metadata": {},
   "outputs": [
    {
     "data": {
      "text/html": [
       "<div>\n",
       "<style scoped>\n",
       "    .dataframe tbody tr th:only-of-type {\n",
       "        vertical-align: middle;\n",
       "    }\n",
       "\n",
       "    .dataframe tbody tr th {\n",
       "        vertical-align: top;\n",
       "    }\n",
       "\n",
       "    .dataframe thead th {\n",
       "        text-align: right;\n",
       "    }\n",
       "</style>\n",
       "<table border=\"1\" class=\"dataframe\">\n",
       "  <thead>\n",
       "    <tr style=\"text-align: right;\">\n",
       "      <th></th>\n",
       "      <th>hypothesis</th>\n",
       "      <th>reach</th>\n",
       "      <th>impact</th>\n",
       "      <th>confidence</th>\n",
       "      <th>efforts</th>\n",
       "      <th>ICE</th>\n",
       "      <th>RICE</th>\n",
       "    </tr>\n",
       "  </thead>\n",
       "  <tbody>\n",
       "    <tr>\n",
       "      <td>7</td>\n",
       "      <td>Добавить форму подписки на все основные страницы, чтобы собрать базу клиентов для email-рассылок</td>\n",
       "      <td>10</td>\n",
       "      <td>7</td>\n",
       "      <td>8</td>\n",
       "      <td>5</td>\n",
       "      <td>11.20</td>\n",
       "      <td>112.0</td>\n",
       "    </tr>\n",
       "    <tr>\n",
       "      <td>2</td>\n",
       "      <td>Добавить блоки рекомендаций товаров на сайт интернет магазина, чтобы повысить конверсию и средний чек заказа</td>\n",
       "      <td>8</td>\n",
       "      <td>3</td>\n",
       "      <td>7</td>\n",
       "      <td>3</td>\n",
       "      <td>7.00</td>\n",
       "      <td>56.0</td>\n",
       "    </tr>\n",
       "    <tr>\n",
       "      <td>0</td>\n",
       "      <td>Добавить два новых канала привлечения трафика, что позволит привлекать на 30% больше пользователей</td>\n",
       "      <td>3</td>\n",
       "      <td>10</td>\n",
       "      <td>8</td>\n",
       "      <td>6</td>\n",
       "      <td>13.33</td>\n",
       "      <td>40.0</td>\n",
       "    </tr>\n",
       "    <tr>\n",
       "      <td>6</td>\n",
       "      <td>Показать на главной странице баннеры с актуальными акциями и распродажами, чтобы увеличить конверсию</td>\n",
       "      <td>5</td>\n",
       "      <td>3</td>\n",
       "      <td>8</td>\n",
       "      <td>3</td>\n",
       "      <td>8.00</td>\n",
       "      <td>40.0</td>\n",
       "    </tr>\n",
       "    <tr>\n",
       "      <td>8</td>\n",
       "      <td>Запустить акцию, дающую скидку на товар в день рождения</td>\n",
       "      <td>1</td>\n",
       "      <td>9</td>\n",
       "      <td>9</td>\n",
       "      <td>5</td>\n",
       "      <td>16.20</td>\n",
       "      <td>16.2</td>\n",
       "    </tr>\n",
       "    <tr>\n",
       "      <td>3</td>\n",
       "      <td>Изменить структура категорий, что увеличит конверсию, т.к. пользователи быстрее найдут нужный товар</td>\n",
       "      <td>8</td>\n",
       "      <td>3</td>\n",
       "      <td>3</td>\n",
       "      <td>8</td>\n",
       "      <td>1.12</td>\n",
       "      <td>9.0</td>\n",
       "    </tr>\n",
       "    <tr>\n",
       "      <td>1</td>\n",
       "      <td>Запустить собственную службу доставки, что сократит срок доставки заказов</td>\n",
       "      <td>2</td>\n",
       "      <td>5</td>\n",
       "      <td>4</td>\n",
       "      <td>10</td>\n",
       "      <td>2.00</td>\n",
       "      <td>4.0</td>\n",
       "    </tr>\n",
       "    <tr>\n",
       "      <td>5</td>\n",
       "      <td>Добавить страницу отзывов клиентов о магазине, что позволит увеличить количество заказов</td>\n",
       "      <td>3</td>\n",
       "      <td>2</td>\n",
       "      <td>2</td>\n",
       "      <td>3</td>\n",
       "      <td>1.33</td>\n",
       "      <td>4.0</td>\n",
       "    </tr>\n",
       "    <tr>\n",
       "      <td>4</td>\n",
       "      <td>Изменить цвет фона главной страницы, чтобы увеличить вовлеченность пользователей</td>\n",
       "      <td>3</td>\n",
       "      <td>1</td>\n",
       "      <td>1</td>\n",
       "      <td>1</td>\n",
       "      <td>1.00</td>\n",
       "      <td>3.0</td>\n",
       "    </tr>\n",
       "  </tbody>\n",
       "</table>\n",
       "</div>"
      ],
      "text/plain": [
       "                                                                                                     hypothesis  \\\n",
       "7              Добавить форму подписки на все основные страницы, чтобы собрать базу клиентов для email-рассылок   \n",
       "2  Добавить блоки рекомендаций товаров на сайт интернет магазина, чтобы повысить конверсию и средний чек заказа   \n",
       "0            Добавить два новых канала привлечения трафика, что позволит привлекать на 30% больше пользователей   \n",
       "6          Показать на главной странице баннеры с актуальными акциями и распродажами, чтобы увеличить конверсию   \n",
       "8                                                       Запустить акцию, дающую скидку на товар в день рождения   \n",
       "3           Изменить структура категорий, что увеличит конверсию, т.к. пользователи быстрее найдут нужный товар   \n",
       "1                                     Запустить собственную службу доставки, что сократит срок доставки заказов   \n",
       "5                      Добавить страницу отзывов клиентов о магазине, что позволит увеличить количество заказов   \n",
       "4                              Изменить цвет фона главной страницы, чтобы увеличить вовлеченность пользователей   \n",
       "\n",
       "   reach  impact  confidence  efforts    ICE   RICE  \n",
       "7     10       7           8        5  11.20  112.0  \n",
       "2      8       3           7        3   7.00   56.0  \n",
       "0      3      10           8        6  13.33   40.0  \n",
       "6      5       3           8        3   8.00   40.0  \n",
       "8      1       9           9        5  16.20   16.2  \n",
       "3      8       3           3        8   1.12    9.0  \n",
       "1      2       5           4       10   2.00    4.0  \n",
       "5      3       2           2        3   1.33    4.0  \n",
       "4      3       1           1        1   1.00    3.0  "
      ]
     },
     "execution_count": 5,
     "metadata": {},
     "output_type": "execute_result"
    }
   ],
   "source": [
    "hypothesis['RICE'] = ((hypothesis['reach'] * hypothesis['impact'] * hypothesis['confidence']) / hypothesis['efforts']).round(2)\n",
    "hypothesis.sort_values(by = 'RICE', ascending = False)"
   ]
  },
  {
   "cell_type": "markdown",
   "metadata": {},
   "source": [
    "По фреймворку RICE на первый план выходят гипотезы с большим охватом (Reach). Приоритетными остались 0 и 7 гипотезы, к ним добавилась гипотеза номер 2. Гипотеза номер 8 с самым высоким приоритетом по ICE (Запустить акцию, дающую скидку на товар в день рождения) опустилась в списке, так как у нее небольшой охват."
   ]
  },
  {
   "cell_type": "markdown",
   "metadata": {},
   "source": [
    "# Вывод\n",
    "В целом, оба фреймворка (ICE и RICE) поставили в приоритет аналогичные гипотезы. Самыми переспективными оказались 0 и 7 гипотезы. ICE также выделил гипотезу номер 8 (запустить акцию, дающую скидку на товар в день рождения), как гипотезу с высоким уровнем уверенности и влияния (confidence и impact). В соответствии с RICE , самой перспективной является гипотеза номер 2 (добавить блоки рекомендаций товаров на сайт интернет магазина, чтобы повысить конверсию и средний чек заказа), как обладающую высоким охватом."
   ]
  },
  {
   "cell_type": "markdown",
   "metadata": {},
   "source": [
    "## Анализ A/B-теста"
   ]
  },
  {
   "cell_type": "markdown",
   "metadata": {},
   "source": [
    "### Расчет кумулятивных показателей и построение графиков "
   ]
  },
  {
   "cell_type": "markdown",
   "metadata": {},
   "source": [
    "Импортируем датафреймы и напишем функцию для автоматиpации вывода датафрейма и информации о нем."
   ]
  },
  {
   "cell_type": "code",
   "execution_count": 6,
   "metadata": {},
   "outputs": [],
   "source": [
    "orders = pd.read_csv('/datasets/orders.csv')\n",
    "visitors = pd.read_csv('/datasets/visitors.csv')"
   ]
  },
  {
   "cell_type": "code",
   "execution_count": 7,
   "metadata": {},
   "outputs": [],
   "source": [
    "def first_look (df):\n",
    "    print ('---------------- Первые 5 строк --------------------')\n",
    "    display (df.head())\n",
    "    print(' ')\n",
    "    print(' ')\n",
    "    print ('---------------- Типы данных --------------------')\n",
    "    print (df.info())\n",
    "    print(' ')\n",
    "    print(' ')\n",
    "    print ('---------------- Пропуски --------------------')\n",
    "    count = 0\n",
    "    for element in df.columns:\n",
    "        if df[element].isna().sum() > 0:\n",
    "            print(element, ' - ', df[element].isna().sum(), 'пропусков')\n",
    "            count =+1\n",
    "    if count == 0:\n",
    "        print ('Пропусков НЕТ')\n",
    "    print(' ')\n",
    "    print(' ')\n",
    "    print ('---------------- Дубликаты --------------------')\n",
    "    if df.duplicated().sum() > 0:\n",
    "        print('Дубликатов: ', df.duplicated().sum())\n",
    "    else:\n",
    "        print ('Дубликатов НЕТ')"
   ]
  },
  {
   "cell_type": "code",
   "execution_count": 8,
   "metadata": {},
   "outputs": [
    {
     "name": "stdout",
     "output_type": "stream",
     "text": [
      "---------------- Первые 5 строк --------------------\n"
     ]
    },
    {
     "data": {
      "text/html": [
       "<div>\n",
       "<style scoped>\n",
       "    .dataframe tbody tr th:only-of-type {\n",
       "        vertical-align: middle;\n",
       "    }\n",
       "\n",
       "    .dataframe tbody tr th {\n",
       "        vertical-align: top;\n",
       "    }\n",
       "\n",
       "    .dataframe thead th {\n",
       "        text-align: right;\n",
       "    }\n",
       "</style>\n",
       "<table border=\"1\" class=\"dataframe\">\n",
       "  <thead>\n",
       "    <tr style=\"text-align: right;\">\n",
       "      <th></th>\n",
       "      <th>transactionId</th>\n",
       "      <th>visitorId</th>\n",
       "      <th>date</th>\n",
       "      <th>revenue</th>\n",
       "      <th>group</th>\n",
       "    </tr>\n",
       "  </thead>\n",
       "  <tbody>\n",
       "    <tr>\n",
       "      <td>0</td>\n",
       "      <td>3667963787</td>\n",
       "      <td>3312258926</td>\n",
       "      <td>2019-08-15</td>\n",
       "      <td>1650</td>\n",
       "      <td>B</td>\n",
       "    </tr>\n",
       "    <tr>\n",
       "      <td>1</td>\n",
       "      <td>2804400009</td>\n",
       "      <td>3642806036</td>\n",
       "      <td>2019-08-15</td>\n",
       "      <td>730</td>\n",
       "      <td>B</td>\n",
       "    </tr>\n",
       "    <tr>\n",
       "      <td>2</td>\n",
       "      <td>2961555356</td>\n",
       "      <td>4069496402</td>\n",
       "      <td>2019-08-15</td>\n",
       "      <td>400</td>\n",
       "      <td>A</td>\n",
       "    </tr>\n",
       "    <tr>\n",
       "      <td>3</td>\n",
       "      <td>3797467345</td>\n",
       "      <td>1196621759</td>\n",
       "      <td>2019-08-15</td>\n",
       "      <td>9759</td>\n",
       "      <td>B</td>\n",
       "    </tr>\n",
       "    <tr>\n",
       "      <td>4</td>\n",
       "      <td>2282983706</td>\n",
       "      <td>2322279887</td>\n",
       "      <td>2019-08-15</td>\n",
       "      <td>2308</td>\n",
       "      <td>B</td>\n",
       "    </tr>\n",
       "  </tbody>\n",
       "</table>\n",
       "</div>"
      ],
      "text/plain": [
       "   transactionId   visitorId        date  revenue group\n",
       "0     3667963787  3312258926  2019-08-15     1650     B\n",
       "1     2804400009  3642806036  2019-08-15      730     B\n",
       "2     2961555356  4069496402  2019-08-15      400     A\n",
       "3     3797467345  1196621759  2019-08-15     9759     B\n",
       "4     2282983706  2322279887  2019-08-15     2308     B"
      ]
     },
     "metadata": {},
     "output_type": "display_data"
    },
    {
     "name": "stdout",
     "output_type": "stream",
     "text": [
      " \n",
      " \n",
      "---------------- Типы данных --------------------\n",
      "<class 'pandas.core.frame.DataFrame'>\n",
      "RangeIndex: 1197 entries, 0 to 1196\n",
      "Data columns (total 5 columns):\n",
      "transactionId    1197 non-null int64\n",
      "visitorId        1197 non-null int64\n",
      "date             1197 non-null object\n",
      "revenue          1197 non-null int64\n",
      "group            1197 non-null object\n",
      "dtypes: int64(3), object(2)\n",
      "memory usage: 46.9+ KB\n",
      "None\n",
      " \n",
      " \n",
      "---------------- Пропуски --------------------\n",
      "Пропусков НЕТ\n",
      " \n",
      " \n",
      "---------------- Дубликаты --------------------\n",
      "Дубликатов НЕТ\n"
     ]
    }
   ],
   "source": [
    "first_look(orders)"
   ]
  },
  {
   "cell_type": "markdown",
   "metadata": {},
   "source": [
    "Пропусков нет, названия столбцов корректны, стоит только изменить тип данных в столбце с датами."
   ]
  },
  {
   "cell_type": "code",
   "execution_count": 9,
   "metadata": {},
   "outputs": [],
   "source": [
    "orders['date'] = orders['date'].map(lambda x: dt.datetime.strptime(x, '%Y-%m-%d'))"
   ]
  },
  {
   "cell_type": "markdown",
   "metadata": {},
   "source": [
    "Теперь рассмотрим таблицу visitors."
   ]
  },
  {
   "cell_type": "code",
   "execution_count": 10,
   "metadata": {},
   "outputs": [
    {
     "name": "stdout",
     "output_type": "stream",
     "text": [
      "---------------- Первые 5 строк --------------------\n"
     ]
    },
    {
     "data": {
      "text/html": [
       "<div>\n",
       "<style scoped>\n",
       "    .dataframe tbody tr th:only-of-type {\n",
       "        vertical-align: middle;\n",
       "    }\n",
       "\n",
       "    .dataframe tbody tr th {\n",
       "        vertical-align: top;\n",
       "    }\n",
       "\n",
       "    .dataframe thead th {\n",
       "        text-align: right;\n",
       "    }\n",
       "</style>\n",
       "<table border=\"1\" class=\"dataframe\">\n",
       "  <thead>\n",
       "    <tr style=\"text-align: right;\">\n",
       "      <th></th>\n",
       "      <th>date</th>\n",
       "      <th>group</th>\n",
       "      <th>visitors</th>\n",
       "    </tr>\n",
       "  </thead>\n",
       "  <tbody>\n",
       "    <tr>\n",
       "      <td>0</td>\n",
       "      <td>2019-08-01</td>\n",
       "      <td>A</td>\n",
       "      <td>719</td>\n",
       "    </tr>\n",
       "    <tr>\n",
       "      <td>1</td>\n",
       "      <td>2019-08-02</td>\n",
       "      <td>A</td>\n",
       "      <td>619</td>\n",
       "    </tr>\n",
       "    <tr>\n",
       "      <td>2</td>\n",
       "      <td>2019-08-03</td>\n",
       "      <td>A</td>\n",
       "      <td>507</td>\n",
       "    </tr>\n",
       "    <tr>\n",
       "      <td>3</td>\n",
       "      <td>2019-08-04</td>\n",
       "      <td>A</td>\n",
       "      <td>717</td>\n",
       "    </tr>\n",
       "    <tr>\n",
       "      <td>4</td>\n",
       "      <td>2019-08-05</td>\n",
       "      <td>A</td>\n",
       "      <td>756</td>\n",
       "    </tr>\n",
       "  </tbody>\n",
       "</table>\n",
       "</div>"
      ],
      "text/plain": [
       "         date group  visitors\n",
       "0  2019-08-01     A       719\n",
       "1  2019-08-02     A       619\n",
       "2  2019-08-03     A       507\n",
       "3  2019-08-04     A       717\n",
       "4  2019-08-05     A       756"
      ]
     },
     "metadata": {},
     "output_type": "display_data"
    },
    {
     "name": "stdout",
     "output_type": "stream",
     "text": [
      " \n",
      " \n",
      "---------------- Типы данных --------------------\n",
      "<class 'pandas.core.frame.DataFrame'>\n",
      "RangeIndex: 62 entries, 0 to 61\n",
      "Data columns (total 3 columns):\n",
      "date        62 non-null object\n",
      "group       62 non-null object\n",
      "visitors    62 non-null int64\n",
      "dtypes: int64(1), object(2)\n",
      "memory usage: 1.6+ KB\n",
      "None\n",
      " \n",
      " \n",
      "---------------- Пропуски --------------------\n",
      "Пропусков НЕТ\n",
      " \n",
      " \n",
      "---------------- Дубликаты --------------------\n",
      "Дубликатов НЕТ\n"
     ]
    }
   ],
   "source": [
    "first_look(visitors)"
   ]
  },
  {
   "cell_type": "markdown",
   "metadata": {},
   "source": [
    "Изменим тип данных с датами покупок на дату."
   ]
  },
  {
   "cell_type": "code",
   "execution_count": 11,
   "metadata": {},
   "outputs": [],
   "source": [
    "visitors['date'] = visitors['date'].map(lambda x: dt.datetime.strptime(x, '%Y-%m-%d'))"
   ]
  },
  {
   "cell_type": "markdown",
   "metadata": {},
   "source": [
    "Проверим общее количество пользователей в каждой группе:"
   ]
  },
  {
   "cell_type": "code",
   "execution_count": 12,
   "metadata": {},
   "outputs": [
    {
     "name": "stdout",
     "output_type": "stream",
     "text": [
      "group\n",
      "A    18736\n",
      "B    18916\n",
      "Name: visitors, dtype: int64\n"
     ]
    }
   ],
   "source": [
    "print (visitors.groupby('group')['visitors'].sum())"
   ]
  },
  {
   "cell_type": "markdown",
   "metadata": {},
   "source": [
    "Группы очень близки по размеру, что хорошо для проводимого теста. Но мы проверим, встречаются ли такие посетители, которые попали в две группы теста одновременно. Для этого построим сводную таблицу."
   ]
  },
  {
   "cell_type": "code",
   "execution_count": 13,
   "metadata": {},
   "outputs": [
    {
     "data": {
      "text/html": [
       "<div>\n",
       "<style scoped>\n",
       "    .dataframe tbody tr th:only-of-type {\n",
       "        vertical-align: middle;\n",
       "    }\n",
       "\n",
       "    .dataframe tbody tr th {\n",
       "        vertical-align: top;\n",
       "    }\n",
       "\n",
       "    .dataframe thead th {\n",
       "        text-align: right;\n",
       "    }\n",
       "</style>\n",
       "<table border=\"1\" class=\"dataframe\">\n",
       "  <thead>\n",
       "    <tr style=\"text-align: right;\">\n",
       "      <th>group</th>\n",
       "      <th>A</th>\n",
       "      <th>B</th>\n",
       "    </tr>\n",
       "    <tr>\n",
       "      <th>visitorId</th>\n",
       "      <th></th>\n",
       "      <th></th>\n",
       "    </tr>\n",
       "  </thead>\n",
       "  <tbody>\n",
       "    <tr>\n",
       "      <td>5114589</td>\n",
       "      <td>NaN</td>\n",
       "      <td>9.000260e+08</td>\n",
       "    </tr>\n",
       "    <tr>\n",
       "      <td>6958315</td>\n",
       "      <td>NaN</td>\n",
       "      <td>1.887337e+09</td>\n",
       "    </tr>\n",
       "    <tr>\n",
       "      <td>8300375</td>\n",
       "      <td>4.293856e+09</td>\n",
       "      <td>3.679129e+09</td>\n",
       "    </tr>\n",
       "    <tr>\n",
       "      <td>11685486</td>\n",
       "      <td>7.972722e+08</td>\n",
       "      <td>NaN</td>\n",
       "    </tr>\n",
       "    <tr>\n",
       "      <td>39475350</td>\n",
       "      <td>NaN</td>\n",
       "      <td>4.378764e+08</td>\n",
       "    </tr>\n",
       "    <tr>\n",
       "      <td>...</td>\n",
       "      <td>...</td>\n",
       "      <td>...</td>\n",
       "    </tr>\n",
       "    <tr>\n",
       "      <td>4266935830</td>\n",
       "      <td>1.811671e+09</td>\n",
       "      <td>1.216534e+09</td>\n",
       "    </tr>\n",
       "    <tr>\n",
       "      <td>4278982564</td>\n",
       "      <td>5.144316e+07</td>\n",
       "      <td>NaN</td>\n",
       "    </tr>\n",
       "    <tr>\n",
       "      <td>4279090005</td>\n",
       "      <td>NaN</td>\n",
       "      <td>2.724331e+09</td>\n",
       "    </tr>\n",
       "    <tr>\n",
       "      <td>4281247801</td>\n",
       "      <td>NaN</td>\n",
       "      <td>3.796325e+09</td>\n",
       "    </tr>\n",
       "    <tr>\n",
       "      <td>4283872382</td>\n",
       "      <td>NaN</td>\n",
       "      <td>8.367392e+08</td>\n",
       "    </tr>\n",
       "  </tbody>\n",
       "</table>\n",
       "<p>1031 rows × 2 columns</p>\n",
       "</div>"
      ],
      "text/plain": [
       "group                  A             B\n",
       "visitorId                             \n",
       "5114589              NaN  9.000260e+08\n",
       "6958315              NaN  1.887337e+09\n",
       "8300375     4.293856e+09  3.679129e+09\n",
       "11685486    7.972722e+08           NaN\n",
       "39475350             NaN  4.378764e+08\n",
       "...                  ...           ...\n",
       "4266935830  1.811671e+09  1.216534e+09\n",
       "4278982564  5.144316e+07           NaN\n",
       "4279090005           NaN  2.724331e+09\n",
       "4281247801           NaN  3.796325e+09\n",
       "4283872382           NaN  8.367392e+08\n",
       "\n",
       "[1031 rows x 2 columns]"
      ]
     },
     "execution_count": 13,
     "metadata": {},
     "output_type": "execute_result"
    }
   ],
   "source": [
    "orders_pivot = orders.pivot_table(index = 'visitorId', columns = 'group', values = 'transactionId', aggfunc = 'first')\n",
    "orders_pivot"
   ]
  },
  {
   "cell_type": "markdown",
   "metadata": {},
   "source": [
    "Мы видим, что пользователи, которые попали и в группу А и в группу В, встречаются. Выведем список ID таких посетителей."
   ]
  },
  {
   "cell_type": "code",
   "execution_count": 14,
   "metadata": {},
   "outputs": [],
   "source": [
    "orders_pivot1 = orders_pivot.loc[orders_pivot['A'].notnull()]"
   ]
  },
  {
   "cell_type": "code",
   "execution_count": 15,
   "metadata": {},
   "outputs": [],
   "source": [
    "orders_pivot2 = orders_pivot1.loc[orders_pivot1['B'].notnull()].reset_index()"
   ]
  },
  {
   "cell_type": "code",
   "execution_count": 16,
   "metadata": {},
   "outputs": [
    {
     "data": {
      "text/html": [
       "<div>\n",
       "<style scoped>\n",
       "    .dataframe tbody tr th:only-of-type {\n",
       "        vertical-align: middle;\n",
       "    }\n",
       "\n",
       "    .dataframe tbody tr th {\n",
       "        vertical-align: top;\n",
       "    }\n",
       "\n",
       "    .dataframe thead th {\n",
       "        text-align: right;\n",
       "    }\n",
       "</style>\n",
       "<table border=\"1\" class=\"dataframe\">\n",
       "  <thead>\n",
       "    <tr style=\"text-align: right;\">\n",
       "      <th>group</th>\n",
       "      <th>visitorId</th>\n",
       "      <th>A</th>\n",
       "      <th>B</th>\n",
       "    </tr>\n",
       "  </thead>\n",
       "  <tbody>\n",
       "    <tr>\n",
       "      <td>0</td>\n",
       "      <td>8300375</td>\n",
       "      <td>4.293856e+09</td>\n",
       "      <td>3.679129e+09</td>\n",
       "    </tr>\n",
       "    <tr>\n",
       "      <td>1</td>\n",
       "      <td>199603092</td>\n",
       "      <td>2.223240e+09</td>\n",
       "      <td>4.376570e+08</td>\n",
       "    </tr>\n",
       "    <tr>\n",
       "      <td>2</td>\n",
       "      <td>232979603</td>\n",
       "      <td>8.356615e+07</td>\n",
       "      <td>2.670069e+09</td>\n",
       "    </tr>\n",
       "    <tr>\n",
       "      <td>3</td>\n",
       "      <td>237748145</td>\n",
       "      <td>2.594268e+09</td>\n",
       "      <td>1.630051e+09</td>\n",
       "    </tr>\n",
       "    <tr>\n",
       "      <td>4</td>\n",
       "      <td>276558944</td>\n",
       "      <td>3.894438e+09</td>\n",
       "      <td>1.701654e+09</td>\n",
       "    </tr>\n",
       "    <tr>\n",
       "      <td>5</td>\n",
       "      <td>351125977</td>\n",
       "      <td>3.075639e+09</td>\n",
       "      <td>4.252514e+09</td>\n",
       "    </tr>\n",
       "    <tr>\n",
       "      <td>6</td>\n",
       "      <td>393266494</td>\n",
       "      <td>3.031565e+09</td>\n",
       "      <td>9.369174e+08</td>\n",
       "    </tr>\n",
       "    <tr>\n",
       "      <td>7</td>\n",
       "      <td>457167155</td>\n",
       "      <td>2.370269e+09</td>\n",
       "      <td>2.526330e+08</td>\n",
       "    </tr>\n",
       "    <tr>\n",
       "      <td>8</td>\n",
       "      <td>471551937</td>\n",
       "      <td>3.734714e+09</td>\n",
       "      <td>2.676541e+09</td>\n",
       "    </tr>\n",
       "    <tr>\n",
       "      <td>9</td>\n",
       "      <td>477780734</td>\n",
       "      <td>3.335804e+09</td>\n",
       "      <td>1.325619e+08</td>\n",
       "    </tr>\n",
       "    <tr>\n",
       "      <td>10</td>\n",
       "      <td>818047933</td>\n",
       "      <td>4.276811e+09</td>\n",
       "      <td>2.357685e+09</td>\n",
       "    </tr>\n",
       "    <tr>\n",
       "      <td>11</td>\n",
       "      <td>963407295</td>\n",
       "      <td>1.458356e+09</td>\n",
       "      <td>2.904773e+09</td>\n",
       "    </tr>\n",
       "    <tr>\n",
       "      <td>12</td>\n",
       "      <td>1230306981</td>\n",
       "      <td>3.667886e+09</td>\n",
       "      <td>1.748609e+09</td>\n",
       "    </tr>\n",
       "    <tr>\n",
       "      <td>13</td>\n",
       "      <td>1294878855</td>\n",
       "      <td>2.348590e+09</td>\n",
       "      <td>3.718489e+08</td>\n",
       "    </tr>\n",
       "    <tr>\n",
       "      <td>14</td>\n",
       "      <td>1316129916</td>\n",
       "      <td>1.927214e+08</td>\n",
       "      <td>3.922987e+09</td>\n",
       "    </tr>\n",
       "    <tr>\n",
       "      <td>15</td>\n",
       "      <td>1333886533</td>\n",
       "      <td>1.750161e+09</td>\n",
       "      <td>5.119534e+08</td>\n",
       "    </tr>\n",
       "    <tr>\n",
       "      <td>16</td>\n",
       "      <td>1404934699</td>\n",
       "      <td>1.814629e+09</td>\n",
       "      <td>1.441855e+09</td>\n",
       "    </tr>\n",
       "    <tr>\n",
       "      <td>17</td>\n",
       "      <td>1602967004</td>\n",
       "      <td>2.792059e+09</td>\n",
       "      <td>2.726404e+09</td>\n",
       "    </tr>\n",
       "    <tr>\n",
       "      <td>18</td>\n",
       "      <td>1614305549</td>\n",
       "      <td>2.663042e+09</td>\n",
       "      <td>2.972137e+09</td>\n",
       "    </tr>\n",
       "    <tr>\n",
       "      <td>19</td>\n",
       "      <td>1648269707</td>\n",
       "      <td>1.101659e+09</td>\n",
       "      <td>4.189936e+09</td>\n",
       "    </tr>\n",
       "    <tr>\n",
       "      <td>20</td>\n",
       "      <td>1668030113</td>\n",
       "      <td>2.339955e+09</td>\n",
       "      <td>3.909270e+09</td>\n",
       "    </tr>\n",
       "    <tr>\n",
       "      <td>21</td>\n",
       "      <td>1738359350</td>\n",
       "      <td>1.665445e+09</td>\n",
       "      <td>3.006441e+09</td>\n",
       "    </tr>\n",
       "    <tr>\n",
       "      <td>22</td>\n",
       "      <td>1801183820</td>\n",
       "      <td>1.197739e+09</td>\n",
       "      <td>2.726113e+09</td>\n",
       "    </tr>\n",
       "    <tr>\n",
       "      <td>23</td>\n",
       "      <td>1959144690</td>\n",
       "      <td>1.863282e+09</td>\n",
       "      <td>1.893323e+08</td>\n",
       "    </tr>\n",
       "    <tr>\n",
       "      <td>24</td>\n",
       "      <td>2038680547</td>\n",
       "      <td>7.220603e+08</td>\n",
       "      <td>3.666913e+09</td>\n",
       "    </tr>\n",
       "    <tr>\n",
       "      <td>25</td>\n",
       "      <td>2044997962</td>\n",
       "      <td>8.576396e+08</td>\n",
       "      <td>3.754751e+09</td>\n",
       "    </tr>\n",
       "    <tr>\n",
       "      <td>26</td>\n",
       "      <td>2378935119</td>\n",
       "      <td>4.862376e+08</td>\n",
       "      <td>2.213814e+09</td>\n",
       "    </tr>\n",
       "    <tr>\n",
       "      <td>27</td>\n",
       "      <td>2458001652</td>\n",
       "      <td>3.060564e+09</td>\n",
       "      <td>1.177690e+09</td>\n",
       "    </tr>\n",
       "    <tr>\n",
       "      <td>28</td>\n",
       "      <td>2579882178</td>\n",
       "      <td>3.743516e+09</td>\n",
       "      <td>1.317473e+08</td>\n",
       "    </tr>\n",
       "    <tr>\n",
       "      <td>29</td>\n",
       "      <td>2587333274</td>\n",
       "      <td>3.478708e+09</td>\n",
       "      <td>1.825232e+09</td>\n",
       "    </tr>\n",
       "    <tr>\n",
       "      <td>30</td>\n",
       "      <td>2600415354</td>\n",
       "      <td>2.316868e+09</td>\n",
       "      <td>1.954636e+09</td>\n",
       "    </tr>\n",
       "    <tr>\n",
       "      <td>31</td>\n",
       "      <td>2654030115</td>\n",
       "      <td>1.254962e+09</td>\n",
       "      <td>3.620682e+09</td>\n",
       "    </tr>\n",
       "    <tr>\n",
       "      <td>32</td>\n",
       "      <td>2686716486</td>\n",
       "      <td>2.139320e+09</td>\n",
       "      <td>1.545496e+09</td>\n",
       "    </tr>\n",
       "    <tr>\n",
       "      <td>33</td>\n",
       "      <td>2712142231</td>\n",
       "      <td>3.612788e+09</td>\n",
       "      <td>1.251768e+09</td>\n",
       "    </tr>\n",
       "    <tr>\n",
       "      <td>34</td>\n",
       "      <td>2716752286</td>\n",
       "      <td>2.632798e+09</td>\n",
       "      <td>4.141168e+09</td>\n",
       "    </tr>\n",
       "    <tr>\n",
       "      <td>35</td>\n",
       "      <td>2780786433</td>\n",
       "      <td>6.099158e+08</td>\n",
       "      <td>8.473153e+08</td>\n",
       "    </tr>\n",
       "    <tr>\n",
       "      <td>36</td>\n",
       "      <td>2927087541</td>\n",
       "      <td>3.124204e+09</td>\n",
       "      <td>1.651227e+09</td>\n",
       "    </tr>\n",
       "    <tr>\n",
       "      <td>37</td>\n",
       "      <td>2949041841</td>\n",
       "      <td>4.052155e+09</td>\n",
       "      <td>1.329500e+09</td>\n",
       "    </tr>\n",
       "    <tr>\n",
       "      <td>38</td>\n",
       "      <td>2954449915</td>\n",
       "      <td>2.931845e+09</td>\n",
       "      <td>2.781851e+09</td>\n",
       "    </tr>\n",
       "    <tr>\n",
       "      <td>39</td>\n",
       "      <td>3062433592</td>\n",
       "      <td>1.092419e+09</td>\n",
       "      <td>2.736732e+09</td>\n",
       "    </tr>\n",
       "    <tr>\n",
       "      <td>40</td>\n",
       "      <td>3202540741</td>\n",
       "      <td>1.168756e+09</td>\n",
       "      <td>1.061451e+09</td>\n",
       "    </tr>\n",
       "    <tr>\n",
       "      <td>41</td>\n",
       "      <td>3234906277</td>\n",
       "      <td>1.360775e+09</td>\n",
       "      <td>1.162046e+09</td>\n",
       "    </tr>\n",
       "    <tr>\n",
       "      <td>42</td>\n",
       "      <td>3656415546</td>\n",
       "      <td>2.066718e+09</td>\n",
       "      <td>2.656311e+08</td>\n",
       "    </tr>\n",
       "    <tr>\n",
       "      <td>43</td>\n",
       "      <td>3717692402</td>\n",
       "      <td>3.362485e+09</td>\n",
       "      <td>6.159669e+08</td>\n",
       "    </tr>\n",
       "    <tr>\n",
       "      <td>44</td>\n",
       "      <td>3766097110</td>\n",
       "      <td>2.514024e+09</td>\n",
       "      <td>2.470659e+09</td>\n",
       "    </tr>\n",
       "    <tr>\n",
       "      <td>45</td>\n",
       "      <td>3803269165</td>\n",
       "      <td>2.220299e+09</td>\n",
       "      <td>4.738645e+08</td>\n",
       "    </tr>\n",
       "    <tr>\n",
       "      <td>46</td>\n",
       "      <td>3891541246</td>\n",
       "      <td>1.170827e+09</td>\n",
       "      <td>4.007827e+09</td>\n",
       "    </tr>\n",
       "    <tr>\n",
       "      <td>47</td>\n",
       "      <td>3941795274</td>\n",
       "      <td>2.076435e+09</td>\n",
       "      <td>6.981718e+08</td>\n",
       "    </tr>\n",
       "    <tr>\n",
       "      <td>48</td>\n",
       "      <td>3951559397</td>\n",
       "      <td>2.468486e+08</td>\n",
       "      <td>2.825038e+09</td>\n",
       "    </tr>\n",
       "    <tr>\n",
       "      <td>49</td>\n",
       "      <td>3957174400</td>\n",
       "      <td>1.067267e+09</td>\n",
       "      <td>3.241914e+09</td>\n",
       "    </tr>\n",
       "    <tr>\n",
       "      <td>50</td>\n",
       "      <td>3963646447</td>\n",
       "      <td>1.277417e+09</td>\n",
       "      <td>2.289556e+09</td>\n",
       "    </tr>\n",
       "    <tr>\n",
       "      <td>51</td>\n",
       "      <td>3972127743</td>\n",
       "      <td>2.898836e+09</td>\n",
       "      <td>3.061324e+09</td>\n",
       "    </tr>\n",
       "    <tr>\n",
       "      <td>52</td>\n",
       "      <td>3984495233</td>\n",
       "      <td>3.925488e+09</td>\n",
       "      <td>3.532705e+09</td>\n",
       "    </tr>\n",
       "    <tr>\n",
       "      <td>53</td>\n",
       "      <td>4069496402</td>\n",
       "      <td>2.961555e+09</td>\n",
       "      <td>1.473133e+09</td>\n",
       "    </tr>\n",
       "    <tr>\n",
       "      <td>54</td>\n",
       "      <td>4120364173</td>\n",
       "      <td>4.212256e+09</td>\n",
       "      <td>9.697508e+08</td>\n",
       "    </tr>\n",
       "    <tr>\n",
       "      <td>55</td>\n",
       "      <td>4186807279</td>\n",
       "      <td>3.757657e+09</td>\n",
       "      <td>1.759419e+09</td>\n",
       "    </tr>\n",
       "    <tr>\n",
       "      <td>56</td>\n",
       "      <td>4256040402</td>\n",
       "      <td>1.120327e+09</td>\n",
       "      <td>1.421016e+09</td>\n",
       "    </tr>\n",
       "    <tr>\n",
       "      <td>57</td>\n",
       "      <td>4266935830</td>\n",
       "      <td>1.811671e+09</td>\n",
       "      <td>1.216534e+09</td>\n",
       "    </tr>\n",
       "  </tbody>\n",
       "</table>\n",
       "</div>"
      ],
      "text/plain": [
       "group   visitorId             A             B\n",
       "0         8300375  4.293856e+09  3.679129e+09\n",
       "1       199603092  2.223240e+09  4.376570e+08\n",
       "2       232979603  8.356615e+07  2.670069e+09\n",
       "3       237748145  2.594268e+09  1.630051e+09\n",
       "4       276558944  3.894438e+09  1.701654e+09\n",
       "5       351125977  3.075639e+09  4.252514e+09\n",
       "6       393266494  3.031565e+09  9.369174e+08\n",
       "7       457167155  2.370269e+09  2.526330e+08\n",
       "8       471551937  3.734714e+09  2.676541e+09\n",
       "9       477780734  3.335804e+09  1.325619e+08\n",
       "10      818047933  4.276811e+09  2.357685e+09\n",
       "11      963407295  1.458356e+09  2.904773e+09\n",
       "12     1230306981  3.667886e+09  1.748609e+09\n",
       "13     1294878855  2.348590e+09  3.718489e+08\n",
       "14     1316129916  1.927214e+08  3.922987e+09\n",
       "15     1333886533  1.750161e+09  5.119534e+08\n",
       "16     1404934699  1.814629e+09  1.441855e+09\n",
       "17     1602967004  2.792059e+09  2.726404e+09\n",
       "18     1614305549  2.663042e+09  2.972137e+09\n",
       "19     1648269707  1.101659e+09  4.189936e+09\n",
       "20     1668030113  2.339955e+09  3.909270e+09\n",
       "21     1738359350  1.665445e+09  3.006441e+09\n",
       "22     1801183820  1.197739e+09  2.726113e+09\n",
       "23     1959144690  1.863282e+09  1.893323e+08\n",
       "24     2038680547  7.220603e+08  3.666913e+09\n",
       "25     2044997962  8.576396e+08  3.754751e+09\n",
       "26     2378935119  4.862376e+08  2.213814e+09\n",
       "27     2458001652  3.060564e+09  1.177690e+09\n",
       "28     2579882178  3.743516e+09  1.317473e+08\n",
       "29     2587333274  3.478708e+09  1.825232e+09\n",
       "30     2600415354  2.316868e+09  1.954636e+09\n",
       "31     2654030115  1.254962e+09  3.620682e+09\n",
       "32     2686716486  2.139320e+09  1.545496e+09\n",
       "33     2712142231  3.612788e+09  1.251768e+09\n",
       "34     2716752286  2.632798e+09  4.141168e+09\n",
       "35     2780786433  6.099158e+08  8.473153e+08\n",
       "36     2927087541  3.124204e+09  1.651227e+09\n",
       "37     2949041841  4.052155e+09  1.329500e+09\n",
       "38     2954449915  2.931845e+09  2.781851e+09\n",
       "39     3062433592  1.092419e+09  2.736732e+09\n",
       "40     3202540741  1.168756e+09  1.061451e+09\n",
       "41     3234906277  1.360775e+09  1.162046e+09\n",
       "42     3656415546  2.066718e+09  2.656311e+08\n",
       "43     3717692402  3.362485e+09  6.159669e+08\n",
       "44     3766097110  2.514024e+09  2.470659e+09\n",
       "45     3803269165  2.220299e+09  4.738645e+08\n",
       "46     3891541246  1.170827e+09  4.007827e+09\n",
       "47     3941795274  2.076435e+09  6.981718e+08\n",
       "48     3951559397  2.468486e+08  2.825038e+09\n",
       "49     3957174400  1.067267e+09  3.241914e+09\n",
       "50     3963646447  1.277417e+09  2.289556e+09\n",
       "51     3972127743  2.898836e+09  3.061324e+09\n",
       "52     3984495233  3.925488e+09  3.532705e+09\n",
       "53     4069496402  2.961555e+09  1.473133e+09\n",
       "54     4120364173  4.212256e+09  9.697508e+08\n",
       "55     4186807279  3.757657e+09  1.759419e+09\n",
       "56     4256040402  1.120327e+09  1.421016e+09\n",
       "57     4266935830  1.811671e+09  1.216534e+09"
      ]
     },
     "execution_count": 16,
     "metadata": {},
     "output_type": "execute_result"
    }
   ],
   "source": [
    "orders_pivot2"
   ]
  },
  {
   "cell_type": "markdown",
   "metadata": {},
   "source": [
    "Для чистоты эксперимента удалим заказы, которые совершили пользователи, попавшие в две группы "
   ]
  },
  {
   "cell_type": "code",
   "execution_count": 17,
   "metadata": {},
   "outputs": [],
   "source": [
    "orders = orders[~orders['visitorId'].isin(orders_pivot2['visitorId'].unique())]"
   ]
  },
  {
   "cell_type": "code",
   "execution_count": 18,
   "metadata": {},
   "outputs": [
    {
     "name": "stdout",
     "output_type": "stream",
     "text": [
      "<class 'pandas.core.frame.DataFrame'>\n",
      "Int64Index: 1016 entries, 0 to 1196\n",
      "Data columns (total 5 columns):\n",
      "transactionId    1016 non-null int64\n",
      "visitorId        1016 non-null int64\n",
      "date             1016 non-null datetime64[ns]\n",
      "revenue          1016 non-null int64\n",
      "group            1016 non-null object\n",
      "dtypes: datetime64[ns](1), int64(3), object(1)\n",
      "memory usage: 47.6+ KB\n"
     ]
    }
   ],
   "source": [
    "orders.info()"
   ]
  },
  {
   "cell_type": "markdown",
   "metadata": {},
   "source": [
    "Создадим массив уникальных пар значений дат и групп теста методом drop_duplicates():"
   ]
  },
  {
   "cell_type": "code",
   "execution_count": 19,
   "metadata": {},
   "outputs": [
    {
     "data": {
      "text/html": [
       "<div>\n",
       "<style scoped>\n",
       "    .dataframe tbody tr th:only-of-type {\n",
       "        vertical-align: middle;\n",
       "    }\n",
       "\n",
       "    .dataframe tbody tr th {\n",
       "        vertical-align: top;\n",
       "    }\n",
       "\n",
       "    .dataframe thead th {\n",
       "        text-align: right;\n",
       "    }\n",
       "</style>\n",
       "<table border=\"1\" class=\"dataframe\">\n",
       "  <thead>\n",
       "    <tr style=\"text-align: right;\">\n",
       "      <th></th>\n",
       "      <th>date</th>\n",
       "      <th>group</th>\n",
       "    </tr>\n",
       "  </thead>\n",
       "  <tbody>\n",
       "    <tr>\n",
       "      <td>0</td>\n",
       "      <td>2019-08-15</td>\n",
       "      <td>B</td>\n",
       "    </tr>\n",
       "    <tr>\n",
       "      <td>7</td>\n",
       "      <td>2019-08-15</td>\n",
       "      <td>A</td>\n",
       "    </tr>\n",
       "    <tr>\n",
       "      <td>45</td>\n",
       "      <td>2019-08-16</td>\n",
       "      <td>A</td>\n",
       "    </tr>\n",
       "    <tr>\n",
       "      <td>47</td>\n",
       "      <td>2019-08-16</td>\n",
       "      <td>B</td>\n",
       "    </tr>\n",
       "    <tr>\n",
       "      <td>55</td>\n",
       "      <td>2019-08-01</td>\n",
       "      <td>A</td>\n",
       "    </tr>\n",
       "    <tr>\n",
       "      <td>...</td>\n",
       "      <td>...</td>\n",
       "      <td>...</td>\n",
       "    </tr>\n",
       "    <tr>\n",
       "      <td>1068</td>\n",
       "      <td>2019-08-12</td>\n",
       "      <td>A</td>\n",
       "    </tr>\n",
       "    <tr>\n",
       "      <td>1114</td>\n",
       "      <td>2019-08-13</td>\n",
       "      <td>B</td>\n",
       "    </tr>\n",
       "    <tr>\n",
       "      <td>1116</td>\n",
       "      <td>2019-08-13</td>\n",
       "      <td>A</td>\n",
       "    </tr>\n",
       "    <tr>\n",
       "      <td>1149</td>\n",
       "      <td>2019-08-14</td>\n",
       "      <td>B</td>\n",
       "    </tr>\n",
       "    <tr>\n",
       "      <td>1150</td>\n",
       "      <td>2019-08-14</td>\n",
       "      <td>A</td>\n",
       "    </tr>\n",
       "  </tbody>\n",
       "</table>\n",
       "<p>62 rows × 2 columns</p>\n",
       "</div>"
      ],
      "text/plain": [
       "           date group\n",
       "0    2019-08-15     B\n",
       "7    2019-08-15     A\n",
       "45   2019-08-16     A\n",
       "47   2019-08-16     B\n",
       "55   2019-08-01     A\n",
       "...         ...   ...\n",
       "1068 2019-08-12     A\n",
       "1114 2019-08-13     B\n",
       "1116 2019-08-13     A\n",
       "1149 2019-08-14     B\n",
       "1150 2019-08-14     A\n",
       "\n",
       "[62 rows x 2 columns]"
      ]
     },
     "execution_count": 19,
     "metadata": {},
     "output_type": "execute_result"
    }
   ],
   "source": [
    "datesGroups = orders[['date','group']].drop_duplicates()\n",
    "datesGroups"
   ]
  },
  {
   "cell_type": "markdown",
   "metadata": {},
   "source": [
    "Соберём агрегированные кумулятивные по дням данные о заказах. Вычислим максимальную дату, найдём число уникальных ID заказов и пользователей. Подсчитаем сумму средних чеков:"
   ]
  },
  {
   "cell_type": "code",
   "execution_count": 20,
   "metadata": {},
   "outputs": [
    {
     "data": {
      "text/html": [
       "<div>\n",
       "<style scoped>\n",
       "    .dataframe tbody tr th:only-of-type {\n",
       "        vertical-align: middle;\n",
       "    }\n",
       "\n",
       "    .dataframe tbody tr th {\n",
       "        vertical-align: top;\n",
       "    }\n",
       "\n",
       "    .dataframe thead th {\n",
       "        text-align: right;\n",
       "    }\n",
       "</style>\n",
       "<table border=\"1\" class=\"dataframe\">\n",
       "  <thead>\n",
       "    <tr style=\"text-align: right;\">\n",
       "      <th></th>\n",
       "      <th>date</th>\n",
       "      <th>group</th>\n",
       "      <th>transactionId</th>\n",
       "      <th>visitorId</th>\n",
       "      <th>revenue</th>\n",
       "    </tr>\n",
       "  </thead>\n",
       "  <tbody>\n",
       "    <tr>\n",
       "      <td>55</td>\n",
       "      <td>2019-08-01</td>\n",
       "      <td>A</td>\n",
       "      <td>23</td>\n",
       "      <td>19</td>\n",
       "      <td>142779</td>\n",
       "    </tr>\n",
       "    <tr>\n",
       "      <td>66</td>\n",
       "      <td>2019-08-01</td>\n",
       "      <td>B</td>\n",
       "      <td>17</td>\n",
       "      <td>17</td>\n",
       "      <td>59758</td>\n",
       "    </tr>\n",
       "    <tr>\n",
       "      <td>175</td>\n",
       "      <td>2019-08-02</td>\n",
       "      <td>A</td>\n",
       "      <td>42</td>\n",
       "      <td>36</td>\n",
       "      <td>234381</td>\n",
       "    </tr>\n",
       "    <tr>\n",
       "      <td>173</td>\n",
       "      <td>2019-08-02</td>\n",
       "      <td>B</td>\n",
       "      <td>40</td>\n",
       "      <td>39</td>\n",
       "      <td>221801</td>\n",
       "    </tr>\n",
       "    <tr>\n",
       "      <td>291</td>\n",
       "      <td>2019-08-03</td>\n",
       "      <td>A</td>\n",
       "      <td>66</td>\n",
       "      <td>60</td>\n",
       "      <td>346854</td>\n",
       "    </tr>\n",
       "    <tr>\n",
       "      <td>...</td>\n",
       "      <td>...</td>\n",
       "      <td>...</td>\n",
       "      <td>...</td>\n",
       "      <td>...</td>\n",
       "      <td>...</td>\n",
       "    </tr>\n",
       "    <tr>\n",
       "      <td>533</td>\n",
       "      <td>2019-08-29</td>\n",
       "      <td>B</td>\n",
       "      <td>510</td>\n",
       "      <td>490</td>\n",
       "      <td>4746610</td>\n",
       "    </tr>\n",
       "    <tr>\n",
       "      <td>757</td>\n",
       "      <td>2019-08-30</td>\n",
       "      <td>A</td>\n",
       "      <td>460</td>\n",
       "      <td>437</td>\n",
       "      <td>3311413</td>\n",
       "    </tr>\n",
       "    <tr>\n",
       "      <td>690</td>\n",
       "      <td>2019-08-30</td>\n",
       "      <td>B</td>\n",
       "      <td>531</td>\n",
       "      <td>511</td>\n",
       "      <td>4955833</td>\n",
       "    </tr>\n",
       "    <tr>\n",
       "      <td>958</td>\n",
       "      <td>2019-08-31</td>\n",
       "      <td>A</td>\n",
       "      <td>468</td>\n",
       "      <td>445</td>\n",
       "      <td>3364656</td>\n",
       "    </tr>\n",
       "    <tr>\n",
       "      <td>930</td>\n",
       "      <td>2019-08-31</td>\n",
       "      <td>B</td>\n",
       "      <td>548</td>\n",
       "      <td>528</td>\n",
       "      <td>5068972</td>\n",
       "    </tr>\n",
       "  </tbody>\n",
       "</table>\n",
       "<p>62 rows × 5 columns</p>\n",
       "</div>"
      ],
      "text/plain": [
       "          date group  transactionId  visitorId  revenue\n",
       "55  2019-08-01     A             23         19   142779\n",
       "66  2019-08-01     B             17         17    59758\n",
       "175 2019-08-02     A             42         36   234381\n",
       "173 2019-08-02     B             40         39   221801\n",
       "291 2019-08-03     A             66         60   346854\n",
       "..         ...   ...            ...        ...      ...\n",
       "533 2019-08-29     B            510        490  4746610\n",
       "757 2019-08-30     A            460        437  3311413\n",
       "690 2019-08-30     B            531        511  4955833\n",
       "958 2019-08-31     A            468        445  3364656\n",
       "930 2019-08-31     B            548        528  5068972\n",
       "\n",
       "[62 rows x 5 columns]"
      ]
     },
     "execution_count": 20,
     "metadata": {},
     "output_type": "execute_result"
    }
   ],
   "source": [
    "ordersAggregated = datesGroups.apply(\n",
    "lambda x: orders[np.logical_and(orders['date'] <= x['date'], orders['group'] == x['group'])].agg({\n",
    "'date' : 'max',\n",
    "'group' : 'max',\n",
    "'transactionId' : pd.Series.nunique,\n",
    "'visitorId' : pd.Series.nunique,\n",
    "'revenue' : 'sum'}), axis=1).sort_values(by=['date','group'])\n",
    "ordersAggregated"
   ]
  },
  {
   "cell_type": "markdown",
   "metadata": {},
   "source": [
    "Аналогично получим агрегированные кумулятивные по дням данные о посетителях интернет-магазина:"
   ]
  },
  {
   "cell_type": "code",
   "execution_count": 21,
   "metadata": {},
   "outputs": [
    {
     "data": {
      "text/html": [
       "<div>\n",
       "<style scoped>\n",
       "    .dataframe tbody tr th:only-of-type {\n",
       "        vertical-align: middle;\n",
       "    }\n",
       "\n",
       "    .dataframe tbody tr th {\n",
       "        vertical-align: top;\n",
       "    }\n",
       "\n",
       "    .dataframe thead th {\n",
       "        text-align: right;\n",
       "    }\n",
       "</style>\n",
       "<table border=\"1\" class=\"dataframe\">\n",
       "  <thead>\n",
       "    <tr style=\"text-align: right;\">\n",
       "      <th></th>\n",
       "      <th>date</th>\n",
       "      <th>group</th>\n",
       "      <th>visitors</th>\n",
       "    </tr>\n",
       "  </thead>\n",
       "  <tbody>\n",
       "    <tr>\n",
       "      <td>55</td>\n",
       "      <td>2019-08-01</td>\n",
       "      <td>A</td>\n",
       "      <td>719</td>\n",
       "    </tr>\n",
       "    <tr>\n",
       "      <td>66</td>\n",
       "      <td>2019-08-01</td>\n",
       "      <td>B</td>\n",
       "      <td>713</td>\n",
       "    </tr>\n",
       "    <tr>\n",
       "      <td>175</td>\n",
       "      <td>2019-08-02</td>\n",
       "      <td>A</td>\n",
       "      <td>1338</td>\n",
       "    </tr>\n",
       "    <tr>\n",
       "      <td>173</td>\n",
       "      <td>2019-08-02</td>\n",
       "      <td>B</td>\n",
       "      <td>1294</td>\n",
       "    </tr>\n",
       "    <tr>\n",
       "      <td>291</td>\n",
       "      <td>2019-08-03</td>\n",
       "      <td>A</td>\n",
       "      <td>1845</td>\n",
       "    </tr>\n",
       "    <tr>\n",
       "      <td>...</td>\n",
       "      <td>...</td>\n",
       "      <td>...</td>\n",
       "      <td>...</td>\n",
       "    </tr>\n",
       "    <tr>\n",
       "      <td>533</td>\n",
       "      <td>2019-08-29</td>\n",
       "      <td>B</td>\n",
       "      <td>17708</td>\n",
       "    </tr>\n",
       "    <tr>\n",
       "      <td>757</td>\n",
       "      <td>2019-08-30</td>\n",
       "      <td>A</td>\n",
       "      <td>18037</td>\n",
       "    </tr>\n",
       "    <tr>\n",
       "      <td>690</td>\n",
       "      <td>2019-08-30</td>\n",
       "      <td>B</td>\n",
       "      <td>18198</td>\n",
       "    </tr>\n",
       "    <tr>\n",
       "      <td>958</td>\n",
       "      <td>2019-08-31</td>\n",
       "      <td>A</td>\n",
       "      <td>18736</td>\n",
       "    </tr>\n",
       "    <tr>\n",
       "      <td>930</td>\n",
       "      <td>2019-08-31</td>\n",
       "      <td>B</td>\n",
       "      <td>18916</td>\n",
       "    </tr>\n",
       "  </tbody>\n",
       "</table>\n",
       "<p>62 rows × 3 columns</p>\n",
       "</div>"
      ],
      "text/plain": [
       "          date group  visitors\n",
       "55  2019-08-01     A       719\n",
       "66  2019-08-01     B       713\n",
       "175 2019-08-02     A      1338\n",
       "173 2019-08-02     B      1294\n",
       "291 2019-08-03     A      1845\n",
       "..         ...   ...       ...\n",
       "533 2019-08-29     B     17708\n",
       "757 2019-08-30     A     18037\n",
       "690 2019-08-30     B     18198\n",
       "958 2019-08-31     A     18736\n",
       "930 2019-08-31     B     18916\n",
       "\n",
       "[62 rows x 3 columns]"
      ]
     },
     "execution_count": 21,
     "metadata": {},
     "output_type": "execute_result"
    }
   ],
   "source": [
    "visitorsAggregated = datesGroups.apply(\n",
    "lambda x: visitors[np.logical_and(visitors['date'] <= x['date'], visitors['group'] == x['group'])].agg({\n",
    "'date' : 'max',\n",
    "'group' : 'max',\n",
    "'visitors' : 'sum'}), axis=1).sort_values(by=['date','group'])\n",
    "visitorsAggregated"
   ]
  },
  {
   "cell_type": "markdown",
   "metadata": {},
   "source": [
    "Объединим обе таблицы в одной "
   ]
  },
  {
   "cell_type": "code",
   "execution_count": 22,
   "metadata": {},
   "outputs": [
    {
     "data": {
      "text/html": [
       "<div>\n",
       "<style scoped>\n",
       "    .dataframe tbody tr th:only-of-type {\n",
       "        vertical-align: middle;\n",
       "    }\n",
       "\n",
       "    .dataframe tbody tr th {\n",
       "        vertical-align: top;\n",
       "    }\n",
       "\n",
       "    .dataframe thead th {\n",
       "        text-align: right;\n",
       "    }\n",
       "</style>\n",
       "<table border=\"1\" class=\"dataframe\">\n",
       "  <thead>\n",
       "    <tr style=\"text-align: right;\">\n",
       "      <th></th>\n",
       "      <th>date</th>\n",
       "      <th>group</th>\n",
       "      <th>orders</th>\n",
       "      <th>buyers</th>\n",
       "      <th>revenue</th>\n",
       "      <th>visitors</th>\n",
       "      <th>conversion</th>\n",
       "    </tr>\n",
       "  </thead>\n",
       "  <tbody>\n",
       "    <tr>\n",
       "      <td>0</td>\n",
       "      <td>2019-08-01</td>\n",
       "      <td>A</td>\n",
       "      <td>23</td>\n",
       "      <td>19</td>\n",
       "      <td>142779</td>\n",
       "      <td>719</td>\n",
       "      <td>0.031989</td>\n",
       "    </tr>\n",
       "    <tr>\n",
       "      <td>1</td>\n",
       "      <td>2019-08-01</td>\n",
       "      <td>B</td>\n",
       "      <td>17</td>\n",
       "      <td>17</td>\n",
       "      <td>59758</td>\n",
       "      <td>713</td>\n",
       "      <td>0.023843</td>\n",
       "    </tr>\n",
       "    <tr>\n",
       "      <td>2</td>\n",
       "      <td>2019-08-02</td>\n",
       "      <td>A</td>\n",
       "      <td>42</td>\n",
       "      <td>36</td>\n",
       "      <td>234381</td>\n",
       "      <td>1338</td>\n",
       "      <td>0.031390</td>\n",
       "    </tr>\n",
       "    <tr>\n",
       "      <td>3</td>\n",
       "      <td>2019-08-02</td>\n",
       "      <td>B</td>\n",
       "      <td>40</td>\n",
       "      <td>39</td>\n",
       "      <td>221801</td>\n",
       "      <td>1294</td>\n",
       "      <td>0.030912</td>\n",
       "    </tr>\n",
       "    <tr>\n",
       "      <td>4</td>\n",
       "      <td>2019-08-03</td>\n",
       "      <td>A</td>\n",
       "      <td>66</td>\n",
       "      <td>60</td>\n",
       "      <td>346854</td>\n",
       "      <td>1845</td>\n",
       "      <td>0.035772</td>\n",
       "    </tr>\n",
       "    <tr>\n",
       "      <td>...</td>\n",
       "      <td>...</td>\n",
       "      <td>...</td>\n",
       "      <td>...</td>\n",
       "      <td>...</td>\n",
       "      <td>...</td>\n",
       "      <td>...</td>\n",
       "      <td>...</td>\n",
       "    </tr>\n",
       "    <tr>\n",
       "      <td>57</td>\n",
       "      <td>2019-08-29</td>\n",
       "      <td>B</td>\n",
       "      <td>510</td>\n",
       "      <td>490</td>\n",
       "      <td>4746610</td>\n",
       "      <td>17708</td>\n",
       "      <td>0.028801</td>\n",
       "    </tr>\n",
       "    <tr>\n",
       "      <td>58</td>\n",
       "      <td>2019-08-30</td>\n",
       "      <td>A</td>\n",
       "      <td>460</td>\n",
       "      <td>437</td>\n",
       "      <td>3311413</td>\n",
       "      <td>18037</td>\n",
       "      <td>0.025503</td>\n",
       "    </tr>\n",
       "    <tr>\n",
       "      <td>59</td>\n",
       "      <td>2019-08-30</td>\n",
       "      <td>B</td>\n",
       "      <td>531</td>\n",
       "      <td>511</td>\n",
       "      <td>4955833</td>\n",
       "      <td>18198</td>\n",
       "      <td>0.029179</td>\n",
       "    </tr>\n",
       "    <tr>\n",
       "      <td>60</td>\n",
       "      <td>2019-08-31</td>\n",
       "      <td>A</td>\n",
       "      <td>468</td>\n",
       "      <td>445</td>\n",
       "      <td>3364656</td>\n",
       "      <td>18736</td>\n",
       "      <td>0.024979</td>\n",
       "    </tr>\n",
       "    <tr>\n",
       "      <td>61</td>\n",
       "      <td>2019-08-31</td>\n",
       "      <td>B</td>\n",
       "      <td>548</td>\n",
       "      <td>528</td>\n",
       "      <td>5068972</td>\n",
       "      <td>18916</td>\n",
       "      <td>0.028970</td>\n",
       "    </tr>\n",
       "  </tbody>\n",
       "</table>\n",
       "<p>62 rows × 7 columns</p>\n",
       "</div>"
      ],
      "text/plain": [
       "         date group  orders  buyers  revenue  visitors  conversion\n",
       "0  2019-08-01     A      23      19   142779       719    0.031989\n",
       "1  2019-08-01     B      17      17    59758       713    0.023843\n",
       "2  2019-08-02     A      42      36   234381      1338    0.031390\n",
       "3  2019-08-02     B      40      39   221801      1294    0.030912\n",
       "4  2019-08-03     A      66      60   346854      1845    0.035772\n",
       "..        ...   ...     ...     ...      ...       ...         ...\n",
       "57 2019-08-29     B     510     490  4746610     17708    0.028801\n",
       "58 2019-08-30     A     460     437  3311413     18037    0.025503\n",
       "59 2019-08-30     B     531     511  4955833     18198    0.029179\n",
       "60 2019-08-31     A     468     445  3364656     18736    0.024979\n",
       "61 2019-08-31     B     548     528  5068972     18916    0.028970\n",
       "\n",
       "[62 rows x 7 columns]"
      ]
     },
     "execution_count": 22,
     "metadata": {},
     "output_type": "execute_result"
    }
   ],
   "source": [
    "cumulativeData = ordersAggregated.merge(visitorsAggregated, left_on = ['date', 'group'], right_on = ['date', 'group'])\n",
    "cumulativeData.columns = ['date', 'group', 'orders', 'buyers', 'revenue', 'visitors']\n",
    "\n",
    "cumulativeData['conversion'] = cumulativeData['orders'] / cumulativeData['visitors']\n",
    "cumulativeData"
   ]
  },
  {
   "cell_type": "markdown",
   "metadata": {},
   "source": [
    "Получим выборки с разбивкой по группам:"
   ]
  },
  {
   "cell_type": "code",
   "execution_count": 23,
   "metadata": {},
   "outputs": [
    {
     "data": {
      "text/html": [
       "<div>\n",
       "<style scoped>\n",
       "    .dataframe tbody tr th:only-of-type {\n",
       "        vertical-align: middle;\n",
       "    }\n",
       "\n",
       "    .dataframe tbody tr th {\n",
       "        vertical-align: top;\n",
       "    }\n",
       "\n",
       "    .dataframe thead th {\n",
       "        text-align: right;\n",
       "    }\n",
       "</style>\n",
       "<table border=\"1\" class=\"dataframe\">\n",
       "  <thead>\n",
       "    <tr style=\"text-align: right;\">\n",
       "      <th></th>\n",
       "      <th>date</th>\n",
       "      <th>revenue</th>\n",
       "      <th>orders</th>\n",
       "    </tr>\n",
       "  </thead>\n",
       "  <tbody>\n",
       "    <tr>\n",
       "      <td>0</td>\n",
       "      <td>2019-08-01</td>\n",
       "      <td>142779</td>\n",
       "      <td>23</td>\n",
       "    </tr>\n",
       "    <tr>\n",
       "      <td>2</td>\n",
       "      <td>2019-08-02</td>\n",
       "      <td>234381</td>\n",
       "      <td>42</td>\n",
       "    </tr>\n",
       "    <tr>\n",
       "      <td>4</td>\n",
       "      <td>2019-08-03</td>\n",
       "      <td>346854</td>\n",
       "      <td>66</td>\n",
       "    </tr>\n",
       "    <tr>\n",
       "      <td>6</td>\n",
       "      <td>2019-08-04</td>\n",
       "      <td>388030</td>\n",
       "      <td>77</td>\n",
       "    </tr>\n",
       "    <tr>\n",
       "      <td>8</td>\n",
       "      <td>2019-08-05</td>\n",
       "      <td>474413</td>\n",
       "      <td>99</td>\n",
       "    </tr>\n",
       "  </tbody>\n",
       "</table>\n",
       "</div>"
      ],
      "text/plain": [
       "        date  revenue  orders\n",
       "0 2019-08-01   142779      23\n",
       "2 2019-08-02   234381      42\n",
       "4 2019-08-03   346854      66\n",
       "6 2019-08-04   388030      77\n",
       "8 2019-08-05   474413      99"
      ]
     },
     "metadata": {},
     "output_type": "display_data"
    },
    {
     "data": {
      "text/html": [
       "<div>\n",
       "<style scoped>\n",
       "    .dataframe tbody tr th:only-of-type {\n",
       "        vertical-align: middle;\n",
       "    }\n",
       "\n",
       "    .dataframe tbody tr th {\n",
       "        vertical-align: top;\n",
       "    }\n",
       "\n",
       "    .dataframe thead th {\n",
       "        text-align: right;\n",
       "    }\n",
       "</style>\n",
       "<table border=\"1\" class=\"dataframe\">\n",
       "  <thead>\n",
       "    <tr style=\"text-align: right;\">\n",
       "      <th></th>\n",
       "      <th>date</th>\n",
       "      <th>revenue</th>\n",
       "      <th>orders</th>\n",
       "    </tr>\n",
       "  </thead>\n",
       "  <tbody>\n",
       "    <tr>\n",
       "      <td>1</td>\n",
       "      <td>2019-08-01</td>\n",
       "      <td>59758</td>\n",
       "      <td>17</td>\n",
       "    </tr>\n",
       "    <tr>\n",
       "      <td>3</td>\n",
       "      <td>2019-08-02</td>\n",
       "      <td>221801</td>\n",
       "      <td>40</td>\n",
       "    </tr>\n",
       "    <tr>\n",
       "      <td>5</td>\n",
       "      <td>2019-08-03</td>\n",
       "      <td>288850</td>\n",
       "      <td>54</td>\n",
       "    </tr>\n",
       "    <tr>\n",
       "      <td>7</td>\n",
       "      <td>2019-08-04</td>\n",
       "      <td>385740</td>\n",
       "      <td>68</td>\n",
       "    </tr>\n",
       "    <tr>\n",
       "      <td>9</td>\n",
       "      <td>2019-08-05</td>\n",
       "      <td>475648</td>\n",
       "      <td>89</td>\n",
       "    </tr>\n",
       "  </tbody>\n",
       "</table>\n",
       "</div>"
      ],
      "text/plain": [
       "        date  revenue  orders\n",
       "1 2019-08-01    59758      17\n",
       "3 2019-08-02   221801      40\n",
       "5 2019-08-03   288850      54\n",
       "7 2019-08-04   385740      68\n",
       "9 2019-08-05   475648      89"
      ]
     },
     "metadata": {},
     "output_type": "display_data"
    }
   ],
   "source": [
    "cumulativeRevenueA = cumulativeData[cumulativeData['group'] == 'A'][['date','revenue', 'orders']]\n",
    "\n",
    "cumulativeRevenueB = cumulativeData[cumulativeData['group'] == 'B'][['date','revenue', 'orders']]\n",
    "\n",
    "display(cumulativeRevenueA.head())\n",
    "display(cumulativeRevenueB.head())"
   ]
  },
  {
   "cell_type": "markdown",
   "metadata": {},
   "source": [
    "Построим графики кумулятивной выручки по дням и группам A/B-тестирования:"
   ]
  },
  {
   "cell_type": "code",
   "execution_count": 24,
   "metadata": {},
   "outputs": [
    {
     "name": "stderr",
     "output_type": "stream",
     "text": [
      "/opt/conda/lib/python3.7/site-packages/pandas/plotting/_matplotlib/converter.py:103: FutureWarning: Using an implicitly registered datetime converter for a matplotlib plotting method. The converter was registered by pandas on import. Future versions of pandas will require you to explicitly register matplotlib converters.\n",
      "\n",
      "To register the converters:\n",
      "\t>>> from pandas.plotting import register_matplotlib_converters\n",
      "\t>>> register_matplotlib_converters()\n",
      "  warnings.warn(msg, FutureWarning)\n"
     ]
    },
    {
     "data": {
      "image/png": "[encoded data removed]",
      "text/plain": [
       "<Figure size 1008x576 with 1 Axes>"
      ]
     },
     "metadata": {},
     "output_type": "display_data"
    }
   ],
   "source": [
    "fig = plt.figure(figsize = (14, 8))\n",
    "sns.lineplot(data = cumulativeRevenueA, x = \"date\", y = \"revenue\", label = 'Группа А')\n",
    "sns.lineplot(data = cumulativeRevenueB, x = \"date\", y = \"revenue\", label = 'Группа B')\n",
    "plt.xlabel('Дата')\n",
    "plt.ylabel('Выручка')\n",
    "plt.title('График кумулятивной выручки по группам')\n",
    "plt.legend()\n",
    "from pandas.plotting import register_matplotlib_converters\n",
    "register_matplotlib_converters()\n",
    "plt.show()"
   ]
  },
  {
   "cell_type": "markdown",
   "metadata": {},
   "source": [
    "Выручка достаточно равномерно увеличивается в течение всего теста. На графике видим резкий рост выручки группы В в одной точке. Скорее всего это говорит о появлении очень дорогих заказов в выборке. "
   ]
  },
  {
   "cell_type": "markdown",
   "metadata": {},
   "source": [
    "Построим графики среднего чека по группам — разделим кумулятивную выручку на кумулятивное число заказов:"
   ]
  },
  {
   "cell_type": "code",
   "execution_count": 25,
   "metadata": {},
   "outputs": [
    {
     "data": {
      "image/png": "[encoded data removed]",
      "text/plain": [
       "<Figure size 1008x576 with 1 Axes>"
      ]
     },
     "metadata": {},
     "output_type": "display_data"
    }
   ],
   "source": [
    "fig = plt.figure(figsize = (14, 8))\n",
    "sns.lineplot(data = cumulativeRevenueA, x = 'date', y = cumulativeRevenueA['revenue'] / cumulativeRevenueA['orders'],\n",
    "            label = 'Группа А')\n",
    "sns.lineplot(data = cumulativeRevenueB, x = 'date', y = cumulativeRevenueB['revenue'] / cumulativeRevenueB['orders'],\n",
    "            label = 'Группа В')\n",
    "plt.xlabel('Дата')\n",
    "plt.ylabel('Средний чек')\n",
    "plt.title('График кумулятивного среднего чека по группам')\n",
    "plt.legend()\n",
    "plt.show();"
   ]
  },
  {
   "cell_type": "markdown",
   "metadata": {},
   "source": [
    "Опять же видим резкий подъем на графике группы В, нужно рассмотреть покупки группы В на предмет аномальных значений. В остальном же средний чек различается несильно, покупатели в среднем платят одинаково."
   ]
  },
  {
   "cell_type": "markdown",
   "metadata": {},
   "source": [
    "Построим график относительного различия для среднего чека."
   ]
  },
  {
   "cell_type": "code",
   "execution_count": 26,
   "metadata": {},
   "outputs": [
    {
     "data": {
      "image/png": "[encoded data removed]",
      "text/plain": [
       "<Figure size 1008x576 with 1 Axes>"
      ]
     },
     "metadata": {},
     "output_type": "display_data"
    }
   ],
   "source": [
    "mergedCumulativeRevenue = cumulativeRevenueA.merge(cumulativeRevenueB, \n",
    "                                                   left_on='date', \n",
    "                                                   right_on='date', \n",
    "                                                   how='left', \n",
    "                                                   suffixes=['A', 'B'])\n",
    "fig = plt.figure(figsize = (14, 8))\n",
    "sns.lineplot(x = mergedCumulativeRevenue['date'], \n",
    "             y = (mergedCumulativeRevenue['revenueB'] / mergedCumulativeRevenue['ordersB']) /\n",
    "             (mergedCumulativeRevenue['revenueA'] / mergedCumulativeRevenue['ordersA'])-1)\n",
    "plt.xlabel('Дата')\n",
    "plt.ylabel('Относительный прирост')\n",
    "plt.title('Относительный прирост среднего чека группы B относительно группы A')\n",
    "plt.axhline(y = 0, color = 'black', linestyle='--')\n",
    "plt.axis(['2019-08-01', '2019-08-31', -0.5, 0.6]);"
   ]
  },
  {
   "cell_type": "markdown",
   "metadata": {},
   "source": [
    "В нескольких точках график различия между группам резко скачет. В середине исследуемого периода резкий провал, хотя до этого заметен довольно значительный прирост группы В относительно группы А."
   ]
  },
  {
   "cell_type": "markdown",
   "metadata": {},
   "source": [
    "Далее проанализируем график кумулятивной конверсии. Получим таблицы с кумулятивными показателями по группам А и В."
   ]
  },
  {
   "cell_type": "code",
   "execution_count": 27,
   "metadata": {},
   "outputs": [
    {
     "data": {
      "text/html": [
       "<div>\n",
       "<style scoped>\n",
       "    .dataframe tbody tr th:only-of-type {\n",
       "        vertical-align: middle;\n",
       "    }\n",
       "\n",
       "    .dataframe tbody tr th {\n",
       "        vertical-align: top;\n",
       "    }\n",
       "\n",
       "    .dataframe thead th {\n",
       "        text-align: right;\n",
       "    }\n",
       "</style>\n",
       "<table border=\"1\" class=\"dataframe\">\n",
       "  <thead>\n",
       "    <tr style=\"text-align: right;\">\n",
       "      <th></th>\n",
       "      <th>date</th>\n",
       "      <th>group</th>\n",
       "      <th>orders</th>\n",
       "      <th>buyers</th>\n",
       "      <th>revenue</th>\n",
       "      <th>visitors</th>\n",
       "      <th>conversion</th>\n",
       "    </tr>\n",
       "  </thead>\n",
       "  <tbody>\n",
       "    <tr>\n",
       "      <td>0</td>\n",
       "      <td>2019-08-01</td>\n",
       "      <td>A</td>\n",
       "      <td>23</td>\n",
       "      <td>19</td>\n",
       "      <td>142779</td>\n",
       "      <td>719</td>\n",
       "      <td>0.031989</td>\n",
       "    </tr>\n",
       "    <tr>\n",
       "      <td>2</td>\n",
       "      <td>2019-08-02</td>\n",
       "      <td>A</td>\n",
       "      <td>42</td>\n",
       "      <td>36</td>\n",
       "      <td>234381</td>\n",
       "      <td>1338</td>\n",
       "      <td>0.031390</td>\n",
       "    </tr>\n",
       "    <tr>\n",
       "      <td>4</td>\n",
       "      <td>2019-08-03</td>\n",
       "      <td>A</td>\n",
       "      <td>66</td>\n",
       "      <td>60</td>\n",
       "      <td>346854</td>\n",
       "      <td>1845</td>\n",
       "      <td>0.035772</td>\n",
       "    </tr>\n",
       "    <tr>\n",
       "      <td>6</td>\n",
       "      <td>2019-08-04</td>\n",
       "      <td>A</td>\n",
       "      <td>77</td>\n",
       "      <td>71</td>\n",
       "      <td>388030</td>\n",
       "      <td>2562</td>\n",
       "      <td>0.030055</td>\n",
       "    </tr>\n",
       "    <tr>\n",
       "      <td>8</td>\n",
       "      <td>2019-08-05</td>\n",
       "      <td>A</td>\n",
       "      <td>99</td>\n",
       "      <td>92</td>\n",
       "      <td>474413</td>\n",
       "      <td>3318</td>\n",
       "      <td>0.029837</td>\n",
       "    </tr>\n",
       "  </tbody>\n",
       "</table>\n",
       "</div>"
      ],
      "text/plain": [
       "        date group  orders  buyers  revenue  visitors  conversion\n",
       "0 2019-08-01     A      23      19   142779       719    0.031989\n",
       "2 2019-08-02     A      42      36   234381      1338    0.031390\n",
       "4 2019-08-03     A      66      60   346854      1845    0.035772\n",
       "6 2019-08-04     A      77      71   388030      2562    0.030055\n",
       "8 2019-08-05     A      99      92   474413      3318    0.029837"
      ]
     },
     "metadata": {},
     "output_type": "display_data"
    },
    {
     "data": {
      "text/html": [
       "<div>\n",
       "<style scoped>\n",
       "    .dataframe tbody tr th:only-of-type {\n",
       "        vertical-align: middle;\n",
       "    }\n",
       "\n",
       "    .dataframe tbody tr th {\n",
       "        vertical-align: top;\n",
       "    }\n",
       "\n",
       "    .dataframe thead th {\n",
       "        text-align: right;\n",
       "    }\n",
       "</style>\n",
       "<table border=\"1\" class=\"dataframe\">\n",
       "  <thead>\n",
       "    <tr style=\"text-align: right;\">\n",
       "      <th></th>\n",
       "      <th>date</th>\n",
       "      <th>group</th>\n",
       "      <th>orders</th>\n",
       "      <th>buyers</th>\n",
       "      <th>revenue</th>\n",
       "      <th>visitors</th>\n",
       "      <th>conversion</th>\n",
       "    </tr>\n",
       "  </thead>\n",
       "  <tbody>\n",
       "    <tr>\n",
       "      <td>1</td>\n",
       "      <td>2019-08-01</td>\n",
       "      <td>B</td>\n",
       "      <td>17</td>\n",
       "      <td>17</td>\n",
       "      <td>59758</td>\n",
       "      <td>713</td>\n",
       "      <td>0.023843</td>\n",
       "    </tr>\n",
       "    <tr>\n",
       "      <td>3</td>\n",
       "      <td>2019-08-02</td>\n",
       "      <td>B</td>\n",
       "      <td>40</td>\n",
       "      <td>39</td>\n",
       "      <td>221801</td>\n",
       "      <td>1294</td>\n",
       "      <td>0.030912</td>\n",
       "    </tr>\n",
       "    <tr>\n",
       "      <td>5</td>\n",
       "      <td>2019-08-03</td>\n",
       "      <td>B</td>\n",
       "      <td>54</td>\n",
       "      <td>53</td>\n",
       "      <td>288850</td>\n",
       "      <td>1803</td>\n",
       "      <td>0.029950</td>\n",
       "    </tr>\n",
       "    <tr>\n",
       "      <td>7</td>\n",
       "      <td>2019-08-04</td>\n",
       "      <td>B</td>\n",
       "      <td>68</td>\n",
       "      <td>66</td>\n",
       "      <td>385740</td>\n",
       "      <td>2573</td>\n",
       "      <td>0.026428</td>\n",
       "    </tr>\n",
       "    <tr>\n",
       "      <td>9</td>\n",
       "      <td>2019-08-05</td>\n",
       "      <td>B</td>\n",
       "      <td>89</td>\n",
       "      <td>87</td>\n",
       "      <td>475648</td>\n",
       "      <td>3280</td>\n",
       "      <td>0.027134</td>\n",
       "    </tr>\n",
       "  </tbody>\n",
       "</table>\n",
       "</div>"
      ],
      "text/plain": [
       "        date group  orders  buyers  revenue  visitors  conversion\n",
       "1 2019-08-01     B      17      17    59758       713    0.023843\n",
       "3 2019-08-02     B      40      39   221801      1294    0.030912\n",
       "5 2019-08-03     B      54      53   288850      1803    0.029950\n",
       "7 2019-08-04     B      68      66   385740      2573    0.026428\n",
       "9 2019-08-05     B      89      87   475648      3280    0.027134"
      ]
     },
     "metadata": {},
     "output_type": "display_data"
    }
   ],
   "source": [
    "cumulativeDataA = cumulativeData[cumulativeData['group'] == 'A']\n",
    "cumulativeDataB = cumulativeData[cumulativeData['group'] == 'B']\n",
    "display(cumulativeDataA.head())\n",
    "display(cumulativeDataB.head())"
   ]
  },
  {
   "cell_type": "markdown",
   "metadata": {},
   "source": [
    "Объединим полученные таблицы"
   ]
  },
  {
   "cell_type": "code",
   "execution_count": 28,
   "metadata": {},
   "outputs": [
    {
     "data": {
      "text/html": [
       "<div>\n",
       "<style scoped>\n",
       "    .dataframe tbody tr th:only-of-type {\n",
       "        vertical-align: middle;\n",
       "    }\n",
       "\n",
       "    .dataframe tbody tr th {\n",
       "        vertical-align: top;\n",
       "    }\n",
       "\n",
       "    .dataframe thead th {\n",
       "        text-align: right;\n",
       "    }\n",
       "</style>\n",
       "<table border=\"1\" class=\"dataframe\">\n",
       "  <thead>\n",
       "    <tr style=\"text-align: right;\">\n",
       "      <th></th>\n",
       "      <th>date</th>\n",
       "      <th>conversionA</th>\n",
       "      <th>conversionB</th>\n",
       "    </tr>\n",
       "  </thead>\n",
       "  <tbody>\n",
       "    <tr>\n",
       "      <td>0</td>\n",
       "      <td>2019-08-01</td>\n",
       "      <td>0.031989</td>\n",
       "      <td>0.023843</td>\n",
       "    </tr>\n",
       "    <tr>\n",
       "      <td>1</td>\n",
       "      <td>2019-08-02</td>\n",
       "      <td>0.031390</td>\n",
       "      <td>0.030912</td>\n",
       "    </tr>\n",
       "    <tr>\n",
       "      <td>2</td>\n",
       "      <td>2019-08-03</td>\n",
       "      <td>0.035772</td>\n",
       "      <td>0.029950</td>\n",
       "    </tr>\n",
       "    <tr>\n",
       "      <td>3</td>\n",
       "      <td>2019-08-04</td>\n",
       "      <td>0.030055</td>\n",
       "      <td>0.026428</td>\n",
       "    </tr>\n",
       "    <tr>\n",
       "      <td>4</td>\n",
       "      <td>2019-08-05</td>\n",
       "      <td>0.029837</td>\n",
       "      <td>0.027134</td>\n",
       "    </tr>\n",
       "  </tbody>\n",
       "</table>\n",
       "</div>"
      ],
      "text/plain": [
       "        date  conversionA  conversionB\n",
       "0 2019-08-01     0.031989     0.023843\n",
       "1 2019-08-02     0.031390     0.030912\n",
       "2 2019-08-03     0.035772     0.029950\n",
       "3 2019-08-04     0.030055     0.026428\n",
       "4 2019-08-05     0.029837     0.027134"
      ]
     },
     "execution_count": 28,
     "metadata": {},
     "output_type": "execute_result"
    }
   ],
   "source": [
    "mergedCumulativeConversions = cumulativeDataA[['date','conversion']].merge(\n",
    "    cumulativeDataB[['date','conversion']], left_on = 'date', right_on = 'date', how = 'left', suffixes = ['A', 'B'])\n",
    "mergedCumulativeConversions.head()"
   ]
  },
  {
   "cell_type": "markdown",
   "metadata": {},
   "source": [
    "Проанализируем график кумулятивной конверсии."
   ]
  },
  {
   "cell_type": "code",
   "execution_count": 29,
   "metadata": {},
   "outputs": [
    {
     "data": {
      "image/png": "[encoded data removed]",
      "text/plain": [
       "<Figure size 1008x576 with 1 Axes>"
      ]
     },
     "metadata": {},
     "output_type": "display_data"
    }
   ],
   "source": [
    "fig = plt.figure(figsize = (14, 8))\n",
    "sns.lineplot(data = mergedCumulativeConversions, x = 'date', y = 'conversionA', label = 'Группа А')\n",
    "sns.lineplot(data = mergedCumulativeConversions, x = 'date', y = 'conversionB', label = 'Группа B')\n",
    "plt.xlabel('Дата')\n",
    "plt.ylabel('Конверсия')\n",
    "plt.title('График кумулятивной конверсии по группам')\n",
    "plt.axis([\"2019-08-01\", '2019-08-31', 0.02, 0.05])\n",
    "plt.legend();"
   ]
  },
  {
   "cell_type": "markdown",
   "metadata": {},
   "source": [
    "График достаточно симметричен. Через некотрое время после старта теста конверсия группы B вырвалась вперед и зафиксировалась на стабильном значении.\n",
    "\n",
    "Построим график относительного различия кумулятивных конверсий:"
   ]
  },
  {
   "cell_type": "code",
   "execution_count": 30,
   "metadata": {},
   "outputs": [
    {
     "data": {
      "image/png": "[encoded data removed]",
      "text/plain": [
       "<Figure size 1008x576 with 1 Axes>"
      ]
     },
     "metadata": {},
     "output_type": "display_data"
    }
   ],
   "source": [
    "fig = plt.figure(figsize = (14, 8))\n",
    "sns.lineplot(data = mergedCumulativeConversions, \n",
    "             x = 'date', \n",
    "             y = mergedCumulativeConversions['conversionB'] / mergedCumulativeConversions['conversionA'] - 1)\n",
    "plt.xlabel('Дата')\n",
    "plt.ylabel('Относительный прирост')\n",
    "plt.title('Относительный прирост конверсии группы B относительно группы A')\n",
    "plt.axhline(y = 0, color = 'black', linestyle='--')\n",
    "plt.axis(['2019-08-01', '2019-08-31', -0.5, 0.5]);"
   ]
  },
  {
   "cell_type": "markdown",
   "metadata": {},
   "source": [
    "После слабого старта конверсия группы В вырвалась вперед и оставалась стабильно выше конверсии группы А, хотя прирост со временем замедлился."
   ]
  },
  {
   "cell_type": "markdown",
   "metadata": {},
   "source": [
    "### Анализ выбросов"
   ]
  },
  {
   "cell_type": "markdown",
   "metadata": {},
   "source": [
    "Построим точечный график кол-ва заказов по пользователям."
   ]
  },
  {
   "cell_type": "code",
   "execution_count": 31,
   "metadata": {},
   "outputs": [
    {
     "data": {
      "text/html": [
       "<div>\n",
       "<style scoped>\n",
       "    .dataframe tbody tr th:only-of-type {\n",
       "        vertical-align: middle;\n",
       "    }\n",
       "\n",
       "    .dataframe tbody tr th {\n",
       "        vertical-align: top;\n",
       "    }\n",
       "\n",
       "    .dataframe thead th {\n",
       "        text-align: right;\n",
       "    }\n",
       "</style>\n",
       "<table border=\"1\" class=\"dataframe\">\n",
       "  <thead>\n",
       "    <tr style=\"text-align: right;\">\n",
       "      <th></th>\n",
       "      <th>userId</th>\n",
       "      <th>orders</th>\n",
       "    </tr>\n",
       "  </thead>\n",
       "  <tbody>\n",
       "    <tr>\n",
       "      <td>908</td>\n",
       "      <td>3967698036</td>\n",
       "      <td>3</td>\n",
       "    </tr>\n",
       "    <tr>\n",
       "      <td>55</td>\n",
       "      <td>249864742</td>\n",
       "      <td>3</td>\n",
       "    </tr>\n",
       "    <tr>\n",
       "      <td>478</td>\n",
       "      <td>2108163459</td>\n",
       "      <td>3</td>\n",
       "    </tr>\n",
       "    <tr>\n",
       "      <td>687</td>\n",
       "      <td>2988190573</td>\n",
       "      <td>3</td>\n",
       "    </tr>\n",
       "    <tr>\n",
       "      <td>890</td>\n",
       "      <td>3908431265</td>\n",
       "      <td>3</td>\n",
       "    </tr>\n",
       "    <tr>\n",
       "      <td>...</td>\n",
       "      <td>...</td>\n",
       "      <td>...</td>\n",
       "    </tr>\n",
       "    <tr>\n",
       "      <td>331</td>\n",
       "      <td>1438226485</td>\n",
       "      <td>1</td>\n",
       "    </tr>\n",
       "    <tr>\n",
       "      <td>332</td>\n",
       "      <td>1452540367</td>\n",
       "      <td>1</td>\n",
       "    </tr>\n",
       "    <tr>\n",
       "      <td>333</td>\n",
       "      <td>1455323168</td>\n",
       "      <td>1</td>\n",
       "    </tr>\n",
       "    <tr>\n",
       "      <td>334</td>\n",
       "      <td>1455861274</td>\n",
       "      <td>1</td>\n",
       "    </tr>\n",
       "    <tr>\n",
       "      <td>972</td>\n",
       "      <td>4283872382</td>\n",
       "      <td>1</td>\n",
       "    </tr>\n",
       "  </tbody>\n",
       "</table>\n",
       "<p>973 rows × 2 columns</p>\n",
       "</div>"
      ],
      "text/plain": [
       "         userId  orders\n",
       "908  3967698036       3\n",
       "55    249864742       3\n",
       "478  2108163459       3\n",
       "687  2988190573       3\n",
       "890  3908431265       3\n",
       "..          ...     ...\n",
       "331  1438226485       1\n",
       "332  1452540367       1\n",
       "333  1455323168       1\n",
       "334  1455861274       1\n",
       "972  4283872382       1\n",
       "\n",
       "[973 rows x 2 columns]"
      ]
     },
     "execution_count": 31,
     "metadata": {},
     "output_type": "execute_result"
    }
   ],
   "source": [
    "ordersByUsers = orders.groupby('visitorId', as_index = False).agg(\n",
    "    {'transactionId' : pd.Series.nunique}).sort_values(by = 'transactionId', ascending = False)\n",
    "ordersByUsers.columns = ['userId','orders']\n",
    "ordersByUsers"
   ]
  },
  {
   "cell_type": "markdown",
   "metadata": {},
   "source": [
    "Оценим число заказов при помощи диаграммы рассеяния:"
   ]
  },
  {
   "cell_type": "code",
   "execution_count": 32,
   "metadata": {},
   "outputs": [
    {
     "data": {
      "image/png": "[encoded data removed]",
      "text/plain": [
       "<Figure size 1008x576 with 1 Axes>"
      ]
     },
     "metadata": {},
     "output_type": "display_data"
    }
   ],
   "source": [
    "x_values = pd.Series(range(0,len(ordersByUsers)))\n",
    "fig = plt.figure(figsize = (14, 8))\n",
    "sns.scatterplot(data = ordersByUsers, x = x_values, y = 'orders')\n",
    "plt.xlabel('Номер пользователя')\n",
    "plt.ylabel('Кол-во заказов')\n",
    "plt.title('Число заказов на одного пользователя');"
   ]
  },
  {
   "cell_type": "markdown",
   "metadata": {},
   "source": [
    "Есть некоторое количество пользователей с большим количеством заказов (более 2). Посчитаем выборочные перцентили количества заказов на одного пользователя:"
   ]
  },
  {
   "cell_type": "code",
   "execution_count": 33,
   "metadata": {},
   "outputs": [
    {
     "name": "stdout",
     "output_type": "stream",
     "text": [
      "[1. 2.]\n"
     ]
    }
   ],
   "source": [
    "print(np.percentile(ordersByUsers['orders'], [95, 99]))"
   ]
  },
  {
   "cell_type": "markdown",
   "metadata": {},
   "source": [
    "Будем считать выбросами пользователей с более чем двумя заказами."
   ]
  },
  {
   "cell_type": "markdown",
   "metadata": {},
   "source": [
    "Аналогично оценим стоимость заказов:"
   ]
  },
  {
   "cell_type": "code",
   "execution_count": 34,
   "metadata": {},
   "outputs": [
    {
     "data": {
      "image/png": "[encoded data removed]",
      "text/plain": [
       "<Figure size 1008x576 with 1 Axes>"
      ]
     },
     "metadata": {},
     "output_type": "display_data"
    }
   ],
   "source": [
    "x_values = pd.Series(range(0,len(orders)))\n",
    "fig = plt.figure(figsize = (14, 8))\n",
    "sns.scatterplot(data = orders, x = x_values, y = 'revenue')\n",
    "plt.xlabel('Номер пользователя')\n",
    "plt.ylabel('Стоимость заказа')\n",
    "plt.title('Стоимость заказов');"
   ]
  },
  {
   "cell_type": "markdown",
   "metadata": {},
   "source": [
    "Наблюдаем явный выброс - заказ со стоимостью более 1200000, рассмотрим детальнее разброс заказов со стоимостью менее 200000:"
   ]
  },
  {
   "cell_type": "code",
   "execution_count": 35,
   "metadata": {},
   "outputs": [
    {
     "data": {
      "image/png": "[encoded data removed]",
      "text/plain": [
       "<Figure size 1008x576 with 1 Axes>"
      ]
     },
     "metadata": {},
     "output_type": "display_data"
    }
   ],
   "source": [
    "x_values = pd.Series(range(0,len(orders)))\n",
    "fig = plt.figure(figsize = (14, 8))\n",
    "sns.scatterplot(data = orders, x = x_values, y = 'revenue')\n",
    "plt.ylim(0, 200000)\n",
    "plt.xlabel('Номер пользователя')\n",
    "plt.ylabel('Стоимость заказа')\n",
    "plt.title('Стоимость заказов');"
   ]
  },
  {
   "cell_type": "markdown",
   "metadata": {},
   "source": [
    "Cтоимость большинства заказов явно не превышают 25 тысяч. Рассчитаем 95 и 99 перцентили:"
   ]
  },
  {
   "cell_type": "code",
   "execution_count": 36,
   "metadata": {},
   "outputs": [
    {
     "name": "stdout",
     "output_type": "stream",
     "text": [
      "[26785. 53904.]\n"
     ]
    }
   ],
   "source": [
    "print(np.percentile(orders['revenue'], [95, 99]))"
   ]
  },
  {
   "cell_type": "markdown",
   "metadata": {},
   "source": [
    " Не более 5% заказов обладали стоимостью более 26785. Примем за выбросы заказы стоимостью выше 27000."
   ]
  },
  {
   "cell_type": "markdown",
   "metadata": {},
   "source": [
    "### Статистический анализ"
   ]
  },
  {
   "cell_type": "markdown",
   "metadata": {},
   "source": [
    "Подготовим данные для статистических исследований нашего теста. Разобьем пользователей по группам и дням посещения и создадим таблицу с кумулятивными данными."
   ]
  },
  {
   "cell_type": "code",
   "execution_count": 37,
   "metadata": {},
   "outputs": [
    {
     "data": {
      "text/html": [
       "<div>\n",
       "<style scoped>\n",
       "    .dataframe tbody tr th:only-of-type {\n",
       "        vertical-align: middle;\n",
       "    }\n",
       "\n",
       "    .dataframe tbody tr th {\n",
       "        vertical-align: top;\n",
       "    }\n",
       "\n",
       "    .dataframe thead th {\n",
       "        text-align: right;\n",
       "    }\n",
       "</style>\n",
       "<table border=\"1\" class=\"dataframe\">\n",
       "  <thead>\n",
       "    <tr style=\"text-align: right;\">\n",
       "      <th></th>\n",
       "      <th>date</th>\n",
       "      <th>visitorsCummulativeA</th>\n",
       "    </tr>\n",
       "  </thead>\n",
       "  <tbody>\n",
       "    <tr>\n",
       "      <td>0</td>\n",
       "      <td>2019-08-01</td>\n",
       "      <td>719</td>\n",
       "    </tr>\n",
       "    <tr>\n",
       "      <td>1</td>\n",
       "      <td>2019-08-02</td>\n",
       "      <td>1338</td>\n",
       "    </tr>\n",
       "    <tr>\n",
       "      <td>2</td>\n",
       "      <td>2019-08-03</td>\n",
       "      <td>1845</td>\n",
       "    </tr>\n",
       "    <tr>\n",
       "      <td>3</td>\n",
       "      <td>2019-08-04</td>\n",
       "      <td>2562</td>\n",
       "    </tr>\n",
       "    <tr>\n",
       "      <td>4</td>\n",
       "      <td>2019-08-05</td>\n",
       "      <td>3318</td>\n",
       "    </tr>\n",
       "  </tbody>\n",
       "</table>\n",
       "</div>"
      ],
      "text/plain": [
       "        date  visitorsCummulativeA\n",
       "0 2019-08-01                   719\n",
       "1 2019-08-02                  1338\n",
       "2 2019-08-03                  1845\n",
       "3 2019-08-04                  2562\n",
       "4 2019-08-05                  3318"
      ]
     },
     "metadata": {},
     "output_type": "display_data"
    },
    {
     "data": {
      "text/html": [
       "<div>\n",
       "<style scoped>\n",
       "    .dataframe tbody tr th:only-of-type {\n",
       "        vertical-align: middle;\n",
       "    }\n",
       "\n",
       "    .dataframe tbody tr th {\n",
       "        vertical-align: top;\n",
       "    }\n",
       "\n",
       "    .dataframe thead th {\n",
       "        text-align: right;\n",
       "    }\n",
       "</style>\n",
       "<table border=\"1\" class=\"dataframe\">\n",
       "  <thead>\n",
       "    <tr style=\"text-align: right;\">\n",
       "      <th></th>\n",
       "      <th>date</th>\n",
       "      <th>visitorsCummulativeB</th>\n",
       "    </tr>\n",
       "  </thead>\n",
       "  <tbody>\n",
       "    <tr>\n",
       "      <td>31</td>\n",
       "      <td>2019-08-01</td>\n",
       "      <td>713</td>\n",
       "    </tr>\n",
       "    <tr>\n",
       "      <td>32</td>\n",
       "      <td>2019-08-02</td>\n",
       "      <td>1294</td>\n",
       "    </tr>\n",
       "    <tr>\n",
       "      <td>33</td>\n",
       "      <td>2019-08-03</td>\n",
       "      <td>1803</td>\n",
       "    </tr>\n",
       "    <tr>\n",
       "      <td>34</td>\n",
       "      <td>2019-08-04</td>\n",
       "      <td>2573</td>\n",
       "    </tr>\n",
       "    <tr>\n",
       "      <td>35</td>\n",
       "      <td>2019-08-05</td>\n",
       "      <td>3280</td>\n",
       "    </tr>\n",
       "  </tbody>\n",
       "</table>\n",
       "</div>"
      ],
      "text/plain": [
       "         date  visitorsCummulativeB\n",
       "31 2019-08-01                   713\n",
       "32 2019-08-02                  1294\n",
       "33 2019-08-03                  1803\n",
       "34 2019-08-04                  2573\n",
       "35 2019-08-05                  3280"
      ]
     },
     "metadata": {},
     "output_type": "display_data"
    }
   ],
   "source": [
    "visitorsADaily = visitors[visitors['group'] == 'A'][['date', 'visitors']]\n",
    "visitorsADaily.columns = ['date', 'visitorsPerDateA']\n",
    "\n",
    "visitorsACummulative = visitorsADaily.apply(lambda x: visitorsADaily[visitorsADaily['date'] <= x['date']]\n",
    "                                            .agg({'date' : 'max', 'visitorsPerDateA' : 'sum'}), axis = 1)\n",
    "visitorsACummulative.columns = ['date', 'visitorsCummulativeA']\n",
    "\n",
    "visitorsBDaily = visitors[visitors['group'] == 'B'][['date', 'visitors']]\n",
    "visitorsBDaily.columns = ['date', 'visitorsPerDateB']\n",
    "\n",
    "visitorsBCummulative = visitorsBDaily.apply(lambda x: visitorsBDaily[visitorsBDaily['date'] <= x['date']]\n",
    "                                            .agg({'date' : 'max', 'visitorsPerDateB' : 'sum'}), axis = 1)\n",
    "visitorsBCummulative.columns = ['date', 'visitorsCummulativeB']\n",
    "display(visitorsACummulative.head(), visitorsBCummulative.head())"
   ]
  },
  {
   "cell_type": "markdown",
   "metadata": {},
   "source": [
    "Так же подготовим таблицы по заказам. Получим таблицы с ежедневным количеством заказов по группам и накопительным количеством заказов по дням."
   ]
  },
  {
   "cell_type": "code",
   "execution_count": 38,
   "metadata": {},
   "outputs": [
    {
     "data": {
      "text/html": [
       "<div>\n",
       "<style scoped>\n",
       "    .dataframe tbody tr th:only-of-type {\n",
       "        vertical-align: middle;\n",
       "    }\n",
       "\n",
       "    .dataframe tbody tr th {\n",
       "        vertical-align: top;\n",
       "    }\n",
       "\n",
       "    .dataframe thead th {\n",
       "        text-align: right;\n",
       "    }\n",
       "</style>\n",
       "<table border=\"1\" class=\"dataframe\">\n",
       "  <thead>\n",
       "    <tr style=\"text-align: right;\">\n",
       "      <th></th>\n",
       "      <th>date</th>\n",
       "      <th>ordersCummulativeA</th>\n",
       "      <th>revenueCummulativeA</th>\n",
       "    </tr>\n",
       "  </thead>\n",
       "  <tbody>\n",
       "    <tr>\n",
       "      <td>0</td>\n",
       "      <td>2019-08-01</td>\n",
       "      <td>23</td>\n",
       "      <td>142779</td>\n",
       "    </tr>\n",
       "    <tr>\n",
       "      <td>1</td>\n",
       "      <td>2019-08-02</td>\n",
       "      <td>42</td>\n",
       "      <td>234381</td>\n",
       "    </tr>\n",
       "    <tr>\n",
       "      <td>2</td>\n",
       "      <td>2019-08-03</td>\n",
       "      <td>66</td>\n",
       "      <td>346854</td>\n",
       "    </tr>\n",
       "    <tr>\n",
       "      <td>3</td>\n",
       "      <td>2019-08-04</td>\n",
       "      <td>77</td>\n",
       "      <td>388030</td>\n",
       "    </tr>\n",
       "    <tr>\n",
       "      <td>4</td>\n",
       "      <td>2019-08-05</td>\n",
       "      <td>99</td>\n",
       "      <td>474413</td>\n",
       "    </tr>\n",
       "  </tbody>\n",
       "</table>\n",
       "</div>"
      ],
      "text/plain": [
       "        date  ordersCummulativeA  revenueCummulativeA\n",
       "0 2019-08-01                  23               142779\n",
       "1 2019-08-02                  42               234381\n",
       "2 2019-08-03                  66               346854\n",
       "3 2019-08-04                  77               388030\n",
       "4 2019-08-05                  99               474413"
      ]
     },
     "metadata": {},
     "output_type": "display_data"
    },
    {
     "data": {
      "text/html": [
       "<div>\n",
       "<style scoped>\n",
       "    .dataframe tbody tr th:only-of-type {\n",
       "        vertical-align: middle;\n",
       "    }\n",
       "\n",
       "    .dataframe tbody tr th {\n",
       "        vertical-align: top;\n",
       "    }\n",
       "\n",
       "    .dataframe thead th {\n",
       "        text-align: right;\n",
       "    }\n",
       "</style>\n",
       "<table border=\"1\" class=\"dataframe\">\n",
       "  <thead>\n",
       "    <tr style=\"text-align: right;\">\n",
       "      <th></th>\n",
       "      <th>date</th>\n",
       "      <th>ordersCummulativeB</th>\n",
       "      <th>revenueCummulativeB</th>\n",
       "    </tr>\n",
       "  </thead>\n",
       "  <tbody>\n",
       "    <tr>\n",
       "      <td>0</td>\n",
       "      <td>2019-08-01</td>\n",
       "      <td>17</td>\n",
       "      <td>59758</td>\n",
       "    </tr>\n",
       "    <tr>\n",
       "      <td>1</td>\n",
       "      <td>2019-08-02</td>\n",
       "      <td>40</td>\n",
       "      <td>221801</td>\n",
       "    </tr>\n",
       "    <tr>\n",
       "      <td>2</td>\n",
       "      <td>2019-08-03</td>\n",
       "      <td>54</td>\n",
       "      <td>288850</td>\n",
       "    </tr>\n",
       "    <tr>\n",
       "      <td>3</td>\n",
       "      <td>2019-08-04</td>\n",
       "      <td>68</td>\n",
       "      <td>385740</td>\n",
       "    </tr>\n",
       "    <tr>\n",
       "      <td>4</td>\n",
       "      <td>2019-08-05</td>\n",
       "      <td>89</td>\n",
       "      <td>475648</td>\n",
       "    </tr>\n",
       "  </tbody>\n",
       "</table>\n",
       "</div>"
      ],
      "text/plain": [
       "        date  ordersCummulativeB  revenueCummulativeB\n",
       "0 2019-08-01                  17                59758\n",
       "1 2019-08-02                  40               221801\n",
       "2 2019-08-03                  54               288850\n",
       "3 2019-08-04                  68               385740\n",
       "4 2019-08-05                  89               475648"
      ]
     },
     "metadata": {},
     "output_type": "display_data"
    }
   ],
   "source": [
    "ordersADaily = orders[orders['group'] == 'A'][['date', 'transactionId', 'visitorId', 'revenue']]\\\n",
    "    .groupby('date', as_index=False)\\\n",
    "    .agg({'transactionId' : pd.Series.nunique, 'revenue' : 'sum'})\n",
    "ordersADaily.columns = ['date', 'ordersPerDateA', 'revenuePerDateA']\n",
    "\n",
    "ordersACummulative = ordersADaily.apply(\n",
    "    lambda x: ordersADaily[ordersADaily['date'] <= x['date']]\\\n",
    "            .agg({\n",
    "                'date' : 'max',\n",
    "                'ordersPerDateA' : 'sum',\n",
    "                'revenuePerDateA' : 'sum'}), axis=1).sort_values(by=['date'])\n",
    "ordersACummulative.columns = ['date', 'ordersCummulativeA', 'revenueCummulativeA']\n",
    "\n",
    "ordersBDaily = orders[orders['group'] == 'B'][['date', 'transactionId', 'visitorId', 'revenue']]\\\n",
    "    .groupby('date', as_index=False)\\\n",
    "    .agg({'transactionId' : pd.Series.nunique, 'revenue' : 'sum'})\n",
    "ordersBDaily.columns = ['date', 'ordersPerDateB', 'revenuePerDateB']\n",
    "\n",
    "ordersBCummulative = ordersBDaily.apply(\n",
    "    lambda x: ordersBDaily[ordersBDaily['date'] <= x['date']]\\\n",
    "            .agg({\n",
    "                'date' : 'max',\n",
    "                'ordersPerDateB' : 'sum',\n",
    "                'revenuePerDateB' : 'sum'}), axis=1).sort_values(by=['date'])\n",
    "ordersBCummulative.columns = ['date', 'ordersCummulativeB', 'revenueCummulativeB']\n",
    "display(ordersACummulative.head(), ordersBCummulative.head())"
   ]
  },
  {
   "cell_type": "markdown",
   "metadata": {},
   "source": [
    "Объединим все полученные таблицы"
   ]
  },
  {
   "cell_type": "code",
   "execution_count": 39,
   "metadata": {},
   "outputs": [
    {
     "data": {
      "text/html": [
       "<div>\n",
       "<style scoped>\n",
       "    .dataframe tbody tr th:only-of-type {\n",
       "        vertical-align: middle;\n",
       "    }\n",
       "\n",
       "    .dataframe tbody tr th {\n",
       "        vertical-align: top;\n",
       "    }\n",
       "\n",
       "    .dataframe thead th {\n",
       "        text-align: right;\n",
       "    }\n",
       "</style>\n",
       "<table border=\"1\" class=\"dataframe\">\n",
       "  <thead>\n",
       "    <tr style=\"text-align: right;\">\n",
       "      <th></th>\n",
       "      <th>date</th>\n",
       "      <th>ordersPerDateA</th>\n",
       "      <th>revenuePerDateA</th>\n",
       "      <th>ordersPerDateB</th>\n",
       "      <th>revenuePerDateB</th>\n",
       "      <th>ordersCummulativeA</th>\n",
       "      <th>revenueCummulativeA</th>\n",
       "      <th>ordersCummulativeB</th>\n",
       "      <th>revenueCummulativeB</th>\n",
       "      <th>visitorsPerDateA</th>\n",
       "      <th>visitorsPerDateB</th>\n",
       "      <th>visitorsCummulativeA</th>\n",
       "      <th>visitorsCummulativeB</th>\n",
       "    </tr>\n",
       "  </thead>\n",
       "  <tbody>\n",
       "    <tr>\n",
       "      <td>0</td>\n",
       "      <td>2019-08-01</td>\n",
       "      <td>23</td>\n",
       "      <td>142779</td>\n",
       "      <td>17</td>\n",
       "      <td>59758</td>\n",
       "      <td>23</td>\n",
       "      <td>142779</td>\n",
       "      <td>17</td>\n",
       "      <td>59758</td>\n",
       "      <td>719</td>\n",
       "      <td>713</td>\n",
       "      <td>719</td>\n",
       "      <td>713</td>\n",
       "    </tr>\n",
       "    <tr>\n",
       "      <td>1</td>\n",
       "      <td>2019-08-02</td>\n",
       "      <td>19</td>\n",
       "      <td>91602</td>\n",
       "      <td>23</td>\n",
       "      <td>162043</td>\n",
       "      <td>42</td>\n",
       "      <td>234381</td>\n",
       "      <td>40</td>\n",
       "      <td>221801</td>\n",
       "      <td>619</td>\n",
       "      <td>581</td>\n",
       "      <td>1338</td>\n",
       "      <td>1294</td>\n",
       "    </tr>\n",
       "    <tr>\n",
       "      <td>2</td>\n",
       "      <td>2019-08-03</td>\n",
       "      <td>24</td>\n",
       "      <td>112473</td>\n",
       "      <td>14</td>\n",
       "      <td>67049</td>\n",
       "      <td>66</td>\n",
       "      <td>346854</td>\n",
       "      <td>54</td>\n",
       "      <td>288850</td>\n",
       "      <td>507</td>\n",
       "      <td>509</td>\n",
       "      <td>1845</td>\n",
       "      <td>1803</td>\n",
       "    </tr>\n",
       "    <tr>\n",
       "      <td>3</td>\n",
       "      <td>2019-08-04</td>\n",
       "      <td>11</td>\n",
       "      <td>41176</td>\n",
       "      <td>14</td>\n",
       "      <td>96890</td>\n",
       "      <td>77</td>\n",
       "      <td>388030</td>\n",
       "      <td>68</td>\n",
       "      <td>385740</td>\n",
       "      <td>717</td>\n",
       "      <td>770</td>\n",
       "      <td>2562</td>\n",
       "      <td>2573</td>\n",
       "    </tr>\n",
       "    <tr>\n",
       "      <td>4</td>\n",
       "      <td>2019-08-05</td>\n",
       "      <td>22</td>\n",
       "      <td>86383</td>\n",
       "      <td>21</td>\n",
       "      <td>89908</td>\n",
       "      <td>99</td>\n",
       "      <td>474413</td>\n",
       "      <td>89</td>\n",
       "      <td>475648</td>\n",
       "      <td>756</td>\n",
       "      <td>707</td>\n",
       "      <td>3318</td>\n",
       "      <td>3280</td>\n",
       "    </tr>\n",
       "  </tbody>\n",
       "</table>\n",
       "</div>"
      ],
      "text/plain": [
       "        date  ordersPerDateA  revenuePerDateA  ordersPerDateB  \\\n",
       "0 2019-08-01              23           142779              17   \n",
       "1 2019-08-02              19            91602              23   \n",
       "2 2019-08-03              24           112473              14   \n",
       "3 2019-08-04              11            41176              14   \n",
       "4 2019-08-05              22            86383              21   \n",
       "\n",
       "   revenuePerDateB  ordersCummulativeA  revenueCummulativeA  \\\n",
       "0            59758                  23               142779   \n",
       "1           162043                  42               234381   \n",
       "2            67049                  66               346854   \n",
       "3            96890                  77               388030   \n",
       "4            89908                  99               474413   \n",
       "\n",
       "   ordersCummulativeB  revenueCummulativeB  visitorsPerDateA  \\\n",
       "0                  17                59758               719   \n",
       "1                  40               221801               619   \n",
       "2                  54               288850               507   \n",
       "3                  68               385740               717   \n",
       "4                  89               475648               756   \n",
       "\n",
       "   visitorsPerDateB  visitorsCummulativeA  visitorsCummulativeB  \n",
       "0               713                   719                   713  \n",
       "1               581                  1338                  1294  \n",
       "2               509                  1845                  1803  \n",
       "3               770                  2562                  2573  \n",
       "4               707                  3318                  3280  "
      ]
     },
     "execution_count": 39,
     "metadata": {},
     "output_type": "execute_result"
    }
   ],
   "source": [
    "data = ordersADaily.merge(ordersBDaily, left_on='date', right_on = 'date', how = 'left')\\\n",
    "    .merge(ordersACummulative, left_on = 'date', right_on = 'date', how = 'left')\\\n",
    "    .merge(ordersBCummulative, left_on = 'date', right_on = 'date', how = 'left')\\\n",
    "    .merge(visitorsADaily, left_on = 'date', right_on = 'date', how = 'left')\\\n",
    "    .merge(visitorsBDaily, left_on = 'date', right_on = 'date', how = 'left')\\\n",
    "    .merge(visitorsACummulative, left_on = 'date', right_on = 'date', how = 'left')\\\n",
    "    .merge(visitorsBCummulative, left_on = 'date', right_on = 'date', how = 'left')\n",
    "data.head()"
   ]
  },
  {
   "cell_type": "markdown",
   "metadata": {},
   "source": [
    "Получим выборки по каждой группе с ID покупателя и количеством его заказов. Объявим переменные sampleA и sampleB, в которых пользователям из разных групп будет соответствовать количество заказов. Тем, кто ничего не заказал, будут соответствовать нули. Применим критерий Манна-Уитни для проверки гипотезы о равенстве конверсий по группам и отформатируем p-value, округлив его до трёх знаков после запятой.\n",
    "Примем за нулевую гипотезу\n",
    "Н0: Конверсия группы В не отличается от конверсии группы А, соответственно, альтернативная гипотеза\n",
    "Н1: Конверсия группы А и группы В различна"
   ]
  },
  {
   "cell_type": "code",
   "execution_count": 40,
   "metadata": {},
   "outputs": [],
   "source": [
    "ordersByUsersA = orders[orders['group'] == 'A'].groupby('visitorId', as_index=False).agg({'transactionId' : pd.Series.nunique})\n",
    "ordersByUsersA.columns = ['visitorId', 'orders']\n",
    "ordersByUsersB = orders[orders['group'] == 'B'].groupby('visitorId', as_index=False).agg({'transactionId' : pd.Series.nunique})\n",
    "ordersByUsersB.columns = ['visitorId', 'orders']\n",
    "\n",
    "sampleA = pd.concat([ordersByUsersA['orders'],\n",
    "                     pd.Series(0, index=np.arange(data['visitorsPerDateA'].sum() - len(ordersByUsersA['orders'])), \n",
    "                               name='orders')],axis=0)\n",
    "\n",
    "sampleB = pd.concat([ordersByUsersB['orders'],\n",
    "                     pd.Series(0, index=np.arange(data['visitorsPerDateB'].sum() - len(ordersByUsersB['orders'])), \n",
    "                               name='orders')],axis=0)\n",
    "\n"
   ]
  },
  {
   "cell_type": "markdown",
   "metadata": {},
   "source": [
    "Проведем тест Манна-Уитни"
   ]
  },
  {
   "cell_type": "code",
   "execution_count": 41,
   "metadata": {},
   "outputs": [
    {
     "name": "stdout",
     "output_type": "stream",
     "text": [
      "0.006 - p-value\n",
      "0.160 - относительный прирост конверсии группы B\n"
     ]
    }
   ],
   "source": [
    "print('{0:.3f} - p-value'\n",
    "      .format(st.mannwhitneyu(sampleA, sampleB)[1], alternative = 'two-sided'))\n",
    "\n",
    "print('{0:.3f} - относительный прирост конверсии группы B'.format(sampleB.mean()/sampleA.mean()-1))"
   ]
  },
  {
   "cell_type": "markdown",
   "metadata": {},
   "source": [
    "P-value чуть выше общепринятого уровня статистический значимости (0.05), поэтому мы не можем отвергнуть гипотезу о том, что между конверсиями групп А и В нет статистически значимых различий."
   ]
  },
  {
   "cell_type": "markdown",
   "metadata": {},
   "source": [
    "Теперь найдём относительные различия в среднем чеке между группами.\n",
    "Примем за нулевую гипотезу\n",
    "Н0: Средний чек группы В не отличается от среднего чека группы А, соответственно, альтернативная гипотеза\n",
    "Н1: Средний чек группы А и группы В различен."
   ]
  },
  {
   "cell_type": "code",
   "execution_count": 42,
   "metadata": {},
   "outputs": [
    {
     "name": "stdout",
     "output_type": "stream",
     "text": [
      "0.415 - p-value\n",
      "0.287 - относительный прирост среднего чека группы B\n"
     ]
    }
   ],
   "source": [
    "print('{0:.3f} - p-value'.format(st.mannwhitneyu(orders[orders['group']=='A']['revenue'], \n",
    "                                       orders[orders['group']=='B']['revenue'])[1],alternative = 'two-sided'))\n",
    "print('{0:.3f} - относительный прирост среднего чека группы B'.format(orders[orders['group']=='B']['revenue']\n",
    "                       .mean() / orders[orders['group']=='A']['revenue'].mean()-1))"
   ]
  },
  {
   "cell_type": "markdown",
   "metadata": {},
   "source": [
    "P-value значительно больше 0.05. Значит, причин отвергать нулевую гипотезу и считать, что в среднем чеке есть различия, нет. При этом заметим, что средний чек группы В заметно больше среднего чека группы А."
   ]
  },
  {
   "cell_type": "markdown",
   "metadata": {},
   "source": [
    "Примем за аномальных пользователей тех, кто совершил больше 2 заказов или совершил заказ дороже 30 000 рублей. Так мы уберём 5% пользователей с наибольшим числом заказов и от 1% до 5% пользователей с дорогими заказами. Сделаем срезы пользователей с числом заказов больше 2 — usersWithManyOrders и пользователей, совершивших заказы дороже 30 000 — usersWithExpensiveOrders. Объединим их в таблице abnormalUsers.\n",
    "Узнаем, сколько всего аномальных пользователей методом shape()."
   ]
  },
  {
   "cell_type": "code",
   "execution_count": 43,
   "metadata": {},
   "outputs": [
    {
     "data": {
      "text/html": [
       "<div>\n",
       "<style scoped>\n",
       "    .dataframe tbody tr th:only-of-type {\n",
       "        vertical-align: middle;\n",
       "    }\n",
       "\n",
       "    .dataframe tbody tr th {\n",
       "        vertical-align: top;\n",
       "    }\n",
       "\n",
       "    .dataframe thead th {\n",
       "        text-align: right;\n",
       "    }\n",
       "</style>\n",
       "<table border=\"1\" class=\"dataframe\">\n",
       "  <thead>\n",
       "    <tr style=\"text-align: right;\">\n",
       "      <th></th>\n",
       "      <th>visitorId</th>\n",
       "    </tr>\n",
       "  </thead>\n",
       "  <tbody>\n",
       "    <tr>\n",
       "      <td>568</td>\n",
       "      <td>113298937</td>\n",
       "    </tr>\n",
       "    <tr>\n",
       "      <td>1099</td>\n",
       "      <td>148427295</td>\n",
       "    </tr>\n",
       "    <tr>\n",
       "      <td>928</td>\n",
       "      <td>204675465</td>\n",
       "    </tr>\n",
       "    <tr>\n",
       "      <td>33</td>\n",
       "      <td>249864742</td>\n",
       "    </tr>\n",
       "    <tr>\n",
       "      <td>684</td>\n",
       "      <td>358944393</td>\n",
       "    </tr>\n",
       "  </tbody>\n",
       "</table>\n",
       "</div>"
      ],
      "text/plain": [
       "      visitorId\n",
       "568   113298937\n",
       "1099  148427295\n",
       "928   204675465\n",
       "33    249864742\n",
       "684   358944393"
      ]
     },
     "metadata": {},
     "output_type": "display_data"
    },
    {
     "data": {
      "text/plain": [
       "(58,)"
      ]
     },
     "metadata": {},
     "output_type": "display_data"
    }
   ],
   "source": [
    "usersWithManyOrders = pd.concat([ordersByUsersA[ordersByUsersA['orders'] > 2]['visitorId'], \n",
    "                                 ordersByUsersB[ordersByUsersB['orders'] > 2]['visitorId']], axis = 0)\n",
    "usersWithExpensiveOrders = orders[orders['revenue'] > 27000]['visitorId']\n",
    "abnormalUsers = pd.concat([usersWithManyOrders, usersWithExpensiveOrders], axis = 0).drop_duplicates().sort_values()\n",
    "display(pd.DataFrame(abnormalUsers.head(5)))\n",
    "display(abnormalUsers.shape)"
   ]
  },
  {
   "cell_type": "markdown",
   "metadata": {},
   "source": [
    "Подготовим отфильтрованные выборки количества заказов по пользователям по группам теста:"
   ]
  },
  {
   "cell_type": "code",
   "execution_count": 44,
   "metadata": {},
   "outputs": [
    {
     "data": {
      "text/plain": [
       "0    1\n",
       "1    1\n",
       "2    1\n",
       "3    1\n",
       "4    1\n",
       "Name: orders, dtype: int64"
      ]
     },
     "metadata": {},
     "output_type": "display_data"
    },
    {
     "data": {
      "text/plain": [
       "0    1\n",
       "1    1\n",
       "2    1\n",
       "3    1\n",
       "4    1\n",
       "Name: orders, dtype: int64"
      ]
     },
     "metadata": {},
     "output_type": "display_data"
    }
   ],
   "source": [
    "sampleAFiltered = pd.concat([ordersByUsersA[np.logical_not(ordersByUsersA['visitorId']\n",
    "                                                           .isin(abnormalUsers))]['orders'], \n",
    "                             pd.Series(0, index = np.arange(data['visitorsPerDateA']\n",
    "                                                          .sum() - len(ordersByUsersA['orders'])), name = 'orders')],axis=0)\n",
    "\n",
    "sampleBFiltered = pd.concat([ordersByUsersB[np.logical_not(ordersByUsersB['visitorId']\n",
    "                                                           .isin(abnormalUsers))]['orders'], \n",
    "                             pd.Series(0, index = np.arange(data['visitorsPerDateB']\n",
    "                                                          .sum() - len(ordersByUsersB['orders'])), name = 'orders')],axis=0) \n",
    "display(sampleAFiltered.head(), sampleBFiltered.head())"
   ]
  },
  {
   "cell_type": "markdown",
   "metadata": {},
   "source": [
    "Применим статистический критерий Манна-Уитни к полученным выборкам.\n",
    "Примем за нулевую гипотезу\n",
    "Н0: Конверсия группы В не отличается от конверсии группы А, соответственно, альтернативная гипотеза:\n",
    "Н1: Конверсия группы А и группы В различна."
   ]
  },
  {
   "cell_type": "code",
   "execution_count": 45,
   "metadata": {},
   "outputs": [
    {
     "name": "stdout",
     "output_type": "stream",
     "text": [
      "0.006 - p-value\n",
      "0.182 - относительный прирост конверсии группы B\n"
     ]
    }
   ],
   "source": [
    "print('{0:.3f} - p-value'\n",
    "      .format(st.mannwhitneyu(sampleAFiltered, sampleBFiltered)[1],alternative = 'two-sided'))\n",
    "\n",
    "print('{0:.3f} - относительный прирост конверсии группы B'\n",
    "      .format(sampleBFiltered.mean()/sampleAFiltered.mean()-1))"
   ]
  },
  {
   "cell_type": "markdown",
   "metadata": {},
   "source": [
    "Результаты по конверсии изменились несильно. Достаточно заметно увеличился лишь прирост конверсии группы B.\n",
    "\n",
    "Проверим изменения в среднем чеке, сначала построим график по отфильтрованной информации"
   ]
  },
  {
   "cell_type": "code",
   "execution_count": 46,
   "metadata": {},
   "outputs": [
    {
     "data": {
      "image/png": "[encoded data removed]",
      "text/plain": [
       "<Figure size 1008x576 with 1 Axes>"
      ]
     },
     "metadata": {},
     "output_type": "display_data"
    }
   ],
   "source": [
    "orders_f = orders[orders['revenue'] < 30000]\n",
    "datesGroups_f = orders_f[['date','group']].drop_duplicates()\n",
    "\n",
    "ordersAggregated_f = datesGroups_f.apply(\n",
    "lambda x: orders_f[np.logical_and(orders_f['date'] <= x['date'], orders_f['group'] == x['group'])].agg({\n",
    "'date' : 'max',\n",
    "'group' : 'max',\n",
    "'transactionId' : pd.Series.nunique,\n",
    "'visitorId' : pd.Series.nunique,\n",
    "'revenue' : 'sum'}), axis=1).sort_values(by=['date','group'])\n",
    "\n",
    "ordersAggregated_f.columns = ['date', 'group', 'orders', 'buyers', 'revenue']\n",
    "\n",
    "cumulativeRevenueA_f = ordersAggregated_f[ordersAggregated_f['group']=='A'][['date','revenue', 'orders']]\n",
    "cumulativeRevenueB_f = ordersAggregated_f[ordersAggregated_f['group']=='B'][['date','revenue', 'orders']]\n",
    "mergedCumulativeRevenue_f = cumulativeRevenueA_f.merge(cumulativeRevenueB_f, \n",
    "                                                   left_on = 'date', \n",
    "                                                   right_on = 'date', \n",
    "                                                   how = 'left', \n",
    "                                                   suffixes = ['A', 'B'])\n",
    "\n",
    "\n",
    "fig = plt.figure(figsize = (14, 8))\n",
    "sns.lineplot(x = mergedCumulativeRevenue_f['date'], \n",
    "             y = (mergedCumulativeRevenue_f['revenueB'] / mergedCumulativeRevenue_f['ordersB']) /\n",
    "             (mergedCumulativeRevenue_f['revenueA'] / mergedCumulativeRevenue_f['ordersA'])-1)\n",
    "plt.xlabel('')\n",
    "plt.ylabel('')\n",
    "plt.title('Относительный прирост среднего чека группы B относительно группы A')\n",
    "plt.xticks(rotation = 90)\n",
    "plt.axhline(y = 0, color = 'black', linestyle='--')\n",
    "plt.axis(['2019-08-01', '2019-08-31', -0.4, 0.4]);"
   ]
  },
  {
   "cell_type": "markdown",
   "metadata": {},
   "source": [
    "Как видно, после удаления выбросов колебания графика уменьшились, со временем относительный прирост стал практически нулевым.\n",
    "\n",
    "Проведем тест Манна-Уитни и рассчитаем относительный прирост среднего чека группы В.\n",
    "Примем за нулевую гипотезу\n",
    "Н0: Средний чек группы В не отличается от среднего чека группы А, соответственно, альтернативная гипотеза:\n",
    "Н1: Средний чек группы А и группы В различен."
   ]
  },
  {
   "cell_type": "code",
   "execution_count": 47,
   "metadata": {},
   "outputs": [
    {
     "name": "stdout",
     "output_type": "stream",
     "text": [
      "0.323 - p-value\n",
      "-0.048 - относительный прирост среднего чека группы B\n"
     ]
    }
   ],
   "source": [
    "print('{0:.3f} - p-value'.format(st.mannwhitneyu(\n",
    "    orders[np.logical_and(\n",
    "        orders['group'] == 'A',\n",
    "        np.logical_not(orders['visitorId'].isin(abnormalUsers)))]['revenue'], \n",
    "    orders[np.logical_and(\n",
    "        orders['group'] == 'B', #заказы пользователей группы B\n",
    "        np.logical_not(orders['visitorId'].isin(abnormalUsers)))]['revenue'])[1],alternative = 'two-sided')) \n",
    "\n",
    "print('{0:.3f} - относительный прирост среднего чека группы B'.format(\n",
    "    orders[np.logical_and(orders['group'] == 'B', \n",
    "                          np.logical_not(orders['visitorId'].isin(abnormalUsers)))]['revenue'].mean() / \n",
    "    orders[np.logical_and(orders['group'] == 'A', \n",
    "        np.logical_not(orders['visitorId'].isin(abnormalUsers)))]['revenue'].mean() - 1))"
   ]
  },
  {
   "cell_type": "markdown",
   "metadata": {},
   "source": [
    "P-value остался большим, у нас нет оснований опровернуть гипотезу о равенстве среднего чека между группами А и В.\n",
    "А вот относительный прирост сильно уменьшился и стал отрицательным, правда, близким к нулю. Это стало результатом удаления аномальных значений суммы покупок (таких как 1200000).\n",
    "\n",
    "Теперь можно сделать следующие выводы:\n",
    "\n",
    "- Нет статистически значимого различия по конверсии между группами и по «сырым», и по очищенным от аномалий данным;\n",
    "- Нет статистически значимого различия по среднему чеку между группами ни по «сырым», ни по  очищенным от аномалий данным;\n",
    "- График различия конверсии между группами сообщает, что результаты группы B лучше результатов группы A и есть достаточно значимая тенденции к улучшению\n",
    "- График различия среднего чека колеблется. После удаления выбросов можно сделать из этого графика вывод о малом различии средних чеков по группам А и В"
   ]
  },
  {
   "cell_type": "markdown",
   "metadata": {},
   "source": [
    "# Вывод\n",
    "По результатам теста можно принять решение остановить тест, зафиксировав победу группы В и признать предложенные изменения успешными. Хотя средний чек остался на неизменном уровне, конверсия достаточно сильно увеличилась (на 15-20% от начальных значений). Это должно позволить увеличить выручку, что и было целью нововведений, предложенных для тестирования.\n",
    "Продолжать тест смысла нет: группа B статистически значимо лучше группы A по значению конверсии, график конверсии говорит о фиксации результата."
   ]
  },
  {
   "cell_type": "markdown",
   "metadata": {},
   "source": [
    "## Общие выводы.\n",
    "\n",
    "1. В первой части проекта мной была проведена приоритизация различных гипотез в соответствии с фреймворками ICE и RICE. По двум фреймворкам самыми приоритетными оказались следующие гипотезы: \n",
    "- Добавить два новых канала привлечения трафика, что позволит привлекать на 30% больше пользователей\t\n",
    "- Добавить форму подписки на все основные страницы, чтобы собрать базу клиентов для email-рассылок.\n",
    "\n",
    "ICE также выделил гипотезу запустить акцию, дающую скидку на товар в день рождения, как гипотезу с высоким уровнем уверенности и влияния (confidence и impact). В соответствии с RICE , самой перспективной является гипотеза добавить блоки рекомендаций товаров на сайт интернет магазина, чтобы повысить конверсию и средний чек заказа, как обладающую высоким охватом.\n",
    "\n",
    "2. Во второй части проекта мною был проведен анализ А/B теста. Сперва были удалены заказы, которые совершили пользователи, попавшие сразу в две группы (А и В). Затем были расчитаны кумулятивные показатели выручки, среднего чека, конверсии, изменения кумулятивных показателей группы B относительно А, построены графики. Были расчитаны 95 и 99 перцентили количества заказов на пользователя и стоимости заказов. Были обнаружены выбросы, которые учитывались при дальнейшем статистическом анализе.\n",
    "При статистическом исследовании нашего теста был применен критерий Манна-Уитни. По результатам исследования были получены следующие выводы:\n",
    "- Нет статистически значимого различия по конверсии между группами и по «сырым», и по очищенным от аномалий данным;\n",
    "- Нет статистически значимого различия по среднему чеку между группами ни по «сырым», ни по очищенным от аномалий данным;\n",
    "\n",
    "По результатам теста можно принять решение остановить тест, зафиксировав победу группы В и признать предложенные изменения успешными. Хотя средний чек остался на неизменном уровне, конверсия достаточно сильно увеличилась (на 15-20% от начальных значений). Это должно позволить увеличить выручку, что и было целью нововведений, предложенных для тестирования.\n",
    "Продолжать тест смысла нет: группа B статистически значимо лучше группы A по значению конверсии, график конверсии говорит о фиксации результата.\n"
   ]
  },
  {
   "cell_type": "markdown",
   "metadata": {},
   "source": [
    "<div style=\"border:solid green 2px; padding: 20px\">\n",
    "<b>Комментарии ревьюера</b>\n",
    "\n",
    "Артур, в проекте выполнена основная часть работы, ты молодец!\n",
    "    \n",
    "С расчетами проблем не возникло, это отлично. Но для аналитика также важно, как он визуализирует полученные результаты для представления их коллегам или руководству, как он формулирует и гипотезы и как их проверяет, как делает выводы. Поэтому проект еще нужно доработать:\n",
    "- поискать нет ли в данных пользователей, которые попали в обе группы теста одновременно;\n",
    "- поработать с визуализацией и оформлением работы;\n",
    "- задать параметр alternative при вызове критерия Манна-Уитни в соответствии с формулировками гипотез, которые мы проверяем;\n",
    "- подготовить общий вывод по работе.\n",
    "    \n",
    "Так что жду твою работу на повторное ревью :)"
   ]
  },
  {
   "cell_type": "markdown",
   "metadata": {},
   "source": [
    "<div style=\"border:solid green 2px; padding: 20px\">\n",
    "<b>Комментарии ревьюера v2</b>\n",
    "\n",
    "Артур, работа выполнена на хорошем уровне, так держать!\n",
    "\n",
    "Ты молодец, что сопровождаешь все вычисления своими комментариями и пояснениями, сразу видно, что и зачем ты делаешь. \n",
    "\n",
    "Хотела отметить, что ты очень грамотно используешь методы pandas для работы с датафреймами, с проверкой и исследованием данных тоже все окей.\n",
    "\n",
    "У тебя хорошо получается анализировать, развивайся в этом направлении. Для аналитика важно, какие выводы и заключения он делает по проведённым расчетам и тестам.\n",
    "\n",
    "В этой работе у нас несколько проверок гипотез, так что можно было обернуть коды в функцию. Написание и использование функций очень удобно - с ними кода меньше, проверять работу легче, функции удобно тестировать. Этот навык точно пригодится тебе в следующих спринтах :)\n",
    "\n",
    "По поводу графиков - после доработки все отлично, молодец! Могу еще посоветовать посмотреть библиотеку seaborn, там есть достаточно интересные варианты визуализации :) Вот этот ресурс https://python-graph-gallery.com, там много готовых решений. \n",
    "\n",
    "Успехов в выполнении следующих заданий!"
   ]
  }
 ],
 "metadata": {
  "ExecuteTimeLog": [
   {
    "duration": 98,
    "start_time": "2021-08-22T14:27:35.822Z"
   },
   {
    "duration": 1563,
    "start_time": "2021-08-22T14:39:01.660Z"
   },
   {
    "duration": 30,
    "start_time": "2021-08-22T14:39:42.112Z"
   },
   {
    "duration": 5,
    "start_time": "2021-08-22T14:40:11.492Z"
   },
   {
    "duration": 22,
    "start_time": "2021-08-22T14:41:18.095Z"
   },
   {
    "duration": 118,
    "start_time": "2021-08-22T14:41:51.575Z"
   },
   {
    "duration": 19,
    "start_time": "2021-08-22T14:42:08.987Z"
   },
   {
    "duration": 3,
    "start_time": "2021-08-22T14:47:25.002Z"
   },
   {
    "duration": 83,
    "start_time": "2021-08-22T14:47:42.826Z"
   },
   {
    "duration": 7,
    "start_time": "2021-08-22T14:49:39.423Z"
   },
   {
    "duration": 377,
    "start_time": "2021-08-22T14:49:55.712Z"
   },
   {
    "duration": 53,
    "start_time": "2021-08-22T14:50:09.592Z"
   },
   {
    "duration": 8,
    "start_time": "2021-08-22T14:50:10.510Z"
   },
   {
    "duration": 26,
    "start_time": "2021-08-22T14:50:11.082Z"
   },
   {
    "duration": 19,
    "start_time": "2021-08-22T14:51:18.507Z"
   },
   {
    "duration": 23,
    "start_time": "2021-08-22T14:51:53.882Z"
   },
   {
    "duration": 8,
    "start_time": "2021-08-22T14:52:27.506Z"
   },
   {
    "duration": 493,
    "start_time": "2021-08-23T03:38:07.948Z"
   },
   {
    "duration": 1422,
    "start_time": "2021-08-23T03:38:16.703Z"
   },
   {
    "duration": 31,
    "start_time": "2021-08-23T03:38:18.128Z"
   },
   {
    "duration": 8,
    "start_time": "2021-08-23T03:38:18.163Z"
   },
   {
    "duration": 22,
    "start_time": "2021-08-23T03:38:18.174Z"
   },
   {
    "duration": 18,
    "start_time": "2021-08-23T03:38:18.198Z"
   },
   {
    "duration": 56,
    "start_time": "2021-08-23T03:38:18.219Z"
   },
   {
    "duration": 8,
    "start_time": "2021-08-23T03:38:18.277Z"
   },
   {
    "duration": 34,
    "start_time": "2021-08-23T03:38:18.287Z"
   },
   {
    "duration": 19,
    "start_time": "2021-08-23T03:38:18.325Z"
   },
   {
    "duration": 20,
    "start_time": "2021-08-23T03:38:18.356Z"
   },
   {
    "duration": 6,
    "start_time": "2021-08-23T03:38:18.379Z"
   },
   {
    "duration": 11,
    "start_time": "2021-08-23T03:38:18.387Z"
   },
   {
    "duration": 18,
    "start_time": "2021-08-23T03:40:06.462Z"
   },
   {
    "duration": 438,
    "start_time": "2021-08-23T03:40:37.185Z"
   },
   {
    "duration": 276,
    "start_time": "2021-08-23T03:41:44.239Z"
   },
   {
    "duration": 28,
    "start_time": "2021-08-23T03:42:26.615Z"
   },
   {
    "duration": 25,
    "start_time": "2021-08-23T03:43:07.525Z"
   },
   {
    "duration": 118,
    "start_time": "2021-08-23T03:43:30.586Z"
   },
   {
    "duration": 725,
    "start_time": "2021-08-23T03:43:55.098Z"
   },
   {
    "duration": 749,
    "start_time": "2021-08-23T03:44:26.114Z"
   },
   {
    "duration": 682,
    "start_time": "2021-08-23T03:44:33.118Z"
   },
   {
    "duration": 672,
    "start_time": "2021-08-23T03:44:53.266Z"
   },
   {
    "duration": 721,
    "start_time": "2021-08-23T03:45:30.066Z"
   },
   {
    "duration": 677,
    "start_time": "2021-08-23T03:46:42.843Z"
   },
   {
    "duration": 27,
    "start_time": "2021-08-23T03:47:51.670Z"
   },
   {
    "duration": 20,
    "start_time": "2021-08-23T03:48:16.266Z"
   },
   {
    "duration": 719,
    "start_time": "2021-08-23T03:48:39.824Z"
   },
   {
    "duration": 645,
    "start_time": "2021-08-23T03:48:56.762Z"
   },
   {
    "duration": 712,
    "start_time": "2021-08-23T03:50:02.465Z"
   },
   {
    "duration": 686,
    "start_time": "2021-08-23T03:50:33.917Z"
   },
   {
    "duration": 4,
    "start_time": "2021-08-23T03:55:21.418Z"
   },
   {
    "duration": 213,
    "start_time": "2021-08-23T03:56:00.664Z"
   },
   {
    "duration": 675,
    "start_time": "2021-08-23T03:56:23.540Z"
   },
   {
    "duration": 6,
    "start_time": "2021-08-23T03:57:10.394Z"
   },
   {
    "duration": 690,
    "start_time": "2021-08-23T03:57:47.257Z"
   },
   {
    "duration": 134,
    "start_time": "2021-08-23T03:57:58.015Z"
   },
   {
    "duration": 826,
    "start_time": "2021-08-23T03:59:23.109Z"
   },
   {
    "duration": 6,
    "start_time": "2021-08-23T03:59:44.270Z"
   },
   {
    "duration": 1413,
    "start_time": "2021-08-23T04:00:26.291Z"
   },
   {
    "duration": 31,
    "start_time": "2021-08-23T04:00:27.711Z"
   },
   {
    "duration": 12,
    "start_time": "2021-08-23T04:00:27.745Z"
   },
   {
    "duration": 19,
    "start_time": "2021-08-23T04:00:27.760Z"
   },
   {
    "duration": 17,
    "start_time": "2021-08-23T04:00:27.781Z"
   },
   {
    "duration": 61,
    "start_time": "2021-08-23T04:00:27.800Z"
   },
   {
    "duration": 8,
    "start_time": "2021-08-23T04:00:27.865Z"
   },
   {
    "duration": 30,
    "start_time": "2021-08-23T04:00:27.876Z"
   },
   {
    "duration": 20,
    "start_time": "2021-08-23T04:00:27.908Z"
   },
   {
    "duration": 40,
    "start_time": "2021-08-23T04:00:27.930Z"
   },
   {
    "duration": 6,
    "start_time": "2021-08-23T04:00:27.973Z"
   },
   {
    "duration": 12,
    "start_time": "2021-08-23T04:00:27.981Z"
   },
   {
    "duration": 60,
    "start_time": "2021-08-23T04:00:27.995Z"
   },
   {
    "duration": 364,
    "start_time": "2021-08-23T04:00:28.058Z"
   },
   {
    "duration": 281,
    "start_time": "2021-08-23T04:00:28.425Z"
   },
   {
    "duration": 27,
    "start_time": "2021-08-23T04:00:28.708Z"
   },
   {
    "duration": 23,
    "start_time": "2021-08-23T04:00:28.756Z"
   },
   {
    "duration": 728,
    "start_time": "2021-08-23T04:00:28.781Z"
   },
   {
    "duration": 852,
    "start_time": "2021-08-23T04:00:29.512Z"
   },
   {
    "duration": 737,
    "start_time": "2021-08-23T04:00:30.367Z"
   },
   {
    "duration": 25,
    "start_time": "2021-08-23T04:00:31.106Z"
   },
   {
    "duration": 20,
    "start_time": "2021-08-23T04:00:31.156Z"
   },
   {
    "duration": 655,
    "start_time": "2021-08-23T04:00:31.178Z"
   },
   {
    "duration": 681,
    "start_time": "2021-08-23T04:00:31.835Z"
   },
   {
    "duration": 189,
    "start_time": "2021-08-23T04:00:32.518Z"
   },
   {
    "duration": 709,
    "start_time": "2021-08-23T04:00:32.709Z"
   },
   {
    "duration": 7,
    "start_time": "2021-08-23T04:00:33.422Z"
   },
   {
    "duration": 811,
    "start_time": "2021-08-23T04:00:33.431Z"
   },
   {
    "duration": 721,
    "start_time": "2021-08-23T04:00:34.244Z"
   },
   {
    "duration": 6,
    "start_time": "2021-08-23T04:00:34.967Z"
   },
   {
    "duration": 203,
    "start_time": "2021-08-23T04:01:49.577Z"
   },
   {
    "duration": 246,
    "start_time": "2021-08-23T04:02:17.893Z"
   },
   {
    "duration": 238,
    "start_time": "2021-08-23T04:09:49.392Z"
   },
   {
    "duration": 50,
    "start_time": "2021-08-23T04:10:13.532Z"
   },
   {
    "duration": 216,
    "start_time": "2021-08-23T04:12:46.411Z"
   },
   {
    "duration": 127,
    "start_time": "2021-08-23T04:13:25.504Z"
   },
   {
    "duration": 172,
    "start_time": "2021-08-23T04:13:34.197Z"
   },
   {
    "duration": 126,
    "start_time": "2021-08-23T04:13:50.170Z"
   },
   {
    "duration": 321,
    "start_time": "2021-08-23T04:14:14.257Z"
   },
   {
    "duration": 250,
    "start_time": "2021-08-23T04:15:08.414Z"
   },
   {
    "duration": 8,
    "start_time": "2021-08-23T04:15:43.904Z"
   },
   {
    "duration": 14,
    "start_time": "2021-08-23T04:16:48.656Z"
   },
   {
    "duration": 20,
    "start_time": "2021-08-23T04:18:06.471Z"
   },
   {
    "duration": 19,
    "start_time": "2021-08-23T04:19:06.413Z"
   },
   {
    "duration": 21,
    "start_time": "2021-08-23T04:19:25.723Z"
   },
   {
    "duration": 10,
    "start_time": "2021-08-23T04:20:12.091Z"
   },
   {
    "duration": 1112,
    "start_time": "2021-08-23T04:22:30.428Z"
   },
   {
    "duration": 117,
    "start_time": "2021-08-23T04:22:48.556Z"
   },
   {
    "duration": 1135,
    "start_time": "2021-08-23T04:22:54.755Z"
   },
   {
    "duration": 22,
    "start_time": "2021-08-23T04:24:14.764Z"
   },
   {
    "duration": 18,
    "start_time": "2021-08-23T04:27:20.284Z"
   },
   {
    "duration": 17,
    "start_time": "2021-08-23T04:29:45.326Z"
   },
   {
    "duration": 59,
    "start_time": "2021-08-23T04:33:37.204Z"
   },
   {
    "duration": 8,
    "start_time": "2021-08-23T04:33:37.286Z"
   },
   {
    "duration": 28,
    "start_time": "2021-08-23T04:33:40.131Z"
   },
   {
    "duration": 1015,
    "start_time": "2021-08-23T04:37:22.917Z"
   },
   {
    "duration": 1127,
    "start_time": "2021-08-23T11:15:06.958Z"
   },
   {
    "duration": 25,
    "start_time": "2021-08-23T11:15:08.087Z"
   },
   {
    "duration": 14,
    "start_time": "2021-08-23T11:15:08.116Z"
   },
   {
    "duration": 26,
    "start_time": "2021-08-23T11:15:08.132Z"
   },
   {
    "duration": 14,
    "start_time": "2021-08-23T11:15:08.160Z"
   },
   {
    "duration": 56,
    "start_time": "2021-08-23T11:15:08.176Z"
   },
   {
    "duration": 7,
    "start_time": "2021-08-23T11:15:08.235Z"
   },
   {
    "duration": 29,
    "start_time": "2021-08-23T11:15:08.244Z"
   },
   {
    "duration": 14,
    "start_time": "2021-08-23T11:15:08.275Z"
   },
   {
    "duration": 22,
    "start_time": "2021-08-23T11:15:08.291Z"
   },
   {
    "duration": 8,
    "start_time": "2021-08-23T11:15:08.315Z"
   },
   {
    "duration": 17,
    "start_time": "2021-08-23T11:15:08.324Z"
   },
   {
    "duration": 16,
    "start_time": "2021-08-23T11:15:08.342Z"
   },
   {
    "duration": 222,
    "start_time": "2021-08-23T11:15:08.359Z"
   },
   {
    "duration": 160,
    "start_time": "2021-08-23T11:15:08.582Z"
   },
   {
    "duration": 18,
    "start_time": "2021-08-23T11:15:08.743Z"
   },
   {
    "duration": 15,
    "start_time": "2021-08-23T11:15:08.762Z"
   },
   {
    "duration": 438,
    "start_time": "2021-08-23T11:15:08.779Z"
   },
   {
    "duration": 404,
    "start_time": "2021-08-23T11:15:09.219Z"
   },
   {
    "duration": 496,
    "start_time": "2021-08-23T11:15:09.625Z"
   },
   {
    "duration": 22,
    "start_time": "2021-08-23T11:15:10.123Z"
   },
   {
    "duration": 13,
    "start_time": "2021-08-23T11:15:10.148Z"
   },
   {
    "duration": 497,
    "start_time": "2021-08-23T11:15:10.163Z"
   },
   {
    "duration": 429,
    "start_time": "2021-08-23T11:15:10.661Z"
   },
   {
    "duration": 119,
    "start_time": "2021-08-23T11:15:11.091Z"
   },
   {
    "duration": 485,
    "start_time": "2021-08-23T11:15:11.211Z"
   },
   {
    "duration": 5,
    "start_time": "2021-08-23T11:15:11.697Z"
   },
   {
    "duration": 543,
    "start_time": "2021-08-23T11:15:11.704Z"
   },
   {
    "duration": 504,
    "start_time": "2021-08-23T11:15:12.249Z"
   },
   {
    "duration": 5,
    "start_time": "2021-08-23T11:15:12.756Z"
   },
   {
    "duration": 134,
    "start_time": "2021-08-23T11:15:12.762Z"
   },
   {
    "duration": 253,
    "start_time": "2021-08-23T11:15:12.898Z"
   },
   {
    "duration": 32,
    "start_time": "2021-08-23T11:15:13.153Z"
   },
   {
    "duration": 127,
    "start_time": "2021-08-23T11:15:13.187Z"
   },
   {
    "duration": 7,
    "start_time": "2021-08-23T11:15:13.316Z"
   },
   {
    "duration": 22,
    "start_time": "2021-08-23T11:15:13.324Z"
   },
   {
    "duration": 14,
    "start_time": "2021-08-23T11:15:13.347Z"
   },
   {
    "duration": 16,
    "start_time": "2021-08-23T11:15:13.363Z"
   },
   {
    "duration": 23,
    "start_time": "2021-08-23T11:15:13.380Z"
   },
   {
    "duration": 726,
    "start_time": "2021-08-23T11:15:13.404Z"
   },
   {
    "duration": 17,
    "start_time": "2021-08-23T11:15:14.132Z"
   },
   {
    "duration": 106,
    "start_time": "2021-08-23T11:20:03.225Z"
   },
   {
    "duration": 5,
    "start_time": "2021-08-23T11:22:11.033Z"
   },
   {
    "duration": 5,
    "start_time": "2021-08-23T11:22:17.373Z"
   },
   {
    "duration": 5,
    "start_time": "2021-08-23T11:22:24.259Z"
   },
   {
    "duration": 5,
    "start_time": "2021-08-23T11:22:27.810Z"
   },
   {
    "duration": 5,
    "start_time": "2021-08-23T11:22:30.386Z"
   },
   {
    "duration": 4,
    "start_time": "2021-08-23T11:22:33.225Z"
   },
   {
    "duration": 4,
    "start_time": "2021-08-23T11:22:36.622Z"
   },
   {
    "duration": 5,
    "start_time": "2021-08-23T11:22:39.586Z"
   },
   {
    "duration": 5,
    "start_time": "2021-08-23T11:22:42.551Z"
   },
   {
    "duration": 5,
    "start_time": "2021-08-23T11:22:46.233Z"
   },
   {
    "duration": 5,
    "start_time": "2021-08-23T11:22:49.269Z"
   },
   {
    "duration": 4,
    "start_time": "2021-08-23T11:22:52.893Z"
   },
   {
    "duration": 4,
    "start_time": "2021-08-23T11:22:55.781Z"
   },
   {
    "duration": 5,
    "start_time": "2021-08-23T11:22:58.656Z"
   },
   {
    "duration": 1608,
    "start_time": "2021-08-23T12:02:06.339Z"
   },
   {
    "duration": 31,
    "start_time": "2021-08-23T12:02:07.950Z"
   },
   {
    "duration": 12,
    "start_time": "2021-08-23T12:02:07.983Z"
   },
   {
    "duration": 20,
    "start_time": "2021-08-23T12:02:07.997Z"
   },
   {
    "duration": 34,
    "start_time": "2021-08-23T12:02:08.020Z"
   },
   {
    "duration": 55,
    "start_time": "2021-08-23T12:02:08.057Z"
   },
   {
    "duration": 9,
    "start_time": "2021-08-23T12:02:08.115Z"
   },
   {
    "duration": 30,
    "start_time": "2021-08-23T12:02:08.129Z"
   },
   {
    "duration": 24,
    "start_time": "2021-08-23T12:02:08.163Z"
   },
   {
    "duration": 34,
    "start_time": "2021-08-23T12:02:08.190Z"
   },
   {
    "duration": 28,
    "start_time": "2021-08-23T12:02:08.227Z"
   },
   {
    "duration": 18,
    "start_time": "2021-08-23T12:02:08.258Z"
   },
   {
    "duration": 28,
    "start_time": "2021-08-23T12:02:08.279Z"
   },
   {
    "duration": 414,
    "start_time": "2021-08-23T12:02:08.310Z"
   },
   {
    "duration": 327,
    "start_time": "2021-08-23T12:02:08.727Z"
   },
   {
    "duration": 36,
    "start_time": "2021-08-23T12:02:09.057Z"
   },
   {
    "duration": 59,
    "start_time": "2021-08-23T12:02:09.096Z"
   },
   {
    "duration": 781,
    "start_time": "2021-08-23T12:02:09.158Z"
   },
   {
    "duration": 878,
    "start_time": "2021-08-23T12:02:09.942Z"
   },
   {
    "duration": 712,
    "start_time": "2021-08-23T12:02:10.823Z"
   },
   {
    "duration": 42,
    "start_time": "2021-08-23T12:02:11.538Z"
   },
   {
    "duration": 40,
    "start_time": "2021-08-23T12:02:11.583Z"
   },
   {
    "duration": 710,
    "start_time": "2021-08-23T12:02:11.628Z"
   },
   {
    "duration": 719,
    "start_time": "2021-08-23T12:02:12.341Z"
   },
   {
    "duration": 267,
    "start_time": "2021-08-23T12:02:13.063Z"
   },
   {
    "duration": 721,
    "start_time": "2021-08-23T12:02:13.333Z"
   },
   {
    "duration": 6,
    "start_time": "2021-08-23T12:02:14.057Z"
   },
   {
    "duration": 821,
    "start_time": "2021-08-23T12:02:14.066Z"
   },
   {
    "duration": 808,
    "start_time": "2021-08-23T12:02:14.889Z"
   },
   {
    "duration": 6,
    "start_time": "2021-08-23T12:02:15.700Z"
   },
   {
    "duration": 229,
    "start_time": "2021-08-23T12:02:15.708Z"
   },
   {
    "duration": 260,
    "start_time": "2021-08-23T12:02:15.954Z"
   },
   {
    "duration": 68,
    "start_time": "2021-08-23T12:02:16.217Z"
   },
   {
    "duration": 273,
    "start_time": "2021-08-23T12:02:16.287Z"
   },
   {
    "duration": 11,
    "start_time": "2021-08-23T12:02:16.563Z"
   },
   {
    "duration": 36,
    "start_time": "2021-08-23T12:02:16.577Z"
   },
   {
    "duration": 31,
    "start_time": "2021-08-23T12:02:16.616Z"
   },
   {
    "duration": 40,
    "start_time": "2021-08-23T12:02:16.650Z"
   },
   {
    "duration": 46,
    "start_time": "2021-08-23T12:02:16.693Z"
   },
   {
    "duration": 1114,
    "start_time": "2021-08-23T12:02:16.742Z"
   },
   {
    "duration": 20,
    "start_time": "2021-08-23T12:02:17.858Z"
   },
   {
    "duration": 11,
    "start_time": "2021-08-23T12:03:55.016Z"
   },
   {
    "duration": 9,
    "start_time": "2021-08-23T12:03:57.499Z"
   },
   {
    "duration": 10,
    "start_time": "2021-08-23T12:03:59.866Z"
   },
   {
    "duration": 15,
    "start_time": "2021-08-23T12:04:44.213Z"
   },
   {
    "duration": 10,
    "start_time": "2021-08-23T12:05:30.184Z"
   },
   {
    "duration": 550,
    "start_time": "2021-08-23T12:06:42.776Z"
   },
   {
    "duration": 305,
    "start_time": "2021-08-23T12:07:00.851Z"
   },
   {
    "duration": 20,
    "start_time": "2021-08-23T12:07:24.881Z"
   },
   {
    "duration": 309,
    "start_time": "2021-08-23T12:11:40.414Z"
   },
   {
    "duration": 318,
    "start_time": "2021-08-23T12:12:09.284Z"
   },
   {
    "duration": 1384,
    "start_time": "2021-08-23T12:14:00.174Z"
   },
   {
    "duration": 1623,
    "start_time": "2021-08-23T12:14:20.301Z"
   },
   {
    "duration": 35,
    "start_time": "2021-08-23T12:14:21.927Z"
   },
   {
    "duration": 7,
    "start_time": "2021-08-23T12:14:21.965Z"
   },
   {
    "duration": 26,
    "start_time": "2021-08-23T12:14:21.974Z"
   },
   {
    "duration": 18,
    "start_time": "2021-08-23T12:14:22.002Z"
   },
   {
    "duration": 61,
    "start_time": "2021-08-23T12:14:22.023Z"
   },
   {
    "duration": 8,
    "start_time": "2021-08-23T12:14:22.087Z"
   },
   {
    "duration": 34,
    "start_time": "2021-08-23T12:14:22.101Z"
   },
   {
    "duration": 27,
    "start_time": "2021-08-23T12:14:22.139Z"
   },
   {
    "duration": 19,
    "start_time": "2021-08-23T12:14:22.169Z"
   },
   {
    "duration": 6,
    "start_time": "2021-08-23T12:14:22.191Z"
   },
   {
    "duration": 16,
    "start_time": "2021-08-23T12:14:22.199Z"
   },
   {
    "duration": 59,
    "start_time": "2021-08-23T12:14:22.217Z"
   },
   {
    "duration": 377,
    "start_time": "2021-08-23T12:14:22.279Z"
   },
   {
    "duration": 292,
    "start_time": "2021-08-23T12:14:22.659Z"
   },
   {
    "duration": 31,
    "start_time": "2021-08-23T12:14:22.955Z"
   },
   {
    "duration": 26,
    "start_time": "2021-08-23T12:14:22.988Z"
   },
   {
    "duration": 784,
    "start_time": "2021-08-23T12:14:23.017Z"
   },
   {
    "duration": 813,
    "start_time": "2021-08-23T12:14:23.804Z"
   },
   {
    "duration": 745,
    "start_time": "2021-08-23T12:14:24.619Z"
   },
   {
    "duration": 29,
    "start_time": "2021-08-23T12:14:25.367Z"
   },
   {
    "duration": 49,
    "start_time": "2021-08-23T12:14:25.399Z"
   },
   {
    "duration": 720,
    "start_time": "2021-08-23T12:14:25.455Z"
   },
   {
    "duration": 770,
    "start_time": "2021-08-23T12:14:26.178Z"
   },
   {
    "duration": 225,
    "start_time": "2021-08-23T12:14:26.954Z"
   },
   {
    "duration": 704,
    "start_time": "2021-08-23T12:14:27.184Z"
   },
   {
    "duration": 6,
    "start_time": "2021-08-23T12:14:27.892Z"
   },
   {
    "duration": 866,
    "start_time": "2021-08-23T12:14:27.900Z"
   },
   {
    "duration": 741,
    "start_time": "2021-08-23T12:14:28.768Z"
   },
   {
    "duration": 6,
    "start_time": "2021-08-23T12:14:29.511Z"
   },
   {
    "duration": 235,
    "start_time": "2021-08-23T12:14:29.519Z"
   },
   {
    "duration": 306,
    "start_time": "2021-08-23T12:14:29.757Z"
   },
   {
    "duration": 52,
    "start_time": "2021-08-23T12:14:30.066Z"
   },
   {
    "duration": 265,
    "start_time": "2021-08-23T12:14:30.121Z"
   },
   {
    "duration": 10,
    "start_time": "2021-08-23T12:14:30.389Z"
   },
   {
    "duration": 24,
    "start_time": "2021-08-23T12:14:30.402Z"
   },
   {
    "duration": 38,
    "start_time": "2021-08-23T12:14:30.429Z"
   },
   {
    "duration": 26,
    "start_time": "2021-08-23T12:14:30.469Z"
   },
   {
    "duration": 44,
    "start_time": "2021-08-23T12:14:30.498Z"
   },
   {
    "duration": 1115,
    "start_time": "2021-08-23T12:14:30.545Z"
   },
   {
    "duration": 21,
    "start_time": "2021-08-23T12:14:31.662Z"
   },
   {
    "duration": 1312,
    "start_time": "2021-08-23T12:15:06.738Z"
   },
   {
    "duration": 729,
    "start_time": "2021-08-23T12:15:19.576Z"
   },
   {
    "duration": 38,
    "start_time": "2021-08-23T12:18:15.444Z"
   },
   {
    "duration": 33,
    "start_time": "2021-08-23T12:19:48.739Z"
   },
   {
    "duration": 492,
    "start_time": "2021-08-23T12:21:29.467Z"
   },
   {
    "duration": 11,
    "start_time": "2021-08-23T12:21:42.717Z"
   },
   {
    "duration": 11,
    "start_time": "2021-08-23T12:25:37.739Z"
   },
   {
    "duration": 417,
    "start_time": "2021-08-23T12:31:43.733Z"
   },
   {
    "duration": 16,
    "start_time": "2021-08-23T12:31:54.692Z"
   },
   {
    "duration": 413,
    "start_time": "2021-08-23T12:32:15.488Z"
   },
   {
    "duration": 6,
    "start_time": "2021-08-23T12:32:29.769Z"
   },
   {
    "duration": 5,
    "start_time": "2021-08-23T12:32:56.760Z"
   },
   {
    "duration": 17,
    "start_time": "2021-08-23T12:33:04.307Z"
   },
   {
    "duration": 9,
    "start_time": "2021-08-23T12:36:22.890Z"
   },
   {
    "duration": 31,
    "start_time": "2021-08-23T13:02:56.695Z"
   },
   {
    "duration": -97,
    "start_time": "2021-08-23T14:40:06.867Z"
   },
   {
    "duration": 9930,
    "start_time": "2021-08-23T14:40:13.537Z"
   },
   {
    "duration": 10019,
    "start_time": "2021-08-23T14:40:38.803Z"
   },
   {
    "duration": 20,
    "start_time": "2021-08-23T14:41:20.673Z"
   },
   {
    "duration": 7,
    "start_time": "2021-08-23T14:41:46.086Z"
   },
   {
    "duration": 20,
    "start_time": "2021-08-23T14:41:52.149Z"
   },
   {
    "duration": 462,
    "start_time": "2021-08-23T14:43:29.362Z"
   },
   {
    "duration": 19,
    "start_time": "2021-08-23T14:43:51.812Z"
   },
   {
    "duration": 8,
    "start_time": "2021-08-23T14:45:39.244Z"
   },
   {
    "duration": 136,
    "start_time": "2021-08-23T14:46:44.246Z"
   },
   {
    "duration": 219,
    "start_time": "2021-08-23T14:50:12.337Z"
   },
   {
    "duration": 959,
    "start_time": "2021-08-23T14:50:23.914Z"
   },
   {
    "duration": 381,
    "start_time": "2021-08-23T14:50:29.990Z"
   },
   {
    "duration": 382,
    "start_time": "2021-08-23T14:51:08.316Z"
   },
   {
    "duration": 8,
    "start_time": "2021-08-23T14:51:14.048Z"
   },
   {
    "duration": 7,
    "start_time": "2021-08-23T14:51:33.166Z"
   },
   {
    "duration": 7,
    "start_time": "2021-08-23T15:00:10.067Z"
   },
   {
    "duration": 19,
    "start_time": "2021-08-23T15:00:20.172Z"
   },
   {
    "duration": 18,
    "start_time": "2021-08-23T15:01:20.813Z"
   },
   {
    "duration": 10,
    "start_time": "2021-08-23T15:01:41.505Z"
   },
   {
    "duration": 9,
    "start_time": "2021-08-23T15:02:39.495Z"
   },
   {
    "duration": 9,
    "start_time": "2021-08-23T15:03:03.865Z"
   },
   {
    "duration": 11,
    "start_time": "2021-08-23T15:03:14.652Z"
   },
   {
    "duration": 6,
    "start_time": "2021-08-23T15:08:29.797Z"
   },
   {
    "duration": 9,
    "start_time": "2021-08-23T15:08:44.969Z"
   },
   {
    "duration": 7,
    "start_time": "2021-08-23T15:11:12.474Z"
   },
   {
    "duration": 7,
    "start_time": "2021-08-23T15:11:12.940Z"
   },
   {
    "duration": 10,
    "start_time": "2021-08-23T15:11:13.400Z"
   },
   {
    "duration": 18,
    "start_time": "2021-08-23T15:11:18.465Z"
   },
   {
    "duration": 378,
    "start_time": "2021-08-23T15:11:23.519Z"
   },
   {
    "duration": 306,
    "start_time": "2021-08-23T15:11:30.619Z"
   },
   {
    "duration": 30,
    "start_time": "2021-08-23T15:11:36.735Z"
   },
   {
    "duration": 25,
    "start_time": "2021-08-23T15:11:43.375Z"
   },
   {
    "duration": 731,
    "start_time": "2021-08-23T15:11:50.023Z"
   },
   {
    "duration": 683,
    "start_time": "2021-08-23T15:12:10.862Z"
   },
   {
    "duration": 699,
    "start_time": "2021-08-23T15:12:21.014Z"
   },
   {
    "duration": 29,
    "start_time": "2021-08-23T15:12:43.388Z"
   },
   {
    "duration": 22,
    "start_time": "2021-08-23T15:12:46.322Z"
   },
   {
    "duration": 675,
    "start_time": "2021-08-23T15:12:49.250Z"
   },
   {
    "duration": 707,
    "start_time": "2021-08-23T15:13:24.064Z"
   },
   {
    "duration": 201,
    "start_time": "2021-08-23T15:14:14.180Z"
   },
   {
    "duration": 783,
    "start_time": "2021-08-23T15:14:22.604Z"
   },
   {
    "duration": 6,
    "start_time": "2021-08-23T15:14:28.247Z"
   },
   {
    "duration": 731,
    "start_time": "2021-08-23T15:14:31.627Z"
   },
   {
    "duration": 719,
    "start_time": "2021-08-23T15:14:40.955Z"
   },
   {
    "duration": 6,
    "start_time": "2021-08-23T15:14:48.606Z"
   },
   {
    "duration": 205,
    "start_time": "2021-08-23T15:16:29.717Z"
   },
   {
    "duration": 246,
    "start_time": "2021-08-23T15:16:42.538Z"
   },
   {
    "duration": 50,
    "start_time": "2021-08-23T15:16:45.805Z"
   },
   {
    "duration": 195,
    "start_time": "2021-08-23T15:16:50.086Z"
   },
   {
    "duration": 9,
    "start_time": "2021-08-23T15:16:50.989Z"
   },
   {
    "duration": 14,
    "start_time": "2021-08-23T15:17:22.206Z"
   },
   {
    "duration": 20,
    "start_time": "2021-08-23T15:17:34.437Z"
   },
   {
    "duration": 17,
    "start_time": "2021-08-23T15:17:41.763Z"
   },
   {
    "duration": 10,
    "start_time": "2021-08-23T15:17:51.085Z"
   },
   {
    "duration": 1184,
    "start_time": "2021-08-23T15:17:59.628Z"
   },
   {
    "duration": 20,
    "start_time": "2021-08-23T15:18:10.096Z"
   },
   {
    "duration": 1104,
    "start_time": "2021-08-24T03:52:34.532Z"
   },
   {
    "duration": 27,
    "start_time": "2021-08-24T03:52:35.638Z"
   },
   {
    "duration": 4,
    "start_time": "2021-08-24T03:52:35.668Z"
   },
   {
    "duration": 12,
    "start_time": "2021-08-24T03:52:35.674Z"
   },
   {
    "duration": 10,
    "start_time": "2021-08-24T03:52:35.688Z"
   },
   {
    "duration": 51,
    "start_time": "2021-08-24T03:52:35.700Z"
   },
   {
    "duration": 5,
    "start_time": "2021-08-24T03:52:35.753Z"
   },
   {
    "duration": 21,
    "start_time": "2021-08-24T03:52:35.760Z"
   },
   {
    "duration": 11,
    "start_time": "2021-08-24T03:52:35.783Z"
   },
   {
    "duration": 18,
    "start_time": "2021-08-24T03:52:35.795Z"
   },
   {
    "duration": 3,
    "start_time": "2021-08-24T03:52:35.815Z"
   },
   {
    "duration": 6,
    "start_time": "2021-08-24T03:52:35.820Z"
   },
   {
    "duration": 20,
    "start_time": "2021-08-24T03:52:35.827Z"
   },
   {
    "duration": 437,
    "start_time": "2021-08-24T03:52:35.849Z"
   },
   {
    "duration": 567,
    "start_time": "2021-08-24T03:52:35.722Z"
   },
   {
    "duration": 558,
    "start_time": "2021-08-24T03:52:35.731Z"
   },
   {
    "duration": 551,
    "start_time": "2021-08-24T03:52:35.739Z"
   },
   {
    "duration": 543,
    "start_time": "2021-08-24T03:52:35.748Z"
   },
   {
    "duration": 536,
    "start_time": "2021-08-24T03:52:35.756Z"
   },
   {
    "duration": 519,
    "start_time": "2021-08-24T03:52:35.774Z"
   },
   {
    "duration": 512,
    "start_time": "2021-08-24T03:52:35.782Z"
   },
   {
    "duration": 504,
    "start_time": "2021-08-24T03:52:35.791Z"
   },
   {
    "duration": 497,
    "start_time": "2021-08-24T03:52:35.799Z"
   },
   {
    "duration": 491,
    "start_time": "2021-08-24T03:52:35.807Z"
   },
   {
    "duration": 484,
    "start_time": "2021-08-24T03:52:35.815Z"
   },
   {
    "duration": 477,
    "start_time": "2021-08-24T03:52:35.823Z"
   },
   {
    "duration": 470,
    "start_time": "2021-08-24T03:52:35.831Z"
   },
   {
    "duration": 461,
    "start_time": "2021-08-24T03:52:35.841Z"
   },
   {
    "duration": 454,
    "start_time": "2021-08-24T03:52:35.849Z"
   },
   {
    "duration": 447,
    "start_time": "2021-08-24T03:52:35.857Z"
   },
   {
    "duration": 441,
    "start_time": "2021-08-24T03:52:35.864Z"
   },
   {
    "duration": 423,
    "start_time": "2021-08-24T03:52:35.883Z"
   },
   {
    "duration": 416,
    "start_time": "2021-08-24T03:52:35.891Z"
   },
   {
    "duration": 407,
    "start_time": "2021-08-24T03:52:35.900Z"
   },
   {
    "duration": 399,
    "start_time": "2021-08-24T03:52:35.909Z"
   },
   {
    "duration": 392,
    "start_time": "2021-08-24T03:52:35.917Z"
   },
   {
    "duration": 386,
    "start_time": "2021-08-24T03:52:35.924Z"
   },
   {
    "duration": 378,
    "start_time": "2021-08-24T03:52:35.933Z"
   },
   {
    "duration": 371,
    "start_time": "2021-08-24T03:52:35.940Z"
   },
   {
    "duration": 365,
    "start_time": "2021-08-24T03:52:35.948Z"
   },
   {
    "duration": 359,
    "start_time": "2021-08-24T03:52:35.955Z"
   },
   {
    "duration": 352,
    "start_time": "2021-08-24T03:52:35.963Z"
   },
   {
    "duration": 345,
    "start_time": "2021-08-24T03:52:35.971Z"
   },
   {
    "duration": 338,
    "start_time": "2021-08-24T03:52:35.979Z"
   },
   {
    "duration": 321,
    "start_time": "2021-08-24T03:52:35.997Z"
   },
   {
    "duration": 314,
    "start_time": "2021-08-24T03:52:36.005Z"
   },
   {
    "duration": 1109,
    "start_time": "2021-08-24T03:53:42.714Z"
   },
   {
    "duration": 23,
    "start_time": "2021-08-24T03:53:43.824Z"
   },
   {
    "duration": 4,
    "start_time": "2021-08-24T03:53:43.849Z"
   },
   {
    "duration": 12,
    "start_time": "2021-08-24T03:53:43.855Z"
   },
   {
    "duration": 10,
    "start_time": "2021-08-24T03:53:43.868Z"
   },
   {
    "duration": 47,
    "start_time": "2021-08-24T03:53:43.879Z"
   },
   {
    "duration": 4,
    "start_time": "2021-08-24T03:53:43.927Z"
   },
   {
    "duration": 16,
    "start_time": "2021-08-24T03:53:43.933Z"
   },
   {
    "duration": 11,
    "start_time": "2021-08-24T03:53:43.950Z"
   },
   {
    "duration": 13,
    "start_time": "2021-08-24T03:53:43.962Z"
   },
   {
    "duration": 3,
    "start_time": "2021-08-24T03:53:43.977Z"
   },
   {
    "duration": 13,
    "start_time": "2021-08-24T03:53:43.981Z"
   },
   {
    "duration": 23,
    "start_time": "2021-08-24T03:53:43.995Z"
   },
   {
    "duration": 2,
    "start_time": "2021-08-24T03:53:44.020Z"
   },
   {
    "duration": 440,
    "start_time": "2021-08-24T03:53:44.024Z"
   },
   {
    "duration": 346,
    "start_time": "2021-08-24T03:53:44.120Z"
   },
   {
    "duration": 309,
    "start_time": "2021-08-24T03:53:44.158Z"
   },
   {
    "duration": 273,
    "start_time": "2021-08-24T03:53:44.195Z"
   },
   {
    "duration": 237,
    "start_time": "2021-08-24T03:53:44.232Z"
   },
   {
    "duration": 198,
    "start_time": "2021-08-24T03:53:44.272Z"
   },
   {
    "duration": 173,
    "start_time": "2021-08-24T03:53:44.298Z"
   },
   {
    "duration": 167,
    "start_time": "2021-08-24T03:53:44.305Z"
   },
   {
    "duration": 159,
    "start_time": "2021-08-24T03:53:44.314Z"
   },
   {
    "duration": 152,
    "start_time": "2021-08-24T03:53:44.322Z"
   },
   {
    "duration": 145,
    "start_time": "2021-08-24T03:53:44.330Z"
   },
   {
    "duration": 139,
    "start_time": "2021-08-24T03:53:44.337Z"
   },
   {
    "duration": 132,
    "start_time": "2021-08-24T03:53:44.345Z"
   },
   {
    "duration": 126,
    "start_time": "2021-08-24T03:53:44.352Z"
   },
   {
    "duration": 118,
    "start_time": "2021-08-24T03:53:44.360Z"
   },
   {
    "duration": 112,
    "start_time": "2021-08-24T03:53:44.367Z"
   },
   {
    "duration": 105,
    "start_time": "2021-08-24T03:53:44.375Z"
   },
   {
    "duration": 98,
    "start_time": "2021-08-24T03:53:44.383Z"
   },
   {
    "duration": 77,
    "start_time": "2021-08-24T03:53:44.405Z"
   },
   {
    "duration": 69,
    "start_time": "2021-08-24T03:53:44.414Z"
   },
   {
    "duration": 61,
    "start_time": "2021-08-24T03:53:44.423Z"
   },
   {
    "duration": 55,
    "start_time": "2021-08-24T03:53:44.430Z"
   },
   {
    "duration": 47,
    "start_time": "2021-08-24T03:53:44.439Z"
   },
   {
    "duration": 40,
    "start_time": "2021-08-24T03:53:44.447Z"
   },
   {
    "duration": 32,
    "start_time": "2021-08-24T03:53:44.455Z"
   },
   {
    "duration": 24,
    "start_time": "2021-08-24T03:53:44.464Z"
   },
   {
    "duration": 17,
    "start_time": "2021-08-24T03:53:44.472Z"
   },
   {
    "duration": 10,
    "start_time": "2021-08-24T03:53:44.480Z"
   },
   {
    "duration": 3,
    "start_time": "2021-08-24T03:53:44.488Z"
   },
   {
    "duration": -3,
    "start_time": "2021-08-24T03:53:44.495Z"
   },
   {
    "duration": -28,
    "start_time": "2021-08-24T03:53:44.521Z"
   },
   {
    "duration": -36,
    "start_time": "2021-08-24T03:53:44.530Z"
   },
   {
    "duration": 4,
    "start_time": "2021-08-24T03:54:34.178Z"
   },
   {
    "duration": 12,
    "start_time": "2021-08-24T03:54:43.015Z"
   },
   {
    "duration": 5,
    "start_time": "2021-08-24T03:54:52.961Z"
   },
   {
    "duration": 8,
    "start_time": "2021-08-24T03:54:53.575Z"
   },
   {
    "duration": 1126,
    "start_time": "2021-08-24T03:55:01.899Z"
   },
   {
    "duration": 23,
    "start_time": "2021-08-24T03:55:03.027Z"
   },
   {
    "duration": 6,
    "start_time": "2021-08-24T03:55:03.052Z"
   },
   {
    "duration": 15,
    "start_time": "2021-08-24T03:55:03.060Z"
   },
   {
    "duration": 11,
    "start_time": "2021-08-24T03:55:03.076Z"
   },
   {
    "duration": 52,
    "start_time": "2021-08-24T03:55:03.091Z"
   },
   {
    "duration": 4,
    "start_time": "2021-08-24T03:55:03.145Z"
   },
   {
    "duration": 22,
    "start_time": "2021-08-24T03:55:03.151Z"
   },
   {
    "duration": 11,
    "start_time": "2021-08-24T03:55:03.175Z"
   },
   {
    "duration": 18,
    "start_time": "2021-08-24T03:55:03.188Z"
   },
   {
    "duration": 4,
    "start_time": "2021-08-24T03:55:03.207Z"
   },
   {
    "duration": 10,
    "start_time": "2021-08-24T03:55:03.212Z"
   },
   {
    "duration": 25,
    "start_time": "2021-08-24T03:55:03.223Z"
   },
   {
    "duration": 3,
    "start_time": "2021-08-24T03:55:03.249Z"
   },
   {
    "duration": 13,
    "start_time": "2021-08-24T03:55:03.254Z"
   },
   {
    "duration": 27,
    "start_time": "2021-08-24T03:55:03.268Z"
   },
   {
    "duration": 12,
    "start_time": "2021-08-24T03:55:03.296Z"
   },
   {
    "duration": 19,
    "start_time": "2021-08-24T03:55:03.310Z"
   },
   {
    "duration": 25,
    "start_time": "2021-08-24T03:55:03.331Z"
   },
   {
    "duration": 204,
    "start_time": "2021-08-24T03:55:03.358Z"
   },
   {
    "duration": 158,
    "start_time": "2021-08-24T03:55:03.563Z"
   },
   {
    "duration": 17,
    "start_time": "2021-08-24T03:55:03.723Z"
   },
   {
    "duration": 17,
    "start_time": "2021-08-24T03:55:03.744Z"
   },
   {
    "duration": 403,
    "start_time": "2021-08-24T03:55:03.764Z"
   },
   {
    "duration": 374,
    "start_time": "2021-08-24T03:55:04.169Z"
   },
   {
    "duration": 485,
    "start_time": "2021-08-24T03:55:04.545Z"
   },
   {
    "duration": 18,
    "start_time": "2021-08-24T03:55:05.032Z"
   },
   {
    "duration": 12,
    "start_time": "2021-08-24T03:55:05.052Z"
   },
   {
    "duration": 380,
    "start_time": "2021-08-24T03:55:05.066Z"
   },
   {
    "duration": 453,
    "start_time": "2021-08-24T03:55:05.448Z"
   },
   {
    "duration": 113,
    "start_time": "2021-08-24T03:55:05.903Z"
   },
   {
    "duration": 422,
    "start_time": "2021-08-24T03:55:06.018Z"
   },
   {
    "duration": 4,
    "start_time": "2021-08-24T03:55:06.442Z"
   },
   {
    "duration": 485,
    "start_time": "2021-08-24T03:55:06.447Z"
   },
   {
    "duration": 449,
    "start_time": "2021-08-24T03:55:06.934Z"
   },
   {
    "duration": 7,
    "start_time": "2021-08-24T03:55:07.385Z"
   },
   {
    "duration": 139,
    "start_time": "2021-08-24T03:55:07.394Z"
   },
   {
    "duration": 160,
    "start_time": "2021-08-24T03:55:07.534Z"
   },
   {
    "duration": 29,
    "start_time": "2021-08-24T03:55:07.696Z"
   },
   {
    "duration": 124,
    "start_time": "2021-08-24T03:55:07.727Z"
   },
   {
    "duration": 9,
    "start_time": "2021-08-24T03:55:07.853Z"
   },
   {
    "duration": 10,
    "start_time": "2021-08-24T03:55:07.864Z"
   },
   {
    "duration": 28,
    "start_time": "2021-08-24T03:55:07.875Z"
   },
   {
    "duration": 16,
    "start_time": "2021-08-24T03:55:07.905Z"
   },
   {
    "duration": 7,
    "start_time": "2021-08-24T03:55:07.923Z"
   },
   {
    "duration": 691,
    "start_time": "2021-08-24T03:55:07.932Z"
   },
   {
    "duration": 12,
    "start_time": "2021-08-24T03:55:08.624Z"
   },
   {
    "duration": 4,
    "start_time": "2021-08-24T03:59:54.621Z"
   },
   {
    "duration": 366,
    "start_time": "2021-08-24T04:00:04.256Z"
   },
   {
    "duration": 1434,
    "start_time": "2021-08-24T04:00:16.684Z"
   },
   {
    "duration": 28,
    "start_time": "2021-08-24T04:00:18.120Z"
   },
   {
    "duration": 4,
    "start_time": "2021-08-24T04:00:18.150Z"
   },
   {
    "duration": 16,
    "start_time": "2021-08-24T04:00:18.156Z"
   },
   {
    "duration": 18,
    "start_time": "2021-08-24T04:00:18.174Z"
   },
   {
    "duration": 50,
    "start_time": "2021-08-24T04:00:18.194Z"
   },
   {
    "duration": 6,
    "start_time": "2021-08-24T04:00:18.246Z"
   },
   {
    "duration": 19,
    "start_time": "2021-08-24T04:00:18.254Z"
   },
   {
    "duration": 10,
    "start_time": "2021-08-24T04:00:18.276Z"
   },
   {
    "duration": 15,
    "start_time": "2021-08-24T04:00:18.288Z"
   },
   {
    "duration": 4,
    "start_time": "2021-08-24T04:00:18.304Z"
   },
   {
    "duration": 11,
    "start_time": "2021-08-24T04:00:18.309Z"
   },
   {
    "duration": 25,
    "start_time": "2021-08-24T04:00:18.321Z"
   },
   {
    "duration": 3,
    "start_time": "2021-08-24T04:00:18.347Z"
   },
   {
    "duration": 13,
    "start_time": "2021-08-24T04:00:18.352Z"
   },
   {
    "duration": 26,
    "start_time": "2021-08-24T04:00:18.366Z"
   },
   {
    "duration": 10,
    "start_time": "2021-08-24T04:00:18.393Z"
   },
   {
    "duration": 14,
    "start_time": "2021-08-24T04:00:18.404Z"
   },
   {
    "duration": 20,
    "start_time": "2021-08-24T04:00:18.419Z"
   },
   {
    "duration": 191,
    "start_time": "2021-08-24T04:00:18.440Z"
   },
   {
    "duration": 149,
    "start_time": "2021-08-24T04:00:18.633Z"
   },
   {
    "duration": 20,
    "start_time": "2021-08-24T04:00:18.783Z"
   },
   {
    "duration": 16,
    "start_time": "2021-08-24T04:00:18.805Z"
   },
   {
    "duration": 388,
    "start_time": "2021-08-24T04:00:18.823Z"
   },
   {
    "duration": 378,
    "start_time": "2021-08-24T04:00:19.213Z"
   },
   {
    "duration": 424,
    "start_time": "2021-08-24T04:00:19.593Z"
   },
   {
    "duration": 17,
    "start_time": "2021-08-24T04:00:20.020Z"
   },
   {
    "duration": 11,
    "start_time": "2021-08-24T04:00:20.039Z"
   },
   {
    "duration": 362,
    "start_time": "2021-08-24T04:00:20.052Z"
   },
   {
    "duration": 403,
    "start_time": "2021-08-24T04:00:20.416Z"
   },
   {
    "duration": 102,
    "start_time": "2021-08-24T04:00:20.820Z"
   },
   {
    "duration": 437,
    "start_time": "2021-08-24T04:00:20.924Z"
   },
   {
    "duration": 5,
    "start_time": "2021-08-24T04:00:21.363Z"
   },
   {
    "duration": 702,
    "start_time": "2021-08-24T04:00:21.370Z"
   },
   {
    "duration": 608,
    "start_time": "2021-08-24T04:00:22.074Z"
   },
   {
    "duration": 5,
    "start_time": "2021-08-24T04:00:22.691Z"
   },
   {
    "duration": 164,
    "start_time": "2021-08-24T04:00:22.698Z"
   },
   {
    "duration": 192,
    "start_time": "2021-08-24T04:00:22.864Z"
   },
   {
    "duration": 51,
    "start_time": "2021-08-24T04:00:23.058Z"
   },
   {
    "duration": 135,
    "start_time": "2021-08-24T04:00:23.110Z"
   },
   {
    "duration": 7,
    "start_time": "2021-08-24T04:00:23.246Z"
   },
   {
    "duration": 10,
    "start_time": "2021-08-24T04:00:23.254Z"
   },
   {
    "duration": 31,
    "start_time": "2021-08-24T04:00:23.266Z"
   },
   {
    "duration": 13,
    "start_time": "2021-08-24T04:00:23.298Z"
   },
   {
    "duration": 7,
    "start_time": "2021-08-24T04:00:23.313Z"
   },
   {
    "duration": 611,
    "start_time": "2021-08-24T04:00:23.321Z"
   },
   {
    "duration": 12,
    "start_time": "2021-08-24T04:00:23.934Z"
   },
   {
    "duration": 363,
    "start_time": "2021-08-24T04:01:50.243Z"
   },
   {
    "duration": 1077,
    "start_time": "2021-08-24T04:01:59.050Z"
   },
   {
    "duration": 25,
    "start_time": "2021-08-24T04:02:00.129Z"
   },
   {
    "duration": 3,
    "start_time": "2021-08-24T04:02:00.156Z"
   },
   {
    "duration": 16,
    "start_time": "2021-08-24T04:02:00.160Z"
   },
   {
    "duration": 11,
    "start_time": "2021-08-24T04:02:00.177Z"
   },
   {
    "duration": 56,
    "start_time": "2021-08-24T04:02:00.191Z"
   },
   {
    "duration": 4,
    "start_time": "2021-08-24T04:02:00.249Z"
   },
   {
    "duration": 23,
    "start_time": "2021-08-24T04:02:00.255Z"
   },
   {
    "duration": 11,
    "start_time": "2021-08-24T04:02:00.280Z"
   },
   {
    "duration": 22,
    "start_time": "2021-08-24T04:02:00.293Z"
   },
   {
    "duration": 4,
    "start_time": "2021-08-24T04:02:00.317Z"
   },
   {
    "duration": 23,
    "start_time": "2021-08-24T04:02:00.323Z"
   },
   {
    "duration": 32,
    "start_time": "2021-08-24T04:02:00.348Z"
   },
   {
    "duration": 4,
    "start_time": "2021-08-24T04:02:00.382Z"
   },
   {
    "duration": 15,
    "start_time": "2021-08-24T04:02:00.387Z"
   },
   {
    "duration": 24,
    "start_time": "2021-08-24T04:02:00.404Z"
   },
   {
    "duration": 10,
    "start_time": "2021-08-24T04:02:00.430Z"
   },
   {
    "duration": 12,
    "start_time": "2021-08-24T04:02:00.442Z"
   },
   {
    "duration": 23,
    "start_time": "2021-08-24T04:02:00.456Z"
   },
   {
    "duration": 288,
    "start_time": "2021-08-24T04:02:00.481Z"
   },
   {
    "duration": 220,
    "start_time": "2021-08-24T04:02:00.771Z"
   },
   {
    "duration": 23,
    "start_time": "2021-08-24T04:02:00.993Z"
   },
   {
    "duration": 15,
    "start_time": "2021-08-24T04:02:01.018Z"
   },
   {
    "duration": 403,
    "start_time": "2021-08-24T04:02:01.035Z"
   },
   {
    "duration": 389,
    "start_time": "2021-08-24T04:02:01.440Z"
   },
   {
    "duration": 430,
    "start_time": "2021-08-24T04:02:01.831Z"
   },
   {
    "duration": 29,
    "start_time": "2021-08-24T04:02:02.266Z"
   },
   {
    "duration": 11,
    "start_time": "2021-08-24T04:02:02.297Z"
   },
   {
    "duration": 370,
    "start_time": "2021-08-24T04:02:02.310Z"
   },
   {
    "duration": 447,
    "start_time": "2021-08-24T04:02:02.682Z"
   },
   {
    "duration": 104,
    "start_time": "2021-08-24T04:02:03.131Z"
   },
   {
    "duration": 432,
    "start_time": "2021-08-24T04:02:03.236Z"
   },
   {
    "duration": 4,
    "start_time": "2021-08-24T04:02:03.669Z"
   },
   {
    "duration": 522,
    "start_time": "2021-08-24T04:02:03.675Z"
   },
   {
    "duration": 459,
    "start_time": "2021-08-24T04:02:04.199Z"
   },
   {
    "duration": 4,
    "start_time": "2021-08-24T04:02:04.660Z"
   },
   {
    "duration": 118,
    "start_time": "2021-08-24T04:02:04.666Z"
   },
   {
    "duration": 145,
    "start_time": "2021-08-24T04:02:04.786Z"
   },
   {
    "duration": 27,
    "start_time": "2021-08-24T04:02:04.932Z"
   },
   {
    "duration": 103,
    "start_time": "2021-08-24T04:02:04.961Z"
   },
   {
    "duration": 8,
    "start_time": "2021-08-24T04:02:05.066Z"
   },
   {
    "duration": 20,
    "start_time": "2021-08-24T04:02:05.075Z"
   },
   {
    "duration": 11,
    "start_time": "2021-08-24T04:02:05.097Z"
   },
   {
    "duration": 9,
    "start_time": "2021-08-24T04:02:05.110Z"
   },
   {
    "duration": 6,
    "start_time": "2021-08-24T04:02:05.120Z"
   },
   {
    "duration": 703,
    "start_time": "2021-08-24T04:02:05.127Z"
   },
   {
    "duration": 13,
    "start_time": "2021-08-24T04:02:05.831Z"
   },
   {
    "duration": 368,
    "start_time": "2021-08-24T04:02:32.621Z"
   },
   {
    "duration": 376,
    "start_time": "2021-08-24T04:02:51.198Z"
   },
   {
    "duration": 436,
    "start_time": "2021-08-24T04:03:07.748Z"
   },
   {
    "duration": 406,
    "start_time": "2021-08-24T04:03:31.019Z"
   },
   {
    "duration": 359,
    "start_time": "2021-08-24T04:03:59.714Z"
   },
   {
    "duration": 400,
    "start_time": "2021-08-24T04:04:29.517Z"
   },
   {
    "duration": 445,
    "start_time": "2021-08-24T04:04:37.874Z"
   },
   {
    "duration": 7,
    "start_time": "2021-08-24T04:07:34.622Z"
   },
   {
    "duration": 9,
    "start_time": "2021-08-24T04:08:17.171Z"
   },
   {
    "duration": 12,
    "start_time": "2021-08-24T04:22:13.157Z"
   },
   {
    "duration": 10,
    "start_time": "2021-08-24T04:22:16.487Z"
   },
   {
    "duration": 7,
    "start_time": "2021-08-24T04:22:35.529Z"
   },
   {
    "duration": 681,
    "start_time": "2021-08-24T04:22:56.549Z"
   },
   {
    "duration": 13,
    "start_time": "2021-08-24T04:23:08.664Z"
   },
   {
    "duration": 2,
    "start_time": "2021-08-24T04:26:29.715Z"
   },
   {
    "duration": 14,
    "start_time": "2021-08-24T04:48:48.087Z"
   },
   {
    "duration": 11,
    "start_time": "2021-08-24T04:48:51.022Z"
   },
   {
    "duration": 7,
    "start_time": "2021-08-24T04:48:53.176Z"
   },
   {
    "duration": 633,
    "start_time": "2021-08-24T04:48:57.987Z"
   },
   {
    "duration": 14,
    "start_time": "2021-08-24T04:49:04.285Z"
   },
   {
    "duration": 1258,
    "start_time": "2021-08-24T14:23:43.207Z"
   },
   {
    "duration": 24,
    "start_time": "2021-08-24T14:23:44.467Z"
   },
   {
    "duration": 5,
    "start_time": "2021-08-24T14:23:44.494Z"
   },
   {
    "duration": 16,
    "start_time": "2021-08-24T14:23:44.501Z"
   },
   {
    "duration": 15,
    "start_time": "2021-08-24T14:23:44.519Z"
   },
   {
    "duration": 57,
    "start_time": "2021-08-24T14:23:44.535Z"
   },
   {
    "duration": 6,
    "start_time": "2021-08-24T14:23:44.593Z"
   },
   {
    "duration": 22,
    "start_time": "2021-08-24T14:23:44.602Z"
   },
   {
    "duration": 12,
    "start_time": "2021-08-24T14:23:44.626Z"
   },
   {
    "duration": 16,
    "start_time": "2021-08-24T14:23:44.640Z"
   },
   {
    "duration": 4,
    "start_time": "2021-08-24T14:23:44.657Z"
   },
   {
    "duration": 14,
    "start_time": "2021-08-24T14:23:44.663Z"
   },
   {
    "duration": 23,
    "start_time": "2021-08-24T14:23:44.679Z"
   },
   {
    "duration": 3,
    "start_time": "2021-08-24T14:23:44.704Z"
   },
   {
    "duration": 16,
    "start_time": "2021-08-24T14:23:44.709Z"
   },
   {
    "duration": 25,
    "start_time": "2021-08-24T14:23:44.727Z"
   },
   {
    "duration": 10,
    "start_time": "2021-08-24T14:23:44.754Z"
   },
   {
    "duration": 7,
    "start_time": "2021-08-24T14:23:44.766Z"
   },
   {
    "duration": 14,
    "start_time": "2021-08-24T14:23:44.775Z"
   },
   {
    "duration": 228,
    "start_time": "2021-08-24T14:23:44.791Z"
   },
   {
    "duration": 155,
    "start_time": "2021-08-24T14:23:45.021Z"
   },
   {
    "duration": 16,
    "start_time": "2021-08-24T14:23:45.177Z"
   },
   {
    "duration": 14,
    "start_time": "2021-08-24T14:23:45.196Z"
   },
   {
    "duration": 420,
    "start_time": "2021-08-24T14:23:45.212Z"
   },
   {
    "duration": 396,
    "start_time": "2021-08-24T14:23:45.634Z"
   },
   {
    "duration": 454,
    "start_time": "2021-08-24T14:23:46.031Z"
   },
   {
    "duration": 15,
    "start_time": "2021-08-24T14:23:46.487Z"
   },
   {
    "duration": 12,
    "start_time": "2021-08-24T14:23:46.504Z"
   },
   {
    "duration": 391,
    "start_time": "2021-08-24T14:23:46.517Z"
   },
   {
    "duration": 465,
    "start_time": "2021-08-24T14:23:46.910Z"
   },
   {
    "duration": 116,
    "start_time": "2021-08-24T14:23:47.377Z"
   },
   {
    "duration": 442,
    "start_time": "2021-08-24T14:23:47.495Z"
   },
   {
    "duration": 5,
    "start_time": "2021-08-24T14:23:47.939Z"
   },
   {
    "duration": 540,
    "start_time": "2021-08-24T14:23:47.946Z"
   },
   {
    "duration": 455,
    "start_time": "2021-08-24T14:23:48.488Z"
   },
   {
    "duration": 5,
    "start_time": "2021-08-24T14:23:48.944Z"
   },
   {
    "duration": 128,
    "start_time": "2021-08-24T14:23:48.950Z"
   },
   {
    "duration": 154,
    "start_time": "2021-08-24T14:23:49.079Z"
   },
   {
    "duration": 34,
    "start_time": "2021-08-24T14:23:49.234Z"
   },
   {
    "duration": 115,
    "start_time": "2021-08-24T14:23:49.269Z"
   },
   {
    "duration": 7,
    "start_time": "2021-08-24T14:23:49.386Z"
   },
   {
    "duration": 9,
    "start_time": "2021-08-24T14:23:49.394Z"
   },
   {
    "duration": 11,
    "start_time": "2021-08-24T14:23:49.404Z"
   },
   {
    "duration": 32,
    "start_time": "2021-08-24T14:23:49.416Z"
   },
   {
    "duration": 7,
    "start_time": "2021-08-24T14:23:49.449Z"
   },
   {
    "duration": 658,
    "start_time": "2021-08-24T14:23:49.457Z"
   },
   {
    "duration": 13,
    "start_time": "2021-08-24T14:23:50.117Z"
   }
  ],
  "kernelspec": {
   "display_name": "Python 3 (ipykernel)",
   "language": "python",
   "name": "python3"
  },
  "language_info": {
   "codemirror_mode": {
    "name": "ipython",
    "version": 3
   },
   "file_extension": ".py",
   "mimetype": "text/x-python",
   "name": "python",
   "nbconvert_exporter": "python",
   "pygments_lexer": "ipython3",
   "version": "3.9.5"
  },
  "toc": {
   "base_numbering": 1,
   "nav_menu": {},
   "number_sections": true,
   "sideBar": true,
   "skip_h1_title": true,
   "title_cell": "Table of Contents",
   "title_sidebar": "Contents",
   "toc_cell": false,
   "toc_position": {},
   "toc_section_display": true,
   "toc_window_display": false
  }
 },
 "nbformat": 4,
 "nbformat_minor": 2
}
